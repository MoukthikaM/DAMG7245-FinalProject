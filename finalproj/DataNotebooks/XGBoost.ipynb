{
 "cells": [
  {
   "cell_type": "code",
   "execution_count": 1,
   "id": "6196c247-aec1-489a-bc79-19ee617e55be",
   "metadata": {},
   "outputs": [],
   "source": [
    "import numpy as np\n",
    "import pandas as pd\n",
    "import matplotlib.pyplot as plt\n",
    "import seaborn as sns\n",
    "import json"
   ]
  },
  {
   "cell_type": "code",
   "execution_count": 2,
   "id": "a4daaca2-0ced-409e-9201-0db7ca4c2c3b",
   "metadata": {},
   "outputs": [],
   "source": [
    "# Snowpark\n",
    "from snowflake.snowpark.session import Session\n",
    "from snowflake.snowpark import functions as F\n",
    "from snowflake.snowpark.types import *\n",
    "from snowflake.snowpark.version import VERSION\n",
    "from snowflake.snowpark.functions import pandas_udf\n"
   ]
  },
  {
   "cell_type": "code",
   "execution_count": 3,
   "id": "8da78e41-fbee-4ba1-b077-438376f12d9c",
   "metadata": {},
   "outputs": [],
   "source": [
    "# Read credentials\n",
    "with open('creds.json') as f:\n",
    "    connection_parameters = json.load(f)    \n",
    "session = Session.builder.configs(connection_parameters).create()"
   ]
  },
  {
   "cell_type": "code",
   "execution_count": 4,
   "id": "aba74812-5711-4a36-9145-fc867b3615ee",
   "metadata": {},
   "outputs": [
    {
     "name": "stdout",
     "output_type": "stream",
     "text": [
      "Database                    : \"HOUSING\"\n",
      "Schema                      : \"PUBLIC\"\n",
      "Warehouse                   : \"XSMALL_WH\"\n",
      "Role                        : \"ACCOUNTADMIN\"\n",
      "Snowpark for Python version : 1.0.0\n"
     ]
    }
   ],
   "source": [
    "snowpark_version = VERSION\n",
    "print('Database                    : {}'.format(session.get_current_database()))\n",
    "print('Schema                      : {}'.format(session.get_current_schema()))\n",
    "print('Warehouse                   : {}'.format(session.get_current_warehouse()))\n",
    "print('Role                        : {}'.format(session.get_current_role()))\n",
    "print('Snowpark for Python version : {}.{}.{}'.format(snowpark_version[0],snowpark_version[1],snowpark_version[2]))"
   ]
  },
  {
   "cell_type": "code",
   "execution_count": 5,
   "id": "db34a4d4-77b9-43ac-b0fc-a6c4c8b6ec23",
   "metadata": {},
   "outputs": [
    {
     "data": {
      "text/plain": [
       "[Row(COUNT(*)=30144)]"
      ]
     },
     "execution_count": 5,
     "metadata": {},
     "output_type": "execute_result"
    }
   ],
   "source": [
    "session.sql(\"SELECT count(*) FROM HOUSING.PUBLIC.HOUSINGPRICE\").collect()"
   ]
  },
  {
   "cell_type": "code",
   "execution_count": 6,
   "id": "9f397102-00f4-4b30-86db-215c6ff067f8",
   "metadata": {},
   "outputs": [],
   "source": [
    "housepricingdf = session.table(\"HOUSING.PUBLIC.HOUSINGPRICE\")"
   ]
  },
  {
   "cell_type": "code",
   "execution_count": 7,
   "id": "706778e4-fa88-4967-bf45-b49cfc0a55cb",
   "metadata": {},
   "outputs": [
    {
     "data": {
      "text/plain": [
       "pandas.core.frame.DataFrame"
      ]
     },
     "execution_count": 7,
     "metadata": {},
     "output_type": "execute_result"
    }
   ],
   "source": [
    "housepricingdf=housepricingdf.to_pandas()\n",
    "type(housepricingdf)"
   ]
  },
  {
   "cell_type": "code",
   "execution_count": 8,
   "id": "f44dd61f-63c1-491d-a732-9079294197bb",
   "metadata": {},
   "outputs": [],
   "source": [
    "housepricingdf.columns = map(lambda x: str(x).upper(), housepricingdf.columns)"
   ]
  },
  {
   "cell_type": "code",
   "execution_count": 9,
   "id": "64e7fe48-dac0-41c1-9ca7-0e253469c4a6",
   "metadata": {},
   "outputs": [
    {
     "data": {
      "text/html": [
       "<div>\n",
       "<style scoped>\n",
       "    .dataframe tbody tr th:only-of-type {\n",
       "        vertical-align: middle;\n",
       "    }\n",
       "\n",
       "    .dataframe tbody tr th {\n",
       "        vertical-align: top;\n",
       "    }\n",
       "\n",
       "    .dataframe thead th {\n",
       "        text-align: right;\n",
       "    }\n",
       "</style>\n",
       "<table border=\"1\" class=\"dataframe\">\n",
       "  <thead>\n",
       "    <tr style=\"text-align: right;\">\n",
       "      <th></th>\n",
       "      <th>DATE</th>\n",
       "      <th>SUBURB</th>\n",
       "      <th>ADDRESS</th>\n",
       "      <th>ROOMS</th>\n",
       "      <th>TYPE</th>\n",
       "      <th>PRICE</th>\n",
       "      <th>METHOD</th>\n",
       "      <th>SELLERG</th>\n",
       "      <th>DATE.1</th>\n",
       "      <th>DISTANCE</th>\n",
       "      <th>...</th>\n",
       "      <th>BATHROOM</th>\n",
       "      <th>CAR</th>\n",
       "      <th>LANDSIZE</th>\n",
       "      <th>BUILDINGAREA</th>\n",
       "      <th>YEARBUILT</th>\n",
       "      <th>COUNCILAREA</th>\n",
       "      <th>LATTITUDE</th>\n",
       "      <th>LONGTITUDE</th>\n",
       "      <th>REGIONNAME</th>\n",
       "      <th>PROPERTYCOUNT</th>\n",
       "    </tr>\n",
       "  </thead>\n",
       "  <tbody>\n",
       "    <tr>\n",
       "      <th>0</th>\n",
       "      <td>2016-01-28</td>\n",
       "      <td>Surrey Hills</td>\n",
       "      <td>999A Riversdale Rd</td>\n",
       "      <td>3</td>\n",
       "      <td>h</td>\n",
       "      <td>1205000.0</td>\n",
       "      <td>S</td>\n",
       "      <td>Fletchers</td>\n",
       "      <td>2016-01-28</td>\n",
       "      <td>11.2</td>\n",
       "      <td>...</td>\n",
       "      <td>1.0</td>\n",
       "      <td>2.0</td>\n",
       "      <td>490.0</td>\n",
       "      <td>NaN</td>\n",
       "      <td>NaN</td>\n",
       "      <td>Boroondara City Council</td>\n",
       "      <td>-37.8361</td>\n",
       "      <td>145.1006</td>\n",
       "      <td>Southern Metropolitan</td>\n",
       "      <td>5457.0</td>\n",
       "    </tr>\n",
       "    <tr>\n",
       "      <th>1</th>\n",
       "      <td>2016-01-28</td>\n",
       "      <td>Surrey Hills</td>\n",
       "      <td>1/10 Florence Rd</td>\n",
       "      <td>2</td>\n",
       "      <td>u</td>\n",
       "      <td>813000.0</td>\n",
       "      <td>S</td>\n",
       "      <td>Fletchers</td>\n",
       "      <td>2016-01-28</td>\n",
       "      <td>11.2</td>\n",
       "      <td>...</td>\n",
       "      <td>1.0</td>\n",
       "      <td>2.0</td>\n",
       "      <td>108.0</td>\n",
       "      <td>NaN</td>\n",
       "      <td>NaN</td>\n",
       "      <td>Boroondara City Council</td>\n",
       "      <td>-37.8276</td>\n",
       "      <td>145.1023</td>\n",
       "      <td>Southern Metropolitan</td>\n",
       "      <td>5457.0</td>\n",
       "    </tr>\n",
       "    <tr>\n",
       "      <th>2</th>\n",
       "      <td>2016-01-28</td>\n",
       "      <td>Canterbury</td>\n",
       "      <td>140 Canterbury Rd</td>\n",
       "      <td>4</td>\n",
       "      <td>h</td>\n",
       "      <td>NaN</td>\n",
       "      <td>SP</td>\n",
       "      <td>Fletchers</td>\n",
       "      <td>2016-01-28</td>\n",
       "      <td>9.0</td>\n",
       "      <td>...</td>\n",
       "      <td>2.0</td>\n",
       "      <td>0.0</td>\n",
       "      <td>808.0</td>\n",
       "      <td>198.0</td>\n",
       "      <td>1910.0</td>\n",
       "      <td>Boroondara City Council</td>\n",
       "      <td>-37.8235</td>\n",
       "      <td>145.0751</td>\n",
       "      <td>Southern Metropolitan</td>\n",
       "      <td>3265.0</td>\n",
       "    </tr>\n",
       "    <tr>\n",
       "      <th>3</th>\n",
       "      <td>2016-03-09</td>\n",
       "      <td>Williamstown</td>\n",
       "      <td>54 Twyford St</td>\n",
       "      <td>3</td>\n",
       "      <td>h</td>\n",
       "      <td>1535000.0</td>\n",
       "      <td>S</td>\n",
       "      <td>Greg</td>\n",
       "      <td>2016-03-09</td>\n",
       "      <td>8.0</td>\n",
       "      <td>...</td>\n",
       "      <td>1.0</td>\n",
       "      <td>1.0</td>\n",
       "      <td>507.0</td>\n",
       "      <td>186.0</td>\n",
       "      <td>1910.0</td>\n",
       "      <td>Hobsons Bay City Council</td>\n",
       "      <td>-37.8681</td>\n",
       "      <td>144.8994</td>\n",
       "      <td>Western Metropolitan</td>\n",
       "      <td>6380.0</td>\n",
       "    </tr>\n",
       "    <tr>\n",
       "      <th>4</th>\n",
       "      <td>2016-03-09</td>\n",
       "      <td>Newport</td>\n",
       "      <td>1/26 Thorpe St</td>\n",
       "      <td>3</td>\n",
       "      <td>h</td>\n",
       "      <td>826000.0</td>\n",
       "      <td>S</td>\n",
       "      <td>Village</td>\n",
       "      <td>2016-03-09</td>\n",
       "      <td>8.4</td>\n",
       "      <td>...</td>\n",
       "      <td>1.0</td>\n",
       "      <td>2.0</td>\n",
       "      <td>281.0</td>\n",
       "      <td>100.0</td>\n",
       "      <td>1957.0</td>\n",
       "      <td>Hobsons Bay City Council</td>\n",
       "      <td>-37.8457</td>\n",
       "      <td>144.8651</td>\n",
       "      <td>Western Metropolitan</td>\n",
       "      <td>5498.0</td>\n",
       "    </tr>\n",
       "  </tbody>\n",
       "</table>\n",
       "<p>5 rows × 22 columns</p>\n",
       "</div>"
      ],
      "text/plain": [
       "         DATE        SUBURB             ADDRESS  ROOMS TYPE      PRICE METHOD  \\\n",
       "0  2016-01-28  Surrey Hills  999A Riversdale Rd      3    h  1205000.0      S   \n",
       "1  2016-01-28  Surrey Hills    1/10 Florence Rd      2    u   813000.0      S   \n",
       "2  2016-01-28    Canterbury   140 Canterbury Rd      4    h        NaN     SP   \n",
       "3  2016-03-09  Williamstown       54 Twyford St      3    h  1535000.0      S   \n",
       "4  2016-03-09       Newport      1/26 Thorpe St      3    h   826000.0      S   \n",
       "\n",
       "     SELLERG      DATE.1  DISTANCE  ...  BATHROOM  CAR  LANDSIZE  \\\n",
       "0  Fletchers  2016-01-28      11.2  ...       1.0  2.0     490.0   \n",
       "1  Fletchers  2016-01-28      11.2  ...       1.0  2.0     108.0   \n",
       "2  Fletchers  2016-01-28       9.0  ...       2.0  0.0     808.0   \n",
       "3       Greg  2016-03-09       8.0  ...       1.0  1.0     507.0   \n",
       "4    Village  2016-03-09       8.4  ...       1.0  2.0     281.0   \n",
       "\n",
       "   BUILDINGAREA  YEARBUILT               COUNCILAREA  LATTITUDE LONGTITUDE  \\\n",
       "0           NaN        NaN   Boroondara City Council   -37.8361   145.1006   \n",
       "1           NaN        NaN   Boroondara City Council   -37.8276   145.1023   \n",
       "2         198.0     1910.0   Boroondara City Council   -37.8235   145.0751   \n",
       "3         186.0     1910.0  Hobsons Bay City Council   -37.8681   144.8994   \n",
       "4         100.0     1957.0  Hobsons Bay City Council   -37.8457   144.8651   \n",
       "\n",
       "              REGIONNAME  PROPERTYCOUNT  \n",
       "0  Southern Metropolitan         5457.0  \n",
       "1  Southern Metropolitan         5457.0  \n",
       "2  Southern Metropolitan         3265.0  \n",
       "3   Western Metropolitan         6380.0  \n",
       "4   Western Metropolitan         5498.0  \n",
       "\n",
       "[5 rows x 22 columns]"
      ]
     },
     "execution_count": 9,
     "metadata": {},
     "output_type": "execute_result"
    }
   ],
   "source": [
    "housepricingdf.head()"
   ]
  },
  {
   "cell_type": "code",
   "execution_count": 10,
   "id": "7b0f287a-c9ed-47a1-a377-aa6db746bd39",
   "metadata": {},
   "outputs": [
    {
     "data": {
      "text/plain": [
       "DATE                 0\n",
       "SUBURB               0\n",
       "ADDRESS              0\n",
       "ROOMS                0\n",
       "TYPE                 0\n",
       "PRICE             6571\n",
       "METHOD               0\n",
       "SELLERG              0\n",
       "DATE.1               0\n",
       "DISTANCE             0\n",
       "POSTCODE             0\n",
       "BEDROOM2          6817\n",
       "BATHROOM          6823\n",
       "CAR               7162\n",
       "LANDSIZE         10066\n",
       "BUILDINGAREA     17997\n",
       "YEARBUILT        16317\n",
       "COUNCILAREA          2\n",
       "LATTITUDE         6600\n",
       "LONGTITUDE        6600\n",
       "REGIONNAME           2\n",
       "PROPERTYCOUNT        2\n",
       "dtype: int64"
      ]
     },
     "execution_count": 10,
     "metadata": {},
     "output_type": "execute_result"
    }
   ],
   "source": [
    "housepricingdf.isnull().sum()"
   ]
  },
  {
   "cell_type": "code",
   "execution_count": 11,
   "id": "f6e8b511-921d-4d43-9181-850518bcfc03",
   "metadata": {},
   "outputs": [
    {
     "data": {
      "text/plain": [
       "DATE                68\n",
       "SUBURB             346\n",
       "ADDRESS          29486\n",
       "ROOMS               12\n",
       "TYPE                 3\n",
       "PRICE             2722\n",
       "METHOD               9\n",
       "SELLERG            363\n",
       "DATE.1              68\n",
       "DISTANCE           213\n",
       "POSTCODE           208\n",
       "BEDROOM2            15\n",
       "BATHROOM            11\n",
       "CAR                 14\n",
       "LANDSIZE          1631\n",
       "BUILDINGAREA       721\n",
       "YEARBUILT          156\n",
       "COUNCILAREA         33\n",
       "LATTITUDE        11161\n",
       "LONGTITUDE       12203\n",
       "REGIONNAME           8\n",
       "PROPERTYCOUNT      339\n",
       "dtype: int64"
      ]
     },
     "execution_count": 11,
     "metadata": {},
     "output_type": "execute_result"
    }
   ],
   "source": [
    "housepricingdf.nunique()"
   ]
  },
  {
   "cell_type": "code",
   "execution_count": 12,
   "id": "310686d9-36ee-4fe0-8fd2-0ebfb7dc59d8",
   "metadata": {},
   "outputs": [
    {
     "data": {
      "text/html": [
       "<div>\n",
       "<style scoped>\n",
       "    .dataframe tbody tr th:only-of-type {\n",
       "        vertical-align: middle;\n",
       "    }\n",
       "\n",
       "    .dataframe tbody tr th {\n",
       "        vertical-align: top;\n",
       "    }\n",
       "\n",
       "    .dataframe thead th {\n",
       "        text-align: right;\n",
       "    }\n",
       "</style>\n",
       "<table border=\"1\" class=\"dataframe\">\n",
       "  <thead>\n",
       "    <tr style=\"text-align: right;\">\n",
       "      <th></th>\n",
       "      <th>SUBURB</th>\n",
       "      <th>ROOMS</th>\n",
       "      <th>TYPE</th>\n",
       "      <th>METHOD</th>\n",
       "      <th>SELLERG</th>\n",
       "      <th>REGIONNAME</th>\n",
       "      <th>PROPERTYCOUNT</th>\n",
       "      <th>DISTANCE</th>\n",
       "      <th>COUNCILAREA</th>\n",
       "      <th>BEDROOM2</th>\n",
       "      <th>BATHROOM</th>\n",
       "      <th>CAR</th>\n",
       "      <th>LANDSIZE</th>\n",
       "      <th>BUILDINGAREA</th>\n",
       "      <th>PRICE</th>\n",
       "    </tr>\n",
       "  </thead>\n",
       "  <tbody>\n",
       "    <tr>\n",
       "      <th>0</th>\n",
       "      <td>Surrey Hills</td>\n",
       "      <td>3</td>\n",
       "      <td>h</td>\n",
       "      <td>S</td>\n",
       "      <td>Fletchers</td>\n",
       "      <td>Southern Metropolitan</td>\n",
       "      <td>5457.0</td>\n",
       "      <td>11.2</td>\n",
       "      <td>Boroondara City Council</td>\n",
       "      <td>3.0</td>\n",
       "      <td>1.0</td>\n",
       "      <td>2.0</td>\n",
       "      <td>490.0</td>\n",
       "      <td>NaN</td>\n",
       "      <td>1205000.0</td>\n",
       "    </tr>\n",
       "    <tr>\n",
       "      <th>1</th>\n",
       "      <td>Surrey Hills</td>\n",
       "      <td>2</td>\n",
       "      <td>u</td>\n",
       "      <td>S</td>\n",
       "      <td>Fletchers</td>\n",
       "      <td>Southern Metropolitan</td>\n",
       "      <td>5457.0</td>\n",
       "      <td>11.2</td>\n",
       "      <td>Boroondara City Council</td>\n",
       "      <td>2.0</td>\n",
       "      <td>1.0</td>\n",
       "      <td>2.0</td>\n",
       "      <td>108.0</td>\n",
       "      <td>NaN</td>\n",
       "      <td>813000.0</td>\n",
       "    </tr>\n",
       "    <tr>\n",
       "      <th>2</th>\n",
       "      <td>Canterbury</td>\n",
       "      <td>4</td>\n",
       "      <td>h</td>\n",
       "      <td>SP</td>\n",
       "      <td>Fletchers</td>\n",
       "      <td>Southern Metropolitan</td>\n",
       "      <td>3265.0</td>\n",
       "      <td>9.0</td>\n",
       "      <td>Boroondara City Council</td>\n",
       "      <td>4.0</td>\n",
       "      <td>2.0</td>\n",
       "      <td>0.0</td>\n",
       "      <td>808.0</td>\n",
       "      <td>198.0</td>\n",
       "      <td>NaN</td>\n",
       "    </tr>\n",
       "    <tr>\n",
       "      <th>3</th>\n",
       "      <td>Williamstown</td>\n",
       "      <td>3</td>\n",
       "      <td>h</td>\n",
       "      <td>S</td>\n",
       "      <td>Greg</td>\n",
       "      <td>Western Metropolitan</td>\n",
       "      <td>6380.0</td>\n",
       "      <td>8.0</td>\n",
       "      <td>Hobsons Bay City Council</td>\n",
       "      <td>3.0</td>\n",
       "      <td>1.0</td>\n",
       "      <td>1.0</td>\n",
       "      <td>507.0</td>\n",
       "      <td>186.0</td>\n",
       "      <td>1535000.0</td>\n",
       "    </tr>\n",
       "    <tr>\n",
       "      <th>4</th>\n",
       "      <td>Newport</td>\n",
       "      <td>3</td>\n",
       "      <td>h</td>\n",
       "      <td>S</td>\n",
       "      <td>Village</td>\n",
       "      <td>Western Metropolitan</td>\n",
       "      <td>5498.0</td>\n",
       "      <td>8.4</td>\n",
       "      <td>Hobsons Bay City Council</td>\n",
       "      <td>2.0</td>\n",
       "      <td>1.0</td>\n",
       "      <td>2.0</td>\n",
       "      <td>281.0</td>\n",
       "      <td>100.0</td>\n",
       "      <td>826000.0</td>\n",
       "    </tr>\n",
       "    <tr>\n",
       "      <th>...</th>\n",
       "      <td>...</td>\n",
       "      <td>...</td>\n",
       "      <td>...</td>\n",
       "      <td>...</td>\n",
       "      <td>...</td>\n",
       "      <td>...</td>\n",
       "      <td>...</td>\n",
       "      <td>...</td>\n",
       "      <td>...</td>\n",
       "      <td>...</td>\n",
       "      <td>...</td>\n",
       "      <td>...</td>\n",
       "      <td>...</td>\n",
       "      <td>...</td>\n",
       "      <td>...</td>\n",
       "    </tr>\n",
       "    <tr>\n",
       "      <th>30139</th>\n",
       "      <td>Highett</td>\n",
       "      <td>3</td>\n",
       "      <td>h</td>\n",
       "      <td>S</td>\n",
       "      <td>Greg</td>\n",
       "      <td>Southern Metropolitan</td>\n",
       "      <td>4794.0</td>\n",
       "      <td>16.0</td>\n",
       "      <td>Bayside City Council</td>\n",
       "      <td>3.0</td>\n",
       "      <td>1.0</td>\n",
       "      <td>2.0</td>\n",
       "      <td>700.0</td>\n",
       "      <td>NaN</td>\n",
       "      <td>1242000.0</td>\n",
       "    </tr>\n",
       "    <tr>\n",
       "      <th>30140</th>\n",
       "      <td>Highett</td>\n",
       "      <td>3</td>\n",
       "      <td>t</td>\n",
       "      <td>PI</td>\n",
       "      <td>Purplebricks</td>\n",
       "      <td>Southern Metropolitan</td>\n",
       "      <td>4794.0</td>\n",
       "      <td>16.0</td>\n",
       "      <td>Bayside City Council</td>\n",
       "      <td>NaN</td>\n",
       "      <td>NaN</td>\n",
       "      <td>NaN</td>\n",
       "      <td>NaN</td>\n",
       "      <td>NaN</td>\n",
       "      <td>1395000.0</td>\n",
       "    </tr>\n",
       "    <tr>\n",
       "      <th>30141</th>\n",
       "      <td>Hoppers Crossing</td>\n",
       "      <td>4</td>\n",
       "      <td>h</td>\n",
       "      <td>S</td>\n",
       "      <td>Barry</td>\n",
       "      <td>Western Metropolitan</td>\n",
       "      <td>13830.0</td>\n",
       "      <td>18.4</td>\n",
       "      <td>Wyndham City Council</td>\n",
       "      <td>4.0</td>\n",
       "      <td>2.0</td>\n",
       "      <td>2.0</td>\n",
       "      <td>650.0</td>\n",
       "      <td>NaN</td>\n",
       "      <td>540000.0</td>\n",
       "    </tr>\n",
       "    <tr>\n",
       "      <th>30142</th>\n",
       "      <td>South Melbourne</td>\n",
       "      <td>4</td>\n",
       "      <td>h</td>\n",
       "      <td>PI</td>\n",
       "      <td>Marshall</td>\n",
       "      <td>Southern Metropolitan</td>\n",
       "      <td>5943.0</td>\n",
       "      <td>1.9</td>\n",
       "      <td>Port Phillip City Council</td>\n",
       "      <td>4.0</td>\n",
       "      <td>2.0</td>\n",
       "      <td>0.0</td>\n",
       "      <td>178.0</td>\n",
       "      <td>174.0</td>\n",
       "      <td>NaN</td>\n",
       "    </tr>\n",
       "    <tr>\n",
       "      <th>30143</th>\n",
       "      <td>South Morang</td>\n",
       "      <td>4</td>\n",
       "      <td>h</td>\n",
       "      <td>PI</td>\n",
       "      <td>Millership</td>\n",
       "      <td>Northern Metropolitan</td>\n",
       "      <td>7969.0</td>\n",
       "      <td>20.5</td>\n",
       "      <td>Whittlesea City Council</td>\n",
       "      <td>4.0</td>\n",
       "      <td>2.0</td>\n",
       "      <td>2.0</td>\n",
       "      <td>451.0</td>\n",
       "      <td>214.0</td>\n",
       "      <td>NaN</td>\n",
       "    </tr>\n",
       "  </tbody>\n",
       "</table>\n",
       "<p>30144 rows × 15 columns</p>\n",
       "</div>"
      ],
      "text/plain": [
       "                 SUBURB  ROOMS TYPE METHOD       SELLERG  \\\n",
       "0          Surrey Hills      3    h      S     Fletchers   \n",
       "1          Surrey Hills      2    u      S     Fletchers   \n",
       "2            Canterbury      4    h     SP     Fletchers   \n",
       "3          Williamstown      3    h      S          Greg   \n",
       "4               Newport      3    h      S       Village   \n",
       "...                 ...    ...  ...    ...           ...   \n",
       "30139           Highett      3    h      S          Greg   \n",
       "30140           Highett      3    t     PI  Purplebricks   \n",
       "30141  Hoppers Crossing      4    h      S         Barry   \n",
       "30142   South Melbourne      4    h     PI      Marshall   \n",
       "30143      South Morang      4    h     PI    Millership   \n",
       "\n",
       "                  REGIONNAME  PROPERTYCOUNT  DISTANCE  \\\n",
       "0      Southern Metropolitan         5457.0      11.2   \n",
       "1      Southern Metropolitan         5457.0      11.2   \n",
       "2      Southern Metropolitan         3265.0       9.0   \n",
       "3       Western Metropolitan         6380.0       8.0   \n",
       "4       Western Metropolitan         5498.0       8.4   \n",
       "...                      ...            ...       ...   \n",
       "30139  Southern Metropolitan         4794.0      16.0   \n",
       "30140  Southern Metropolitan         4794.0      16.0   \n",
       "30141   Western Metropolitan        13830.0      18.4   \n",
       "30142  Southern Metropolitan         5943.0       1.9   \n",
       "30143  Northern Metropolitan         7969.0      20.5   \n",
       "\n",
       "                     COUNCILAREA  BEDROOM2  BATHROOM  CAR  LANDSIZE  \\\n",
       "0        Boroondara City Council       3.0       1.0  2.0     490.0   \n",
       "1        Boroondara City Council       2.0       1.0  2.0     108.0   \n",
       "2        Boroondara City Council       4.0       2.0  0.0     808.0   \n",
       "3       Hobsons Bay City Council       3.0       1.0  1.0     507.0   \n",
       "4       Hobsons Bay City Council       2.0       1.0  2.0     281.0   \n",
       "...                          ...       ...       ...  ...       ...   \n",
       "30139       Bayside City Council       3.0       1.0  2.0     700.0   \n",
       "30140       Bayside City Council       NaN       NaN  NaN       NaN   \n",
       "30141       Wyndham City Council       4.0       2.0  2.0     650.0   \n",
       "30142  Port Phillip City Council       4.0       2.0  0.0     178.0   \n",
       "30143    Whittlesea City Council       4.0       2.0  2.0     451.0   \n",
       "\n",
       "       BUILDINGAREA      PRICE  \n",
       "0               NaN  1205000.0  \n",
       "1               NaN   813000.0  \n",
       "2             198.0        NaN  \n",
       "3             186.0  1535000.0  \n",
       "4             100.0   826000.0  \n",
       "...             ...        ...  \n",
       "30139           NaN  1242000.0  \n",
       "30140           NaN  1395000.0  \n",
       "30141           NaN   540000.0  \n",
       "30142         174.0        NaN  \n",
       "30143         214.0        NaN  \n",
       "\n",
       "[30144 rows x 15 columns]"
      ]
     },
     "execution_count": 12,
     "metadata": {},
     "output_type": "execute_result"
    }
   ],
   "source": [
    "cols=['SUBURB','ROOMS','TYPE','METHOD','SELLERG','REGIONNAME','PROPERTYCOUNT','DISTANCE','COUNCILAREA','BEDROOM2','BATHROOM'\n",
    "           ,'CAR','LANDSIZE','BUILDINGAREA','PRICE']\n",
    "housepricingdf=housepricingdf[cols]\n",
    "housepricingdf"
   ]
  },
  {
   "cell_type": "code",
   "execution_count": 13,
   "id": "3d993e4e-7942-4988-807e-065b9bcfa56a",
   "metadata": {},
   "outputs": [
    {
     "data": {
      "text/plain": [
       "SUBURB               0\n",
       "ROOMS                0\n",
       "TYPE                 0\n",
       "METHOD               0\n",
       "SELLERG              0\n",
       "REGIONNAME           2\n",
       "PROPERTYCOUNT        2\n",
       "DISTANCE             0\n",
       "COUNCILAREA          2\n",
       "BEDROOM2          6817\n",
       "BATHROOM          6823\n",
       "CAR               7162\n",
       "LANDSIZE         10066\n",
       "BUILDINGAREA     17997\n",
       "PRICE             6571\n",
       "dtype: int64"
      ]
     },
     "execution_count": 13,
     "metadata": {},
     "output_type": "execute_result"
    }
   ],
   "source": [
    "housepricingdf.isnull().sum()"
   ]
  },
  {
   "cell_type": "code",
   "execution_count": 14,
   "id": "52dd9493-06c6-44ba-ae65-fcf242fe8717",
   "metadata": {},
   "outputs": [],
   "source": [
    "cols_zero = ['PROPERTYCOUNT','DISTANCE','BEDROOM2','BATHROOM','CAR']\n",
    "housepricingdf[cols_zero]=housepricingdf[cols_zero].fillna(0)\n"
   ]
  },
  {
   "cell_type": "code",
   "execution_count": 15,
   "id": "1e555532-8fa9-4fbe-942f-d45a864cab22",
   "metadata": {},
   "outputs": [],
   "source": [
    "housepricingdf.LANDSIZE=housepricingdf.LANDSIZE.fillna(housepricingdf.LANDSIZE.mean())\n",
    "housepricingdf.BUILDINGAREA=housepricingdf.BUILDINGAREA.fillna(housepricingdf.BUILDINGAREA.mean())\n"
   ]
  },
  {
   "cell_type": "code",
   "execution_count": 16,
   "id": "047113b8-5215-4662-8531-3ab09e3cb8a3",
   "metadata": {},
   "outputs": [
    {
     "data": {
      "text/plain": [
       "SUBURB           0\n",
       "ROOMS            0\n",
       "TYPE             0\n",
       "METHOD           0\n",
       "SELLERG          0\n",
       "REGIONNAME       0\n",
       "PROPERTYCOUNT    0\n",
       "DISTANCE         0\n",
       "COUNCILAREA      0\n",
       "BEDROOM2         0\n",
       "BATHROOM         0\n",
       "CAR              0\n",
       "LANDSIZE         0\n",
       "BUILDINGAREA     0\n",
       "PRICE            0\n",
       "dtype: int64"
      ]
     },
     "execution_count": 16,
     "metadata": {},
     "output_type": "execute_result"
    }
   ],
   "source": [
    "housepricingdf.dropna(inplace=True)\n",
    "housepricingdf.isnull().sum()"
   ]
  },
  {
   "cell_type": "code",
   "execution_count": 17,
   "id": "df16c0a4-7fd2-47f2-8938-fbbbfecda6d3",
   "metadata": {},
   "outputs": [],
   "source": [
    "from sklearn.preprocessing import LabelEncoder\n",
    "le=LabelEncoder()"
   ]
  },
  {
   "cell_type": "code",
   "execution_count": 18,
   "id": "d52d28c6-a637-46e6-9b19-af54a82352ac",
   "metadata": {},
   "outputs": [
    {
     "data": {
      "text/html": [
       "<div>\n",
       "<style scoped>\n",
       "    .dataframe tbody tr th:only-of-type {\n",
       "        vertical-align: middle;\n",
       "    }\n",
       "\n",
       "    .dataframe tbody tr th {\n",
       "        vertical-align: top;\n",
       "    }\n",
       "\n",
       "    .dataframe thead th {\n",
       "        text-align: right;\n",
       "    }\n",
       "</style>\n",
       "<table border=\"1\" class=\"dataframe\">\n",
       "  <thead>\n",
       "    <tr style=\"text-align: right;\">\n",
       "      <th></th>\n",
       "      <th>SUBURB</th>\n",
       "      <th>ROOMS</th>\n",
       "      <th>TYPE</th>\n",
       "      <th>METHOD</th>\n",
       "      <th>SELLERG</th>\n",
       "      <th>REGIONNAME</th>\n",
       "      <th>PROPERTYCOUNT</th>\n",
       "      <th>DISTANCE</th>\n",
       "      <th>COUNCILAREA</th>\n",
       "      <th>BEDROOM2</th>\n",
       "      <th>BATHROOM</th>\n",
       "      <th>CAR</th>\n",
       "      <th>LANDSIZE</th>\n",
       "      <th>BUILDINGAREA</th>\n",
       "      <th>PRICE</th>\n",
       "    </tr>\n",
       "  </thead>\n",
       "  <tbody>\n",
       "    <tr>\n",
       "      <th>0</th>\n",
       "      <td>292</td>\n",
       "      <td>3</td>\n",
       "      <td>0</td>\n",
       "      <td>1</td>\n",
       "      <td>95</td>\n",
       "      <td>5</td>\n",
       "      <td>5457.0</td>\n",
       "      <td>11.2</td>\n",
       "      <td>2</td>\n",
       "      <td>3.0</td>\n",
       "      <td>1.0</td>\n",
       "      <td>2.0</td>\n",
       "      <td>490.000000</td>\n",
       "      <td>158.001108</td>\n",
       "      <td>1205000.0</td>\n",
       "    </tr>\n",
       "    <tr>\n",
       "      <th>1</th>\n",
       "      <td>292</td>\n",
       "      <td>2</td>\n",
       "      <td>2</td>\n",
       "      <td>1</td>\n",
       "      <td>95</td>\n",
       "      <td>5</td>\n",
       "      <td>5457.0</td>\n",
       "      <td>11.2</td>\n",
       "      <td>2</td>\n",
       "      <td>2.0</td>\n",
       "      <td>1.0</td>\n",
       "      <td>2.0</td>\n",
       "      <td>108.000000</td>\n",
       "      <td>158.001108</td>\n",
       "      <td>813000.0</td>\n",
       "    </tr>\n",
       "    <tr>\n",
       "      <th>3</th>\n",
       "      <td>329</td>\n",
       "      <td>3</td>\n",
       "      <td>0</td>\n",
       "      <td>1</td>\n",
       "      <td>110</td>\n",
       "      <td>6</td>\n",
       "      <td>6380.0</td>\n",
       "      <td>8.0</td>\n",
       "      <td>10</td>\n",
       "      <td>3.0</td>\n",
       "      <td>1.0</td>\n",
       "      <td>1.0</td>\n",
       "      <td>507.000000</td>\n",
       "      <td>186.000000</td>\n",
       "      <td>1535000.0</td>\n",
       "    </tr>\n",
       "    <tr>\n",
       "      <th>4</th>\n",
       "      <td>228</td>\n",
       "      <td>3</td>\n",
       "      <td>0</td>\n",
       "      <td>1</td>\n",
       "      <td>296</td>\n",
       "      <td>6</td>\n",
       "      <td>5498.0</td>\n",
       "      <td>8.4</td>\n",
       "      <td>10</td>\n",
       "      <td>2.0</td>\n",
       "      <td>1.0</td>\n",
       "      <td>2.0</td>\n",
       "      <td>281.000000</td>\n",
       "      <td>100.000000</td>\n",
       "      <td>826000.0</td>\n",
       "    </tr>\n",
       "    <tr>\n",
       "      <th>5</th>\n",
       "      <td>228</td>\n",
       "      <td>3</td>\n",
       "      <td>0</td>\n",
       "      <td>3</td>\n",
       "      <td>275</td>\n",
       "      <td>6</td>\n",
       "      <td>5498.0</td>\n",
       "      <td>8.4</td>\n",
       "      <td>10</td>\n",
       "      <td>3.0</td>\n",
       "      <td>2.0</td>\n",
       "      <td>2.0</td>\n",
       "      <td>301.000000</td>\n",
       "      <td>195.000000</td>\n",
       "      <td>1025000.0</td>\n",
       "    </tr>\n",
       "    <tr>\n",
       "      <th>...</th>\n",
       "      <td>...</td>\n",
       "      <td>...</td>\n",
       "      <td>...</td>\n",
       "      <td>...</td>\n",
       "      <td>...</td>\n",
       "      <td>...</td>\n",
       "      <td>...</td>\n",
       "      <td>...</td>\n",
       "      <td>...</td>\n",
       "      <td>...</td>\n",
       "      <td>...</td>\n",
       "      <td>...</td>\n",
       "      <td>...</td>\n",
       "      <td>...</td>\n",
       "      <td>...</td>\n",
       "    </tr>\n",
       "    <tr>\n",
       "      <th>30137</th>\n",
       "      <td>166</td>\n",
       "      <td>4</td>\n",
       "      <td>0</td>\n",
       "      <td>3</td>\n",
       "      <td>314</td>\n",
       "      <td>6</td>\n",
       "      <td>5556.0</td>\n",
       "      <td>18.0</td>\n",
       "      <td>3</td>\n",
       "      <td>4.0</td>\n",
       "      <td>2.0</td>\n",
       "      <td>2.0</td>\n",
       "      <td>600.000000</td>\n",
       "      <td>174.000000</td>\n",
       "      <td>580000.0</td>\n",
       "    </tr>\n",
       "    <tr>\n",
       "      <th>30138</th>\n",
       "      <td>165</td>\n",
       "      <td>2</td>\n",
       "      <td>2</td>\n",
       "      <td>1</td>\n",
       "      <td>121</td>\n",
       "      <td>5</td>\n",
       "      <td>4794.0</td>\n",
       "      <td>16.0</td>\n",
       "      <td>1</td>\n",
       "      <td>2.0</td>\n",
       "      <td>1.0</td>\n",
       "      <td>1.0</td>\n",
       "      <td>130.000000</td>\n",
       "      <td>158.001108</td>\n",
       "      <td>677500.0</td>\n",
       "    </tr>\n",
       "    <tr>\n",
       "      <th>30139</th>\n",
       "      <td>165</td>\n",
       "      <td>3</td>\n",
       "      <td>0</td>\n",
       "      <td>1</td>\n",
       "      <td>110</td>\n",
       "      <td>5</td>\n",
       "      <td>4794.0</td>\n",
       "      <td>16.0</td>\n",
       "      <td>1</td>\n",
       "      <td>3.0</td>\n",
       "      <td>1.0</td>\n",
       "      <td>2.0</td>\n",
       "      <td>700.000000</td>\n",
       "      <td>158.001108</td>\n",
       "      <td>1242000.0</td>\n",
       "    </tr>\n",
       "    <tr>\n",
       "      <th>30140</th>\n",
       "      <td>165</td>\n",
       "      <td>3</td>\n",
       "      <td>1</td>\n",
       "      <td>0</td>\n",
       "      <td>235</td>\n",
       "      <td>5</td>\n",
       "      <td>4794.0</td>\n",
       "      <td>16.0</td>\n",
       "      <td>1</td>\n",
       "      <td>0.0</td>\n",
       "      <td>0.0</td>\n",
       "      <td>0.0</td>\n",
       "      <td>584.022263</td>\n",
       "      <td>158.001108</td>\n",
       "      <td>1395000.0</td>\n",
       "    </tr>\n",
       "    <tr>\n",
       "      <th>30141</th>\n",
       "      <td>167</td>\n",
       "      <td>4</td>\n",
       "      <td>0</td>\n",
       "      <td>1</td>\n",
       "      <td>22</td>\n",
       "      <td>6</td>\n",
       "      <td>13830.0</td>\n",
       "      <td>18.4</td>\n",
       "      <td>30</td>\n",
       "      <td>4.0</td>\n",
       "      <td>2.0</td>\n",
       "      <td>2.0</td>\n",
       "      <td>650.000000</td>\n",
       "      <td>158.001108</td>\n",
       "      <td>540000.0</td>\n",
       "    </tr>\n",
       "  </tbody>\n",
       "</table>\n",
       "<p>23571 rows × 15 columns</p>\n",
       "</div>"
      ],
      "text/plain": [
       "       SUBURB  ROOMS  TYPE  METHOD  SELLERG  REGIONNAME  PROPERTYCOUNT  \\\n",
       "0         292      3     0       1       95           5         5457.0   \n",
       "1         292      2     2       1       95           5         5457.0   \n",
       "3         329      3     0       1      110           6         6380.0   \n",
       "4         228      3     0       1      296           6         5498.0   \n",
       "5         228      3     0       3      275           6         5498.0   \n",
       "...       ...    ...   ...     ...      ...         ...            ...   \n",
       "30137     166      4     0       3      314           6         5556.0   \n",
       "30138     165      2     2       1      121           5         4794.0   \n",
       "30139     165      3     0       1      110           5         4794.0   \n",
       "30140     165      3     1       0      235           5         4794.0   \n",
       "30141     167      4     0       1       22           6        13830.0   \n",
       "\n",
       "       DISTANCE  COUNCILAREA  BEDROOM2  BATHROOM  CAR    LANDSIZE  \\\n",
       "0          11.2            2       3.0       1.0  2.0  490.000000   \n",
       "1          11.2            2       2.0       1.0  2.0  108.000000   \n",
       "3           8.0           10       3.0       1.0  1.0  507.000000   \n",
       "4           8.4           10       2.0       1.0  2.0  281.000000   \n",
       "5           8.4           10       3.0       2.0  2.0  301.000000   \n",
       "...         ...          ...       ...       ...  ...         ...   \n",
       "30137      18.0            3       4.0       2.0  2.0  600.000000   \n",
       "30138      16.0            1       2.0       1.0  1.0  130.000000   \n",
       "30139      16.0            1       3.0       1.0  2.0  700.000000   \n",
       "30140      16.0            1       0.0       0.0  0.0  584.022263   \n",
       "30141      18.4           30       4.0       2.0  2.0  650.000000   \n",
       "\n",
       "       BUILDINGAREA      PRICE  \n",
       "0        158.001108  1205000.0  \n",
       "1        158.001108   813000.0  \n",
       "3        186.000000  1535000.0  \n",
       "4        100.000000   826000.0  \n",
       "5        195.000000  1025000.0  \n",
       "...             ...        ...  \n",
       "30137    174.000000   580000.0  \n",
       "30138    158.001108   677500.0  \n",
       "30139    158.001108  1242000.0  \n",
       "30140    158.001108  1395000.0  \n",
       "30141    158.001108   540000.0  \n",
       "\n",
       "[23571 rows x 15 columns]"
      ]
     },
     "execution_count": 18,
     "metadata": {},
     "output_type": "execute_result"
    }
   ],
   "source": [
    "# le.fit(housepricingdf) \n",
    "le1=LabelEncoder()\n",
    "le2=LabelEncoder()\n",
    "le3=LabelEncoder()\n",
    "le4=LabelEncoder()\n",
    "le5=LabelEncoder()\n",
    "le6=LabelEncoder()\n",
    "housepricingdf.SUBURB=le1.fit_transform(housepricingdf.SUBURB)\n",
    "housepricingdf.TYPE = le2.fit_transform(housepricingdf.TYPE)\n",
    "housepricingdf.METHOD = le3.fit_transform(housepricingdf.METHOD)\n",
    "housepricingdf.SELLERG=le4.fit_transform(housepricingdf.SELLERG)\n",
    "housepricingdf.REGIONNAME=le5.fit_transform(housepricingdf.REGIONNAME)\n",
    "housepricingdf.COUNCILAREA = le6.fit_transform(housepricingdf.COUNCILAREA)\n",
    "housepricingdf"
   ]
  },
  {
   "cell_type": "code",
   "execution_count": 19,
   "id": "4756e4e3-bba5-4d94-958b-d97277d1da8e",
   "metadata": {},
   "outputs": [],
   "source": [
    "X4 = housepricingdf.drop(['PRICE'],axis=1)\n",
    "y4=housepricingdf.PRICE"
   ]
  },
  {
   "cell_type": "code",
   "execution_count": 20,
   "id": "16f7819d-03c7-450b-9563-63331ab8215f",
   "metadata": {},
   "outputs": [],
   "source": [
    "from sklearn.model_selection import train_test_split\n",
    "X4_train, X4_test, y4_train, y4_test = train_test_split(X4,y4, test_size = .20, random_state= 0)"
   ]
  },
  {
   "cell_type": "code",
   "execution_count": 21,
   "id": "28151409-ef04-4686-aa04-e7586c28b35a",
   "metadata": {},
   "outputs": [
    {
     "name": "stderr",
     "output_type": "stream",
     "text": [
      "/Users/adh.arash/Downloads/conda/envs/snowpark/lib/python3.8/site-packages/xgboost/compat.py:36: FutureWarning: pandas.Int64Index is deprecated and will be removed from pandas in a future version. Use pandas.Index with the appropriate dtype instead.\n",
      "  from pandas import MultiIndex, Int64Index\n",
      "/Users/adh.arash/Downloads/conda/envs/snowpark/lib/python3.8/site-packages/xgboost/data.py:250: FutureWarning: pandas.Int64Index is deprecated and will be removed from pandas in a future version. Use pandas.Index with the appropriate dtype instead.\n",
      "  elif isinstance(data.columns, (pd.Int64Index, pd.RangeIndex)):\n"
     ]
    }
   ],
   "source": [
    "from xgboost import XGBRegressor\n",
    "import xgboost as xgb\n",
    "\n",
    "xgb = XGBRegressor()\n",
    "xgb.fit(X4_train,y4_train)\n",
    "pred_xgb=xgb.predict(X4_test)"
   ]
  },
  {
   "cell_type": "code",
   "execution_count": 23,
   "id": "61872522-8f9a-4679-b44b-0040f9ed0dc2",
   "metadata": {},
   "outputs": [
    {
     "name": "stdout",
     "output_type": "stream",
     "text": [
      "R^2 = 0.7997427606518817\n"
     ]
    }
   ],
   "source": [
    "from sklearn import metrics\n",
    "# Calculated R Squared\n",
    "print('R^2 =',metrics.explained_variance_score(y4_test,pred_xgb))"
   ]
  },
  {
   "cell_type": "code",
   "execution_count": 25,
   "id": "cad6aa99-f4ed-4eb3-93ef-416ae3c9c15a",
   "metadata": {},
   "outputs": [
    {
     "name": "stdout",
     "output_type": "stream",
     "text": [
      "Mean Absolute Error: 175130.13917351537\n",
      "Mean Squared Error: 79463067551.61269\n",
      "Root Mean Squared Error: 281891.94304132333\n"
     ]
    }
   ],
   "source": [
    "from sklearn import metrics\n",
    "\n",
    "print('Mean Absolute Error:', metrics.mean_absolute_error(y4_test, pred_xgb))\n",
    "print('Mean Squared Error:', metrics.mean_squared_error(y4_test, pred_xgb))\n",
    "print('Root Mean Squared Error:', np.sqrt(metrics.mean_squared_error(y4_test, pred_xgb)))"
   ]
  },
  {
   "cell_type": "code",
   "execution_count": 26,
   "id": "e8bb7293-9970-4c7e-a5a8-441327fe7199",
   "metadata": {},
   "outputs": [
    {
     "name": "stdout",
     "output_type": "stream",
     "text": [
      "83.33\n"
     ]
    }
   ],
   "source": [
    "errors = abs(pred_xgb - y4_test)\n",
    "MSE=round(np.mean(errors),2)\n",
    "MAPE=100*(errors/y4_test)\n",
    "accuracy=round (100 - np.mean(MAPE),2)\n",
    "print(accuracy)"
   ]
  },
  {
   "cell_type": "code",
   "execution_count": 28,
   "id": "4d75b84e-06b8-4bfa-8730-e42bd8c758b1",
   "metadata": {},
   "outputs": [],
   "source": [
    "regressor=XGBRegressor(eval_metric='rmsle')"
   ]
  },
  {
   "cell_type": "code",
   "execution_count": 29,
   "id": "e006aea3-328b-4bac-8b2d-b6f4ec48862b",
   "metadata": {
    "collapsed": true,
    "jupyter": {
     "outputs_hidden": true
    },
    "tags": []
   },
   "outputs": [
    {
     "name": "stdout",
     "output_type": "stream",
     "text": [
      "Fitting 5 folds for each of 12 candidates, totalling 60 fits\n",
      "[CV 1/5; 1/12] START learning_rate=0.01, max_depth=4, n_estimators=500..........\n"
     ]
    },
    {
     "name": "stderr",
     "output_type": "stream",
     "text": [
      "/Users/adh.arash/Downloads/conda/envs/snowpark/lib/python3.8/site-packages/xgboost/data.py:250: FutureWarning: pandas.Int64Index is deprecated and will be removed from pandas in a future version. Use pandas.Index with the appropriate dtype instead.\n",
      "  elif isinstance(data.columns, (pd.Int64Index, pd.RangeIndex)):\n"
     ]
    },
    {
     "name": "stdout",
     "output_type": "stream",
     "text": [
      "[CV 1/5; 1/12] END learning_rate=0.01, max_depth=4, n_estimators=500;, score=0.707 total time=   2.6s\n",
      "[CV 2/5; 1/12] START learning_rate=0.01, max_depth=4, n_estimators=500..........\n"
     ]
    },
    {
     "name": "stderr",
     "output_type": "stream",
     "text": [
      "/Users/adh.arash/Downloads/conda/envs/snowpark/lib/python3.8/site-packages/xgboost/data.py:250: FutureWarning: pandas.Int64Index is deprecated and will be removed from pandas in a future version. Use pandas.Index with the appropriate dtype instead.\n",
      "  elif isinstance(data.columns, (pd.Int64Index, pd.RangeIndex)):\n"
     ]
    },
    {
     "name": "stdout",
     "output_type": "stream",
     "text": [
      "[CV 2/5; 1/12] END learning_rate=0.01, max_depth=4, n_estimators=500;, score=0.718 total time=   2.6s\n",
      "[CV 3/5; 1/12] START learning_rate=0.01, max_depth=4, n_estimators=500..........\n"
     ]
    },
    {
     "name": "stderr",
     "output_type": "stream",
     "text": [
      "/Users/adh.arash/Downloads/conda/envs/snowpark/lib/python3.8/site-packages/xgboost/data.py:250: FutureWarning: pandas.Int64Index is deprecated and will be removed from pandas in a future version. Use pandas.Index with the appropriate dtype instead.\n",
      "  elif isinstance(data.columns, (pd.Int64Index, pd.RangeIndex)):\n"
     ]
    },
    {
     "name": "stdout",
     "output_type": "stream",
     "text": [
      "[CV 3/5; 1/12] END learning_rate=0.01, max_depth=4, n_estimators=500;, score=0.716 total time=   2.6s\n",
      "[CV 4/5; 1/12] START learning_rate=0.01, max_depth=4, n_estimators=500..........\n"
     ]
    },
    {
     "name": "stderr",
     "output_type": "stream",
     "text": [
      "/Users/adh.arash/Downloads/conda/envs/snowpark/lib/python3.8/site-packages/xgboost/data.py:250: FutureWarning: pandas.Int64Index is deprecated and will be removed from pandas in a future version. Use pandas.Index with the appropriate dtype instead.\n",
      "  elif isinstance(data.columns, (pd.Int64Index, pd.RangeIndex)):\n"
     ]
    },
    {
     "name": "stdout",
     "output_type": "stream",
     "text": [
      "[CV 4/5; 1/12] END learning_rate=0.01, max_depth=4, n_estimators=500;, score=0.714 total time=   2.9s\n",
      "[CV 5/5; 1/12] START learning_rate=0.01, max_depth=4, n_estimators=500..........\n"
     ]
    },
    {
     "name": "stderr",
     "output_type": "stream",
     "text": [
      "/Users/adh.arash/Downloads/conda/envs/snowpark/lib/python3.8/site-packages/xgboost/data.py:250: FutureWarning: pandas.Int64Index is deprecated and will be removed from pandas in a future version. Use pandas.Index with the appropriate dtype instead.\n",
      "  elif isinstance(data.columns, (pd.Int64Index, pd.RangeIndex)):\n"
     ]
    },
    {
     "name": "stdout",
     "output_type": "stream",
     "text": [
      "[CV 5/5; 1/12] END learning_rate=0.01, max_depth=4, n_estimators=500;, score=0.716 total time=   2.4s\n",
      "[CV 1/5; 2/12] START learning_rate=0.01, max_depth=4, n_estimators=600..........\n"
     ]
    },
    {
     "name": "stderr",
     "output_type": "stream",
     "text": [
      "/Users/adh.arash/Downloads/conda/envs/snowpark/lib/python3.8/site-packages/xgboost/data.py:250: FutureWarning: pandas.Int64Index is deprecated and will be removed from pandas in a future version. Use pandas.Index with the appropriate dtype instead.\n",
      "  elif isinstance(data.columns, (pd.Int64Index, pd.RangeIndex)):\n"
     ]
    },
    {
     "name": "stdout",
     "output_type": "stream",
     "text": [
      "[CV 1/5; 2/12] END learning_rate=0.01, max_depth=4, n_estimators=600;, score=0.716 total time=   3.1s\n",
      "[CV 2/5; 2/12] START learning_rate=0.01, max_depth=4, n_estimators=600..........\n"
     ]
    },
    {
     "name": "stderr",
     "output_type": "stream",
     "text": [
      "/Users/adh.arash/Downloads/conda/envs/snowpark/lib/python3.8/site-packages/xgboost/data.py:250: FutureWarning: pandas.Int64Index is deprecated and will be removed from pandas in a future version. Use pandas.Index with the appropriate dtype instead.\n",
      "  elif isinstance(data.columns, (pd.Int64Index, pd.RangeIndex)):\n"
     ]
    },
    {
     "name": "stdout",
     "output_type": "stream",
     "text": [
      "[CV 2/5; 2/12] END learning_rate=0.01, max_depth=4, n_estimators=600;, score=0.728 total time=   3.1s\n",
      "[CV 3/5; 2/12] START learning_rate=0.01, max_depth=4, n_estimators=600..........\n"
     ]
    },
    {
     "name": "stderr",
     "output_type": "stream",
     "text": [
      "/Users/adh.arash/Downloads/conda/envs/snowpark/lib/python3.8/site-packages/xgboost/data.py:250: FutureWarning: pandas.Int64Index is deprecated and will be removed from pandas in a future version. Use pandas.Index with the appropriate dtype instead.\n",
      "  elif isinstance(data.columns, (pd.Int64Index, pd.RangeIndex)):\n"
     ]
    },
    {
     "name": "stdout",
     "output_type": "stream",
     "text": [
      "[CV 3/5; 2/12] END learning_rate=0.01, max_depth=4, n_estimators=600;, score=0.720 total time=   3.1s\n",
      "[CV 4/5; 2/12] START learning_rate=0.01, max_depth=4, n_estimators=600..........\n"
     ]
    },
    {
     "name": "stderr",
     "output_type": "stream",
     "text": [
      "/Users/adh.arash/Downloads/conda/envs/snowpark/lib/python3.8/site-packages/xgboost/data.py:250: FutureWarning: pandas.Int64Index is deprecated and will be removed from pandas in a future version. Use pandas.Index with the appropriate dtype instead.\n",
      "  elif isinstance(data.columns, (pd.Int64Index, pd.RangeIndex)):\n"
     ]
    },
    {
     "name": "stdout",
     "output_type": "stream",
     "text": [
      "[CV 4/5; 2/12] END learning_rate=0.01, max_depth=4, n_estimators=600;, score=0.724 total time=   3.1s\n",
      "[CV 5/5; 2/12] START learning_rate=0.01, max_depth=4, n_estimators=600..........\n"
     ]
    },
    {
     "name": "stderr",
     "output_type": "stream",
     "text": [
      "/Users/adh.arash/Downloads/conda/envs/snowpark/lib/python3.8/site-packages/xgboost/data.py:250: FutureWarning: pandas.Int64Index is deprecated and will be removed from pandas in a future version. Use pandas.Index with the appropriate dtype instead.\n",
      "  elif isinstance(data.columns, (pd.Int64Index, pd.RangeIndex)):\n"
     ]
    },
    {
     "name": "stdout",
     "output_type": "stream",
     "text": [
      "[CV 5/5; 2/12] END learning_rate=0.01, max_depth=4, n_estimators=600;, score=0.726 total time=   3.9s\n",
      "[CV 1/5; 3/12] START learning_rate=0.01, max_depth=4, n_estimators=700..........\n"
     ]
    },
    {
     "name": "stderr",
     "output_type": "stream",
     "text": [
      "/Users/adh.arash/Downloads/conda/envs/snowpark/lib/python3.8/site-packages/xgboost/data.py:250: FutureWarning: pandas.Int64Index is deprecated and will be removed from pandas in a future version. Use pandas.Index with the appropriate dtype instead.\n",
      "  elif isinstance(data.columns, (pd.Int64Index, pd.RangeIndex)):\n"
     ]
    },
    {
     "name": "stdout",
     "output_type": "stream",
     "text": [
      "[CV 1/5; 3/12] END learning_rate=0.01, max_depth=4, n_estimators=700;, score=0.723 total time=   3.9s\n",
      "[CV 2/5; 3/12] START learning_rate=0.01, max_depth=4, n_estimators=700..........\n"
     ]
    },
    {
     "name": "stderr",
     "output_type": "stream",
     "text": [
      "/Users/adh.arash/Downloads/conda/envs/snowpark/lib/python3.8/site-packages/xgboost/data.py:250: FutureWarning: pandas.Int64Index is deprecated and will be removed from pandas in a future version. Use pandas.Index with the appropriate dtype instead.\n",
      "  elif isinstance(data.columns, (pd.Int64Index, pd.RangeIndex)):\n"
     ]
    },
    {
     "name": "stdout",
     "output_type": "stream",
     "text": [
      "[CV 2/5; 3/12] END learning_rate=0.01, max_depth=4, n_estimators=700;, score=0.736 total time=   3.7s\n",
      "[CV 3/5; 3/12] START learning_rate=0.01, max_depth=4, n_estimators=700..........\n"
     ]
    },
    {
     "name": "stderr",
     "output_type": "stream",
     "text": [
      "/Users/adh.arash/Downloads/conda/envs/snowpark/lib/python3.8/site-packages/xgboost/data.py:250: FutureWarning: pandas.Int64Index is deprecated and will be removed from pandas in a future version. Use pandas.Index with the appropriate dtype instead.\n",
      "  elif isinstance(data.columns, (pd.Int64Index, pd.RangeIndex)):\n"
     ]
    },
    {
     "name": "stdout",
     "output_type": "stream",
     "text": [
      "[CV 3/5; 3/12] END learning_rate=0.01, max_depth=4, n_estimators=700;, score=0.725 total time=   3.4s\n",
      "[CV 4/5; 3/12] START learning_rate=0.01, max_depth=4, n_estimators=700..........\n"
     ]
    },
    {
     "name": "stderr",
     "output_type": "stream",
     "text": [
      "/Users/adh.arash/Downloads/conda/envs/snowpark/lib/python3.8/site-packages/xgboost/data.py:250: FutureWarning: pandas.Int64Index is deprecated and will be removed from pandas in a future version. Use pandas.Index with the appropriate dtype instead.\n",
      "  elif isinstance(data.columns, (pd.Int64Index, pd.RangeIndex)):\n"
     ]
    },
    {
     "name": "stdout",
     "output_type": "stream",
     "text": [
      "[CV 4/5; 3/12] END learning_rate=0.01, max_depth=4, n_estimators=700;, score=0.732 total time=   3.6s\n",
      "[CV 5/5; 3/12] START learning_rate=0.01, max_depth=4, n_estimators=700..........\n"
     ]
    },
    {
     "name": "stderr",
     "output_type": "stream",
     "text": [
      "/Users/adh.arash/Downloads/conda/envs/snowpark/lib/python3.8/site-packages/xgboost/data.py:250: FutureWarning: pandas.Int64Index is deprecated and will be removed from pandas in a future version. Use pandas.Index with the appropriate dtype instead.\n",
      "  elif isinstance(data.columns, (pd.Int64Index, pd.RangeIndex)):\n"
     ]
    },
    {
     "name": "stdout",
     "output_type": "stream",
     "text": [
      "[CV 5/5; 3/12] END learning_rate=0.01, max_depth=4, n_estimators=700;, score=0.732 total time=   3.7s\n",
      "[CV 1/5; 4/12] START learning_rate=0.01, max_depth=5, n_estimators=500..........\n"
     ]
    },
    {
     "name": "stderr",
     "output_type": "stream",
     "text": [
      "/Users/adh.arash/Downloads/conda/envs/snowpark/lib/python3.8/site-packages/xgboost/data.py:250: FutureWarning: pandas.Int64Index is deprecated and will be removed from pandas in a future version. Use pandas.Index with the appropriate dtype instead.\n",
      "  elif isinstance(data.columns, (pd.Int64Index, pd.RangeIndex)):\n"
     ]
    },
    {
     "name": "stdout",
     "output_type": "stream",
     "text": [
      "[CV 1/5; 4/12] END learning_rate=0.01, max_depth=5, n_estimators=500;, score=0.726 total time=   3.3s\n",
      "[CV 2/5; 4/12] START learning_rate=0.01, max_depth=5, n_estimators=500..........\n"
     ]
    },
    {
     "name": "stderr",
     "output_type": "stream",
     "text": [
      "/Users/adh.arash/Downloads/conda/envs/snowpark/lib/python3.8/site-packages/xgboost/data.py:250: FutureWarning: pandas.Int64Index is deprecated and will be removed from pandas in a future version. Use pandas.Index with the appropriate dtype instead.\n",
      "  elif isinstance(data.columns, (pd.Int64Index, pd.RangeIndex)):\n"
     ]
    },
    {
     "name": "stdout",
     "output_type": "stream",
     "text": [
      "[CV 2/5; 4/12] END learning_rate=0.01, max_depth=5, n_estimators=500;, score=0.747 total time=   3.9s\n",
      "[CV 3/5; 4/12] START learning_rate=0.01, max_depth=5, n_estimators=500..........\n"
     ]
    },
    {
     "name": "stderr",
     "output_type": "stream",
     "text": [
      "/Users/adh.arash/Downloads/conda/envs/snowpark/lib/python3.8/site-packages/xgboost/data.py:250: FutureWarning: pandas.Int64Index is deprecated and will be removed from pandas in a future version. Use pandas.Index with the appropriate dtype instead.\n",
      "  elif isinstance(data.columns, (pd.Int64Index, pd.RangeIndex)):\n"
     ]
    },
    {
     "name": "stdout",
     "output_type": "stream",
     "text": [
      "[CV 3/5; 4/12] END learning_rate=0.01, max_depth=5, n_estimators=500;, score=0.737 total time=   3.6s\n",
      "[CV 4/5; 4/12] START learning_rate=0.01, max_depth=5, n_estimators=500..........\n"
     ]
    },
    {
     "name": "stderr",
     "output_type": "stream",
     "text": [
      "/Users/adh.arash/Downloads/conda/envs/snowpark/lib/python3.8/site-packages/xgboost/data.py:250: FutureWarning: pandas.Int64Index is deprecated and will be removed from pandas in a future version. Use pandas.Index with the appropriate dtype instead.\n",
      "  elif isinstance(data.columns, (pd.Int64Index, pd.RangeIndex)):\n"
     ]
    },
    {
     "name": "stdout",
     "output_type": "stream",
     "text": [
      "[CV 4/5; 4/12] END learning_rate=0.01, max_depth=5, n_estimators=500;, score=0.738 total time=   3.4s\n",
      "[CV 5/5; 4/12] START learning_rate=0.01, max_depth=5, n_estimators=500..........\n"
     ]
    },
    {
     "name": "stderr",
     "output_type": "stream",
     "text": [
      "/Users/adh.arash/Downloads/conda/envs/snowpark/lib/python3.8/site-packages/xgboost/data.py:250: FutureWarning: pandas.Int64Index is deprecated and will be removed from pandas in a future version. Use pandas.Index with the appropriate dtype instead.\n",
      "  elif isinstance(data.columns, (pd.Int64Index, pd.RangeIndex)):\n"
     ]
    },
    {
     "name": "stdout",
     "output_type": "stream",
     "text": [
      "[CV 5/5; 4/12] END learning_rate=0.01, max_depth=5, n_estimators=500;, score=0.736 total time=   3.2s\n",
      "[CV 1/5; 5/12] START learning_rate=0.01, max_depth=5, n_estimators=600..........\n"
     ]
    },
    {
     "name": "stderr",
     "output_type": "stream",
     "text": [
      "/Users/adh.arash/Downloads/conda/envs/snowpark/lib/python3.8/site-packages/xgboost/data.py:250: FutureWarning: pandas.Int64Index is deprecated and will be removed from pandas in a future version. Use pandas.Index with the appropriate dtype instead.\n",
      "  elif isinstance(data.columns, (pd.Int64Index, pd.RangeIndex)):\n"
     ]
    },
    {
     "name": "stdout",
     "output_type": "stream",
     "text": [
      "[CV 1/5; 5/12] END learning_rate=0.01, max_depth=5, n_estimators=600;, score=0.732 total time=   3.8s\n",
      "[CV 2/5; 5/12] START learning_rate=0.01, max_depth=5, n_estimators=600..........\n"
     ]
    },
    {
     "name": "stderr",
     "output_type": "stream",
     "text": [
      "/Users/adh.arash/Downloads/conda/envs/snowpark/lib/python3.8/site-packages/xgboost/data.py:250: FutureWarning: pandas.Int64Index is deprecated and will be removed from pandas in a future version. Use pandas.Index with the appropriate dtype instead.\n",
      "  elif isinstance(data.columns, (pd.Int64Index, pd.RangeIndex)):\n"
     ]
    },
    {
     "name": "stdout",
     "output_type": "stream",
     "text": [
      "[CV 2/5; 5/12] END learning_rate=0.01, max_depth=5, n_estimators=600;, score=0.753 total time=   3.9s\n",
      "[CV 3/5; 5/12] START learning_rate=0.01, max_depth=5, n_estimators=600..........\n"
     ]
    },
    {
     "name": "stderr",
     "output_type": "stream",
     "text": [
      "/Users/adh.arash/Downloads/conda/envs/snowpark/lib/python3.8/site-packages/xgboost/data.py:250: FutureWarning: pandas.Int64Index is deprecated and will be removed from pandas in a future version. Use pandas.Index with the appropriate dtype instead.\n",
      "  elif isinstance(data.columns, (pd.Int64Index, pd.RangeIndex)):\n"
     ]
    },
    {
     "name": "stdout",
     "output_type": "stream",
     "text": [
      "[CV 3/5; 5/12] END learning_rate=0.01, max_depth=5, n_estimators=600;, score=0.741 total time=   3.9s\n",
      "[CV 4/5; 5/12] START learning_rate=0.01, max_depth=5, n_estimators=600..........\n"
     ]
    },
    {
     "name": "stderr",
     "output_type": "stream",
     "text": [
      "/Users/adh.arash/Downloads/conda/envs/snowpark/lib/python3.8/site-packages/xgboost/data.py:250: FutureWarning: pandas.Int64Index is deprecated and will be removed from pandas in a future version. Use pandas.Index with the appropriate dtype instead.\n",
      "  elif isinstance(data.columns, (pd.Int64Index, pd.RangeIndex)):\n"
     ]
    },
    {
     "name": "stdout",
     "output_type": "stream",
     "text": [
      "[CV 4/5; 5/12] END learning_rate=0.01, max_depth=5, n_estimators=600;, score=0.747 total time=   4.0s\n",
      "[CV 5/5; 5/12] START learning_rate=0.01, max_depth=5, n_estimators=600..........\n"
     ]
    },
    {
     "name": "stderr",
     "output_type": "stream",
     "text": [
      "/Users/adh.arash/Downloads/conda/envs/snowpark/lib/python3.8/site-packages/xgboost/data.py:250: FutureWarning: pandas.Int64Index is deprecated and will be removed from pandas in a future version. Use pandas.Index with the appropriate dtype instead.\n",
      "  elif isinstance(data.columns, (pd.Int64Index, pd.RangeIndex)):\n"
     ]
    },
    {
     "name": "stdout",
     "output_type": "stream",
     "text": [
      "[CV 5/5; 5/12] END learning_rate=0.01, max_depth=5, n_estimators=600;, score=0.741 total time=   4.4s\n",
      "[CV 1/5; 6/12] START learning_rate=0.01, max_depth=5, n_estimators=700..........\n"
     ]
    },
    {
     "name": "stderr",
     "output_type": "stream",
     "text": [
      "/Users/adh.arash/Downloads/conda/envs/snowpark/lib/python3.8/site-packages/xgboost/data.py:250: FutureWarning: pandas.Int64Index is deprecated and will be removed from pandas in a future version. Use pandas.Index with the appropriate dtype instead.\n",
      "  elif isinstance(data.columns, (pd.Int64Index, pd.RangeIndex)):\n"
     ]
    },
    {
     "name": "stdout",
     "output_type": "stream",
     "text": [
      "[CV 1/5; 6/12] END learning_rate=0.01, max_depth=5, n_estimators=700;, score=0.737 total time=   4.8s\n",
      "[CV 2/5; 6/12] START learning_rate=0.01, max_depth=5, n_estimators=700..........\n"
     ]
    },
    {
     "name": "stderr",
     "output_type": "stream",
     "text": [
      "/Users/adh.arash/Downloads/conda/envs/snowpark/lib/python3.8/site-packages/xgboost/data.py:250: FutureWarning: pandas.Int64Index is deprecated and will be removed from pandas in a future version. Use pandas.Index with the appropriate dtype instead.\n",
      "  elif isinstance(data.columns, (pd.Int64Index, pd.RangeIndex)):\n"
     ]
    },
    {
     "name": "stdout",
     "output_type": "stream",
     "text": [
      "[CV 2/5; 6/12] END learning_rate=0.01, max_depth=5, n_estimators=700;, score=0.759 total time=   4.7s\n",
      "[CV 3/5; 6/12] START learning_rate=0.01, max_depth=5, n_estimators=700..........\n"
     ]
    },
    {
     "name": "stderr",
     "output_type": "stream",
     "text": [
      "/Users/adh.arash/Downloads/conda/envs/snowpark/lib/python3.8/site-packages/xgboost/data.py:250: FutureWarning: pandas.Int64Index is deprecated and will be removed from pandas in a future version. Use pandas.Index with the appropriate dtype instead.\n",
      "  elif isinstance(data.columns, (pd.Int64Index, pd.RangeIndex)):\n"
     ]
    },
    {
     "name": "stdout",
     "output_type": "stream",
     "text": [
      "[CV 3/5; 6/12] END learning_rate=0.01, max_depth=5, n_estimators=700;, score=0.746 total time=   4.8s\n",
      "[CV 4/5; 6/12] START learning_rate=0.01, max_depth=5, n_estimators=700..........\n"
     ]
    },
    {
     "name": "stderr",
     "output_type": "stream",
     "text": [
      "/Users/adh.arash/Downloads/conda/envs/snowpark/lib/python3.8/site-packages/xgboost/data.py:250: FutureWarning: pandas.Int64Index is deprecated and will be removed from pandas in a future version. Use pandas.Index with the appropriate dtype instead.\n",
      "  elif isinstance(data.columns, (pd.Int64Index, pd.RangeIndex)):\n"
     ]
    },
    {
     "name": "stdout",
     "output_type": "stream",
     "text": [
      "[CV 4/5; 6/12] END learning_rate=0.01, max_depth=5, n_estimators=700;, score=0.753 total time=   4.9s\n",
      "[CV 5/5; 6/12] START learning_rate=0.01, max_depth=5, n_estimators=700..........\n"
     ]
    },
    {
     "name": "stderr",
     "output_type": "stream",
     "text": [
      "/Users/adh.arash/Downloads/conda/envs/snowpark/lib/python3.8/site-packages/xgboost/data.py:250: FutureWarning: pandas.Int64Index is deprecated and will be removed from pandas in a future version. Use pandas.Index with the appropriate dtype instead.\n",
      "  elif isinstance(data.columns, (pd.Int64Index, pd.RangeIndex)):\n"
     ]
    },
    {
     "name": "stdout",
     "output_type": "stream",
     "text": [
      "[CV 5/5; 6/12] END learning_rate=0.01, max_depth=5, n_estimators=700;, score=0.744 total time=   5.0s\n",
      "[CV 1/5; 7/12] START learning_rate=0.015, max_depth=4, n_estimators=500.........\n"
     ]
    },
    {
     "name": "stderr",
     "output_type": "stream",
     "text": [
      "/Users/adh.arash/Downloads/conda/envs/snowpark/lib/python3.8/site-packages/xgboost/data.py:250: FutureWarning: pandas.Int64Index is deprecated and will be removed from pandas in a future version. Use pandas.Index with the appropriate dtype instead.\n",
      "  elif isinstance(data.columns, (pd.Int64Index, pd.RangeIndex)):\n"
     ]
    },
    {
     "name": "stdout",
     "output_type": "stream",
     "text": [
      "[CV 1/5; 7/12] END learning_rate=0.015, max_depth=4, n_estimators=500;, score=0.725 total time=   2.6s\n",
      "[CV 2/5; 7/12] START learning_rate=0.015, max_depth=4, n_estimators=500.........\n"
     ]
    },
    {
     "name": "stderr",
     "output_type": "stream",
     "text": [
      "/Users/adh.arash/Downloads/conda/envs/snowpark/lib/python3.8/site-packages/xgboost/data.py:250: FutureWarning: pandas.Int64Index is deprecated and will be removed from pandas in a future version. Use pandas.Index with the appropriate dtype instead.\n",
      "  elif isinstance(data.columns, (pd.Int64Index, pd.RangeIndex)):\n"
     ]
    },
    {
     "name": "stdout",
     "output_type": "stream",
     "text": [
      "[CV 2/5; 7/12] END learning_rate=0.015, max_depth=4, n_estimators=500;, score=0.737 total time=   2.8s\n",
      "[CV 3/5; 7/12] START learning_rate=0.015, max_depth=4, n_estimators=500.........\n"
     ]
    },
    {
     "name": "stderr",
     "output_type": "stream",
     "text": [
      "/Users/adh.arash/Downloads/conda/envs/snowpark/lib/python3.8/site-packages/xgboost/data.py:250: FutureWarning: pandas.Int64Index is deprecated and will be removed from pandas in a future version. Use pandas.Index with the appropriate dtype instead.\n",
      "  elif isinstance(data.columns, (pd.Int64Index, pd.RangeIndex)):\n"
     ]
    },
    {
     "name": "stdout",
     "output_type": "stream",
     "text": [
      "[CV 3/5; 7/12] END learning_rate=0.015, max_depth=4, n_estimators=500;, score=0.728 total time=   2.4s\n",
      "[CV 4/5; 7/12] START learning_rate=0.015, max_depth=4, n_estimators=500.........\n"
     ]
    },
    {
     "name": "stderr",
     "output_type": "stream",
     "text": [
      "/Users/adh.arash/Downloads/conda/envs/snowpark/lib/python3.8/site-packages/xgboost/data.py:250: FutureWarning: pandas.Int64Index is deprecated and will be removed from pandas in a future version. Use pandas.Index with the appropriate dtype instead.\n",
      "  elif isinstance(data.columns, (pd.Int64Index, pd.RangeIndex)):\n"
     ]
    },
    {
     "name": "stdout",
     "output_type": "stream",
     "text": [
      "[CV 4/5; 7/12] END learning_rate=0.015, max_depth=4, n_estimators=500;, score=0.734 total time=   2.3s\n",
      "[CV 5/5; 7/12] START learning_rate=0.015, max_depth=4, n_estimators=500.........\n"
     ]
    },
    {
     "name": "stderr",
     "output_type": "stream",
     "text": [
      "/Users/adh.arash/Downloads/conda/envs/snowpark/lib/python3.8/site-packages/xgboost/data.py:250: FutureWarning: pandas.Int64Index is deprecated and will be removed from pandas in a future version. Use pandas.Index with the appropriate dtype instead.\n",
      "  elif isinstance(data.columns, (pd.Int64Index, pd.RangeIndex)):\n"
     ]
    },
    {
     "name": "stdout",
     "output_type": "stream",
     "text": [
      "[CV 5/5; 7/12] END learning_rate=0.015, max_depth=4, n_estimators=500;, score=0.735 total time=   2.4s\n",
      "[CV 1/5; 8/12] START learning_rate=0.015, max_depth=4, n_estimators=600.........\n"
     ]
    },
    {
     "name": "stderr",
     "output_type": "stream",
     "text": [
      "/Users/adh.arash/Downloads/conda/envs/snowpark/lib/python3.8/site-packages/xgboost/data.py:250: FutureWarning: pandas.Int64Index is deprecated and will be removed from pandas in a future version. Use pandas.Index with the appropriate dtype instead.\n",
      "  elif isinstance(data.columns, (pd.Int64Index, pd.RangeIndex)):\n"
     ]
    },
    {
     "name": "stdout",
     "output_type": "stream",
     "text": [
      "[CV 1/5; 8/12] END learning_rate=0.015, max_depth=4, n_estimators=600;, score=0.732 total time=   3.0s\n",
      "[CV 2/5; 8/12] START learning_rate=0.015, max_depth=4, n_estimators=600.........\n"
     ]
    },
    {
     "name": "stderr",
     "output_type": "stream",
     "text": [
      "/Users/adh.arash/Downloads/conda/envs/snowpark/lib/python3.8/site-packages/xgboost/data.py:250: FutureWarning: pandas.Int64Index is deprecated and will be removed from pandas in a future version. Use pandas.Index with the appropriate dtype instead.\n",
      "  elif isinstance(data.columns, (pd.Int64Index, pd.RangeIndex)):\n"
     ]
    },
    {
     "name": "stdout",
     "output_type": "stream",
     "text": [
      "[CV 2/5; 8/12] END learning_rate=0.015, max_depth=4, n_estimators=600;, score=0.743 total time=   2.8s\n",
      "[CV 3/5; 8/12] START learning_rate=0.015, max_depth=4, n_estimators=600.........\n"
     ]
    },
    {
     "name": "stderr",
     "output_type": "stream",
     "text": [
      "/Users/adh.arash/Downloads/conda/envs/snowpark/lib/python3.8/site-packages/xgboost/data.py:250: FutureWarning: pandas.Int64Index is deprecated and will be removed from pandas in a future version. Use pandas.Index with the appropriate dtype instead.\n",
      "  elif isinstance(data.columns, (pd.Int64Index, pd.RangeIndex)):\n"
     ]
    },
    {
     "name": "stdout",
     "output_type": "stream",
     "text": [
      "[CV 3/5; 8/12] END learning_rate=0.015, max_depth=4, n_estimators=600;, score=0.733 total time=   2.9s\n",
      "[CV 4/5; 8/12] START learning_rate=0.015, max_depth=4, n_estimators=600.........\n"
     ]
    },
    {
     "name": "stderr",
     "output_type": "stream",
     "text": [
      "/Users/adh.arash/Downloads/conda/envs/snowpark/lib/python3.8/site-packages/xgboost/data.py:250: FutureWarning: pandas.Int64Index is deprecated and will be removed from pandas in a future version. Use pandas.Index with the appropriate dtype instead.\n",
      "  elif isinstance(data.columns, (pd.Int64Index, pd.RangeIndex)):\n"
     ]
    },
    {
     "name": "stdout",
     "output_type": "stream",
     "text": [
      "[CV 4/5; 8/12] END learning_rate=0.015, max_depth=4, n_estimators=600;, score=0.740 total time=   2.8s\n",
      "[CV 5/5; 8/12] START learning_rate=0.015, max_depth=4, n_estimators=600.........\n"
     ]
    },
    {
     "name": "stderr",
     "output_type": "stream",
     "text": [
      "/Users/adh.arash/Downloads/conda/envs/snowpark/lib/python3.8/site-packages/xgboost/data.py:250: FutureWarning: pandas.Int64Index is deprecated and will be removed from pandas in a future version. Use pandas.Index with the appropriate dtype instead.\n",
      "  elif isinstance(data.columns, (pd.Int64Index, pd.RangeIndex)):\n"
     ]
    },
    {
     "name": "stdout",
     "output_type": "stream",
     "text": [
      "[CV 5/5; 8/12] END learning_rate=0.015, max_depth=4, n_estimators=600;, score=0.741 total time=   3.0s\n",
      "[CV 1/5; 9/12] START learning_rate=0.015, max_depth=4, n_estimators=700.........\n"
     ]
    },
    {
     "name": "stderr",
     "output_type": "stream",
     "text": [
      "/Users/adh.arash/Downloads/conda/envs/snowpark/lib/python3.8/site-packages/xgboost/data.py:250: FutureWarning: pandas.Int64Index is deprecated and will be removed from pandas in a future version. Use pandas.Index with the appropriate dtype instead.\n",
      "  elif isinstance(data.columns, (pd.Int64Index, pd.RangeIndex)):\n"
     ]
    },
    {
     "name": "stdout",
     "output_type": "stream",
     "text": [
      "[CV 1/5; 9/12] END learning_rate=0.015, max_depth=4, n_estimators=700;, score=0.735 total time=   3.4s\n",
      "[CV 2/5; 9/12] START learning_rate=0.015, max_depth=4, n_estimators=700.........\n"
     ]
    },
    {
     "name": "stderr",
     "output_type": "stream",
     "text": [
      "/Users/adh.arash/Downloads/conda/envs/snowpark/lib/python3.8/site-packages/xgboost/data.py:250: FutureWarning: pandas.Int64Index is deprecated and will be removed from pandas in a future version. Use pandas.Index with the appropriate dtype instead.\n",
      "  elif isinstance(data.columns, (pd.Int64Index, pd.RangeIndex)):\n"
     ]
    },
    {
     "name": "stdout",
     "output_type": "stream",
     "text": [
      "[CV 2/5; 9/12] END learning_rate=0.015, max_depth=4, n_estimators=700;, score=0.749 total time=   3.3s\n",
      "[CV 3/5; 9/12] START learning_rate=0.015, max_depth=4, n_estimators=700.........\n"
     ]
    },
    {
     "name": "stderr",
     "output_type": "stream",
     "text": [
      "/Users/adh.arash/Downloads/conda/envs/snowpark/lib/python3.8/site-packages/xgboost/data.py:250: FutureWarning: pandas.Int64Index is deprecated and will be removed from pandas in a future version. Use pandas.Index with the appropriate dtype instead.\n",
      "  elif isinstance(data.columns, (pd.Int64Index, pd.RangeIndex)):\n"
     ]
    },
    {
     "name": "stdout",
     "output_type": "stream",
     "text": [
      "[CV 3/5; 9/12] END learning_rate=0.015, max_depth=4, n_estimators=700;, score=0.735 total time=   3.3s\n",
      "[CV 4/5; 9/12] START learning_rate=0.015, max_depth=4, n_estimators=700.........\n"
     ]
    },
    {
     "name": "stderr",
     "output_type": "stream",
     "text": [
      "/Users/adh.arash/Downloads/conda/envs/snowpark/lib/python3.8/site-packages/xgboost/data.py:250: FutureWarning: pandas.Int64Index is deprecated and will be removed from pandas in a future version. Use pandas.Index with the appropriate dtype instead.\n",
      "  elif isinstance(data.columns, (pd.Int64Index, pd.RangeIndex)):\n"
     ]
    },
    {
     "name": "stdout",
     "output_type": "stream",
     "text": [
      "[CV 4/5; 9/12] END learning_rate=0.015, max_depth=4, n_estimators=700;, score=0.743 total time=   4.3s\n",
      "[CV 5/5; 9/12] START learning_rate=0.015, max_depth=4, n_estimators=700.........\n"
     ]
    },
    {
     "name": "stderr",
     "output_type": "stream",
     "text": [
      "/Users/adh.arash/Downloads/conda/envs/snowpark/lib/python3.8/site-packages/xgboost/data.py:250: FutureWarning: pandas.Int64Index is deprecated and will be removed from pandas in a future version. Use pandas.Index with the appropriate dtype instead.\n",
      "  elif isinstance(data.columns, (pd.Int64Index, pd.RangeIndex)):\n"
     ]
    },
    {
     "name": "stdout",
     "output_type": "stream",
     "text": [
      "[CV 5/5; 9/12] END learning_rate=0.015, max_depth=4, n_estimators=700;, score=0.745 total time=   3.6s\n",
      "[CV 1/5; 10/12] START learning_rate=0.015, max_depth=5, n_estimators=500........\n"
     ]
    },
    {
     "name": "stderr",
     "output_type": "stream",
     "text": [
      "/Users/adh.arash/Downloads/conda/envs/snowpark/lib/python3.8/site-packages/xgboost/data.py:250: FutureWarning: pandas.Int64Index is deprecated and will be removed from pandas in a future version. Use pandas.Index with the appropriate dtype instead.\n",
      "  elif isinstance(data.columns, (pd.Int64Index, pd.RangeIndex)):\n"
     ]
    },
    {
     "name": "stdout",
     "output_type": "stream",
     "text": [
      "[CV 1/5; 10/12] END learning_rate=0.015, max_depth=5, n_estimators=500;, score=0.738 total time=   3.1s\n",
      "[CV 2/5; 10/12] START learning_rate=0.015, max_depth=5, n_estimators=500........\n"
     ]
    },
    {
     "name": "stderr",
     "output_type": "stream",
     "text": [
      "/Users/adh.arash/Downloads/conda/envs/snowpark/lib/python3.8/site-packages/xgboost/data.py:250: FutureWarning: pandas.Int64Index is deprecated and will be removed from pandas in a future version. Use pandas.Index with the appropriate dtype instead.\n",
      "  elif isinstance(data.columns, (pd.Int64Index, pd.RangeIndex)):\n"
     ]
    },
    {
     "name": "stdout",
     "output_type": "stream",
     "text": [
      "[CV 2/5; 10/12] END learning_rate=0.015, max_depth=5, n_estimators=500;, score=0.759 total time=   3.0s\n",
      "[CV 3/5; 10/12] START learning_rate=0.015, max_depth=5, n_estimators=500........\n"
     ]
    },
    {
     "name": "stderr",
     "output_type": "stream",
     "text": [
      "/Users/adh.arash/Downloads/conda/envs/snowpark/lib/python3.8/site-packages/xgboost/data.py:250: FutureWarning: pandas.Int64Index is deprecated and will be removed from pandas in a future version. Use pandas.Index with the appropriate dtype instead.\n",
      "  elif isinstance(data.columns, (pd.Int64Index, pd.RangeIndex)):\n"
     ]
    },
    {
     "name": "stdout",
     "output_type": "stream",
     "text": [
      "[CV 3/5; 10/12] END learning_rate=0.015, max_depth=5, n_estimators=500;, score=0.747 total time=   3.0s\n",
      "[CV 4/5; 10/12] START learning_rate=0.015, max_depth=5, n_estimators=500........\n"
     ]
    },
    {
     "name": "stderr",
     "output_type": "stream",
     "text": [
      "/Users/adh.arash/Downloads/conda/envs/snowpark/lib/python3.8/site-packages/xgboost/data.py:250: FutureWarning: pandas.Int64Index is deprecated and will be removed from pandas in a future version. Use pandas.Index with the appropriate dtype instead.\n",
      "  elif isinstance(data.columns, (pd.Int64Index, pd.RangeIndex)):\n"
     ]
    },
    {
     "name": "stdout",
     "output_type": "stream",
     "text": [
      "[CV 4/5; 10/12] END learning_rate=0.015, max_depth=5, n_estimators=500;, score=0.755 total time=   3.0s\n",
      "[CV 5/5; 10/12] START learning_rate=0.015, max_depth=5, n_estimators=500........\n"
     ]
    },
    {
     "name": "stderr",
     "output_type": "stream",
     "text": [
      "/Users/adh.arash/Downloads/conda/envs/snowpark/lib/python3.8/site-packages/xgboost/data.py:250: FutureWarning: pandas.Int64Index is deprecated and will be removed from pandas in a future version. Use pandas.Index with the appropriate dtype instead.\n",
      "  elif isinstance(data.columns, (pd.Int64Index, pd.RangeIndex)):\n"
     ]
    },
    {
     "name": "stdout",
     "output_type": "stream",
     "text": [
      "[CV 5/5; 10/12] END learning_rate=0.015, max_depth=5, n_estimators=500;, score=0.744 total time=   3.0s\n",
      "[CV 1/5; 11/12] START learning_rate=0.015, max_depth=5, n_estimators=600........\n"
     ]
    },
    {
     "name": "stderr",
     "output_type": "stream",
     "text": [
      "/Users/adh.arash/Downloads/conda/envs/snowpark/lib/python3.8/site-packages/xgboost/data.py:250: FutureWarning: pandas.Int64Index is deprecated and will be removed from pandas in a future version. Use pandas.Index with the appropriate dtype instead.\n",
      "  elif isinstance(data.columns, (pd.Int64Index, pd.RangeIndex)):\n"
     ]
    },
    {
     "name": "stdout",
     "output_type": "stream",
     "text": [
      "[CV 1/5; 11/12] END learning_rate=0.015, max_depth=5, n_estimators=600;, score=0.742 total time=   4.3s\n",
      "[CV 2/5; 11/12] START learning_rate=0.015, max_depth=5, n_estimators=600........\n"
     ]
    },
    {
     "name": "stderr",
     "output_type": "stream",
     "text": [
      "/Users/adh.arash/Downloads/conda/envs/snowpark/lib/python3.8/site-packages/xgboost/data.py:250: FutureWarning: pandas.Int64Index is deprecated and will be removed from pandas in a future version. Use pandas.Index with the appropriate dtype instead.\n",
      "  elif isinstance(data.columns, (pd.Int64Index, pd.RangeIndex)):\n"
     ]
    },
    {
     "name": "stdout",
     "output_type": "stream",
     "text": [
      "[CV 2/5; 11/12] END learning_rate=0.015, max_depth=5, n_estimators=600;, score=0.763 total time=   4.1s\n",
      "[CV 3/5; 11/12] START learning_rate=0.015, max_depth=5, n_estimators=600........\n"
     ]
    },
    {
     "name": "stderr",
     "output_type": "stream",
     "text": [
      "/Users/adh.arash/Downloads/conda/envs/snowpark/lib/python3.8/site-packages/xgboost/data.py:250: FutureWarning: pandas.Int64Index is deprecated and will be removed from pandas in a future version. Use pandas.Index with the appropriate dtype instead.\n",
      "  elif isinstance(data.columns, (pd.Int64Index, pd.RangeIndex)):\n"
     ]
    },
    {
     "name": "stdout",
     "output_type": "stream",
     "text": [
      "[CV 3/5; 11/12] END learning_rate=0.015, max_depth=5, n_estimators=600;, score=0.749 total time=   3.8s\n",
      "[CV 4/5; 11/12] START learning_rate=0.015, max_depth=5, n_estimators=600........\n"
     ]
    },
    {
     "name": "stderr",
     "output_type": "stream",
     "text": [
      "/Users/adh.arash/Downloads/conda/envs/snowpark/lib/python3.8/site-packages/xgboost/data.py:250: FutureWarning: pandas.Int64Index is deprecated and will be removed from pandas in a future version. Use pandas.Index with the appropriate dtype instead.\n",
      "  elif isinstance(data.columns, (pd.Int64Index, pd.RangeIndex)):\n"
     ]
    },
    {
     "name": "stdout",
     "output_type": "stream",
     "text": [
      "[CV 4/5; 11/12] END learning_rate=0.015, max_depth=5, n_estimators=600;, score=0.759 total time=   3.7s\n",
      "[CV 5/5; 11/12] START learning_rate=0.015, max_depth=5, n_estimators=600........\n"
     ]
    },
    {
     "name": "stderr",
     "output_type": "stream",
     "text": [
      "/Users/adh.arash/Downloads/conda/envs/snowpark/lib/python3.8/site-packages/xgboost/data.py:250: FutureWarning: pandas.Int64Index is deprecated and will be removed from pandas in a future version. Use pandas.Index with the appropriate dtype instead.\n",
      "  elif isinstance(data.columns, (pd.Int64Index, pd.RangeIndex)):\n"
     ]
    },
    {
     "name": "stdout",
     "output_type": "stream",
     "text": [
      "[CV 5/5; 11/12] END learning_rate=0.015, max_depth=5, n_estimators=600;, score=0.747 total time=   4.1s\n",
      "[CV 1/5; 12/12] START learning_rate=0.015, max_depth=5, n_estimators=700........\n"
     ]
    },
    {
     "name": "stderr",
     "output_type": "stream",
     "text": [
      "/Users/adh.arash/Downloads/conda/envs/snowpark/lib/python3.8/site-packages/xgboost/data.py:250: FutureWarning: pandas.Int64Index is deprecated and will be removed from pandas in a future version. Use pandas.Index with the appropriate dtype instead.\n",
      "  elif isinstance(data.columns, (pd.Int64Index, pd.RangeIndex)):\n"
     ]
    },
    {
     "name": "stdout",
     "output_type": "stream",
     "text": [
      "[CV 1/5; 12/12] END learning_rate=0.015, max_depth=5, n_estimators=700;, score=0.744 total time=   4.3s\n",
      "[CV 2/5; 12/12] START learning_rate=0.015, max_depth=5, n_estimators=700........\n"
     ]
    },
    {
     "name": "stderr",
     "output_type": "stream",
     "text": [
      "/Users/adh.arash/Downloads/conda/envs/snowpark/lib/python3.8/site-packages/xgboost/data.py:250: FutureWarning: pandas.Int64Index is deprecated and will be removed from pandas in a future version. Use pandas.Index with the appropriate dtype instead.\n",
      "  elif isinstance(data.columns, (pd.Int64Index, pd.RangeIndex)):\n"
     ]
    },
    {
     "name": "stdout",
     "output_type": "stream",
     "text": [
      "[CV 2/5; 12/12] END learning_rate=0.015, max_depth=5, n_estimators=700;, score=0.766 total time=   4.2s\n",
      "[CV 3/5; 12/12] START learning_rate=0.015, max_depth=5, n_estimators=700........\n"
     ]
    },
    {
     "name": "stderr",
     "output_type": "stream",
     "text": [
      "/Users/adh.arash/Downloads/conda/envs/snowpark/lib/python3.8/site-packages/xgboost/data.py:250: FutureWarning: pandas.Int64Index is deprecated and will be removed from pandas in a future version. Use pandas.Index with the appropriate dtype instead.\n",
      "  elif isinstance(data.columns, (pd.Int64Index, pd.RangeIndex)):\n"
     ]
    },
    {
     "name": "stdout",
     "output_type": "stream",
     "text": [
      "[CV 3/5; 12/12] END learning_rate=0.015, max_depth=5, n_estimators=700;, score=0.752 total time=   4.3s\n",
      "[CV 4/5; 12/12] START learning_rate=0.015, max_depth=5, n_estimators=700........\n"
     ]
    },
    {
     "name": "stderr",
     "output_type": "stream",
     "text": [
      "/Users/adh.arash/Downloads/conda/envs/snowpark/lib/python3.8/site-packages/xgboost/data.py:250: FutureWarning: pandas.Int64Index is deprecated and will be removed from pandas in a future version. Use pandas.Index with the appropriate dtype instead.\n",
      "  elif isinstance(data.columns, (pd.Int64Index, pd.RangeIndex)):\n"
     ]
    },
    {
     "name": "stdout",
     "output_type": "stream",
     "text": [
      "[CV 4/5; 12/12] END learning_rate=0.015, max_depth=5, n_estimators=700;, score=0.761 total time=   4.3s\n",
      "[CV 5/5; 12/12] START learning_rate=0.015, max_depth=5, n_estimators=700........\n"
     ]
    },
    {
     "name": "stderr",
     "output_type": "stream",
     "text": [
      "/Users/adh.arash/Downloads/conda/envs/snowpark/lib/python3.8/site-packages/xgboost/data.py:250: FutureWarning: pandas.Int64Index is deprecated and will be removed from pandas in a future version. Use pandas.Index with the appropriate dtype instead.\n",
      "  elif isinstance(data.columns, (pd.Int64Index, pd.RangeIndex)):\n"
     ]
    },
    {
     "name": "stdout",
     "output_type": "stream",
     "text": [
      "[CV 5/5; 12/12] END learning_rate=0.015, max_depth=5, n_estimators=700;, score=0.748 total time=   4.3s\n"
     ]
    },
    {
     "name": "stderr",
     "output_type": "stream",
     "text": [
      "/Users/adh.arash/Downloads/conda/envs/snowpark/lib/python3.8/site-packages/xgboost/data.py:250: FutureWarning: pandas.Int64Index is deprecated and will be removed from pandas in a future version. Use pandas.Index with the appropriate dtype instead.\n",
      "  elif isinstance(data.columns, (pd.Int64Index, pd.RangeIndex)):\n"
     ]
    },
    {
     "name": "stdout",
     "output_type": "stream",
     "text": [
      "The best hyperparameters are  {'learning_rate': 0.015, 'max_depth': 5, 'n_estimators': 700}\n"
     ]
    }
   ],
   "source": [
    "from sklearn.model_selection import GridSearchCV\n",
    "# set up our search grid\n",
    "param_grid = {\"max_depth\":    [4, 5],\n",
    "              \"n_estimators\": [500, 600, 700],\n",
    "              \"learning_rate\": [0.01, 0.015]}\n",
    "\n",
    "# try out every combination of the above values\n",
    "search = GridSearchCV(regressor, param_grid, cv=5,verbose=50).fit(X4_train, y4_train)\n",
    "print(\"The best hyperparameters are \",search.best_params_)"
   ]
  },
  {
   "cell_type": "code",
   "execution_count": 32,
   "id": "d986ebd8-d1f9-430b-b034-607b1161b0f8",
   "metadata": {},
   "outputs": [
    {
     "data": {
      "text/html": [
       "<style>#sk-container-id-1 {color: black;background-color: white;}#sk-container-id-1 pre{padding: 0;}#sk-container-id-1 div.sk-toggleable {background-color: white;}#sk-container-id-1 label.sk-toggleable__label {cursor: pointer;display: block;width: 100%;margin-bottom: 0;padding: 0.3em;box-sizing: border-box;text-align: center;}#sk-container-id-1 label.sk-toggleable__label-arrow:before {content: \"▸\";float: left;margin-right: 0.25em;color: #696969;}#sk-container-id-1 label.sk-toggleable__label-arrow:hover:before {color: black;}#sk-container-id-1 div.sk-estimator:hover label.sk-toggleable__label-arrow:before {color: black;}#sk-container-id-1 div.sk-toggleable__content {max-height: 0;max-width: 0;overflow: hidden;text-align: left;background-color: #f0f8ff;}#sk-container-id-1 div.sk-toggleable__content pre {margin: 0.2em;color: black;border-radius: 0.25em;background-color: #f0f8ff;}#sk-container-id-1 input.sk-toggleable__control:checked~div.sk-toggleable__content {max-height: 200px;max-width: 100%;overflow: auto;}#sk-container-id-1 input.sk-toggleable__control:checked~label.sk-toggleable__label-arrow:before {content: \"▾\";}#sk-container-id-1 div.sk-estimator input.sk-toggleable__control:checked~label.sk-toggleable__label {background-color: #d4ebff;}#sk-container-id-1 div.sk-label input.sk-toggleable__control:checked~label.sk-toggleable__label {background-color: #d4ebff;}#sk-container-id-1 input.sk-hidden--visually {border: 0;clip: rect(1px 1px 1px 1px);clip: rect(1px, 1px, 1px, 1px);height: 1px;margin: -1px;overflow: hidden;padding: 0;position: absolute;width: 1px;}#sk-container-id-1 div.sk-estimator {font-family: monospace;background-color: #f0f8ff;border: 1px dotted black;border-radius: 0.25em;box-sizing: border-box;margin-bottom: 0.5em;}#sk-container-id-1 div.sk-estimator:hover {background-color: #d4ebff;}#sk-container-id-1 div.sk-parallel-item::after {content: \"\";width: 100%;border-bottom: 1px solid gray;flex-grow: 1;}#sk-container-id-1 div.sk-label:hover label.sk-toggleable__label {background-color: #d4ebff;}#sk-container-id-1 div.sk-serial::before {content: \"\";position: absolute;border-left: 1px solid gray;box-sizing: border-box;top: 0;bottom: 0;left: 50%;z-index: 0;}#sk-container-id-1 div.sk-serial {display: flex;flex-direction: column;align-items: center;background-color: white;padding-right: 0.2em;padding-left: 0.2em;position: relative;}#sk-container-id-1 div.sk-item {position: relative;z-index: 1;}#sk-container-id-1 div.sk-parallel {display: flex;align-items: stretch;justify-content: center;background-color: white;position: relative;}#sk-container-id-1 div.sk-item::before, #sk-container-id-1 div.sk-parallel-item::before {content: \"\";position: absolute;border-left: 1px solid gray;box-sizing: border-box;top: 0;bottom: 0;left: 50%;z-index: -1;}#sk-container-id-1 div.sk-parallel-item {display: flex;flex-direction: column;z-index: 1;position: relative;background-color: white;}#sk-container-id-1 div.sk-parallel-item:first-child::after {align-self: flex-end;width: 50%;}#sk-container-id-1 div.sk-parallel-item:last-child::after {align-self: flex-start;width: 50%;}#sk-container-id-1 div.sk-parallel-item:only-child::after {width: 0;}#sk-container-id-1 div.sk-dashed-wrapped {border: 1px dashed gray;margin: 0 0.4em 0.5em 0.4em;box-sizing: border-box;padding-bottom: 0.4em;background-color: white;}#sk-container-id-1 div.sk-label label {font-family: monospace;font-weight: bold;display: inline-block;line-height: 1.2em;}#sk-container-id-1 div.sk-label-container {text-align: center;}#sk-container-id-1 div.sk-container {/* jupyter's `normalize.less` sets `[hidden] { display: none; }` but bootstrap.min.css set `[hidden] { display: none !important; }` so we also need the `!important` here to be able to override the default hidden behavior on the sphinx rendered scikit-learn.org. See: https://github.com/scikit-learn/scikit-learn/issues/21755 */display: inline-block !important;position: relative;}#sk-container-id-1 div.sk-text-repr-fallback {display: none;}</style><div id=\"sk-container-id-1\" class=\"sk-top-container\"><div class=\"sk-text-repr-fallback\"><pre>XGBRegressor(base_score=0.5, booster=&#x27;gbtree&#x27;, colsample_bylevel=1,\n",
       "             colsample_bynode=1, colsample_bytree=1, enable_categorical=False,\n",
       "             gamma=0, gpu_id=-1, importance_type=None,\n",
       "             interaction_constraints=&#x27;&#x27;, learning_rate=0.015, max_delta_step=0,\n",
       "             max_depth=5, min_child_weight=1, missing=nan,\n",
       "             monotone_constraints=&#x27;()&#x27;, n_estimators=700, n_jobs=8,\n",
       "             num_parallel_tree=1, predictor=&#x27;auto&#x27;, random_state=0, reg_alpha=0,\n",
       "             reg_lambda=1, scale_pos_weight=1, subsample=1, tree_method=&#x27;exact&#x27;,\n",
       "             validate_parameters=1, verbosity=None)</pre><b>In a Jupyter environment, please rerun this cell to show the HTML representation or trust the notebook. <br />On GitHub, the HTML representation is unable to render, please try loading this page with nbviewer.org.</b></div><div class=\"sk-container\" hidden><div class=\"sk-item\"><div class=\"sk-estimator sk-toggleable\"><input class=\"sk-toggleable__control sk-hidden--visually\" id=\"sk-estimator-id-1\" type=\"checkbox\" checked><label for=\"sk-estimator-id-1\" class=\"sk-toggleable__label sk-toggleable__label-arrow\">XGBRegressor</label><div class=\"sk-toggleable__content\"><pre>XGBRegressor(base_score=0.5, booster=&#x27;gbtree&#x27;, colsample_bylevel=1,\n",
       "             colsample_bynode=1, colsample_bytree=1, enable_categorical=False,\n",
       "             gamma=0, gpu_id=-1, importance_type=None,\n",
       "             interaction_constraints=&#x27;&#x27;, learning_rate=0.015, max_delta_step=0,\n",
       "             max_depth=5, min_child_weight=1, missing=nan,\n",
       "             monotone_constraints=&#x27;()&#x27;, n_estimators=700, n_jobs=8,\n",
       "             num_parallel_tree=1, predictor=&#x27;auto&#x27;, random_state=0, reg_alpha=0,\n",
       "             reg_lambda=1, scale_pos_weight=1, subsample=1, tree_method=&#x27;exact&#x27;,\n",
       "             validate_parameters=1, verbosity=None)</pre></div></div></div></div></div>"
      ],
      "text/plain": [
       "XGBRegressor(base_score=0.5, booster='gbtree', colsample_bylevel=1,\n",
       "             colsample_bynode=1, colsample_bytree=1, enable_categorical=False,\n",
       "             gamma=0, gpu_id=-1, importance_type=None,\n",
       "             interaction_constraints='', learning_rate=0.015, max_delta_step=0,\n",
       "             max_depth=5, min_child_weight=1, missing=nan,\n",
       "             monotone_constraints='()', n_estimators=700, n_jobs=8,\n",
       "             num_parallel_tree=1, predictor='auto', random_state=0, reg_alpha=0,\n",
       "             reg_lambda=1, scale_pos_weight=1, subsample=1, tree_method='exact',\n",
       "             validate_parameters=1, verbosity=None)"
      ]
     },
     "execution_count": 32,
     "metadata": {},
     "output_type": "execute_result"
    }
   ],
   "source": [
    "regressor=XGBRegressor(learning_rate = search.best_params_[\"learning_rate\"],\n",
    "                           n_estimators  = search.best_params_[\"n_estimators\"],\n",
    "                           max_depth     = search.best_params_[\"max_depth\"],)\n",
    "\n",
    "regressor.fit(X4_train, y4_train)"
   ]
  },
  {
   "cell_type": "code",
   "execution_count": 33,
   "id": "a6e8df1a-fffd-46cd-b4d4-8c202d9d475a",
   "metadata": {},
   "outputs": [],
   "source": [
    "predictions = regressor.predict(X4_test)"
   ]
  },
  {
   "cell_type": "code",
   "execution_count": 34,
   "id": "0d4f59c7-1305-437a-81b1-f4a21f4cd9fa",
   "metadata": {},
   "outputs": [
    {
     "name": "stdout",
     "output_type": "stream",
     "text": [
      "R^2 = 0.798923944952734\n"
     ]
    }
   ],
   "source": [
    "from sklearn import metrics\n",
    "# Calculated R Squared\n",
    "print('R^2 =',metrics.explained_variance_score(y4_test,predictions))"
   ]
  },
  {
   "cell_type": "code",
   "execution_count": 35,
   "id": "ad938677-deca-46fd-bea3-b0479d2ecff2",
   "metadata": {},
   "outputs": [
    {
     "name": "stdout",
     "output_type": "stream",
     "text": [
      "Mean Absolute Error: 175747.35149456523\n",
      "Mean Squared Error: 79776312381.72511\n",
      "Root Mean Squared Error: 282447.00809483737\n"
     ]
    }
   ],
   "source": [
    "\n",
    "print('Mean Absolute Error:', metrics.mean_absolute_error(y4_test, predictions))\n",
    "print('Mean Squared Error:', metrics.mean_squared_error(y4_test, predictions))\n",
    "print('Root Mean Squared Error:', np.sqrt(metrics.mean_squared_error(y4_test, predictions)))"
   ]
  },
  {
   "cell_type": "code",
   "execution_count": 36,
   "id": "6f8ea506-39a1-4f28-b284-faea82ba91cb",
   "metadata": {},
   "outputs": [
    {
     "name": "stdout",
     "output_type": "stream",
     "text": [
      "83.16\n"
     ]
    }
   ],
   "source": [
    "errors = abs(predictions - y4_test)\n",
    "MSE=round(np.mean(errors),2)\n",
    "MAPE=100*(errors/y4_test)\n",
    "accuracy=round (100 - np.mean(MAPE),2)\n",
    "print(accuracy)"
   ]
  },
  {
   "cell_type": "code",
   "execution_count": 38,
   "id": "b34b56f6-de22-4261-aac3-6b6780c6430a",
   "metadata": {},
   "outputs": [
    {
     "data": {
      "text/html": [
       "<div>\n",
       "<style scoped>\n",
       "    .dataframe tbody tr th:only-of-type {\n",
       "        vertical-align: middle;\n",
       "    }\n",
       "\n",
       "    .dataframe tbody tr th {\n",
       "        vertical-align: top;\n",
       "    }\n",
       "\n",
       "    .dataframe thead th {\n",
       "        text-align: right;\n",
       "    }\n",
       "</style>\n",
       "<table border=\"1\" class=\"dataframe\">\n",
       "  <thead>\n",
       "    <tr style=\"text-align: right;\">\n",
       "      <th></th>\n",
       "      <th>Actual_Price</th>\n",
       "      <th>Predicted_Price</th>\n",
       "      <th>difference</th>\n",
       "    </tr>\n",
       "  </thead>\n",
       "  <tbody>\n",
       "    <tr>\n",
       "      <th>13805</th>\n",
       "      <td>1800000.0</td>\n",
       "      <td>1337102.0</td>\n",
       "      <td>-462898.0</td>\n",
       "    </tr>\n",
       "    <tr>\n",
       "      <th>6821</th>\n",
       "      <td>1335000.0</td>\n",
       "      <td>1234586.0</td>\n",
       "      <td>-100414.0</td>\n",
       "    </tr>\n",
       "    <tr>\n",
       "      <th>6590</th>\n",
       "      <td>662000.0</td>\n",
       "      <td>625350.0</td>\n",
       "      <td>-36650.0</td>\n",
       "    </tr>\n",
       "    <tr>\n",
       "      <th>24336</th>\n",
       "      <td>769000.0</td>\n",
       "      <td>660864.0</td>\n",
       "      <td>-108136.0</td>\n",
       "    </tr>\n",
       "    <tr>\n",
       "      <th>22019</th>\n",
       "      <td>720000.0</td>\n",
       "      <td>703638.0</td>\n",
       "      <td>-16362.0</td>\n",
       "    </tr>\n",
       "    <tr>\n",
       "      <th>20671</th>\n",
       "      <td>2536000.0</td>\n",
       "      <td>2321266.0</td>\n",
       "      <td>-214734.0</td>\n",
       "    </tr>\n",
       "    <tr>\n",
       "      <th>14715</th>\n",
       "      <td>910000.0</td>\n",
       "      <td>887401.0</td>\n",
       "      <td>-22599.0</td>\n",
       "    </tr>\n",
       "    <tr>\n",
       "      <th>17980</th>\n",
       "      <td>945000.0</td>\n",
       "      <td>971199.0</td>\n",
       "      <td>26199.0</td>\n",
       "    </tr>\n",
       "    <tr>\n",
       "      <th>10676</th>\n",
       "      <td>672000.0</td>\n",
       "      <td>676229.0</td>\n",
       "      <td>4229.0</td>\n",
       "    </tr>\n",
       "    <tr>\n",
       "      <th>9673</th>\n",
       "      <td>360000.0</td>\n",
       "      <td>440673.0</td>\n",
       "      <td>80673.0</td>\n",
       "    </tr>\n",
       "  </tbody>\n",
       "</table>\n",
       "</div>"
      ],
      "text/plain": [
       "       Actual_Price  Predicted_Price  difference\n",
       "13805     1800000.0        1337102.0   -462898.0\n",
       "6821      1335000.0        1234586.0   -100414.0\n",
       "6590       662000.0         625350.0    -36650.0\n",
       "24336      769000.0         660864.0   -108136.0\n",
       "22019      720000.0         703638.0    -16362.0\n",
       "20671     2536000.0        2321266.0   -214734.0\n",
       "14715      910000.0         887401.0    -22599.0\n",
       "17980      945000.0         971199.0     26199.0\n",
       "10676      672000.0         676229.0      4229.0\n",
       "9673       360000.0         440673.0     80673.0"
      ]
     },
     "execution_count": 38,
     "metadata": {},
     "output_type": "execute_result"
    }
   ],
   "source": [
    "df4= pd.DataFrame({'Actual_Price': np.round(y4_test), \n",
    "                   'Predicted_Price': np.round(predictions),\n",
    "                 })\n",
    "df4['difference']=df4.apply(lambda x: x.Predicted_Price-x.Actual_Price,axis=1)\n",
    "df4.head(10)"
   ]
  },
  {
   "cell_type": "code",
   "execution_count": 44,
   "id": "14e8a6c2-6ba2-46c5-a28e-802873cdb14e",
   "metadata": {},
   "outputs": [],
   "source": [
    "# Creating a User Defined Function within Snowflake to do the scoring there\n",
    "def predict_pandas_udf_XGB(df4: pd.DataFrame) -> pd.Series:\n",
    "    from xgboost import XGBRegressor\n",
    "    import xgboost as xgb\n",
    "    return pd.Series(regressor.predict(df4))  \n"
   ]
  },
  {
   "cell_type": "code",
   "execution_count": 45,
   "id": "52e76616-9fc1-4d33-a6f7-255b3756e548",
   "metadata": {},
   "outputs": [
    {
     "name": "stdout",
     "output_type": "stream",
     "text": [
      "----------------------------------------------------------------------------------------------------------------------------------------------------------------------------------------------------\n",
      "|\"SUBURB\"  |\"ROOMS\"  |\"TYPE\"  |\"METHOD\"  |\"SELLERG\"  |\"REGIONNAME\"  |\"PROPERTYCOUNT\"  |\"DISTANCE\"  |\"COUNCILAREA\"  |\"BEDROOM2\"  |\"BATHROOM\"  |\"CAR\"  |\"LANDSIZE\"  |\"BUILDINGAREA\"      |\"PRICE\"    |\n",
      "----------------------------------------------------------------------------------------------------------------------------------------------------------------------------------------------------\n",
      "|292       |3        |0       |1         |95         |5             |5457.0           |11.2        |2              |3.0         |1.0         |2.0    |490.0       |158.00110757388654  |1205000.0  |\n",
      "|292       |2        |2       |1         |95         |5             |5457.0           |11.2        |2              |2.0         |1.0         |2.0    |108.0       |158.00110757388654  |813000.0   |\n",
      "|329       |3        |0       |1         |110        |6             |6380.0           |8.0         |10             |3.0         |1.0         |1.0    |507.0       |186.0               |1535000.0  |\n",
      "|228       |3        |0       |1         |296        |6             |5498.0           |8.4         |10             |2.0         |1.0         |2.0    |281.0       |100.0               |826000.0   |\n",
      "|228       |3        |0       |3         |275        |6             |5498.0           |8.4         |10             |3.0         |2.0         |2.0    |301.0       |195.0               |1025000.0  |\n",
      "|219       |1        |2       |1         |244        |5             |2555.0           |14.6        |12             |1.0         |1.0         |1.0    |106.0       |51.0                |380500.0   |\n",
      "|219       |3        |0       |1         |206        |5             |2555.0           |14.6        |12             |3.0         |2.0         |2.0    |573.0       |150.0               |1000000.0  |\n",
      "|219       |3        |0       |1         |46         |5             |2555.0           |14.6        |12             |3.0         |1.0         |3.0    |771.0       |158.00110757388654  |1020000.0  |\n",
      "|219       |3        |0       |1         |46         |5             |2555.0           |14.6        |12             |3.0         |1.0         |3.0    |834.0       |143.0               |1224000.0  |\n",
      "|218       |3        |2       |1         |197        |6             |6232.0           |6.9         |22             |3.0         |2.0         |2.0    |0.0         |120.0               |670000.0   |\n",
      "----------------------------------------------------------------------------------------------------------------------------------------------------------------------------------------------------\n",
      "\n",
      "----------------------------------------------------------------------------------------------------------------------------------------------------------------------------------------------------\n",
      "|\"SUBURB\"  |\"ROOMS\"  |\"TYPE\"  |\"METHOD\"  |\"SELLERG\"  |\"REGIONNAME\"  |\"PROPERTYCOUNT\"  |\"DISTANCE\"  |\"COUNCILAREA\"  |\"BEDROOM2\"  |\"BATHROOM\"  |\"CAR\"  |\"LANDSIZE\"  |\"BUILDINGAREA\"      |\"PRICE\"    |\n",
      "----------------------------------------------------------------------------------------------------------------------------------------------------------------------------------------------------\n",
      "|292       |3        |0       |1         |95         |5             |5457.0           |11.2        |2              |3.0         |1.0         |2.0    |490.0       |158.00110757388654  |1205000.0  |\n",
      "|292       |2        |2       |1         |95         |5             |5457.0           |11.2        |2              |2.0         |1.0         |2.0    |108.0       |158.00110757388654  |813000.0   |\n",
      "|329       |3        |0       |1         |110        |6             |6380.0           |8.0         |10             |3.0         |1.0         |1.0    |507.0       |186.0               |1535000.0  |\n",
      "|228       |3        |0       |1         |296        |6             |5498.0           |8.4         |10             |2.0         |1.0         |2.0    |281.0       |100.0               |826000.0   |\n",
      "|228       |3        |0       |3         |275        |6             |5498.0           |8.4         |10             |3.0         |2.0         |2.0    |301.0       |195.0               |1025000.0  |\n",
      "----------------------------------------------------------------------------------------------------------------------------------------------------------------------------------------------------\n",
      "\n"
     ]
    }
   ],
   "source": [
    "housepricingdf.columns = map(lambda x: str(x).upper(), housepricingdf.columns)\n",
    "snowdf_details = session.createDataFrame(housepricingdf)\n",
    "snowdf_details.show()\n",
    "snowdf_details.write.mode(\"overwrite\").saveAsTable(\"HOUSING.PUBLIC.FULL_HOUSINGPRICE_encoded_XGB\") \n",
    "\n",
    "session.table(\"HOUSING.PUBLIC.FULL_HOUSINGPRICE_encoded_XGB\").show(5)"
   ]
  },
  {
   "cell_type": "code",
   "execution_count": 47,
   "id": "8b76de78-4bdb-416f-b019-ab415c4d5607",
   "metadata": {},
   "outputs": [],
   "source": [
    "XGB_model_vec = pandas_udf(func=predict_pandas_udf_XGB,\n",
    "                                return_type=FloatType(),\n",
    "                                input_types=[IntegerType(),IntegerType(),IntegerType(),IntegerType(),IntegerType(),IntegerType(),FloatType(),FloatType(),FloatType(),IntegerType(),FloatType(),FloatType(),FloatType(),FloatType()],\n",
    "                                session=session,\n",
    "                                packages = (\"pandas\",\"scikit-learn\",\"xgboost\"), max_batch_size=200)"
   ]
  },
  {
   "cell_type": "code",
   "execution_count": 49,
   "id": "33aeac48-9eb4-475d-8b52-43e0da045709",
   "metadata": {},
   "outputs": [
    {
     "name": "stderr",
     "output_type": "stream",
     "text": [
      "Passing arguments to a UDF with a list or tuple is deprecated. We still respect this invocation but please consider passing variable-length arguments without a list or tuple.\n"
     ]
    },
    {
     "name": "stdout",
     "output_type": "stream",
     "text": [
      "-----------------------------------------------------------------------------------------------------------------------------------------------------------------------------------------------------------------------------\n",
      "|\"SUBURB\"  |\"ROOMS\"  |\"TYPE\"  |\"METHOD\"  |\"SELLERG\"  |\"REGIONNAME\"  |\"PROPERTYCOUNT\"  |\"DISTANCE\"  |\"COUNCILAREA\"  |\"BEDROOM2\"  |\"BATHROOM\"  |\"CAR\"  |\"LANDSIZE\"  |\"BUILDINGAREA\"      |\"PREDICTED_PRICE\"  |\"ACTUAL_PRICE\"  |\n",
      "-----------------------------------------------------------------------------------------------------------------------------------------------------------------------------------------------------------------------------\n",
      "|292       |3        |0       |1         |95         |5             |5457.0           |11.2        |2              |3.0         |1.0         |2.0    |490.0       |158.00110757388654  |1557488.625        |1205000.0       |\n",
      "|292       |2        |2       |1         |95         |5             |5457.0           |11.2        |2              |2.0         |1.0         |2.0    |108.0       |158.00110757388654  |643362.75          |813000.0        |\n",
      "|329       |3        |0       |1         |110        |6             |6380.0           |8.0         |10             |3.0         |1.0         |1.0    |507.0       |186.0               |1396339.5          |1535000.0       |\n",
      "|228       |3        |0       |1         |296        |6             |5498.0           |8.4         |10             |2.0         |1.0         |2.0    |281.0       |100.0               |861800.5           |826000.0        |\n",
      "|228       |3        |0       |3         |275        |6             |5498.0           |8.4         |10             |3.0         |2.0         |2.0    |301.0       |195.0               |1051680.375        |1025000.0       |\n",
      "-----------------------------------------------------------------------------------------------------------------------------------------------------------------------------------------------------------------------------\n",
      "\n"
     ]
    }
   ],
   "source": [
    "\n",
    "# Calling the UDF to do the scoring (pushing down to Snowflake)\n",
    "output_XGB = session.table('HOUSING.PUBLIC.FULL_HOUSINGPRICE_encoded_XGB').select(*list(X4.columns),\n",
    "                    XGB_model_vec(list(X4.columns)).alias('PREDICTED_PRICE'),\n",
    "                    (F.col('Price')).alias('ACTUAL_PRICE')                                              \n",
    "                    )\n",
    "\n",
    "output_XGB.show(5)\n"
   ]
  },
  {
   "cell_type": "code",
   "execution_count": 50,
   "id": "519a844d-0298-4914-8978-1d131de31721",
   "metadata": {},
   "outputs": [],
   "source": [
    "output_XGB=output_XGB.to_pandas()"
   ]
  },
  {
   "cell_type": "code",
   "execution_count": 51,
   "id": "02a9e302-b31f-4e92-a818-c69aea8ce0c8",
   "metadata": {},
   "outputs": [
    {
     "data": {
      "text/html": [
       "<div>\n",
       "<style scoped>\n",
       "    .dataframe tbody tr th:only-of-type {\n",
       "        vertical-align: middle;\n",
       "    }\n",
       "\n",
       "    .dataframe tbody tr th {\n",
       "        vertical-align: top;\n",
       "    }\n",
       "\n",
       "    .dataframe thead th {\n",
       "        text-align: right;\n",
       "    }\n",
       "</style>\n",
       "<table border=\"1\" class=\"dataframe\">\n",
       "  <thead>\n",
       "    <tr style=\"text-align: right;\">\n",
       "      <th></th>\n",
       "      <th>SUBURB</th>\n",
       "      <th>ROOMS</th>\n",
       "      <th>TYPE</th>\n",
       "      <th>METHOD</th>\n",
       "      <th>SELLERG</th>\n",
       "      <th>REGIONNAME</th>\n",
       "      <th>PROPERTYCOUNT</th>\n",
       "      <th>DISTANCE</th>\n",
       "      <th>COUNCILAREA</th>\n",
       "      <th>BEDROOM2</th>\n",
       "      <th>BATHROOM</th>\n",
       "      <th>CAR</th>\n",
       "      <th>LANDSIZE</th>\n",
       "      <th>BUILDINGAREA</th>\n",
       "      <th>PREDICTED_PRICE</th>\n",
       "      <th>ACTUAL_PRICE</th>\n",
       "    </tr>\n",
       "  </thead>\n",
       "  <tbody>\n",
       "    <tr>\n",
       "      <th>0</th>\n",
       "      <td>292</td>\n",
       "      <td>2</td>\n",
       "      <td>2</td>\n",
       "      <td>1</td>\n",
       "      <td>95</td>\n",
       "      <td>5</td>\n",
       "      <td>5457.0</td>\n",
       "      <td>11.2</td>\n",
       "      <td>2</td>\n",
       "      <td>2.0</td>\n",
       "      <td>1.0</td>\n",
       "      <td>2.0</td>\n",
       "      <td>108.000000</td>\n",
       "      <td>158.001108</td>\n",
       "      <td>6.433628e+05</td>\n",
       "      <td>813000.0</td>\n",
       "    </tr>\n",
       "    <tr>\n",
       "      <th>1</th>\n",
       "      <td>218</td>\n",
       "      <td>3</td>\n",
       "      <td>2</td>\n",
       "      <td>1</td>\n",
       "      <td>197</td>\n",
       "      <td>6</td>\n",
       "      <td>6232.0</td>\n",
       "      <td>6.9</td>\n",
       "      <td>22</td>\n",
       "      <td>3.0</td>\n",
       "      <td>2.0</td>\n",
       "      <td>2.0</td>\n",
       "      <td>0.000000</td>\n",
       "      <td>120.000000</td>\n",
       "      <td>7.672324e+05</td>\n",
       "      <td>670000.0</td>\n",
       "    </tr>\n",
       "    <tr>\n",
       "      <th>2</th>\n",
       "      <td>40</td>\n",
       "      <td>3</td>\n",
       "      <td>0</td>\n",
       "      <td>1</td>\n",
       "      <td>22</td>\n",
       "      <td>6</td>\n",
       "      <td>3589.0</td>\n",
       "      <td>10.8</td>\n",
       "      <td>16</td>\n",
       "      <td>3.0</td>\n",
       "      <td>2.0</td>\n",
       "      <td>4.0</td>\n",
       "      <td>700.000000</td>\n",
       "      <td>158.001108</td>\n",
       "      <td>9.455593e+05</td>\n",
       "      <td>870000.0</td>\n",
       "    </tr>\n",
       "    <tr>\n",
       "      <th>3</th>\n",
       "      <td>30</td>\n",
       "      <td>2</td>\n",
       "      <td>0</td>\n",
       "      <td>1</td>\n",
       "      <td>317</td>\n",
       "      <td>5</td>\n",
       "      <td>10969.0</td>\n",
       "      <td>13.9</td>\n",
       "      <td>8</td>\n",
       "      <td>2.0</td>\n",
       "      <td>1.0</td>\n",
       "      <td>2.0</td>\n",
       "      <td>768.000000</td>\n",
       "      <td>158.001108</td>\n",
       "      <td>1.208220e+06</td>\n",
       "      <td>1410000.0</td>\n",
       "    </tr>\n",
       "    <tr>\n",
       "      <th>4</th>\n",
       "      <td>239</td>\n",
       "      <td>4</td>\n",
       "      <td>0</td>\n",
       "      <td>1</td>\n",
       "      <td>312</td>\n",
       "      <td>4</td>\n",
       "      <td>3692.0</td>\n",
       "      <td>14.7</td>\n",
       "      <td>12</td>\n",
       "      <td>0.0</td>\n",
       "      <td>0.0</td>\n",
       "      <td>0.0</td>\n",
       "      <td>584.022263</td>\n",
       "      <td>158.001108</td>\n",
       "      <td>1.194439e+06</td>\n",
       "      <td>991000.0</td>\n",
       "    </tr>\n",
       "  </tbody>\n",
       "</table>\n",
       "</div>"
      ],
      "text/plain": [
       "   SUBURB  ROOMS  TYPE  METHOD  SELLERG  REGIONNAME  PROPERTYCOUNT  DISTANCE  \\\n",
       "0     292      2     2       1       95           5         5457.0      11.2   \n",
       "1     218      3     2       1      197           6         6232.0       6.9   \n",
       "2      40      3     0       1       22           6         3589.0      10.8   \n",
       "3      30      2     0       1      317           5        10969.0      13.9   \n",
       "4     239      4     0       1      312           4         3692.0      14.7   \n",
       "\n",
       "   COUNCILAREA  BEDROOM2  BATHROOM  CAR    LANDSIZE  BUILDINGAREA  \\\n",
       "0            2       2.0       1.0  2.0  108.000000    158.001108   \n",
       "1           22       3.0       2.0  2.0    0.000000    120.000000   \n",
       "2           16       3.0       2.0  4.0  700.000000    158.001108   \n",
       "3            8       2.0       1.0  2.0  768.000000    158.001108   \n",
       "4           12       0.0       0.0  0.0  584.022263    158.001108   \n",
       "\n",
       "   PREDICTED_PRICE  ACTUAL_PRICE  \n",
       "0     6.433628e+05      813000.0  \n",
       "1     7.672324e+05      670000.0  \n",
       "2     9.455593e+05      870000.0  \n",
       "3     1.208220e+06     1410000.0  \n",
       "4     1.194439e+06      991000.0  "
      ]
     },
     "execution_count": 51,
     "metadata": {},
     "output_type": "execute_result"
    }
   ],
   "source": [
    "output_XGB.head()"
   ]
  },
  {
   "cell_type": "code",
   "execution_count": 52,
   "id": "8fa4cd24-b26d-434f-98aa-d6eaf3ece2af",
   "metadata": {},
   "outputs": [],
   "source": [
    "output_XGB.SUBURB=le1.inverse_transform(output_XGB.SUBURB)\n",
    "output_XGB.TYPE = le2.inverse_transform(output_XGB.TYPE)\n",
    "output_XGB.METHOD = le3.inverse_transform(output_XGB.METHOD)\n",
    "output_XGB.SELLERG=le4.inverse_transform(output_XGB.SELLERG)\n",
    "output_XGB.REGIONNAME=le5.inverse_transform(output_XGB.REGIONNAME)\n",
    "output_XGB.COUNCILAREA = le6.inverse_transform(output_XGB.COUNCILAREA)\n"
   ]
  },
  {
   "cell_type": "code",
   "execution_count": 53,
   "id": "8e3c18ad-ec06-42aa-b770-a5ce4a6fec57",
   "metadata": {},
   "outputs": [
    {
     "data": {
      "text/html": [
       "<div>\n",
       "<style scoped>\n",
       "    .dataframe tbody tr th:only-of-type {\n",
       "        vertical-align: middle;\n",
       "    }\n",
       "\n",
       "    .dataframe tbody tr th {\n",
       "        vertical-align: top;\n",
       "    }\n",
       "\n",
       "    .dataframe thead th {\n",
       "        text-align: right;\n",
       "    }\n",
       "</style>\n",
       "<table border=\"1\" class=\"dataframe\">\n",
       "  <thead>\n",
       "    <tr style=\"text-align: right;\">\n",
       "      <th></th>\n",
       "      <th>SUBURB</th>\n",
       "      <th>ROOMS</th>\n",
       "      <th>TYPE</th>\n",
       "      <th>METHOD</th>\n",
       "      <th>SELLERG</th>\n",
       "      <th>REGIONNAME</th>\n",
       "      <th>PROPERTYCOUNT</th>\n",
       "      <th>DISTANCE</th>\n",
       "      <th>COUNCILAREA</th>\n",
       "      <th>BEDROOM2</th>\n",
       "      <th>BATHROOM</th>\n",
       "      <th>CAR</th>\n",
       "      <th>LANDSIZE</th>\n",
       "      <th>BUILDINGAREA</th>\n",
       "      <th>PREDICTED_PRICE</th>\n",
       "      <th>ACTUAL_PRICE</th>\n",
       "    </tr>\n",
       "  </thead>\n",
       "  <tbody>\n",
       "    <tr>\n",
       "      <th>0</th>\n",
       "      <td>Surrey Hills</td>\n",
       "      <td>2</td>\n",
       "      <td>u</td>\n",
       "      <td>S</td>\n",
       "      <td>Fletchers</td>\n",
       "      <td>Southern Metropolitan</td>\n",
       "      <td>5457.0</td>\n",
       "      <td>11.2</td>\n",
       "      <td>Boroondara City Council</td>\n",
       "      <td>2.0</td>\n",
       "      <td>1.0</td>\n",
       "      <td>2.0</td>\n",
       "      <td>108.000000</td>\n",
       "      <td>158.001108</td>\n",
       "      <td>6.433628e+05</td>\n",
       "      <td>813000.0</td>\n",
       "    </tr>\n",
       "    <tr>\n",
       "      <th>1</th>\n",
       "      <td>Moonee Ponds</td>\n",
       "      <td>3</td>\n",
       "      <td>u</td>\n",
       "      <td>S</td>\n",
       "      <td>Nelson</td>\n",
       "      <td>Western Metropolitan</td>\n",
       "      <td>6232.0</td>\n",
       "      <td>6.9</td>\n",
       "      <td>Moonee Valley City Council</td>\n",
       "      <td>3.0</td>\n",
       "      <td>2.0</td>\n",
       "      <td>2.0</td>\n",
       "      <td>0.000000</td>\n",
       "      <td>120.000000</td>\n",
       "      <td>7.672324e+05</td>\n",
       "      <td>670000.0</td>\n",
       "    </tr>\n",
       "    <tr>\n",
       "      <th>2</th>\n",
       "      <td>Braybrook</td>\n",
       "      <td>3</td>\n",
       "      <td>h</td>\n",
       "      <td>S</td>\n",
       "      <td>Barry</td>\n",
       "      <td>Western Metropolitan</td>\n",
       "      <td>3589.0</td>\n",
       "      <td>10.8</td>\n",
       "      <td>Maribyrnong City Council</td>\n",
       "      <td>3.0</td>\n",
       "      <td>2.0</td>\n",
       "      <td>4.0</td>\n",
       "      <td>700.000000</td>\n",
       "      <td>158.001108</td>\n",
       "      <td>9.455593e+05</td>\n",
       "      <td>870000.0</td>\n",
       "    </tr>\n",
       "    <tr>\n",
       "      <th>3</th>\n",
       "      <td>Bentleigh East</td>\n",
       "      <td>2</td>\n",
       "      <td>h</td>\n",
       "      <td>S</td>\n",
       "      <td>hockingstuart</td>\n",
       "      <td>Southern Metropolitan</td>\n",
       "      <td>10969.0</td>\n",
       "      <td>13.9</td>\n",
       "      <td>Glen Eira City Council</td>\n",
       "      <td>2.0</td>\n",
       "      <td>1.0</td>\n",
       "      <td>2.0</td>\n",
       "      <td>768.000000</td>\n",
       "      <td>158.001108</td>\n",
       "      <td>1.208220e+06</td>\n",
       "      <td>1410000.0</td>\n",
       "    </tr>\n",
       "    <tr>\n",
       "      <th>4</th>\n",
       "      <td>Oakleigh South</td>\n",
       "      <td>4</td>\n",
       "      <td>h</td>\n",
       "      <td>S</td>\n",
       "      <td>Woodards</td>\n",
       "      <td>South-Eastern Metropolitan</td>\n",
       "      <td>3692.0</td>\n",
       "      <td>14.7</td>\n",
       "      <td>Kingston City Council</td>\n",
       "      <td>0.0</td>\n",
       "      <td>0.0</td>\n",
       "      <td>0.0</td>\n",
       "      <td>584.022263</td>\n",
       "      <td>158.001108</td>\n",
       "      <td>1.194439e+06</td>\n",
       "      <td>991000.0</td>\n",
       "    </tr>\n",
       "  </tbody>\n",
       "</table>\n",
       "</div>"
      ],
      "text/plain": [
       "           SUBURB  ROOMS TYPE METHOD        SELLERG  \\\n",
       "0    Surrey Hills      2    u      S      Fletchers   \n",
       "1    Moonee Ponds      3    u      S         Nelson   \n",
       "2       Braybrook      3    h      S          Barry   \n",
       "3  Bentleigh East      2    h      S  hockingstuart   \n",
       "4  Oakleigh South      4    h      S       Woodards   \n",
       "\n",
       "                   REGIONNAME  PROPERTYCOUNT  DISTANCE  \\\n",
       "0       Southern Metropolitan         5457.0      11.2   \n",
       "1        Western Metropolitan         6232.0       6.9   \n",
       "2        Western Metropolitan         3589.0      10.8   \n",
       "3       Southern Metropolitan        10969.0      13.9   \n",
       "4  South-Eastern Metropolitan         3692.0      14.7   \n",
       "\n",
       "                  COUNCILAREA  BEDROOM2  BATHROOM  CAR    LANDSIZE  \\\n",
       "0     Boroondara City Council       2.0       1.0  2.0  108.000000   \n",
       "1  Moonee Valley City Council       3.0       2.0  2.0    0.000000   \n",
       "2    Maribyrnong City Council       3.0       2.0  4.0  700.000000   \n",
       "3      Glen Eira City Council       2.0       1.0  2.0  768.000000   \n",
       "4       Kingston City Council       0.0       0.0  0.0  584.022263   \n",
       "\n",
       "   BUILDINGAREA  PREDICTED_PRICE  ACTUAL_PRICE  \n",
       "0    158.001108     6.433628e+05      813000.0  \n",
       "1    120.000000     7.672324e+05      670000.0  \n",
       "2    158.001108     9.455593e+05      870000.0  \n",
       "3    158.001108     1.208220e+06     1410000.0  \n",
       "4    158.001108     1.194439e+06      991000.0  "
      ]
     },
     "execution_count": 53,
     "metadata": {},
     "output_type": "execute_result"
    }
   ],
   "source": [
    "output_XGB.head()"
   ]
  },
  {
   "cell_type": "code",
   "execution_count": 54,
   "id": "8bf7a62d-869d-49cc-aec2-03603fbe4bb6",
   "metadata": {},
   "outputs": [
    {
     "name": "stdout",
     "output_type": "stream",
     "text": [
      "-------------------------------------------------------------------------------------------------------------------------------------------------------------------------------------------------------------------------------------------------------------------------\n",
      "|\"SUBURB\"        |\"ROOMS\"  |\"TYPE\"  |\"METHOD\"  |\"SELLERG\"      |\"REGIONNAME\"                |\"PROPERTYCOUNT\"  |\"DISTANCE\"  |\"COUNCILAREA\"               |\"BEDROOM2\"  |\"BATHROOM\"  |\"CAR\"  |\"LANDSIZE\"         |\"BUILDINGAREA\"      |\"PREDICTED_PRICE\"  |\"ACTUAL_PRICE\"  |\n",
      "-------------------------------------------------------------------------------------------------------------------------------------------------------------------------------------------------------------------------------------------------------------------------\n",
      "|Surrey Hills    |2        |u       |S         |Fletchers      |Southern Metropolitan       |5457.0           |11.2        |Boroondara City Council     |2.0         |1.0         |2.0    |108.0              |158.00110757388654  |643362.75          |813000.0        |\n",
      "|Moonee Ponds    |3        |u       |S         |Nelson         |Western Metropolitan        |6232.0           |6.9         |Moonee Valley City Council  |3.0         |2.0         |2.0    |0.0                |120.0               |767232.375         |670000.0        |\n",
      "|Braybrook       |3        |h       |S         |Barry          |Western Metropolitan        |3589.0           |10.8        |Maribyrnong City Council    |3.0         |2.0         |4.0    |700.0              |158.00110757388654  |945559.3125        |870000.0        |\n",
      "|Bentleigh East  |2        |h       |S         |hockingstuart  |Southern Metropolitan       |10969.0          |13.9        |Glen Eira City Council      |2.0         |1.0         |2.0    |768.0              |158.00110757388654  |1208220.375        |1410000.0       |\n",
      "|Oakleigh South  |4        |h       |S         |Woodards       |South-Eastern Metropolitan  |3692.0           |14.7        |Kingston City Council       |0.0         |0.0         |0.0    |584.0222631736228  |158.00110757388654  |1194439.375        |991000.0        |\n",
      "|Northcote       |2        |h       |S         |McGrath        |Northern Metropolitan       |11364.0          |5.5         |Darebin City Council        |2.0         |1.0         |1.0    |245.0              |108.0               |1065210.875        |1286000.0       |\n",
      "|Niddrie         |4        |t       |S         |Barry          |Western Metropolitan        |2291.0           |11.2        |Moonee Valley City Council  |0.0         |0.0         |0.0    |584.0222631736228  |158.00110757388654  |1000362.0625       |1065000.0       |\n",
      "|Kensington      |3        |h       |S         |Nelson         |Northern Metropolitan       |5263.0           |4.2         |Melbourne City Council      |2.0         |1.0         |1.0    |258.0              |64.0                |1118116.25         |785000.0        |\n",
      "|Brighton East   |4        |h       |S         |Nick           |Southern Metropolitan       |6938.0           |10.7        |Bayside City Council        |4.0         |2.0         |2.0    |617.0              |268.0               |2172148.0          |1850000.0       |\n",
      "|Kew             |2        |h       |S         |Jellis         |Southern Metropolitan       |10331.0          |5.6         |Boroondara City Council     |2.0         |2.0         |1.0    |697.0              |158.00110757388654  |1738371.625        |4800000.0       |\n",
      "-------------------------------------------------------------------------------------------------------------------------------------------------------------------------------------------------------------------------------------------------------------------------\n",
      "\n"
     ]
    }
   ],
   "source": [
    "snowdf_details_XGB = session.createDataFrame(output_XGB)\n",
    "snowdf_details_XGB.show()\n",
    "snowdf_details_XGB.write.mode(\"overwrite\").saveAsTable(\"HOUSING.PUBLIC.FULL_HOUSINGPRICE_PREDICTED_XGB\") \n",
    "\n",
    "\n"
   ]
  },
  {
   "cell_type": "code",
   "execution_count": 55,
   "id": "8395ddf3-5e6d-48da-970f-c60576646f1b",
   "metadata": {},
   "outputs": [
    {
     "data": {
      "text/html": [
       "<div>\n",
       "<style scoped>\n",
       "    .dataframe tbody tr th:only-of-type {\n",
       "        vertical-align: middle;\n",
       "    }\n",
       "\n",
       "    .dataframe tbody tr th {\n",
       "        vertical-align: top;\n",
       "    }\n",
       "\n",
       "    .dataframe thead th {\n",
       "        text-align: right;\n",
       "    }\n",
       "</style>\n",
       "<table border=\"1\" class=\"dataframe\">\n",
       "  <thead>\n",
       "    <tr style=\"text-align: right;\">\n",
       "      <th></th>\n",
       "      <th>SUBURB</th>\n",
       "      <th>ROOMS</th>\n",
       "      <th>TYPE</th>\n",
       "      <th>METHOD</th>\n",
       "      <th>SELLERG</th>\n",
       "      <th>REGIONNAME</th>\n",
       "      <th>PROPERTYCOUNT</th>\n",
       "      <th>DISTANCE</th>\n",
       "      <th>COUNCILAREA</th>\n",
       "      <th>BEDROOM2</th>\n",
       "      <th>BATHROOM</th>\n",
       "      <th>CAR</th>\n",
       "      <th>LANDSIZE</th>\n",
       "      <th>BUILDINGAREA</th>\n",
       "      <th>PREDICTED_PRICE</th>\n",
       "      <th>ACTUAL_PRICE</th>\n",
       "    </tr>\n",
       "  </thead>\n",
       "  <tbody>\n",
       "    <tr>\n",
       "      <th>0</th>\n",
       "      <td>Surrey Hills</td>\n",
       "      <td>2</td>\n",
       "      <td>u</td>\n",
       "      <td>S</td>\n",
       "      <td>Fletchers</td>\n",
       "      <td>Southern Metropolitan</td>\n",
       "      <td>5457.0</td>\n",
       "      <td>11.2</td>\n",
       "      <td>Boroondara City Council</td>\n",
       "      <td>2.0</td>\n",
       "      <td>1.0</td>\n",
       "      <td>2.0</td>\n",
       "      <td>108.000000</td>\n",
       "      <td>158.001108</td>\n",
       "      <td>6.433628e+05</td>\n",
       "      <td>813000.0</td>\n",
       "    </tr>\n",
       "    <tr>\n",
       "      <th>1</th>\n",
       "      <td>Moonee Ponds</td>\n",
       "      <td>3</td>\n",
       "      <td>u</td>\n",
       "      <td>S</td>\n",
       "      <td>Nelson</td>\n",
       "      <td>Western Metropolitan</td>\n",
       "      <td>6232.0</td>\n",
       "      <td>6.9</td>\n",
       "      <td>Moonee Valley City Council</td>\n",
       "      <td>3.0</td>\n",
       "      <td>2.0</td>\n",
       "      <td>2.0</td>\n",
       "      <td>0.000000</td>\n",
       "      <td>120.000000</td>\n",
       "      <td>7.672324e+05</td>\n",
       "      <td>670000.0</td>\n",
       "    </tr>\n",
       "    <tr>\n",
       "      <th>2</th>\n",
       "      <td>Braybrook</td>\n",
       "      <td>3</td>\n",
       "      <td>h</td>\n",
       "      <td>S</td>\n",
       "      <td>Barry</td>\n",
       "      <td>Western Metropolitan</td>\n",
       "      <td>3589.0</td>\n",
       "      <td>10.8</td>\n",
       "      <td>Maribyrnong City Council</td>\n",
       "      <td>3.0</td>\n",
       "      <td>2.0</td>\n",
       "      <td>4.0</td>\n",
       "      <td>700.000000</td>\n",
       "      <td>158.001108</td>\n",
       "      <td>9.455593e+05</td>\n",
       "      <td>870000.0</td>\n",
       "    </tr>\n",
       "    <tr>\n",
       "      <th>3</th>\n",
       "      <td>Bentleigh East</td>\n",
       "      <td>2</td>\n",
       "      <td>h</td>\n",
       "      <td>S</td>\n",
       "      <td>hockingstuart</td>\n",
       "      <td>Southern Metropolitan</td>\n",
       "      <td>10969.0</td>\n",
       "      <td>13.9</td>\n",
       "      <td>Glen Eira City Council</td>\n",
       "      <td>2.0</td>\n",
       "      <td>1.0</td>\n",
       "      <td>2.0</td>\n",
       "      <td>768.000000</td>\n",
       "      <td>158.001108</td>\n",
       "      <td>1.208220e+06</td>\n",
       "      <td>1410000.0</td>\n",
       "    </tr>\n",
       "    <tr>\n",
       "      <th>4</th>\n",
       "      <td>Oakleigh South</td>\n",
       "      <td>4</td>\n",
       "      <td>h</td>\n",
       "      <td>S</td>\n",
       "      <td>Woodards</td>\n",
       "      <td>South-Eastern Metropolitan</td>\n",
       "      <td>3692.0</td>\n",
       "      <td>14.7</td>\n",
       "      <td>Kingston City Council</td>\n",
       "      <td>0.0</td>\n",
       "      <td>0.0</td>\n",
       "      <td>0.0</td>\n",
       "      <td>584.022263</td>\n",
       "      <td>158.001108</td>\n",
       "      <td>1.194439e+06</td>\n",
       "      <td>991000.0</td>\n",
       "    </tr>\n",
       "    <tr>\n",
       "      <th>...</th>\n",
       "      <td>...</td>\n",
       "      <td>...</td>\n",
       "      <td>...</td>\n",
       "      <td>...</td>\n",
       "      <td>...</td>\n",
       "      <td>...</td>\n",
       "      <td>...</td>\n",
       "      <td>...</td>\n",
       "      <td>...</td>\n",
       "      <td>...</td>\n",
       "      <td>...</td>\n",
       "      <td>...</td>\n",
       "      <td>...</td>\n",
       "      <td>...</td>\n",
       "      <td>...</td>\n",
       "      <td>...</td>\n",
       "    </tr>\n",
       "    <tr>\n",
       "      <th>23566</th>\n",
       "      <td>Maidstone</td>\n",
       "      <td>2</td>\n",
       "      <td>t</td>\n",
       "      <td>S</td>\n",
       "      <td>Biggin</td>\n",
       "      <td>Western Metropolitan</td>\n",
       "      <td>3873.0</td>\n",
       "      <td>6.4</td>\n",
       "      <td>Maribyrnong City Council</td>\n",
       "      <td>2.0</td>\n",
       "      <td>2.0</td>\n",
       "      <td>1.0</td>\n",
       "      <td>126.000000</td>\n",
       "      <td>95.000000</td>\n",
       "      <td>5.962979e+05</td>\n",
       "      <td>642500.0</td>\n",
       "    </tr>\n",
       "    <tr>\n",
       "      <th>23567</th>\n",
       "      <td>Hawthorn East</td>\n",
       "      <td>1</td>\n",
       "      <td>u</td>\n",
       "      <td>SP</td>\n",
       "      <td>Noel</td>\n",
       "      <td>Southern Metropolitan</td>\n",
       "      <td>6482.0</td>\n",
       "      <td>6.2</td>\n",
       "      <td>Boroondara City Council</td>\n",
       "      <td>1.0</td>\n",
       "      <td>1.0</td>\n",
       "      <td>1.0</td>\n",
       "      <td>0.000000</td>\n",
       "      <td>52.000000</td>\n",
       "      <td>3.868471e+05</td>\n",
       "      <td>505000.0</td>\n",
       "    </tr>\n",
       "    <tr>\n",
       "      <th>23568</th>\n",
       "      <td>Heidelberg</td>\n",
       "      <td>3</td>\n",
       "      <td>h</td>\n",
       "      <td>S</td>\n",
       "      <td>Miles</td>\n",
       "      <td>Eastern Metropolitan</td>\n",
       "      <td>2890.0</td>\n",
       "      <td>8.9</td>\n",
       "      <td>Banyule City Council</td>\n",
       "      <td>3.0</td>\n",
       "      <td>1.0</td>\n",
       "      <td>0.0</td>\n",
       "      <td>668.000000</td>\n",
       "      <td>158.001108</td>\n",
       "      <td>1.028496e+06</td>\n",
       "      <td>1250000.0</td>\n",
       "    </tr>\n",
       "    <tr>\n",
       "      <th>23569</th>\n",
       "      <td>Ivanhoe</td>\n",
       "      <td>3</td>\n",
       "      <td>h</td>\n",
       "      <td>VB</td>\n",
       "      <td>Nelson</td>\n",
       "      <td>Eastern Metropolitan</td>\n",
       "      <td>5549.0</td>\n",
       "      <td>7.8</td>\n",
       "      <td>Banyule City Council</td>\n",
       "      <td>3.0</td>\n",
       "      <td>1.0</td>\n",
       "      <td>2.0</td>\n",
       "      <td>360.000000</td>\n",
       "      <td>158.001108</td>\n",
       "      <td>1.090875e+06</td>\n",
       "      <td>950000.0</td>\n",
       "    </tr>\n",
       "    <tr>\n",
       "      <th>23570</th>\n",
       "      <td>Highett</td>\n",
       "      <td>3</td>\n",
       "      <td>h</td>\n",
       "      <td>S</td>\n",
       "      <td>Greg</td>\n",
       "      <td>Southern Metropolitan</td>\n",
       "      <td>4794.0</td>\n",
       "      <td>16.0</td>\n",
       "      <td>Bayside City Council</td>\n",
       "      <td>3.0</td>\n",
       "      <td>1.0</td>\n",
       "      <td>2.0</td>\n",
       "      <td>700.000000</td>\n",
       "      <td>158.001108</td>\n",
       "      <td>1.533349e+06</td>\n",
       "      <td>1242000.0</td>\n",
       "    </tr>\n",
       "  </tbody>\n",
       "</table>\n",
       "<p>23571 rows × 16 columns</p>\n",
       "</div>"
      ],
      "text/plain": [
       "               SUBURB  ROOMS TYPE METHOD        SELLERG  \\\n",
       "0        Surrey Hills      2    u      S      Fletchers   \n",
       "1        Moonee Ponds      3    u      S         Nelson   \n",
       "2           Braybrook      3    h      S          Barry   \n",
       "3      Bentleigh East      2    h      S  hockingstuart   \n",
       "4      Oakleigh South      4    h      S       Woodards   \n",
       "...               ...    ...  ...    ...            ...   \n",
       "23566       Maidstone      2    t      S         Biggin   \n",
       "23567   Hawthorn East      1    u     SP           Noel   \n",
       "23568      Heidelberg      3    h      S          Miles   \n",
       "23569         Ivanhoe      3    h     VB         Nelson   \n",
       "23570         Highett      3    h      S           Greg   \n",
       "\n",
       "                       REGIONNAME  PROPERTYCOUNT  DISTANCE  \\\n",
       "0           Southern Metropolitan         5457.0      11.2   \n",
       "1            Western Metropolitan         6232.0       6.9   \n",
       "2            Western Metropolitan         3589.0      10.8   \n",
       "3           Southern Metropolitan        10969.0      13.9   \n",
       "4      South-Eastern Metropolitan         3692.0      14.7   \n",
       "...                           ...            ...       ...   \n",
       "23566        Western Metropolitan         3873.0       6.4   \n",
       "23567       Southern Metropolitan         6482.0       6.2   \n",
       "23568        Eastern Metropolitan         2890.0       8.9   \n",
       "23569        Eastern Metropolitan         5549.0       7.8   \n",
       "23570       Southern Metropolitan         4794.0      16.0   \n",
       "\n",
       "                      COUNCILAREA  BEDROOM2  BATHROOM  CAR    LANDSIZE  \\\n",
       "0         Boroondara City Council       2.0       1.0  2.0  108.000000   \n",
       "1      Moonee Valley City Council       3.0       2.0  2.0    0.000000   \n",
       "2        Maribyrnong City Council       3.0       2.0  4.0  700.000000   \n",
       "3          Glen Eira City Council       2.0       1.0  2.0  768.000000   \n",
       "4           Kingston City Council       0.0       0.0  0.0  584.022263   \n",
       "...                           ...       ...       ...  ...         ...   \n",
       "23566    Maribyrnong City Council       2.0       2.0  1.0  126.000000   \n",
       "23567     Boroondara City Council       1.0       1.0  1.0    0.000000   \n",
       "23568        Banyule City Council       3.0       1.0  0.0  668.000000   \n",
       "23569        Banyule City Council       3.0       1.0  2.0  360.000000   \n",
       "23570        Bayside City Council       3.0       1.0  2.0  700.000000   \n",
       "\n",
       "       BUILDINGAREA  PREDICTED_PRICE  ACTUAL_PRICE  \n",
       "0        158.001108     6.433628e+05      813000.0  \n",
       "1        120.000000     7.672324e+05      670000.0  \n",
       "2        158.001108     9.455593e+05      870000.0  \n",
       "3        158.001108     1.208220e+06     1410000.0  \n",
       "4        158.001108     1.194439e+06      991000.0  \n",
       "...             ...              ...           ...  \n",
       "23566     95.000000     5.962979e+05      642500.0  \n",
       "23567     52.000000     3.868471e+05      505000.0  \n",
       "23568    158.001108     1.028496e+06     1250000.0  \n",
       "23569    158.001108     1.090875e+06      950000.0  \n",
       "23570    158.001108     1.533349e+06     1242000.0  \n",
       "\n",
       "[23571 rows x 16 columns]"
      ]
     },
     "execution_count": 55,
     "metadata": {},
     "output_type": "execute_result"
    }
   ],
   "source": [
    "# Also get a local dataframe to review the results\n",
    "snowdf_details_XGB=snowdf_details_XGB.toPandas()\n",
    "snowdf_details_XGB"
   ]
  },
  {
   "cell_type": "code",
   "execution_count": null,
   "id": "b5fe58a4-04b2-4673-8fa2-cf2b267d37ac",
   "metadata": {},
   "outputs": [],
   "source": []
  }
 ],
 "metadata": {
  "kernelspec": {
   "display_name": "snowpark",
   "language": "python",
   "name": "snowpark"
  },
  "language_info": {
   "codemirror_mode": {
    "name": "ipython",
    "version": 3
   },
   "file_extension": ".py",
   "mimetype": "text/x-python",
   "name": "python",
   "nbconvert_exporter": "python",
   "pygments_lexer": "ipython3",
   "version": "3.8.13"
  }
 },
 "nbformat": 4,
 "nbformat_minor": 5
}
