{
 "cells": [
  {
   "cell_type": "code",
   "execution_count": 1,
   "id": "05317f44-8765-4517-97a5-531c468323b3",
   "metadata": {},
   "outputs": [],
   "source": [
    "import numpy as np\n",
    "import pandas as pd\n",
    "import matplotlib.pyplot as plt\n",
    "import seaborn as sns\n",
    "import json"
   ]
  },
  {
   "cell_type": "code",
   "execution_count": 2,
   "id": "b34878bc-999b-4c25-b720-620ec9b11b8e",
   "metadata": {},
   "outputs": [],
   "source": [
    "# Snowpark\n",
    "from snowflake.snowpark.session import Session\n",
    "from snowflake.snowpark import functions as F\n",
    "from snowflake.snowpark.types import *\n",
    "from snowflake.snowpark.version import VERSION\n",
    "from snowflake.snowpark.functions import pandas_udf\n"
   ]
  },
  {
   "cell_type": "code",
   "execution_count": 3,
   "id": "9329818a-92fa-4f5e-af65-85cac87662d3",
   "metadata": {},
   "outputs": [],
   "source": [
    "# Read credentials\n",
    "with open('creds.json') as f:\n",
    "    connection_parameters = json.load(f)    \n",
    "session = Session.builder.configs(connection_parameters).create()"
   ]
  },
  {
   "cell_type": "code",
   "execution_count": 4,
   "id": "b85adf78-da52-4b2d-a83f-6bf4d308198b",
   "metadata": {},
   "outputs": [
    {
     "data": {
      "text/plain": [
       "<snowflake.snowpark.session.Session at 0x7fa0b2416430>"
      ]
     },
     "execution_count": 4,
     "metadata": {},
     "output_type": "execute_result"
    }
   ],
   "source": [
    "session"
   ]
  },
  {
   "cell_type": "code",
   "execution_count": 5,
   "id": "fad43557-c131-42cb-80b2-60c9602e7f36",
   "metadata": {},
   "outputs": [
    {
     "name": "stdout",
     "output_type": "stream",
     "text": [
      "Database                    : \"HOUSING\"\n",
      "Schema                      : \"PUBLIC\"\n",
      "Warehouse                   : \"XSMALL_WH\"\n",
      "Role                        : \"ACCOUNTADMIN\"\n",
      "Snowpark for Python version : 1.0.0\n"
     ]
    }
   ],
   "source": [
    "snowpark_version = VERSION\n",
    "print('Database                    : {}'.format(session.get_current_database()))\n",
    "print('Schema                      : {}'.format(session.get_current_schema()))\n",
    "print('Warehouse                   : {}'.format(session.get_current_warehouse()))\n",
    "print('Role                        : {}'.format(session.get_current_role()))\n",
    "print('Snowpark for Python version : {}.{}.{}'.format(snowpark_version[0],snowpark_version[1],snowpark_version[2]))"
   ]
  },
  {
   "cell_type": "code",
   "execution_count": 6,
   "id": "e851998b-b9f0-4886-8f3b-58d748f97e68",
   "metadata": {},
   "outputs": [
    {
     "data": {
      "text/plain": [
       "[Row(COUNT(*)=30144)]"
      ]
     },
     "execution_count": 6,
     "metadata": {},
     "output_type": "execute_result"
    }
   ],
   "source": [
    "session.sql(\"SELECT count(*) FROM HOUSING.PUBLIC.HOUSINGPRICE\").collect()"
   ]
  },
  {
   "cell_type": "code",
   "execution_count": 7,
   "id": "3b7ce6e5-76a9-4a57-b7a8-52e461e46df3",
   "metadata": {},
   "outputs": [],
   "source": [
    "housepricingdf = session.table(\"HOUSING.PUBLIC.HOUSINGPRICE\")"
   ]
  },
  {
   "cell_type": "code",
   "execution_count": 8,
   "id": "5d5c99e6-6d31-42de-850e-99211abc6420",
   "metadata": {},
   "outputs": [
    {
     "data": {
      "text/plain": [
       "pandas.core.frame.DataFrame"
      ]
     },
     "execution_count": 8,
     "metadata": {},
     "output_type": "execute_result"
    }
   ],
   "source": [
    "housepricingdf=housepricingdf.to_pandas()\n",
    "type(housepricingdf)"
   ]
  },
  {
   "cell_type": "code",
   "execution_count": 9,
   "id": "6a031efc-b312-40c8-9178-61c89547b3a4",
   "metadata": {},
   "outputs": [],
   "source": [
    "housepricingdf.columns = map(lambda x: str(x).upper(), housepricingdf.columns)"
   ]
  },
  {
   "cell_type": "code",
   "execution_count": 10,
   "id": "9ca5909f-1e52-4c18-b24c-dccb858409d9",
   "metadata": {},
   "outputs": [],
   "source": [
    "# data1.columns = map(lambda x: str(x).upper(), data1.columns)\n",
    "# snowdf_details = session.createDataFrame(data1)\n",
    "# snowdf_details.show()\n",
    "# snowdf_details.write.mode(\"overwrite\").saveAsTable(\"HOUSING.PUBLIC.FULL_HOUSINGPRICE\") \n",
    "\n",
    "# session.table(\"HOUSING.PUBLIC.FULL_HOUSINGPRICE\").show(5)\n"
   ]
  },
  {
   "cell_type": "code",
   "execution_count": 11,
   "id": "080b7b49-a911-47e9-809c-ede4d841bd5b",
   "metadata": {},
   "outputs": [
    {
     "data": {
      "text/html": [
       "<div>\n",
       "<style scoped>\n",
       "    .dataframe tbody tr th:only-of-type {\n",
       "        vertical-align: middle;\n",
       "    }\n",
       "\n",
       "    .dataframe tbody tr th {\n",
       "        vertical-align: top;\n",
       "    }\n",
       "\n",
       "    .dataframe thead th {\n",
       "        text-align: right;\n",
       "    }\n",
       "</style>\n",
       "<table border=\"1\" class=\"dataframe\">\n",
       "  <thead>\n",
       "    <tr style=\"text-align: right;\">\n",
       "      <th></th>\n",
       "      <th>DATE</th>\n",
       "      <th>SUBURB</th>\n",
       "      <th>ADDRESS</th>\n",
       "      <th>ROOMS</th>\n",
       "      <th>TYPE</th>\n",
       "      <th>PRICE</th>\n",
       "      <th>METHOD</th>\n",
       "      <th>SELLERG</th>\n",
       "      <th>DATE.1</th>\n",
       "      <th>DISTANCE</th>\n",
       "      <th>...</th>\n",
       "      <th>BATHROOM</th>\n",
       "      <th>CAR</th>\n",
       "      <th>LANDSIZE</th>\n",
       "      <th>BUILDINGAREA</th>\n",
       "      <th>YEARBUILT</th>\n",
       "      <th>COUNCILAREA</th>\n",
       "      <th>LATTITUDE</th>\n",
       "      <th>LONGTITUDE</th>\n",
       "      <th>REGIONNAME</th>\n",
       "      <th>PROPERTYCOUNT</th>\n",
       "    </tr>\n",
       "  </thead>\n",
       "  <tbody>\n",
       "    <tr>\n",
       "      <th>0</th>\n",
       "      <td>2016-01-28</td>\n",
       "      <td>Surrey Hills</td>\n",
       "      <td>999A Riversdale Rd</td>\n",
       "      <td>3</td>\n",
       "      <td>h</td>\n",
       "      <td>1205000.0</td>\n",
       "      <td>S</td>\n",
       "      <td>Fletchers</td>\n",
       "      <td>2016-01-28</td>\n",
       "      <td>11.2</td>\n",
       "      <td>...</td>\n",
       "      <td>1.0</td>\n",
       "      <td>2.0</td>\n",
       "      <td>490.0</td>\n",
       "      <td>NaN</td>\n",
       "      <td>NaN</td>\n",
       "      <td>Boroondara City Council</td>\n",
       "      <td>-37.8361</td>\n",
       "      <td>145.1006</td>\n",
       "      <td>Southern Metropolitan</td>\n",
       "      <td>5457.0</td>\n",
       "    </tr>\n",
       "    <tr>\n",
       "      <th>1</th>\n",
       "      <td>2016-01-28</td>\n",
       "      <td>Surrey Hills</td>\n",
       "      <td>1/10 Florence Rd</td>\n",
       "      <td>2</td>\n",
       "      <td>u</td>\n",
       "      <td>813000.0</td>\n",
       "      <td>S</td>\n",
       "      <td>Fletchers</td>\n",
       "      <td>2016-01-28</td>\n",
       "      <td>11.2</td>\n",
       "      <td>...</td>\n",
       "      <td>1.0</td>\n",
       "      <td>2.0</td>\n",
       "      <td>108.0</td>\n",
       "      <td>NaN</td>\n",
       "      <td>NaN</td>\n",
       "      <td>Boroondara City Council</td>\n",
       "      <td>-37.8276</td>\n",
       "      <td>145.1023</td>\n",
       "      <td>Southern Metropolitan</td>\n",
       "      <td>5457.0</td>\n",
       "    </tr>\n",
       "    <tr>\n",
       "      <th>2</th>\n",
       "      <td>2016-01-28</td>\n",
       "      <td>Canterbury</td>\n",
       "      <td>140 Canterbury Rd</td>\n",
       "      <td>4</td>\n",
       "      <td>h</td>\n",
       "      <td>NaN</td>\n",
       "      <td>SP</td>\n",
       "      <td>Fletchers</td>\n",
       "      <td>2016-01-28</td>\n",
       "      <td>9.0</td>\n",
       "      <td>...</td>\n",
       "      <td>2.0</td>\n",
       "      <td>0.0</td>\n",
       "      <td>808.0</td>\n",
       "      <td>198.0</td>\n",
       "      <td>1910.0</td>\n",
       "      <td>Boroondara City Council</td>\n",
       "      <td>-37.8235</td>\n",
       "      <td>145.0751</td>\n",
       "      <td>Southern Metropolitan</td>\n",
       "      <td>3265.0</td>\n",
       "    </tr>\n",
       "    <tr>\n",
       "      <th>3</th>\n",
       "      <td>2016-03-09</td>\n",
       "      <td>Williamstown</td>\n",
       "      <td>54 Twyford St</td>\n",
       "      <td>3</td>\n",
       "      <td>h</td>\n",
       "      <td>1535000.0</td>\n",
       "      <td>S</td>\n",
       "      <td>Greg</td>\n",
       "      <td>2016-03-09</td>\n",
       "      <td>8.0</td>\n",
       "      <td>...</td>\n",
       "      <td>1.0</td>\n",
       "      <td>1.0</td>\n",
       "      <td>507.0</td>\n",
       "      <td>186.0</td>\n",
       "      <td>1910.0</td>\n",
       "      <td>Hobsons Bay City Council</td>\n",
       "      <td>-37.8681</td>\n",
       "      <td>144.8994</td>\n",
       "      <td>Western Metropolitan</td>\n",
       "      <td>6380.0</td>\n",
       "    </tr>\n",
       "    <tr>\n",
       "      <th>4</th>\n",
       "      <td>2016-03-09</td>\n",
       "      <td>Newport</td>\n",
       "      <td>1/26 Thorpe St</td>\n",
       "      <td>3</td>\n",
       "      <td>h</td>\n",
       "      <td>826000.0</td>\n",
       "      <td>S</td>\n",
       "      <td>Village</td>\n",
       "      <td>2016-03-09</td>\n",
       "      <td>8.4</td>\n",
       "      <td>...</td>\n",
       "      <td>1.0</td>\n",
       "      <td>2.0</td>\n",
       "      <td>281.0</td>\n",
       "      <td>100.0</td>\n",
       "      <td>1957.0</td>\n",
       "      <td>Hobsons Bay City Council</td>\n",
       "      <td>-37.8457</td>\n",
       "      <td>144.8651</td>\n",
       "      <td>Western Metropolitan</td>\n",
       "      <td>5498.0</td>\n",
       "    </tr>\n",
       "  </tbody>\n",
       "</table>\n",
       "<p>5 rows × 22 columns</p>\n",
       "</div>"
      ],
      "text/plain": [
       "         DATE        SUBURB             ADDRESS  ROOMS TYPE      PRICE METHOD  \\\n",
       "0  2016-01-28  Surrey Hills  999A Riversdale Rd      3    h  1205000.0      S   \n",
       "1  2016-01-28  Surrey Hills    1/10 Florence Rd      2    u   813000.0      S   \n",
       "2  2016-01-28    Canterbury   140 Canterbury Rd      4    h        NaN     SP   \n",
       "3  2016-03-09  Williamstown       54 Twyford St      3    h  1535000.0      S   \n",
       "4  2016-03-09       Newport      1/26 Thorpe St      3    h   826000.0      S   \n",
       "\n",
       "     SELLERG      DATE.1  DISTANCE  ...  BATHROOM  CAR  LANDSIZE  \\\n",
       "0  Fletchers  2016-01-28      11.2  ...       1.0  2.0     490.0   \n",
       "1  Fletchers  2016-01-28      11.2  ...       1.0  2.0     108.0   \n",
       "2  Fletchers  2016-01-28       9.0  ...       2.0  0.0     808.0   \n",
       "3       Greg  2016-03-09       8.0  ...       1.0  1.0     507.0   \n",
       "4    Village  2016-03-09       8.4  ...       1.0  2.0     281.0   \n",
       "\n",
       "   BUILDINGAREA  YEARBUILT               COUNCILAREA  LATTITUDE LONGTITUDE  \\\n",
       "0           NaN        NaN   Boroondara City Council   -37.8361   145.1006   \n",
       "1           NaN        NaN   Boroondara City Council   -37.8276   145.1023   \n",
       "2         198.0     1910.0   Boroondara City Council   -37.8235   145.0751   \n",
       "3         186.0     1910.0  Hobsons Bay City Council   -37.8681   144.8994   \n",
       "4         100.0     1957.0  Hobsons Bay City Council   -37.8457   144.8651   \n",
       "\n",
       "              REGIONNAME  PROPERTYCOUNT  \n",
       "0  Southern Metropolitan         5457.0  \n",
       "1  Southern Metropolitan         5457.0  \n",
       "2  Southern Metropolitan         3265.0  \n",
       "3   Western Metropolitan         6380.0  \n",
       "4   Western Metropolitan         5498.0  \n",
       "\n",
       "[5 rows x 22 columns]"
      ]
     },
     "execution_count": 11,
     "metadata": {},
     "output_type": "execute_result"
    }
   ],
   "source": [
    "housepricingdf.head()"
   ]
  },
  {
   "cell_type": "code",
   "execution_count": 12,
   "id": "398424b5-231d-4ca4-9f2b-42c4ba2dd790",
   "metadata": {},
   "outputs": [
    {
     "name": "stdout",
     "output_type": "stream",
     "text": [
      "<class 'pandas.core.frame.DataFrame'>\n",
      "RangeIndex: 30144 entries, 0 to 30143\n",
      "Data columns (total 22 columns):\n",
      " #   Column         Non-Null Count  Dtype  \n",
      "---  ------         --------------  -----  \n",
      " 0   DATE           30144 non-null  object \n",
      " 1   SUBURB         30144 non-null  object \n",
      " 2   ADDRESS        30144 non-null  object \n",
      " 3   ROOMS          30144 non-null  int8   \n",
      " 4   TYPE           30144 non-null  object \n",
      " 5   PRICE          23573 non-null  float64\n",
      " 6   METHOD         30144 non-null  object \n",
      " 7   SELLERG        30144 non-null  object \n",
      " 8   DATE.1         30144 non-null  object \n",
      " 9   DISTANCE       30144 non-null  float64\n",
      " 10  POSTCODE       30144 non-null  float64\n",
      " 11  BEDROOM2       23327 non-null  float64\n",
      " 12  BATHROOM       23321 non-null  float64\n",
      " 13  CAR            22982 non-null  float64\n",
      " 14  LANDSIZE       20078 non-null  float64\n",
      " 15  BUILDINGAREA   12147 non-null  float64\n",
      " 16  YEARBUILT      13827 non-null  float64\n",
      " 17  COUNCILAREA    30142 non-null  object \n",
      " 18  LATTITUDE      23544 non-null  float64\n",
      " 19  LONGTITUDE     23544 non-null  float64\n",
      " 20  REGIONNAME     30142 non-null  object \n",
      " 21  PROPERTYCOUNT  30142 non-null  float64\n",
      "dtypes: float64(12), int8(1), object(9)\n",
      "memory usage: 4.9+ MB\n"
     ]
    }
   ],
   "source": [
    "housepricingdf.info()"
   ]
  },
  {
   "cell_type": "code",
   "execution_count": 13,
   "id": "14073ee1-99ad-4c7b-859b-6959f5070627",
   "metadata": {},
   "outputs": [],
   "source": [
    "# # data = pd.read_csv(\"./datasets/MELBOURNE_HOUSE_PRICES_LESS.csv\")\n",
    "# # data['Date'].head(100)\n",
    "# data1.info()"
   ]
  },
  {
   "cell_type": "code",
   "execution_count": 14,
   "id": "2b6d9230-ef1b-43d6-9215-968da6cfe0ed",
   "metadata": {},
   "outputs": [
    {
     "name": "stdout",
     "output_type": "stream",
     "text": [
      "<class 'pandas.core.frame.DataFrame'>\n",
      "RangeIndex: 30144 entries, 0 to 30143\n",
      "Data columns (total 22 columns):\n",
      " #   Column         Non-Null Count  Dtype  \n",
      "---  ------         --------------  -----  \n",
      " 0   DATE           30144 non-null  object \n",
      " 1   SUBURB         30144 non-null  object \n",
      " 2   ADDRESS        30144 non-null  object \n",
      " 3   ROOMS          30144 non-null  int8   \n",
      " 4   TYPE           30144 non-null  object \n",
      " 5   PRICE          23573 non-null  float64\n",
      " 6   METHOD         30144 non-null  object \n",
      " 7   SELLERG        30144 non-null  object \n",
      " 8   DATE.1         30144 non-null  object \n",
      " 9   DISTANCE       30144 non-null  float64\n",
      " 10  POSTCODE       30144 non-null  float64\n",
      " 11  BEDROOM2       23327 non-null  float64\n",
      " 12  BATHROOM       23321 non-null  float64\n",
      " 13  CAR            22982 non-null  float64\n",
      " 14  LANDSIZE       20078 non-null  float64\n",
      " 15  BUILDINGAREA   12147 non-null  float64\n",
      " 16  YEARBUILT      13827 non-null  float64\n",
      " 17  COUNCILAREA    30142 non-null  object \n",
      " 18  LATTITUDE      23544 non-null  float64\n",
      " 19  LONGTITUDE     23544 non-null  float64\n",
      " 20  REGIONNAME     30142 non-null  object \n",
      " 21  PROPERTYCOUNT  30142 non-null  float64\n",
      "dtypes: float64(12), int8(1), object(9)\n",
      "memory usage: 4.9+ MB\n"
     ]
    }
   ],
   "source": [
    "housepricingdf.info()"
   ]
  },
  {
   "cell_type": "code",
   "execution_count": 15,
   "id": "d07d70a6-a835-4527-ac7a-a2f757b1238a",
   "metadata": {},
   "outputs": [
    {
     "data": {
      "text/plain": [
       "DATE                 0\n",
       "SUBURB               0\n",
       "ADDRESS              0\n",
       "ROOMS                0\n",
       "TYPE                 0\n",
       "PRICE             6571\n",
       "METHOD               0\n",
       "SELLERG              0\n",
       "DATE.1               0\n",
       "DISTANCE             0\n",
       "POSTCODE             0\n",
       "BEDROOM2          6817\n",
       "BATHROOM          6823\n",
       "CAR               7162\n",
       "LANDSIZE         10066\n",
       "BUILDINGAREA     17997\n",
       "YEARBUILT        16317\n",
       "COUNCILAREA          2\n",
       "LATTITUDE         6600\n",
       "LONGTITUDE        6600\n",
       "REGIONNAME           2\n",
       "PROPERTYCOUNT        2\n",
       "dtype: int64"
      ]
     },
     "execution_count": 15,
     "metadata": {},
     "output_type": "execute_result"
    }
   ],
   "source": [
    "housepricingdf.isnull().sum()"
   ]
  },
  {
   "cell_type": "code",
   "execution_count": 16,
   "id": "a316cbe0-ccfb-442e-9e12-6324505c5512",
   "metadata": {},
   "outputs": [
    {
     "data": {
      "text/html": [
       "<div>\n",
       "<style scoped>\n",
       "    .dataframe tbody tr th:only-of-type {\n",
       "        vertical-align: middle;\n",
       "    }\n",
       "\n",
       "    .dataframe tbody tr th {\n",
       "        vertical-align: top;\n",
       "    }\n",
       "\n",
       "    .dataframe thead th {\n",
       "        text-align: right;\n",
       "    }\n",
       "</style>\n",
       "<table border=\"1\" class=\"dataframe\">\n",
       "  <thead>\n",
       "    <tr style=\"text-align: right;\">\n",
       "      <th></th>\n",
       "      <th>ROOMS</th>\n",
       "      <th>PRICE</th>\n",
       "      <th>DISTANCE</th>\n",
       "      <th>POSTCODE</th>\n",
       "      <th>BEDROOM2</th>\n",
       "      <th>BATHROOM</th>\n",
       "      <th>CAR</th>\n",
       "      <th>LANDSIZE</th>\n",
       "      <th>BUILDINGAREA</th>\n",
       "      <th>YEARBUILT</th>\n",
       "      <th>LATTITUDE</th>\n",
       "      <th>LONGTITUDE</th>\n",
       "      <th>PROPERTYCOUNT</th>\n",
       "    </tr>\n",
       "  </thead>\n",
       "  <tbody>\n",
       "    <tr>\n",
       "      <th>count</th>\n",
       "      <td>30144.000000</td>\n",
       "      <td>2.357300e+04</td>\n",
       "      <td>30144.000000</td>\n",
       "      <td>30144.000000</td>\n",
       "      <td>23327.000000</td>\n",
       "      <td>23321.000000</td>\n",
       "      <td>22982.000000</td>\n",
       "      <td>20078.000000</td>\n",
       "      <td>12147.000000</td>\n",
       "      <td>13827.000000</td>\n",
       "      <td>23544.000000</td>\n",
       "      <td>23544.000000</td>\n",
       "      <td>30142.000000</td>\n",
       "    </tr>\n",
       "    <tr>\n",
       "      <th>mean</th>\n",
       "      <td>3.015725</td>\n",
       "      <td>1.055272e+06</td>\n",
       "      <td>10.894533</td>\n",
       "      <td>3114.059216</td>\n",
       "      <td>3.039311</td>\n",
       "      <td>1.606063</td>\n",
       "      <td>1.693195</td>\n",
       "      <td>584.022263</td>\n",
       "      <td>158.001108</td>\n",
       "      <td>1964.950170</td>\n",
       "      <td>-37.812025</td>\n",
       "      <td>145.001666</td>\n",
       "      <td>7544.185754</td>\n",
       "    </tr>\n",
       "    <tr>\n",
       "      <th>std</th>\n",
       "      <td>0.974964</td>\n",
       "      <td>6.464492e+05</td>\n",
       "      <td>6.558900</td>\n",
       "      <td>104.132112</td>\n",
       "      <td>0.993397</td>\n",
       "      <td>0.723174</td>\n",
       "      <td>1.001103</td>\n",
       "      <td>3557.012648</td>\n",
       "      <td>422.167797</td>\n",
       "      <td>37.401358</td>\n",
       "      <td>0.086615</td>\n",
       "      <td>0.115427</td>\n",
       "      <td>4423.509742</td>\n",
       "    </tr>\n",
       "    <tr>\n",
       "      <th>min</th>\n",
       "      <td>1.000000</td>\n",
       "      <td>8.500000e+04</td>\n",
       "      <td>0.000000</td>\n",
       "      <td>3000.000000</td>\n",
       "      <td>0.000000</td>\n",
       "      <td>0.000000</td>\n",
       "      <td>0.000000</td>\n",
       "      <td>0.000000</td>\n",
       "      <td>0.000000</td>\n",
       "      <td>1196.000000</td>\n",
       "      <td>-38.185600</td>\n",
       "      <td>144.423790</td>\n",
       "      <td>83.000000</td>\n",
       "    </tr>\n",
       "    <tr>\n",
       "      <th>25%</th>\n",
       "      <td>2.000000</td>\n",
       "      <td>6.360000e+05</td>\n",
       "      <td>6.300000</td>\n",
       "      <td>3049.000000</td>\n",
       "      <td>2.000000</td>\n",
       "      <td>1.000000</td>\n",
       "      <td>1.000000</td>\n",
       "      <td>203.000000</td>\n",
       "      <td>100.000000</td>\n",
       "      <td>1940.000000</td>\n",
       "      <td>-37.861803</td>\n",
       "      <td>144.936245</td>\n",
       "      <td>4380.000000</td>\n",
       "    </tr>\n",
       "    <tr>\n",
       "      <th>50%</th>\n",
       "      <td>3.000000</td>\n",
       "      <td>8.800000e+05</td>\n",
       "      <td>10.100000</td>\n",
       "      <td>3103.000000</td>\n",
       "      <td>3.000000</td>\n",
       "      <td>1.000000</td>\n",
       "      <td>2.000000</td>\n",
       "      <td>493.000000</td>\n",
       "      <td>133.000000</td>\n",
       "      <td>1970.000000</td>\n",
       "      <td>-37.808780</td>\n",
       "      <td>145.006800</td>\n",
       "      <td>6763.000000</td>\n",
       "    </tr>\n",
       "    <tr>\n",
       "      <th>75%</th>\n",
       "      <td>4.000000</td>\n",
       "      <td>1.300000e+06</td>\n",
       "      <td>13.800000</td>\n",
       "      <td>3153.000000</td>\n",
       "      <td>4.000000</td>\n",
       "      <td>2.000000</td>\n",
       "      <td>2.000000</td>\n",
       "      <td>666.750000</td>\n",
       "      <td>184.000000</td>\n",
       "      <td>2000.000000</td>\n",
       "      <td>-37.757000</td>\n",
       "      <td>145.069163</td>\n",
       "      <td>10331.000000</td>\n",
       "    </tr>\n",
       "    <tr>\n",
       "      <th>max</th>\n",
       "      <td>16.000000</td>\n",
       "      <td>1.120000e+07</td>\n",
       "      <td>48.100000</td>\n",
       "      <td>3978.000000</td>\n",
       "      <td>30.000000</td>\n",
       "      <td>12.000000</td>\n",
       "      <td>26.000000</td>\n",
       "      <td>433014.000000</td>\n",
       "      <td>44515.000000</td>\n",
       "      <td>2106.000000</td>\n",
       "      <td>-37.395100</td>\n",
       "      <td>145.526350</td>\n",
       "      <td>21650.000000</td>\n",
       "    </tr>\n",
       "  </tbody>\n",
       "</table>\n",
       "</div>"
      ],
      "text/plain": [
       "              ROOMS         PRICE      DISTANCE      POSTCODE      BEDROOM2  \\\n",
       "count  30144.000000  2.357300e+04  30144.000000  30144.000000  23327.000000   \n",
       "mean       3.015725  1.055272e+06     10.894533   3114.059216      3.039311   \n",
       "std        0.974964  6.464492e+05      6.558900    104.132112      0.993397   \n",
       "min        1.000000  8.500000e+04      0.000000   3000.000000      0.000000   \n",
       "25%        2.000000  6.360000e+05      6.300000   3049.000000      2.000000   \n",
       "50%        3.000000  8.800000e+05     10.100000   3103.000000      3.000000   \n",
       "75%        4.000000  1.300000e+06     13.800000   3153.000000      4.000000   \n",
       "max       16.000000  1.120000e+07     48.100000   3978.000000     30.000000   \n",
       "\n",
       "           BATHROOM           CAR       LANDSIZE  BUILDINGAREA     YEARBUILT  \\\n",
       "count  23321.000000  22982.000000   20078.000000  12147.000000  13827.000000   \n",
       "mean       1.606063      1.693195     584.022263    158.001108   1964.950170   \n",
       "std        0.723174      1.001103    3557.012648    422.167797     37.401358   \n",
       "min        0.000000      0.000000       0.000000      0.000000   1196.000000   \n",
       "25%        1.000000      1.000000     203.000000    100.000000   1940.000000   \n",
       "50%        1.000000      2.000000     493.000000    133.000000   1970.000000   \n",
       "75%        2.000000      2.000000     666.750000    184.000000   2000.000000   \n",
       "max       12.000000     26.000000  433014.000000  44515.000000   2106.000000   \n",
       "\n",
       "          LATTITUDE    LONGTITUDE  PROPERTYCOUNT  \n",
       "count  23544.000000  23544.000000   30142.000000  \n",
       "mean     -37.812025    145.001666    7544.185754  \n",
       "std        0.086615      0.115427    4423.509742  \n",
       "min      -38.185600    144.423790      83.000000  \n",
       "25%      -37.861803    144.936245    4380.000000  \n",
       "50%      -37.808780    145.006800    6763.000000  \n",
       "75%      -37.757000    145.069163   10331.000000  \n",
       "max      -37.395100    145.526350   21650.000000  "
      ]
     },
     "execution_count": 16,
     "metadata": {},
     "output_type": "execute_result"
    }
   ],
   "source": [
    "housepricingdf.describe()"
   ]
  },
  {
   "cell_type": "code",
   "execution_count": 17,
   "id": "3ff84730-7650-4206-a4c4-8634ef1d690a",
   "metadata": {},
   "outputs": [
    {
     "data": {
      "text/plain": [
       "DATE                68\n",
       "SUBURB             346\n",
       "ADDRESS          29486\n",
       "ROOMS               12\n",
       "TYPE                 3\n",
       "PRICE             2722\n",
       "METHOD               9\n",
       "SELLERG            363\n",
       "DATE.1              68\n",
       "DISTANCE           213\n",
       "POSTCODE           208\n",
       "BEDROOM2            15\n",
       "BATHROOM            11\n",
       "CAR                 14\n",
       "LANDSIZE          1631\n",
       "BUILDINGAREA       721\n",
       "YEARBUILT          156\n",
       "COUNCILAREA         33\n",
       "LATTITUDE        11161\n",
       "LONGTITUDE       12203\n",
       "REGIONNAME           8\n",
       "PROPERTYCOUNT      339\n",
       "dtype: int64"
      ]
     },
     "execution_count": 17,
     "metadata": {},
     "output_type": "execute_result"
    }
   ],
   "source": [
    "housepricingdf.nunique()"
   ]
  },
  {
   "cell_type": "code",
   "execution_count": 18,
   "id": "080d997a-b1e8-4849-a4fe-8a88a4a82a48",
   "metadata": {},
   "outputs": [
    {
     "data": {
      "text/html": [
       "<div>\n",
       "<style scoped>\n",
       "    .dataframe tbody tr th:only-of-type {\n",
       "        vertical-align: middle;\n",
       "    }\n",
       "\n",
       "    .dataframe tbody tr th {\n",
       "        vertical-align: top;\n",
       "    }\n",
       "\n",
       "    .dataframe thead th {\n",
       "        text-align: right;\n",
       "    }\n",
       "</style>\n",
       "<table border=\"1\" class=\"dataframe\">\n",
       "  <thead>\n",
       "    <tr style=\"text-align: right;\">\n",
       "      <th></th>\n",
       "      <th>SUBURB</th>\n",
       "      <th>ROOMS</th>\n",
       "      <th>TYPE</th>\n",
       "      <th>METHOD</th>\n",
       "      <th>SELLERG</th>\n",
       "      <th>REGIONNAME</th>\n",
       "      <th>PROPERTYCOUNT</th>\n",
       "      <th>DISTANCE</th>\n",
       "      <th>COUNCILAREA</th>\n",
       "      <th>BEDROOM2</th>\n",
       "      <th>BATHROOM</th>\n",
       "      <th>CAR</th>\n",
       "      <th>LANDSIZE</th>\n",
       "      <th>BUILDINGAREA</th>\n",
       "      <th>PRICE</th>\n",
       "    </tr>\n",
       "  </thead>\n",
       "  <tbody>\n",
       "    <tr>\n",
       "      <th>0</th>\n",
       "      <td>Surrey Hills</td>\n",
       "      <td>3</td>\n",
       "      <td>h</td>\n",
       "      <td>S</td>\n",
       "      <td>Fletchers</td>\n",
       "      <td>Southern Metropolitan</td>\n",
       "      <td>5457.0</td>\n",
       "      <td>11.2</td>\n",
       "      <td>Boroondara City Council</td>\n",
       "      <td>3.0</td>\n",
       "      <td>1.0</td>\n",
       "      <td>2.0</td>\n",
       "      <td>490.0</td>\n",
       "      <td>NaN</td>\n",
       "      <td>1205000.0</td>\n",
       "    </tr>\n",
       "    <tr>\n",
       "      <th>1</th>\n",
       "      <td>Surrey Hills</td>\n",
       "      <td>2</td>\n",
       "      <td>u</td>\n",
       "      <td>S</td>\n",
       "      <td>Fletchers</td>\n",
       "      <td>Southern Metropolitan</td>\n",
       "      <td>5457.0</td>\n",
       "      <td>11.2</td>\n",
       "      <td>Boroondara City Council</td>\n",
       "      <td>2.0</td>\n",
       "      <td>1.0</td>\n",
       "      <td>2.0</td>\n",
       "      <td>108.0</td>\n",
       "      <td>NaN</td>\n",
       "      <td>813000.0</td>\n",
       "    </tr>\n",
       "    <tr>\n",
       "      <th>2</th>\n",
       "      <td>Canterbury</td>\n",
       "      <td>4</td>\n",
       "      <td>h</td>\n",
       "      <td>SP</td>\n",
       "      <td>Fletchers</td>\n",
       "      <td>Southern Metropolitan</td>\n",
       "      <td>3265.0</td>\n",
       "      <td>9.0</td>\n",
       "      <td>Boroondara City Council</td>\n",
       "      <td>4.0</td>\n",
       "      <td>2.0</td>\n",
       "      <td>0.0</td>\n",
       "      <td>808.0</td>\n",
       "      <td>198.0</td>\n",
       "      <td>NaN</td>\n",
       "    </tr>\n",
       "    <tr>\n",
       "      <th>3</th>\n",
       "      <td>Williamstown</td>\n",
       "      <td>3</td>\n",
       "      <td>h</td>\n",
       "      <td>S</td>\n",
       "      <td>Greg</td>\n",
       "      <td>Western Metropolitan</td>\n",
       "      <td>6380.0</td>\n",
       "      <td>8.0</td>\n",
       "      <td>Hobsons Bay City Council</td>\n",
       "      <td>3.0</td>\n",
       "      <td>1.0</td>\n",
       "      <td>1.0</td>\n",
       "      <td>507.0</td>\n",
       "      <td>186.0</td>\n",
       "      <td>1535000.0</td>\n",
       "    </tr>\n",
       "    <tr>\n",
       "      <th>4</th>\n",
       "      <td>Newport</td>\n",
       "      <td>3</td>\n",
       "      <td>h</td>\n",
       "      <td>S</td>\n",
       "      <td>Village</td>\n",
       "      <td>Western Metropolitan</td>\n",
       "      <td>5498.0</td>\n",
       "      <td>8.4</td>\n",
       "      <td>Hobsons Bay City Council</td>\n",
       "      <td>2.0</td>\n",
       "      <td>1.0</td>\n",
       "      <td>2.0</td>\n",
       "      <td>281.0</td>\n",
       "      <td>100.0</td>\n",
       "      <td>826000.0</td>\n",
       "    </tr>\n",
       "    <tr>\n",
       "      <th>...</th>\n",
       "      <td>...</td>\n",
       "      <td>...</td>\n",
       "      <td>...</td>\n",
       "      <td>...</td>\n",
       "      <td>...</td>\n",
       "      <td>...</td>\n",
       "      <td>...</td>\n",
       "      <td>...</td>\n",
       "      <td>...</td>\n",
       "      <td>...</td>\n",
       "      <td>...</td>\n",
       "      <td>...</td>\n",
       "      <td>...</td>\n",
       "      <td>...</td>\n",
       "      <td>...</td>\n",
       "    </tr>\n",
       "    <tr>\n",
       "      <th>30139</th>\n",
       "      <td>Highett</td>\n",
       "      <td>3</td>\n",
       "      <td>h</td>\n",
       "      <td>S</td>\n",
       "      <td>Greg</td>\n",
       "      <td>Southern Metropolitan</td>\n",
       "      <td>4794.0</td>\n",
       "      <td>16.0</td>\n",
       "      <td>Bayside City Council</td>\n",
       "      <td>3.0</td>\n",
       "      <td>1.0</td>\n",
       "      <td>2.0</td>\n",
       "      <td>700.0</td>\n",
       "      <td>NaN</td>\n",
       "      <td>1242000.0</td>\n",
       "    </tr>\n",
       "    <tr>\n",
       "      <th>30140</th>\n",
       "      <td>Highett</td>\n",
       "      <td>3</td>\n",
       "      <td>t</td>\n",
       "      <td>PI</td>\n",
       "      <td>Purplebricks</td>\n",
       "      <td>Southern Metropolitan</td>\n",
       "      <td>4794.0</td>\n",
       "      <td>16.0</td>\n",
       "      <td>Bayside City Council</td>\n",
       "      <td>NaN</td>\n",
       "      <td>NaN</td>\n",
       "      <td>NaN</td>\n",
       "      <td>NaN</td>\n",
       "      <td>NaN</td>\n",
       "      <td>1395000.0</td>\n",
       "    </tr>\n",
       "    <tr>\n",
       "      <th>30141</th>\n",
       "      <td>Hoppers Crossing</td>\n",
       "      <td>4</td>\n",
       "      <td>h</td>\n",
       "      <td>S</td>\n",
       "      <td>Barry</td>\n",
       "      <td>Western Metropolitan</td>\n",
       "      <td>13830.0</td>\n",
       "      <td>18.4</td>\n",
       "      <td>Wyndham City Council</td>\n",
       "      <td>4.0</td>\n",
       "      <td>2.0</td>\n",
       "      <td>2.0</td>\n",
       "      <td>650.0</td>\n",
       "      <td>NaN</td>\n",
       "      <td>540000.0</td>\n",
       "    </tr>\n",
       "    <tr>\n",
       "      <th>30142</th>\n",
       "      <td>South Melbourne</td>\n",
       "      <td>4</td>\n",
       "      <td>h</td>\n",
       "      <td>PI</td>\n",
       "      <td>Marshall</td>\n",
       "      <td>Southern Metropolitan</td>\n",
       "      <td>5943.0</td>\n",
       "      <td>1.9</td>\n",
       "      <td>Port Phillip City Council</td>\n",
       "      <td>4.0</td>\n",
       "      <td>2.0</td>\n",
       "      <td>0.0</td>\n",
       "      <td>178.0</td>\n",
       "      <td>174.0</td>\n",
       "      <td>NaN</td>\n",
       "    </tr>\n",
       "    <tr>\n",
       "      <th>30143</th>\n",
       "      <td>South Morang</td>\n",
       "      <td>4</td>\n",
       "      <td>h</td>\n",
       "      <td>PI</td>\n",
       "      <td>Millership</td>\n",
       "      <td>Northern Metropolitan</td>\n",
       "      <td>7969.0</td>\n",
       "      <td>20.5</td>\n",
       "      <td>Whittlesea City Council</td>\n",
       "      <td>4.0</td>\n",
       "      <td>2.0</td>\n",
       "      <td>2.0</td>\n",
       "      <td>451.0</td>\n",
       "      <td>214.0</td>\n",
       "      <td>NaN</td>\n",
       "    </tr>\n",
       "  </tbody>\n",
       "</table>\n",
       "<p>30144 rows × 15 columns</p>\n",
       "</div>"
      ],
      "text/plain": [
       "                 SUBURB  ROOMS TYPE METHOD       SELLERG  \\\n",
       "0          Surrey Hills      3    h      S     Fletchers   \n",
       "1          Surrey Hills      2    u      S     Fletchers   \n",
       "2            Canterbury      4    h     SP     Fletchers   \n",
       "3          Williamstown      3    h      S          Greg   \n",
       "4               Newport      3    h      S       Village   \n",
       "...                 ...    ...  ...    ...           ...   \n",
       "30139           Highett      3    h      S          Greg   \n",
       "30140           Highett      3    t     PI  Purplebricks   \n",
       "30141  Hoppers Crossing      4    h      S         Barry   \n",
       "30142   South Melbourne      4    h     PI      Marshall   \n",
       "30143      South Morang      4    h     PI    Millership   \n",
       "\n",
       "                  REGIONNAME  PROPERTYCOUNT  DISTANCE  \\\n",
       "0      Southern Metropolitan         5457.0      11.2   \n",
       "1      Southern Metropolitan         5457.0      11.2   \n",
       "2      Southern Metropolitan         3265.0       9.0   \n",
       "3       Western Metropolitan         6380.0       8.0   \n",
       "4       Western Metropolitan         5498.0       8.4   \n",
       "...                      ...            ...       ...   \n",
       "30139  Southern Metropolitan         4794.0      16.0   \n",
       "30140  Southern Metropolitan         4794.0      16.0   \n",
       "30141   Western Metropolitan        13830.0      18.4   \n",
       "30142  Southern Metropolitan         5943.0       1.9   \n",
       "30143  Northern Metropolitan         7969.0      20.5   \n",
       "\n",
       "                     COUNCILAREA  BEDROOM2  BATHROOM  CAR  LANDSIZE  \\\n",
       "0        Boroondara City Council       3.0       1.0  2.0     490.0   \n",
       "1        Boroondara City Council       2.0       1.0  2.0     108.0   \n",
       "2        Boroondara City Council       4.0       2.0  0.0     808.0   \n",
       "3       Hobsons Bay City Council       3.0       1.0  1.0     507.0   \n",
       "4       Hobsons Bay City Council       2.0       1.0  2.0     281.0   \n",
       "...                          ...       ...       ...  ...       ...   \n",
       "30139       Bayside City Council       3.0       1.0  2.0     700.0   \n",
       "30140       Bayside City Council       NaN       NaN  NaN       NaN   \n",
       "30141       Wyndham City Council       4.0       2.0  2.0     650.0   \n",
       "30142  Port Phillip City Council       4.0       2.0  0.0     178.0   \n",
       "30143    Whittlesea City Council       4.0       2.0  2.0     451.0   \n",
       "\n",
       "       BUILDINGAREA      PRICE  \n",
       "0               NaN  1205000.0  \n",
       "1               NaN   813000.0  \n",
       "2             198.0        NaN  \n",
       "3             186.0  1535000.0  \n",
       "4             100.0   826000.0  \n",
       "...             ...        ...  \n",
       "30139           NaN  1242000.0  \n",
       "30140           NaN  1395000.0  \n",
       "30141           NaN   540000.0  \n",
       "30142         174.0        NaN  \n",
       "30143         214.0        NaN  \n",
       "\n",
       "[30144 rows x 15 columns]"
      ]
     },
     "execution_count": 18,
     "metadata": {},
     "output_type": "execute_result"
    }
   ],
   "source": [
    "cols=['SUBURB','ROOMS','TYPE','METHOD','SELLERG','REGIONNAME','PROPERTYCOUNT','DISTANCE','COUNCILAREA','BEDROOM2','BATHROOM'\n",
    "           ,'CAR','LANDSIZE','BUILDINGAREA','PRICE']\n",
    "housepricingdf=housepricingdf[cols]\n",
    "housepricingdf"
   ]
  },
  {
   "cell_type": "code",
   "execution_count": 19,
   "id": "1d5bfc65-d89d-4d5d-96be-3b35d17fdbbb",
   "metadata": {},
   "outputs": [
    {
     "data": {
      "text/plain": [
       "SUBURB               0\n",
       "ROOMS                0\n",
       "TYPE                 0\n",
       "METHOD               0\n",
       "SELLERG              0\n",
       "REGIONNAME           2\n",
       "PROPERTYCOUNT        2\n",
       "DISTANCE             0\n",
       "COUNCILAREA          2\n",
       "BEDROOM2          6817\n",
       "BATHROOM          6823\n",
       "CAR               7162\n",
       "LANDSIZE         10066\n",
       "BUILDINGAREA     17997\n",
       "PRICE             6571\n",
       "dtype: int64"
      ]
     },
     "execution_count": 19,
     "metadata": {},
     "output_type": "execute_result"
    }
   ],
   "source": [
    "housepricingdf.isnull().sum()"
   ]
  },
  {
   "cell_type": "code",
   "execution_count": 20,
   "id": "7ab00abe-c491-4fc5-bcd2-f7bf2e5db62c",
   "metadata": {},
   "outputs": [],
   "source": [
    "cols_zero = ['PROPERTYCOUNT','DISTANCE','BEDROOM2','BATHROOM','CAR']\n",
    "housepricingdf[cols_zero]=housepricingdf[cols_zero].fillna(0)\n"
   ]
  },
  {
   "cell_type": "code",
   "execution_count": 21,
   "id": "ed84ae4b-260e-4772-ae4f-355b0267506c",
   "metadata": {},
   "outputs": [],
   "source": [
    "housepricingdf.LANDSIZE=housepricingdf.LANDSIZE.fillna(housepricingdf.LANDSIZE.mean())\n",
    "housepricingdf.BUILDINGAREA=housepricingdf.BUILDINGAREA.fillna(housepricingdf.BUILDINGAREA.mean())\n"
   ]
  },
  {
   "cell_type": "code",
   "execution_count": 22,
   "id": "13d767a1-4b74-4a2a-9117-955b235a176d",
   "metadata": {},
   "outputs": [
    {
     "data": {
      "text/plain": [
       "SUBURB           0\n",
       "ROOMS            0\n",
       "TYPE             0\n",
       "METHOD           0\n",
       "SELLERG          0\n",
       "REGIONNAME       0\n",
       "PROPERTYCOUNT    0\n",
       "DISTANCE         0\n",
       "COUNCILAREA      0\n",
       "BEDROOM2         0\n",
       "BATHROOM         0\n",
       "CAR              0\n",
       "LANDSIZE         0\n",
       "BUILDINGAREA     0\n",
       "PRICE            0\n",
       "dtype: int64"
      ]
     },
     "execution_count": 22,
     "metadata": {},
     "output_type": "execute_result"
    }
   ],
   "source": [
    "housepricingdf.dropna(inplace=True)\n",
    "housepricingdf.isnull().sum()"
   ]
  },
  {
   "cell_type": "code",
   "execution_count": 23,
   "id": "a291730a-a725-4d71-aff9-56dc31ed1a79",
   "metadata": {},
   "outputs": [
    {
     "name": "stdout",
     "output_type": "stream",
     "text": [
      "<class 'pandas.core.frame.DataFrame'>\n",
      "Int64Index: 23571 entries, 0 to 30141\n",
      "Data columns (total 15 columns):\n",
      " #   Column         Non-Null Count  Dtype  \n",
      "---  ------         --------------  -----  \n",
      " 0   SUBURB         23571 non-null  object \n",
      " 1   ROOMS          23571 non-null  int8   \n",
      " 2   TYPE           23571 non-null  object \n",
      " 3   METHOD         23571 non-null  object \n",
      " 4   SELLERG        23571 non-null  object \n",
      " 5   REGIONNAME     23571 non-null  object \n",
      " 6   PROPERTYCOUNT  23571 non-null  float64\n",
      " 7   DISTANCE       23571 non-null  float64\n",
      " 8   COUNCILAREA    23571 non-null  object \n",
      " 9   BEDROOM2       23571 non-null  float64\n",
      " 10  BATHROOM       23571 non-null  float64\n",
      " 11  CAR            23571 non-null  float64\n",
      " 12  LANDSIZE       23571 non-null  float64\n",
      " 13  BUILDINGAREA   23571 non-null  float64\n",
      " 14  PRICE          23571 non-null  float64\n",
      "dtypes: float64(8), int8(1), object(6)\n",
      "memory usage: 2.7+ MB\n"
     ]
    }
   ],
   "source": [
    "housepricingdf.info()"
   ]
  },
  {
   "cell_type": "code",
   "execution_count": 24,
   "id": "dd50f6ca-dffa-4cd3-9a9a-7c0891b82eab",
   "metadata": {},
   "outputs": [
    {
     "data": {
      "text/html": [
       "<div>\n",
       "<style scoped>\n",
       "    .dataframe tbody tr th:only-of-type {\n",
       "        vertical-align: middle;\n",
       "    }\n",
       "\n",
       "    .dataframe tbody tr th {\n",
       "        vertical-align: top;\n",
       "    }\n",
       "\n",
       "    .dataframe thead th {\n",
       "        text-align: right;\n",
       "    }\n",
       "</style>\n",
       "<table border=\"1\" class=\"dataframe\">\n",
       "  <thead>\n",
       "    <tr style=\"text-align: right;\">\n",
       "      <th></th>\n",
       "      <th>SUBURB</th>\n",
       "      <th>ROOMS</th>\n",
       "      <th>TYPE</th>\n",
       "      <th>METHOD</th>\n",
       "      <th>SELLERG</th>\n",
       "      <th>REGIONNAME</th>\n",
       "      <th>PROPERTYCOUNT</th>\n",
       "      <th>DISTANCE</th>\n",
       "      <th>COUNCILAREA</th>\n",
       "      <th>BEDROOM2</th>\n",
       "      <th>BATHROOM</th>\n",
       "      <th>CAR</th>\n",
       "      <th>LANDSIZE</th>\n",
       "      <th>BUILDINGAREA</th>\n",
       "      <th>PRICE</th>\n",
       "    </tr>\n",
       "  </thead>\n",
       "  <tbody>\n",
       "    <tr>\n",
       "      <th>0</th>\n",
       "      <td>Surrey Hills</td>\n",
       "      <td>3</td>\n",
       "      <td>h</td>\n",
       "      <td>S</td>\n",
       "      <td>Fletchers</td>\n",
       "      <td>Southern Metropolitan</td>\n",
       "      <td>5457.0</td>\n",
       "      <td>11.2</td>\n",
       "      <td>Boroondara City Council</td>\n",
       "      <td>3.0</td>\n",
       "      <td>1.0</td>\n",
       "      <td>2.0</td>\n",
       "      <td>490.0</td>\n",
       "      <td>158.001108</td>\n",
       "      <td>1205000.0</td>\n",
       "    </tr>\n",
       "    <tr>\n",
       "      <th>1</th>\n",
       "      <td>Surrey Hills</td>\n",
       "      <td>2</td>\n",
       "      <td>u</td>\n",
       "      <td>S</td>\n",
       "      <td>Fletchers</td>\n",
       "      <td>Southern Metropolitan</td>\n",
       "      <td>5457.0</td>\n",
       "      <td>11.2</td>\n",
       "      <td>Boroondara City Council</td>\n",
       "      <td>2.0</td>\n",
       "      <td>1.0</td>\n",
       "      <td>2.0</td>\n",
       "      <td>108.0</td>\n",
       "      <td>158.001108</td>\n",
       "      <td>813000.0</td>\n",
       "    </tr>\n",
       "    <tr>\n",
       "      <th>3</th>\n",
       "      <td>Williamstown</td>\n",
       "      <td>3</td>\n",
       "      <td>h</td>\n",
       "      <td>S</td>\n",
       "      <td>Greg</td>\n",
       "      <td>Western Metropolitan</td>\n",
       "      <td>6380.0</td>\n",
       "      <td>8.0</td>\n",
       "      <td>Hobsons Bay City Council</td>\n",
       "      <td>3.0</td>\n",
       "      <td>1.0</td>\n",
       "      <td>1.0</td>\n",
       "      <td>507.0</td>\n",
       "      <td>186.000000</td>\n",
       "      <td>1535000.0</td>\n",
       "    </tr>\n",
       "    <tr>\n",
       "      <th>4</th>\n",
       "      <td>Newport</td>\n",
       "      <td>3</td>\n",
       "      <td>h</td>\n",
       "      <td>S</td>\n",
       "      <td>Village</td>\n",
       "      <td>Western Metropolitan</td>\n",
       "      <td>5498.0</td>\n",
       "      <td>8.4</td>\n",
       "      <td>Hobsons Bay City Council</td>\n",
       "      <td>2.0</td>\n",
       "      <td>1.0</td>\n",
       "      <td>2.0</td>\n",
       "      <td>281.0</td>\n",
       "      <td>100.000000</td>\n",
       "      <td>826000.0</td>\n",
       "    </tr>\n",
       "    <tr>\n",
       "      <th>5</th>\n",
       "      <td>Newport</td>\n",
       "      <td>3</td>\n",
       "      <td>h</td>\n",
       "      <td>SP</td>\n",
       "      <td>Sweeney</td>\n",
       "      <td>Western Metropolitan</td>\n",
       "      <td>5498.0</td>\n",
       "      <td>8.4</td>\n",
       "      <td>Hobsons Bay City Council</td>\n",
       "      <td>3.0</td>\n",
       "      <td>2.0</td>\n",
       "      <td>2.0</td>\n",
       "      <td>301.0</td>\n",
       "      <td>195.000000</td>\n",
       "      <td>1025000.0</td>\n",
       "    </tr>\n",
       "  </tbody>\n",
       "</table>\n",
       "</div>"
      ],
      "text/plain": [
       "         SUBURB  ROOMS TYPE METHOD    SELLERG             REGIONNAME  \\\n",
       "0  Surrey Hills      3    h      S  Fletchers  Southern Metropolitan   \n",
       "1  Surrey Hills      2    u      S  Fletchers  Southern Metropolitan   \n",
       "3  Williamstown      3    h      S       Greg   Western Metropolitan   \n",
       "4       Newport      3    h      S    Village   Western Metropolitan   \n",
       "5       Newport      3    h     SP    Sweeney   Western Metropolitan   \n",
       "\n",
       "   PROPERTYCOUNT  DISTANCE               COUNCILAREA  BEDROOM2  BATHROOM  CAR  \\\n",
       "0         5457.0      11.2   Boroondara City Council       3.0       1.0  2.0   \n",
       "1         5457.0      11.2   Boroondara City Council       2.0       1.0  2.0   \n",
       "3         6380.0       8.0  Hobsons Bay City Council       3.0       1.0  1.0   \n",
       "4         5498.0       8.4  Hobsons Bay City Council       2.0       1.0  2.0   \n",
       "5         5498.0       8.4  Hobsons Bay City Council       3.0       2.0  2.0   \n",
       "\n",
       "   LANDSIZE  BUILDINGAREA      PRICE  \n",
       "0     490.0    158.001108  1205000.0  \n",
       "1     108.0    158.001108   813000.0  \n",
       "3     507.0    186.000000  1535000.0  \n",
       "4     281.0    100.000000   826000.0  \n",
       "5     301.0    195.000000  1025000.0  "
      ]
     },
     "execution_count": 24,
     "metadata": {},
     "output_type": "execute_result"
    }
   ],
   "source": [
    "housepricingdf.head()"
   ]
  },
  {
   "cell_type": "code",
   "execution_count": 25,
   "id": "84b782a0-0c8c-474b-9edf-dde173937cd7",
   "metadata": {},
   "outputs": [],
   "source": [
    "from sklearn.preprocessing import LabelEncoder\n",
    "le=LabelEncoder()\n",
    "# for column in housepricingdf.columns:\n",
    "#     le.fit(housepricingdf[column]) "
   ]
  },
  {
   "cell_type": "code",
   "execution_count": 26,
   "id": "fa581358-7448-44ff-924d-6c70e4daa261",
   "metadata": {},
   "outputs": [
    {
     "data": {
      "text/html": [
       "<div>\n",
       "<style scoped>\n",
       "    .dataframe tbody tr th:only-of-type {\n",
       "        vertical-align: middle;\n",
       "    }\n",
       "\n",
       "    .dataframe tbody tr th {\n",
       "        vertical-align: top;\n",
       "    }\n",
       "\n",
       "    .dataframe thead th {\n",
       "        text-align: right;\n",
       "    }\n",
       "</style>\n",
       "<table border=\"1\" class=\"dataframe\">\n",
       "  <thead>\n",
       "    <tr style=\"text-align: right;\">\n",
       "      <th></th>\n",
       "      <th>SUBURB</th>\n",
       "      <th>ROOMS</th>\n",
       "      <th>TYPE</th>\n",
       "      <th>METHOD</th>\n",
       "      <th>SELLERG</th>\n",
       "      <th>REGIONNAME</th>\n",
       "      <th>PROPERTYCOUNT</th>\n",
       "      <th>DISTANCE</th>\n",
       "      <th>COUNCILAREA</th>\n",
       "      <th>BEDROOM2</th>\n",
       "      <th>BATHROOM</th>\n",
       "      <th>CAR</th>\n",
       "      <th>LANDSIZE</th>\n",
       "      <th>BUILDINGAREA</th>\n",
       "      <th>PRICE</th>\n",
       "    </tr>\n",
       "  </thead>\n",
       "  <tbody>\n",
       "    <tr>\n",
       "      <th>0</th>\n",
       "      <td>292</td>\n",
       "      <td>3</td>\n",
       "      <td>0</td>\n",
       "      <td>1</td>\n",
       "      <td>95</td>\n",
       "      <td>5</td>\n",
       "      <td>5457.0</td>\n",
       "      <td>11.2</td>\n",
       "      <td>2</td>\n",
       "      <td>3.0</td>\n",
       "      <td>1.0</td>\n",
       "      <td>2.0</td>\n",
       "      <td>490.000000</td>\n",
       "      <td>158.001108</td>\n",
       "      <td>1205000.0</td>\n",
       "    </tr>\n",
       "    <tr>\n",
       "      <th>1</th>\n",
       "      <td>292</td>\n",
       "      <td>2</td>\n",
       "      <td>2</td>\n",
       "      <td>1</td>\n",
       "      <td>95</td>\n",
       "      <td>5</td>\n",
       "      <td>5457.0</td>\n",
       "      <td>11.2</td>\n",
       "      <td>2</td>\n",
       "      <td>2.0</td>\n",
       "      <td>1.0</td>\n",
       "      <td>2.0</td>\n",
       "      <td>108.000000</td>\n",
       "      <td>158.001108</td>\n",
       "      <td>813000.0</td>\n",
       "    </tr>\n",
       "    <tr>\n",
       "      <th>3</th>\n",
       "      <td>329</td>\n",
       "      <td>3</td>\n",
       "      <td>0</td>\n",
       "      <td>1</td>\n",
       "      <td>110</td>\n",
       "      <td>6</td>\n",
       "      <td>6380.0</td>\n",
       "      <td>8.0</td>\n",
       "      <td>10</td>\n",
       "      <td>3.0</td>\n",
       "      <td>1.0</td>\n",
       "      <td>1.0</td>\n",
       "      <td>507.000000</td>\n",
       "      <td>186.000000</td>\n",
       "      <td>1535000.0</td>\n",
       "    </tr>\n",
       "    <tr>\n",
       "      <th>4</th>\n",
       "      <td>228</td>\n",
       "      <td>3</td>\n",
       "      <td>0</td>\n",
       "      <td>1</td>\n",
       "      <td>296</td>\n",
       "      <td>6</td>\n",
       "      <td>5498.0</td>\n",
       "      <td>8.4</td>\n",
       "      <td>10</td>\n",
       "      <td>2.0</td>\n",
       "      <td>1.0</td>\n",
       "      <td>2.0</td>\n",
       "      <td>281.000000</td>\n",
       "      <td>100.000000</td>\n",
       "      <td>826000.0</td>\n",
       "    </tr>\n",
       "    <tr>\n",
       "      <th>5</th>\n",
       "      <td>228</td>\n",
       "      <td>3</td>\n",
       "      <td>0</td>\n",
       "      <td>3</td>\n",
       "      <td>275</td>\n",
       "      <td>6</td>\n",
       "      <td>5498.0</td>\n",
       "      <td>8.4</td>\n",
       "      <td>10</td>\n",
       "      <td>3.0</td>\n",
       "      <td>2.0</td>\n",
       "      <td>2.0</td>\n",
       "      <td>301.000000</td>\n",
       "      <td>195.000000</td>\n",
       "      <td>1025000.0</td>\n",
       "    </tr>\n",
       "    <tr>\n",
       "      <th>...</th>\n",
       "      <td>...</td>\n",
       "      <td>...</td>\n",
       "      <td>...</td>\n",
       "      <td>...</td>\n",
       "      <td>...</td>\n",
       "      <td>...</td>\n",
       "      <td>...</td>\n",
       "      <td>...</td>\n",
       "      <td>...</td>\n",
       "      <td>...</td>\n",
       "      <td>...</td>\n",
       "      <td>...</td>\n",
       "      <td>...</td>\n",
       "      <td>...</td>\n",
       "      <td>...</td>\n",
       "    </tr>\n",
       "    <tr>\n",
       "      <th>30137</th>\n",
       "      <td>166</td>\n",
       "      <td>4</td>\n",
       "      <td>0</td>\n",
       "      <td>3</td>\n",
       "      <td>314</td>\n",
       "      <td>6</td>\n",
       "      <td>5556.0</td>\n",
       "      <td>18.0</td>\n",
       "      <td>3</td>\n",
       "      <td>4.0</td>\n",
       "      <td>2.0</td>\n",
       "      <td>2.0</td>\n",
       "      <td>600.000000</td>\n",
       "      <td>174.000000</td>\n",
       "      <td>580000.0</td>\n",
       "    </tr>\n",
       "    <tr>\n",
       "      <th>30138</th>\n",
       "      <td>165</td>\n",
       "      <td>2</td>\n",
       "      <td>2</td>\n",
       "      <td>1</td>\n",
       "      <td>121</td>\n",
       "      <td>5</td>\n",
       "      <td>4794.0</td>\n",
       "      <td>16.0</td>\n",
       "      <td>1</td>\n",
       "      <td>2.0</td>\n",
       "      <td>1.0</td>\n",
       "      <td>1.0</td>\n",
       "      <td>130.000000</td>\n",
       "      <td>158.001108</td>\n",
       "      <td>677500.0</td>\n",
       "    </tr>\n",
       "    <tr>\n",
       "      <th>30139</th>\n",
       "      <td>165</td>\n",
       "      <td>3</td>\n",
       "      <td>0</td>\n",
       "      <td>1</td>\n",
       "      <td>110</td>\n",
       "      <td>5</td>\n",
       "      <td>4794.0</td>\n",
       "      <td>16.0</td>\n",
       "      <td>1</td>\n",
       "      <td>3.0</td>\n",
       "      <td>1.0</td>\n",
       "      <td>2.0</td>\n",
       "      <td>700.000000</td>\n",
       "      <td>158.001108</td>\n",
       "      <td>1242000.0</td>\n",
       "    </tr>\n",
       "    <tr>\n",
       "      <th>30140</th>\n",
       "      <td>165</td>\n",
       "      <td>3</td>\n",
       "      <td>1</td>\n",
       "      <td>0</td>\n",
       "      <td>235</td>\n",
       "      <td>5</td>\n",
       "      <td>4794.0</td>\n",
       "      <td>16.0</td>\n",
       "      <td>1</td>\n",
       "      <td>0.0</td>\n",
       "      <td>0.0</td>\n",
       "      <td>0.0</td>\n",
       "      <td>584.022263</td>\n",
       "      <td>158.001108</td>\n",
       "      <td>1395000.0</td>\n",
       "    </tr>\n",
       "    <tr>\n",
       "      <th>30141</th>\n",
       "      <td>167</td>\n",
       "      <td>4</td>\n",
       "      <td>0</td>\n",
       "      <td>1</td>\n",
       "      <td>22</td>\n",
       "      <td>6</td>\n",
       "      <td>13830.0</td>\n",
       "      <td>18.4</td>\n",
       "      <td>30</td>\n",
       "      <td>4.0</td>\n",
       "      <td>2.0</td>\n",
       "      <td>2.0</td>\n",
       "      <td>650.000000</td>\n",
       "      <td>158.001108</td>\n",
       "      <td>540000.0</td>\n",
       "    </tr>\n",
       "  </tbody>\n",
       "</table>\n",
       "<p>23571 rows × 15 columns</p>\n",
       "</div>"
      ],
      "text/plain": [
       "       SUBURB  ROOMS  TYPE  METHOD  SELLERG  REGIONNAME  PROPERTYCOUNT  \\\n",
       "0         292      3     0       1       95           5         5457.0   \n",
       "1         292      2     2       1       95           5         5457.0   \n",
       "3         329      3     0       1      110           6         6380.0   \n",
       "4         228      3     0       1      296           6         5498.0   \n",
       "5         228      3     0       3      275           6         5498.0   \n",
       "...       ...    ...   ...     ...      ...         ...            ...   \n",
       "30137     166      4     0       3      314           6         5556.0   \n",
       "30138     165      2     2       1      121           5         4794.0   \n",
       "30139     165      3     0       1      110           5         4794.0   \n",
       "30140     165      3     1       0      235           5         4794.0   \n",
       "30141     167      4     0       1       22           6        13830.0   \n",
       "\n",
       "       DISTANCE  COUNCILAREA  BEDROOM2  BATHROOM  CAR    LANDSIZE  \\\n",
       "0          11.2            2       3.0       1.0  2.0  490.000000   \n",
       "1          11.2            2       2.0       1.0  2.0  108.000000   \n",
       "3           8.0           10       3.0       1.0  1.0  507.000000   \n",
       "4           8.4           10       2.0       1.0  2.0  281.000000   \n",
       "5           8.4           10       3.0       2.0  2.0  301.000000   \n",
       "...         ...          ...       ...       ...  ...         ...   \n",
       "30137      18.0            3       4.0       2.0  2.0  600.000000   \n",
       "30138      16.0            1       2.0       1.0  1.0  130.000000   \n",
       "30139      16.0            1       3.0       1.0  2.0  700.000000   \n",
       "30140      16.0            1       0.0       0.0  0.0  584.022263   \n",
       "30141      18.4           30       4.0       2.0  2.0  650.000000   \n",
       "\n",
       "       BUILDINGAREA      PRICE  \n",
       "0        158.001108  1205000.0  \n",
       "1        158.001108   813000.0  \n",
       "3        186.000000  1535000.0  \n",
       "4        100.000000   826000.0  \n",
       "5        195.000000  1025000.0  \n",
       "...             ...        ...  \n",
       "30137    174.000000   580000.0  \n",
       "30138    158.001108   677500.0  \n",
       "30139    158.001108  1242000.0  \n",
       "30140    158.001108  1395000.0  \n",
       "30141    158.001108   540000.0  \n",
       "\n",
       "[23571 rows x 15 columns]"
      ]
     },
     "execution_count": 26,
     "metadata": {},
     "output_type": "execute_result"
    }
   ],
   "source": [
    "# le.fit(housepricingdf) \n",
    "le1=LabelEncoder()\n",
    "le2=LabelEncoder()\n",
    "le3=LabelEncoder()\n",
    "le4=LabelEncoder()\n",
    "le5=LabelEncoder()\n",
    "le6=LabelEncoder()\n",
    "housepricingdf.SUBURB=le1.fit_transform(housepricingdf.SUBURB)\n",
    "housepricingdf.TYPE = le2.fit_transform(housepricingdf.TYPE)\n",
    "housepricingdf.METHOD = le3.fit_transform(housepricingdf.METHOD)\n",
    "housepricingdf.SELLERG=le4.fit_transform(housepricingdf.SELLERG)\n",
    "housepricingdf.REGIONNAME=le5.fit_transform(housepricingdf.REGIONNAME)\n",
    "housepricingdf.COUNCILAREA = le6.fit_transform(housepricingdf.COUNCILAREA)\n",
    "housepricingdf"
   ]
  },
  {
   "cell_type": "code",
   "execution_count": null,
   "id": "3b1c73d5-5a06-4088-9a4a-990bb78a5e89",
   "metadata": {},
   "outputs": [],
   "source": []
  },
  {
   "cell_type": "code",
   "execution_count": 27,
   "id": "b57fc934-8cbd-41f6-9a5e-1267194d81c7",
   "metadata": {},
   "outputs": [
    {
     "data": {
      "text/html": [
       "<div>\n",
       "<style scoped>\n",
       "    .dataframe tbody tr th:only-of-type {\n",
       "        vertical-align: middle;\n",
       "    }\n",
       "\n",
       "    .dataframe tbody tr th {\n",
       "        vertical-align: top;\n",
       "    }\n",
       "\n",
       "    .dataframe thead th {\n",
       "        text-align: right;\n",
       "    }\n",
       "</style>\n",
       "<table border=\"1\" class=\"dataframe\">\n",
       "  <thead>\n",
       "    <tr style=\"text-align: right;\">\n",
       "      <th></th>\n",
       "      <th>SUBURB</th>\n",
       "      <th>ROOMS</th>\n",
       "      <th>TYPE</th>\n",
       "      <th>METHOD</th>\n",
       "      <th>SELLERG</th>\n",
       "      <th>REGIONNAME</th>\n",
       "      <th>PROPERTYCOUNT</th>\n",
       "      <th>DISTANCE</th>\n",
       "      <th>COUNCILAREA</th>\n",
       "      <th>BEDROOM2</th>\n",
       "      <th>BATHROOM</th>\n",
       "      <th>CAR</th>\n",
       "      <th>LANDSIZE</th>\n",
       "      <th>BUILDINGAREA</th>\n",
       "      <th>PRICE</th>\n",
       "    </tr>\n",
       "  </thead>\n",
       "  <tbody>\n",
       "    <tr>\n",
       "      <th>0</th>\n",
       "      <td>292</td>\n",
       "      <td>3</td>\n",
       "      <td>0</td>\n",
       "      <td>1</td>\n",
       "      <td>95</td>\n",
       "      <td>5</td>\n",
       "      <td>5457.0</td>\n",
       "      <td>11.2</td>\n",
       "      <td>2</td>\n",
       "      <td>3.0</td>\n",
       "      <td>1.0</td>\n",
       "      <td>2.0</td>\n",
       "      <td>490.0</td>\n",
       "      <td>158.001108</td>\n",
       "      <td>1205000.0</td>\n",
       "    </tr>\n",
       "    <tr>\n",
       "      <th>1</th>\n",
       "      <td>292</td>\n",
       "      <td>2</td>\n",
       "      <td>2</td>\n",
       "      <td>1</td>\n",
       "      <td>95</td>\n",
       "      <td>5</td>\n",
       "      <td>5457.0</td>\n",
       "      <td>11.2</td>\n",
       "      <td>2</td>\n",
       "      <td>2.0</td>\n",
       "      <td>1.0</td>\n",
       "      <td>2.0</td>\n",
       "      <td>108.0</td>\n",
       "      <td>158.001108</td>\n",
       "      <td>813000.0</td>\n",
       "    </tr>\n",
       "    <tr>\n",
       "      <th>3</th>\n",
       "      <td>329</td>\n",
       "      <td>3</td>\n",
       "      <td>0</td>\n",
       "      <td>1</td>\n",
       "      <td>110</td>\n",
       "      <td>6</td>\n",
       "      <td>6380.0</td>\n",
       "      <td>8.0</td>\n",
       "      <td>10</td>\n",
       "      <td>3.0</td>\n",
       "      <td>1.0</td>\n",
       "      <td>1.0</td>\n",
       "      <td>507.0</td>\n",
       "      <td>186.000000</td>\n",
       "      <td>1535000.0</td>\n",
       "    </tr>\n",
       "    <tr>\n",
       "      <th>4</th>\n",
       "      <td>228</td>\n",
       "      <td>3</td>\n",
       "      <td>0</td>\n",
       "      <td>1</td>\n",
       "      <td>296</td>\n",
       "      <td>6</td>\n",
       "      <td>5498.0</td>\n",
       "      <td>8.4</td>\n",
       "      <td>10</td>\n",
       "      <td>2.0</td>\n",
       "      <td>1.0</td>\n",
       "      <td>2.0</td>\n",
       "      <td>281.0</td>\n",
       "      <td>100.000000</td>\n",
       "      <td>826000.0</td>\n",
       "    </tr>\n",
       "    <tr>\n",
       "      <th>5</th>\n",
       "      <td>228</td>\n",
       "      <td>3</td>\n",
       "      <td>0</td>\n",
       "      <td>3</td>\n",
       "      <td>275</td>\n",
       "      <td>6</td>\n",
       "      <td>5498.0</td>\n",
       "      <td>8.4</td>\n",
       "      <td>10</td>\n",
       "      <td>3.0</td>\n",
       "      <td>2.0</td>\n",
       "      <td>2.0</td>\n",
       "      <td>301.0</td>\n",
       "      <td>195.000000</td>\n",
       "      <td>1025000.0</td>\n",
       "    </tr>\n",
       "  </tbody>\n",
       "</table>\n",
       "</div>"
      ],
      "text/plain": [
       "   SUBURB  ROOMS  TYPE  METHOD  SELLERG  REGIONNAME  PROPERTYCOUNT  DISTANCE  \\\n",
       "0     292      3     0       1       95           5         5457.0      11.2   \n",
       "1     292      2     2       1       95           5         5457.0      11.2   \n",
       "3     329      3     0       1      110           6         6380.0       8.0   \n",
       "4     228      3     0       1      296           6         5498.0       8.4   \n",
       "5     228      3     0       3      275           6         5498.0       8.4   \n",
       "\n",
       "   COUNCILAREA  BEDROOM2  BATHROOM  CAR  LANDSIZE  BUILDINGAREA      PRICE  \n",
       "0            2       3.0       1.0  2.0     490.0    158.001108  1205000.0  \n",
       "1            2       2.0       1.0  2.0     108.0    158.001108   813000.0  \n",
       "3           10       3.0       1.0  1.0     507.0    186.000000  1535000.0  \n",
       "4           10       2.0       1.0  2.0     281.0    100.000000   826000.0  \n",
       "5           10       3.0       2.0  2.0     301.0    195.000000  1025000.0  "
      ]
     },
     "execution_count": 27,
     "metadata": {},
     "output_type": "execute_result"
    }
   ],
   "source": [
    "housepricingdf.head()"
   ]
  },
  {
   "cell_type": "code",
   "execution_count": 28,
   "id": "e76e70ce-b761-4d45-9fbf-42a4356a094d",
   "metadata": {},
   "outputs": [
    {
     "name": "stdout",
     "output_type": "stream",
     "text": [
      "<class 'pandas.core.frame.DataFrame'>\n",
      "Int64Index: 23571 entries, 0 to 30141\n",
      "Data columns (total 15 columns):\n",
      " #   Column         Non-Null Count  Dtype  \n",
      "---  ------         --------------  -----  \n",
      " 0   SUBURB         23571 non-null  int64  \n",
      " 1   ROOMS          23571 non-null  int8   \n",
      " 2   TYPE           23571 non-null  int64  \n",
      " 3   METHOD         23571 non-null  int64  \n",
      " 4   SELLERG        23571 non-null  int64  \n",
      " 5   REGIONNAME     23571 non-null  int64  \n",
      " 6   PROPERTYCOUNT  23571 non-null  float64\n",
      " 7   DISTANCE       23571 non-null  float64\n",
      " 8   COUNCILAREA    23571 non-null  int64  \n",
      " 9   BEDROOM2       23571 non-null  float64\n",
      " 10  BATHROOM       23571 non-null  float64\n",
      " 11  CAR            23571 non-null  float64\n",
      " 12  LANDSIZE       23571 non-null  float64\n",
      " 13  BUILDINGAREA   23571 non-null  float64\n",
      " 14  PRICE          23571 non-null  float64\n",
      "dtypes: float64(8), int64(6), int8(1)\n",
      "memory usage: 2.7 MB\n"
     ]
    }
   ],
   "source": [
    "housepricingdf.info()"
   ]
  },
  {
   "cell_type": "code",
   "execution_count": 29,
   "id": "2e1da7c3-1ebd-491f-8fc5-61ea8cda2973",
   "metadata": {},
   "outputs": [],
   "source": [
    "X = housepricingdf.drop(['PRICE'],axis=1)\n",
    "y=housepricingdf.PRICE"
   ]
  },
  {
   "cell_type": "code",
   "execution_count": 30,
   "id": "7af10b08-2ca1-4baa-889c-f24df500c65b",
   "metadata": {},
   "outputs": [
    {
     "data": {
      "text/plain": [
       "((23571, 14), (23571,))"
      ]
     },
     "execution_count": 30,
     "metadata": {},
     "output_type": "execute_result"
    }
   ],
   "source": [
    "X.shape,y.shape"
   ]
  },
  {
   "cell_type": "code",
   "execution_count": 31,
   "id": "e72779e8-0d96-4d40-8fa2-385195d445e9",
   "metadata": {},
   "outputs": [
    {
     "data": {
      "text/plain": [
       "(23571, 15)"
      ]
     },
     "execution_count": 31,
     "metadata": {},
     "output_type": "execute_result"
    }
   ],
   "source": [
    "housepricingdf.shape"
   ]
  },
  {
   "cell_type": "code",
   "execution_count": 56,
   "id": "2d09e6c5-c294-4367-8f2a-4d7e01d3da2f",
   "metadata": {},
   "outputs": [
    {
     "data": {
      "text/plain": [
       "((16499, 14), (7072, 14))"
      ]
     },
     "execution_count": 56,
     "metadata": {},
     "output_type": "execute_result"
    }
   ],
   "source": [
    "from sklearn.model_selection import train_test_split\n",
    "X_train,X_test,y_train,y_test = train_test_split(X,y,test_size=0.3,random_state=42)\n",
    "X_train.shape,X_test.shape"
   ]
  },
  {
   "cell_type": "code",
   "execution_count": 57,
   "id": "f53101b0-21f1-433d-b868-d767d633bfeb",
   "metadata": {},
   "outputs": [
    {
     "data": {
      "text/html": [
       "<style>#sk-container-id-2 {color: black;background-color: white;}#sk-container-id-2 pre{padding: 0;}#sk-container-id-2 div.sk-toggleable {background-color: white;}#sk-container-id-2 label.sk-toggleable__label {cursor: pointer;display: block;width: 100%;margin-bottom: 0;padding: 0.3em;box-sizing: border-box;text-align: center;}#sk-container-id-2 label.sk-toggleable__label-arrow:before {content: \"▸\";float: left;margin-right: 0.25em;color: #696969;}#sk-container-id-2 label.sk-toggleable__label-arrow:hover:before {color: black;}#sk-container-id-2 div.sk-estimator:hover label.sk-toggleable__label-arrow:before {color: black;}#sk-container-id-2 div.sk-toggleable__content {max-height: 0;max-width: 0;overflow: hidden;text-align: left;background-color: #f0f8ff;}#sk-container-id-2 div.sk-toggleable__content pre {margin: 0.2em;color: black;border-radius: 0.25em;background-color: #f0f8ff;}#sk-container-id-2 input.sk-toggleable__control:checked~div.sk-toggleable__content {max-height: 200px;max-width: 100%;overflow: auto;}#sk-container-id-2 input.sk-toggleable__control:checked~label.sk-toggleable__label-arrow:before {content: \"▾\";}#sk-container-id-2 div.sk-estimator input.sk-toggleable__control:checked~label.sk-toggleable__label {background-color: #d4ebff;}#sk-container-id-2 div.sk-label input.sk-toggleable__control:checked~label.sk-toggleable__label {background-color: #d4ebff;}#sk-container-id-2 input.sk-hidden--visually {border: 0;clip: rect(1px 1px 1px 1px);clip: rect(1px, 1px, 1px, 1px);height: 1px;margin: -1px;overflow: hidden;padding: 0;position: absolute;width: 1px;}#sk-container-id-2 div.sk-estimator {font-family: monospace;background-color: #f0f8ff;border: 1px dotted black;border-radius: 0.25em;box-sizing: border-box;margin-bottom: 0.5em;}#sk-container-id-2 div.sk-estimator:hover {background-color: #d4ebff;}#sk-container-id-2 div.sk-parallel-item::after {content: \"\";width: 100%;border-bottom: 1px solid gray;flex-grow: 1;}#sk-container-id-2 div.sk-label:hover label.sk-toggleable__label {background-color: #d4ebff;}#sk-container-id-2 div.sk-serial::before {content: \"\";position: absolute;border-left: 1px solid gray;box-sizing: border-box;top: 0;bottom: 0;left: 50%;z-index: 0;}#sk-container-id-2 div.sk-serial {display: flex;flex-direction: column;align-items: center;background-color: white;padding-right: 0.2em;padding-left: 0.2em;position: relative;}#sk-container-id-2 div.sk-item {position: relative;z-index: 1;}#sk-container-id-2 div.sk-parallel {display: flex;align-items: stretch;justify-content: center;background-color: white;position: relative;}#sk-container-id-2 div.sk-item::before, #sk-container-id-2 div.sk-parallel-item::before {content: \"\";position: absolute;border-left: 1px solid gray;box-sizing: border-box;top: 0;bottom: 0;left: 50%;z-index: -1;}#sk-container-id-2 div.sk-parallel-item {display: flex;flex-direction: column;z-index: 1;position: relative;background-color: white;}#sk-container-id-2 div.sk-parallel-item:first-child::after {align-self: flex-end;width: 50%;}#sk-container-id-2 div.sk-parallel-item:last-child::after {align-self: flex-start;width: 50%;}#sk-container-id-2 div.sk-parallel-item:only-child::after {width: 0;}#sk-container-id-2 div.sk-dashed-wrapped {border: 1px dashed gray;margin: 0 0.4em 0.5em 0.4em;box-sizing: border-box;padding-bottom: 0.4em;background-color: white;}#sk-container-id-2 div.sk-label label {font-family: monospace;font-weight: bold;display: inline-block;line-height: 1.2em;}#sk-container-id-2 div.sk-label-container {text-align: center;}#sk-container-id-2 div.sk-container {/* jupyter's `normalize.less` sets `[hidden] { display: none; }` but bootstrap.min.css set `[hidden] { display: none !important; }` so we also need the `!important` here to be able to override the default hidden behavior on the sphinx rendered scikit-learn.org. See: https://github.com/scikit-learn/scikit-learn/issues/21755 */display: inline-block !important;position: relative;}#sk-container-id-2 div.sk-text-repr-fallback {display: none;}</style><div id=\"sk-container-id-2\" class=\"sk-top-container\"><div class=\"sk-text-repr-fallback\"><pre>LinearRegression()</pre><b>In a Jupyter environment, please rerun this cell to show the HTML representation or trust the notebook. <br />On GitHub, the HTML representation is unable to render, please try loading this page with nbviewer.org.</b></div><div class=\"sk-container\" hidden><div class=\"sk-item\"><div class=\"sk-estimator sk-toggleable\"><input class=\"sk-toggleable__control sk-hidden--visually\" id=\"sk-estimator-id-2\" type=\"checkbox\" checked><label for=\"sk-estimator-id-2\" class=\"sk-toggleable__label sk-toggleable__label-arrow\">LinearRegression</label><div class=\"sk-toggleable__content\"><pre>LinearRegression()</pre></div></div></div></div></div>"
      ],
      "text/plain": [
       "LinearRegression()"
      ]
     },
     "execution_count": 57,
     "metadata": {},
     "output_type": "execute_result"
    }
   ],
   "source": [
    "from sklearn.linear_model import LinearRegression\n",
    "lr=LinearRegression()\n",
    "lr.fit(X_train,y_train)"
   ]
  },
  {
   "cell_type": "code",
   "execution_count": 58,
   "id": "56211462-8c19-4f04-b34d-43c70ec5521a",
   "metadata": {},
   "outputs": [
    {
     "data": {
      "text/plain": [
       "-0.35594039989051396"
      ]
     },
     "execution_count": 58,
     "metadata": {},
     "output_type": "execute_result"
    }
   ],
   "source": [
    "from sklearn import metrics\n",
    "pred = lr.predict(X_test)\n",
    "score = metrics.r2_score(pred,y_test)\n",
    "score"
   ]
  },
  {
   "cell_type": "code",
   "execution_count": 36,
   "id": "862b91bf-6ce3-4b8a-8058-48bb600acfa5",
   "metadata": {},
   "outputs": [
    {
     "data": {
      "text/html": [
       "<div>\n",
       "<style scoped>\n",
       "    .dataframe tbody tr th:only-of-type {\n",
       "        vertical-align: middle;\n",
       "    }\n",
       "\n",
       "    .dataframe tbody tr th {\n",
       "        vertical-align: top;\n",
       "    }\n",
       "\n",
       "    .dataframe thead th {\n",
       "        text-align: right;\n",
       "    }\n",
       "</style>\n",
       "<table border=\"1\" class=\"dataframe\">\n",
       "  <thead>\n",
       "    <tr style=\"text-align: right;\">\n",
       "      <th></th>\n",
       "      <th>Actual_Price</th>\n",
       "      <th>Predicted_Price</th>\n",
       "      <th>difference</th>\n",
       "    </tr>\n",
       "  </thead>\n",
       "  <tbody>\n",
       "    <tr>\n",
       "      <th>24685</th>\n",
       "      <td>860000.0</td>\n",
       "      <td>114674.0</td>\n",
       "      <td>-745326.0</td>\n",
       "    </tr>\n",
       "    <tr>\n",
       "      <th>1164</th>\n",
       "      <td>568500.0</td>\n",
       "      <td>1089824.0</td>\n",
       "      <td>521324.0</td>\n",
       "    </tr>\n",
       "    <tr>\n",
       "      <th>5481</th>\n",
       "      <td>1950000.0</td>\n",
       "      <td>1844661.0</td>\n",
       "      <td>-105339.0</td>\n",
       "    </tr>\n",
       "    <tr>\n",
       "      <th>2963</th>\n",
       "      <td>875000.0</td>\n",
       "      <td>900313.0</td>\n",
       "      <td>25313.0</td>\n",
       "    </tr>\n",
       "    <tr>\n",
       "      <th>27038</th>\n",
       "      <td>1094000.0</td>\n",
       "      <td>1095174.0</td>\n",
       "      <td>1174.0</td>\n",
       "    </tr>\n",
       "    <tr>\n",
       "      <th>645</th>\n",
       "      <td>1715000.0</td>\n",
       "      <td>1591761.0</td>\n",
       "      <td>-123239.0</td>\n",
       "    </tr>\n",
       "    <tr>\n",
       "      <th>3562</th>\n",
       "      <td>2040000.0</td>\n",
       "      <td>1271457.0</td>\n",
       "      <td>-768543.0</td>\n",
       "    </tr>\n",
       "    <tr>\n",
       "      <th>1058</th>\n",
       "      <td>1405000.0</td>\n",
       "      <td>1257373.0</td>\n",
       "      <td>-147627.0</td>\n",
       "    </tr>\n",
       "    <tr>\n",
       "      <th>2188</th>\n",
       "      <td>981000.0</td>\n",
       "      <td>1037770.0</td>\n",
       "      <td>56770.0</td>\n",
       "    </tr>\n",
       "    <tr>\n",
       "      <th>8327</th>\n",
       "      <td>570500.0</td>\n",
       "      <td>1375430.0</td>\n",
       "      <td>804930.0</td>\n",
       "    </tr>\n",
       "  </tbody>\n",
       "</table>\n",
       "</div>"
      ],
      "text/plain": [
       "       Actual_Price  Predicted_Price  difference\n",
       "24685      860000.0         114674.0   -745326.0\n",
       "1164       568500.0        1089824.0    521324.0\n",
       "5481      1950000.0        1844661.0   -105339.0\n",
       "2963       875000.0         900313.0     25313.0\n",
       "27038     1094000.0        1095174.0      1174.0\n",
       "645       1715000.0        1591761.0   -123239.0\n",
       "3562      2040000.0        1271457.0   -768543.0\n",
       "1058      1405000.0        1257373.0   -147627.0\n",
       "2188       981000.0        1037770.0     56770.0\n",
       "8327       570500.0        1375430.0    804930.0"
      ]
     },
     "execution_count": 36,
     "metadata": {},
     "output_type": "execute_result"
    }
   ],
   "source": [
    "df= pd.DataFrame({'Actual_Price': np.round(y_test), \n",
    "                   'Predicted_Price': np.round(pred),\n",
    "                 })\n",
    "df['difference']=df.apply(lambda x: x.Predicted_Price-x.Actual_Price,axis=1)\n",
    "df.head(10)"
   ]
  },
  {
   "cell_type": "code",
   "execution_count": 37,
   "id": "a6f87b4c-5eb5-4ef1-93da-6dd48d8750e7",
   "metadata": {},
   "outputs": [],
   "source": [
    "# Creating a User Defined Function within Snowflake to do the scoring there\n",
    "def predict_pandas_udf(df: pd.DataFrame) -> pd.Series:\n",
    "    return pd.Series(lr.predict(df))  \n",
    "\n"
   ]
  },
  {
   "cell_type": "code",
   "execution_count": null,
   "id": "7ddc4c95-a46c-4d08-b2ee-fbf0e895dc53",
   "metadata": {},
   "outputs": [],
   "source": []
  },
  {
   "cell_type": "code",
   "execution_count": 38,
   "id": "5c2a1ae7-4d73-40fb-a8a6-7f3b35461b78",
   "metadata": {},
   "outputs": [
    {
     "name": "stderr",
     "output_type": "stream",
     "text": [
      "create_temp_table is deprecated. We still respect this parameter when it is True but please consider using `table_type=\"temporary\"` instead.\n"
     ]
    },
    {
     "name": "stdout",
     "output_type": "stream",
     "text": [
      "----------------------------------------------------------------------------------------------------------------------------------------------------------------------------------------------------\n",
      "|\"SUBURB\"  |\"ROOMS\"  |\"TYPE\"  |\"METHOD\"  |\"SELLERG\"  |\"REGIONNAME\"  |\"PROPERTYCOUNT\"  |\"DISTANCE\"  |\"COUNCILAREA\"  |\"BEDROOM2\"  |\"BATHROOM\"  |\"CAR\"  |\"LANDSIZE\"  |\"BUILDINGAREA\"      |\"PRICE\"    |\n",
      "----------------------------------------------------------------------------------------------------------------------------------------------------------------------------------------------------\n",
      "|292       |3        |0       |1         |95         |5             |5457.0           |11.2        |2              |3.0         |1.0         |2.0    |490.0       |158.00110757388654  |1205000.0  |\n",
      "|292       |2        |2       |1         |95         |5             |5457.0           |11.2        |2              |2.0         |1.0         |2.0    |108.0       |158.00110757388654  |813000.0   |\n",
      "|329       |3        |0       |1         |110        |6             |6380.0           |8.0         |10             |3.0         |1.0         |1.0    |507.0       |186.0               |1535000.0  |\n",
      "|228       |3        |0       |1         |296        |6             |5498.0           |8.4         |10             |2.0         |1.0         |2.0    |281.0       |100.0               |826000.0   |\n",
      "|228       |3        |0       |3         |275        |6             |5498.0           |8.4         |10             |3.0         |2.0         |2.0    |301.0       |195.0               |1025000.0  |\n",
      "|219       |1        |2       |1         |244        |5             |2555.0           |14.6        |12             |1.0         |1.0         |1.0    |106.0       |51.0                |380500.0   |\n",
      "|219       |3        |0       |1         |206        |5             |2555.0           |14.6        |12             |3.0         |2.0         |2.0    |573.0       |150.0               |1000000.0  |\n",
      "|219       |3        |0       |1         |46         |5             |2555.0           |14.6        |12             |3.0         |1.0         |3.0    |771.0       |158.00110757388654  |1020000.0  |\n",
      "|219       |3        |0       |1         |46         |5             |2555.0           |14.6        |12             |3.0         |1.0         |3.0    |834.0       |143.0               |1224000.0  |\n",
      "|218       |3        |2       |1         |197        |6             |6232.0           |6.9         |22             |3.0         |2.0         |2.0    |0.0         |120.0               |670000.0   |\n",
      "----------------------------------------------------------------------------------------------------------------------------------------------------------------------------------------------------\n",
      "\n",
      "----------------------------------------------------------------------------------------------------------------------------------------------------------------------------------------------------\n",
      "|\"SUBURB\"  |\"ROOMS\"  |\"TYPE\"  |\"METHOD\"  |\"SELLERG\"  |\"REGIONNAME\"  |\"PROPERTYCOUNT\"  |\"DISTANCE\"  |\"COUNCILAREA\"  |\"BEDROOM2\"  |\"BATHROOM\"  |\"CAR\"  |\"LANDSIZE\"  |\"BUILDINGAREA\"      |\"PRICE\"    |\n",
      "----------------------------------------------------------------------------------------------------------------------------------------------------------------------------------------------------\n",
      "|292       |3        |0       |1         |95         |5             |5457.0           |11.2        |2              |3.0         |1.0         |2.0    |490.0       |158.00110757388654  |1205000.0  |\n",
      "|292       |2        |2       |1         |95         |5             |5457.0           |11.2        |2              |2.0         |1.0         |2.0    |108.0       |158.00110757388654  |813000.0   |\n",
      "|329       |3        |0       |1         |110        |6             |6380.0           |8.0         |10             |3.0         |1.0         |1.0    |507.0       |186.0               |1535000.0  |\n",
      "|228       |3        |0       |1         |296        |6             |5498.0           |8.4         |10             |2.0         |1.0         |2.0    |281.0       |100.0               |826000.0   |\n",
      "|228       |3        |0       |3         |275        |6             |5498.0           |8.4         |10             |3.0         |2.0         |2.0    |301.0       |195.0               |1025000.0  |\n",
      "----------------------------------------------------------------------------------------------------------------------------------------------------------------------------------------------------\n",
      "\n"
     ]
    }
   ],
   "source": [
    "housepricingdf.columns = map(lambda x: str(x).upper(), housepricingdf.columns)\n",
    "snowdf_details = session.createDataFrame(housepricingdf)\n",
    "snowdf_details.show()\n",
    "snowdf_details.write.mode(\"overwrite\").saveAsTable(\"HOUSING.PUBLIC.FULL_HOUSINGPRICE_encoded\") \n",
    "\n",
    "session.table(\"HOUSING.PUBLIC.FULL_HOUSINGPRICE_encoded\").show(5)"
   ]
  },
  {
   "cell_type": "code",
   "execution_count": 39,
   "id": "9de737a8-12e1-4c2a-89d9-360fffa418d0",
   "metadata": {},
   "outputs": [],
   "source": [
    "linear_model_vec = pandas_udf(func=predict_pandas_udf,\n",
    "                                return_type=FloatType(),\n",
    "                                input_types=[IntegerType(),IntegerType(),IntegerType(),IntegerType(),IntegerType(),IntegerType(),FloatType(),FloatType(),FloatType(),IntegerType(),FloatType(),FloatType(),FloatType(),FloatType()],\n",
    "                                session=session,\n",
    "                                packages = (\"pandas\",\"scikit-learn\"), max_batch_size=200)"
   ]
  },
  {
   "cell_type": "code",
   "execution_count": 40,
   "id": "f1c69a71-1869-47bc-a1d9-29bbde2b41a0",
   "metadata": {},
   "outputs": [
    {
     "name": "stderr",
     "output_type": "stream",
     "text": [
      "Passing arguments to a UDF with a list or tuple is deprecated. We still respect this invocation but please consider passing variable-length arguments without a list or tuple.\n"
     ]
    },
    {
     "name": "stdout",
     "output_type": "stream",
     "text": [
      "------------------------------------------------------------------------------------------------------------------------------------------------------------------------------------------------------------------------------\n",
      "|\"SUBURB\"  |\"ROOMS\"  |\"TYPE\"  |\"METHOD\"  |\"SELLERG\"  |\"REGIONNAME\"  |\"PROPERTYCOUNT\"  |\"DISTANCE\"  |\"COUNCILAREA\"  |\"BEDROOM2\"  |\"BATHROOM\"  |\"CAR\"  |\"LANDSIZE\"  |\"BUILDINGAREA\"      |\"PREDICTED_PRICE\"   |\"ACTUAL_PRICE\"  |\n",
      "------------------------------------------------------------------------------------------------------------------------------------------------------------------------------------------------------------------------------\n",
      "|292       |3        |0       |1         |95         |5             |5457.0           |11.2        |2              |3.0         |1.0         |2.0    |490.0       |158.00110757388654  |1049874.6853844114  |1205000.0       |\n",
      "|292       |2        |2       |1         |95         |5             |5457.0           |11.2        |2              |2.0         |1.0         |2.0    |108.0       |158.00110757388654  |486663.5793804181   |813000.0        |\n",
      "|329       |3        |0       |1         |110        |6             |6380.0           |8.0         |10             |3.0         |1.0         |1.0    |507.0       |186.0               |1101474.6041639084  |1535000.0       |\n",
      "|228       |3        |0       |1         |296        |6             |5498.0           |8.4         |10             |2.0         |1.0         |2.0    |281.0       |100.0               |1261468.7812283186  |826000.0        |\n",
      "|228       |3        |0       |3         |275        |6             |5498.0           |8.4         |10             |3.0         |2.0         |2.0    |301.0       |195.0               |1362122.8762114816  |1025000.0       |\n",
      "------------------------------------------------------------------------------------------------------------------------------------------------------------------------------------------------------------------------------\n",
      "\n"
     ]
    }
   ],
   "source": [
    "\n",
    "# Calling the UDF to do the scoring (pushing down to Snowflake)\n",
    "output = session.table('HOUSING.PUBLIC.FULL_HOUSINGPRICE_encoded').select(*list(X.columns),\n",
    "                    linear_model_vec(list(X.columns)).alias('PREDICTED_PRICE'),\n",
    "                    (F.col('Price')).alias('ACTUAL_PRICE')                                              \n",
    "                    )\n",
    "\n",
    "output.show(5)\n"
   ]
  },
  {
   "cell_type": "code",
   "execution_count": 41,
   "id": "1ab12561-b551-4614-83aa-8809f53c2bba",
   "metadata": {},
   "outputs": [],
   "source": [
    "output=output.to_pandas()"
   ]
  },
  {
   "cell_type": "code",
   "execution_count": 42,
   "id": "70a27ab0-866e-4d79-b2c4-c4fbca2e5b7e",
   "metadata": {},
   "outputs": [
    {
     "data": {
      "text/html": [
       "<div>\n",
       "<style scoped>\n",
       "    .dataframe tbody tr th:only-of-type {\n",
       "        vertical-align: middle;\n",
       "    }\n",
       "\n",
       "    .dataframe tbody tr th {\n",
       "        vertical-align: top;\n",
       "    }\n",
       "\n",
       "    .dataframe thead th {\n",
       "        text-align: right;\n",
       "    }\n",
       "</style>\n",
       "<table border=\"1\" class=\"dataframe\">\n",
       "  <thead>\n",
       "    <tr style=\"text-align: right;\">\n",
       "      <th></th>\n",
       "      <th>SUBURB</th>\n",
       "      <th>ROOMS</th>\n",
       "      <th>TYPE</th>\n",
       "      <th>METHOD</th>\n",
       "      <th>SELLERG</th>\n",
       "      <th>REGIONNAME</th>\n",
       "      <th>PROPERTYCOUNT</th>\n",
       "      <th>DISTANCE</th>\n",
       "      <th>COUNCILAREA</th>\n",
       "      <th>BEDROOM2</th>\n",
       "      <th>BATHROOM</th>\n",
       "      <th>CAR</th>\n",
       "      <th>LANDSIZE</th>\n",
       "      <th>BUILDINGAREA</th>\n",
       "      <th>PREDICTED_PRICE</th>\n",
       "      <th>ACTUAL_PRICE</th>\n",
       "    </tr>\n",
       "  </thead>\n",
       "  <tbody>\n",
       "    <tr>\n",
       "      <th>0</th>\n",
       "      <td>219</td>\n",
       "      <td>3</td>\n",
       "      <td>0</td>\n",
       "      <td>1</td>\n",
       "      <td>46</td>\n",
       "      <td>5</td>\n",
       "      <td>2555.0</td>\n",
       "      <td>14.6</td>\n",
       "      <td>12</td>\n",
       "      <td>3.0</td>\n",
       "      <td>1.0</td>\n",
       "      <td>3.0</td>\n",
       "      <td>771.000000</td>\n",
       "      <td>158.001108</td>\n",
       "      <td>9.401036e+05</td>\n",
       "      <td>1020000.0</td>\n",
       "    </tr>\n",
       "    <tr>\n",
       "      <th>1</th>\n",
       "      <td>11</td>\n",
       "      <td>2</td>\n",
       "      <td>2</td>\n",
       "      <td>1</td>\n",
       "      <td>136</td>\n",
       "      <td>5</td>\n",
       "      <td>4836.0</td>\n",
       "      <td>6.3</td>\n",
       "      <td>27</td>\n",
       "      <td>2.0</td>\n",
       "      <td>1.0</td>\n",
       "      <td>1.0</td>\n",
       "      <td>0.000000</td>\n",
       "      <td>76.000000</td>\n",
       "      <td>7.021112e+05</td>\n",
       "      <td>599000.0</td>\n",
       "    </tr>\n",
       "    <tr>\n",
       "      <th>2</th>\n",
       "      <td>329</td>\n",
       "      <td>4</td>\n",
       "      <td>0</td>\n",
       "      <td>1</td>\n",
       "      <td>317</td>\n",
       "      <td>6</td>\n",
       "      <td>6380.0</td>\n",
       "      <td>8.0</td>\n",
       "      <td>10</td>\n",
       "      <td>3.0</td>\n",
       "      <td>2.0</td>\n",
       "      <td>1.0</td>\n",
       "      <td>452.000000</td>\n",
       "      <td>158.001108</td>\n",
       "      <td>1.588412e+06</td>\n",
       "      <td>1325000.0</td>\n",
       "    </tr>\n",
       "    <tr>\n",
       "      <th>3</th>\n",
       "      <td>239</td>\n",
       "      <td>2</td>\n",
       "      <td>0</td>\n",
       "      <td>1</td>\n",
       "      <td>46</td>\n",
       "      <td>4</td>\n",
       "      <td>3692.0</td>\n",
       "      <td>14.7</td>\n",
       "      <td>12</td>\n",
       "      <td>0.0</td>\n",
       "      <td>0.0</td>\n",
       "      <td>0.0</td>\n",
       "      <td>584.022263</td>\n",
       "      <td>158.001108</td>\n",
       "      <td>6.863183e+05</td>\n",
       "      <td>1242000.0</td>\n",
       "    </tr>\n",
       "    <tr>\n",
       "      <th>4</th>\n",
       "      <td>233</td>\n",
       "      <td>3</td>\n",
       "      <td>0</td>\n",
       "      <td>2</td>\n",
       "      <td>197</td>\n",
       "      <td>2</td>\n",
       "      <td>11364.0</td>\n",
       "      <td>5.5</td>\n",
       "      <td>6</td>\n",
       "      <td>3.0</td>\n",
       "      <td>2.0</td>\n",
       "      <td>2.0</td>\n",
       "      <td>286.000000</td>\n",
       "      <td>188.000000</td>\n",
       "      <td>1.445616e+06</td>\n",
       "      <td>1382500.0</td>\n",
       "    </tr>\n",
       "  </tbody>\n",
       "</table>\n",
       "</div>"
      ],
      "text/plain": [
       "   SUBURB  ROOMS  TYPE  METHOD  SELLERG  REGIONNAME  PROPERTYCOUNT  DISTANCE  \\\n",
       "0     219      3     0       1       46           5         2555.0      14.6   \n",
       "1      11      2     2       1      136           5         4836.0       6.3   \n",
       "2     329      4     0       1      317           6         6380.0       8.0   \n",
       "3     239      2     0       1       46           4         3692.0      14.7   \n",
       "4     233      3     0       2      197           2        11364.0       5.5   \n",
       "\n",
       "   COUNCILAREA  BEDROOM2  BATHROOM  CAR    LANDSIZE  BUILDINGAREA  \\\n",
       "0           12       3.0       1.0  3.0  771.000000    158.001108   \n",
       "1           27       2.0       1.0  1.0    0.000000     76.000000   \n",
       "2           10       3.0       2.0  1.0  452.000000    158.001108   \n",
       "3           12       0.0       0.0  0.0  584.022263    158.001108   \n",
       "4            6       3.0       2.0  2.0  286.000000    188.000000   \n",
       "\n",
       "   PREDICTED_PRICE  ACTUAL_PRICE  \n",
       "0     9.401036e+05     1020000.0  \n",
       "1     7.021112e+05      599000.0  \n",
       "2     1.588412e+06     1325000.0  \n",
       "3     6.863183e+05     1242000.0  \n",
       "4     1.445616e+06     1382500.0  "
      ]
     },
     "execution_count": 42,
     "metadata": {},
     "output_type": "execute_result"
    }
   ],
   "source": [
    "output.head()"
   ]
  },
  {
   "cell_type": "code",
   "execution_count": 43,
   "id": "ba21afe0-3976-4313-97e1-9ee053d54b4b",
   "metadata": {},
   "outputs": [],
   "source": [
    "output.SUBURB=le1.inverse_transform(output.SUBURB)\n",
    "output.TYPE = le2.inverse_transform(output.TYPE)\n",
    "output.METHOD = le3.inverse_transform(output.METHOD)\n",
    "output.SELLERG=le4.inverse_transform(output.SELLERG)\n",
    "output.REGIONNAME=le5.inverse_transform(output.REGIONNAME)\n",
    "output.COUNCILAREA = le6.inverse_transform(output.COUNCILAREA)\n"
   ]
  },
  {
   "cell_type": "code",
   "execution_count": 44,
   "id": "c4038e61-faf6-4405-baff-801041735f61",
   "metadata": {},
   "outputs": [
    {
     "data": {
      "text/html": [
       "<div>\n",
       "<style scoped>\n",
       "    .dataframe tbody tr th:only-of-type {\n",
       "        vertical-align: middle;\n",
       "    }\n",
       "\n",
       "    .dataframe tbody tr th {\n",
       "        vertical-align: top;\n",
       "    }\n",
       "\n",
       "    .dataframe thead th {\n",
       "        text-align: right;\n",
       "    }\n",
       "</style>\n",
       "<table border=\"1\" class=\"dataframe\">\n",
       "  <thead>\n",
       "    <tr style=\"text-align: right;\">\n",
       "      <th></th>\n",
       "      <th>SUBURB</th>\n",
       "      <th>ROOMS</th>\n",
       "      <th>TYPE</th>\n",
       "      <th>METHOD</th>\n",
       "      <th>SELLERG</th>\n",
       "      <th>REGIONNAME</th>\n",
       "      <th>PROPERTYCOUNT</th>\n",
       "      <th>DISTANCE</th>\n",
       "      <th>COUNCILAREA</th>\n",
       "      <th>BEDROOM2</th>\n",
       "      <th>BATHROOM</th>\n",
       "      <th>CAR</th>\n",
       "      <th>LANDSIZE</th>\n",
       "      <th>BUILDINGAREA</th>\n",
       "      <th>PREDICTED_PRICE</th>\n",
       "      <th>ACTUAL_PRICE</th>\n",
       "    </tr>\n",
       "  </thead>\n",
       "  <tbody>\n",
       "    <tr>\n",
       "      <th>0</th>\n",
       "      <td>Moorabbin</td>\n",
       "      <td>3</td>\n",
       "      <td>h</td>\n",
       "      <td>S</td>\n",
       "      <td>Buxton</td>\n",
       "      <td>Southern Metropolitan</td>\n",
       "      <td>2555.0</td>\n",
       "      <td>14.6</td>\n",
       "      <td>Kingston City Council</td>\n",
       "      <td>3.0</td>\n",
       "      <td>1.0</td>\n",
       "      <td>3.0</td>\n",
       "      <td>771.000000</td>\n",
       "      <td>158.001108</td>\n",
       "      <td>9.401036e+05</td>\n",
       "      <td>1020000.0</td>\n",
       "    </tr>\n",
       "    <tr>\n",
       "      <th>1</th>\n",
       "      <td>Armadale</td>\n",
       "      <td>2</td>\n",
       "      <td>u</td>\n",
       "      <td>S</td>\n",
       "      <td>Jellis</td>\n",
       "      <td>Southern Metropolitan</td>\n",
       "      <td>4836.0</td>\n",
       "      <td>6.3</td>\n",
       "      <td>Stonnington City Council</td>\n",
       "      <td>2.0</td>\n",
       "      <td>1.0</td>\n",
       "      <td>1.0</td>\n",
       "      <td>0.000000</td>\n",
       "      <td>76.000000</td>\n",
       "      <td>7.021112e+05</td>\n",
       "      <td>599000.0</td>\n",
       "    </tr>\n",
       "    <tr>\n",
       "      <th>2</th>\n",
       "      <td>Williamstown</td>\n",
       "      <td>4</td>\n",
       "      <td>h</td>\n",
       "      <td>S</td>\n",
       "      <td>hockingstuart</td>\n",
       "      <td>Western Metropolitan</td>\n",
       "      <td>6380.0</td>\n",
       "      <td>8.0</td>\n",
       "      <td>Hobsons Bay City Council</td>\n",
       "      <td>3.0</td>\n",
       "      <td>2.0</td>\n",
       "      <td>1.0</td>\n",
       "      <td>452.000000</td>\n",
       "      <td>158.001108</td>\n",
       "      <td>1.588412e+06</td>\n",
       "      <td>1325000.0</td>\n",
       "    </tr>\n",
       "    <tr>\n",
       "      <th>3</th>\n",
       "      <td>Oakleigh South</td>\n",
       "      <td>2</td>\n",
       "      <td>h</td>\n",
       "      <td>S</td>\n",
       "      <td>Buxton</td>\n",
       "      <td>South-Eastern Metropolitan</td>\n",
       "      <td>3692.0</td>\n",
       "      <td>14.7</td>\n",
       "      <td>Kingston City Council</td>\n",
       "      <td>0.0</td>\n",
       "      <td>0.0</td>\n",
       "      <td>0.0</td>\n",
       "      <td>584.022263</td>\n",
       "      <td>158.001108</td>\n",
       "      <td>6.863183e+05</td>\n",
       "      <td>1242000.0</td>\n",
       "    </tr>\n",
       "    <tr>\n",
       "      <th>4</th>\n",
       "      <td>Northcote</td>\n",
       "      <td>3</td>\n",
       "      <td>h</td>\n",
       "      <td>SA</td>\n",
       "      <td>Nelson</td>\n",
       "      <td>Northern Metropolitan</td>\n",
       "      <td>11364.0</td>\n",
       "      <td>5.5</td>\n",
       "      <td>Darebin City Council</td>\n",
       "      <td>3.0</td>\n",
       "      <td>2.0</td>\n",
       "      <td>2.0</td>\n",
       "      <td>286.000000</td>\n",
       "      <td>188.000000</td>\n",
       "      <td>1.445616e+06</td>\n",
       "      <td>1382500.0</td>\n",
       "    </tr>\n",
       "  </tbody>\n",
       "</table>\n",
       "</div>"
      ],
      "text/plain": [
       "           SUBURB  ROOMS TYPE METHOD        SELLERG  \\\n",
       "0       Moorabbin      3    h      S         Buxton   \n",
       "1        Armadale      2    u      S         Jellis   \n",
       "2    Williamstown      4    h      S  hockingstuart   \n",
       "3  Oakleigh South      2    h      S         Buxton   \n",
       "4       Northcote      3    h     SA         Nelson   \n",
       "\n",
       "                   REGIONNAME  PROPERTYCOUNT  DISTANCE  \\\n",
       "0       Southern Metropolitan         2555.0      14.6   \n",
       "1       Southern Metropolitan         4836.0       6.3   \n",
       "2        Western Metropolitan         6380.0       8.0   \n",
       "3  South-Eastern Metropolitan         3692.0      14.7   \n",
       "4       Northern Metropolitan        11364.0       5.5   \n",
       "\n",
       "                COUNCILAREA  BEDROOM2  BATHROOM  CAR    LANDSIZE  \\\n",
       "0     Kingston City Council       3.0       1.0  3.0  771.000000   \n",
       "1  Stonnington City Council       2.0       1.0  1.0    0.000000   \n",
       "2  Hobsons Bay City Council       3.0       2.0  1.0  452.000000   \n",
       "3     Kingston City Council       0.0       0.0  0.0  584.022263   \n",
       "4      Darebin City Council       3.0       2.0  2.0  286.000000   \n",
       "\n",
       "   BUILDINGAREA  PREDICTED_PRICE  ACTUAL_PRICE  \n",
       "0    158.001108     9.401036e+05     1020000.0  \n",
       "1     76.000000     7.021112e+05      599000.0  \n",
       "2    158.001108     1.588412e+06     1325000.0  \n",
       "3    158.001108     6.863183e+05     1242000.0  \n",
       "4    188.000000     1.445616e+06     1382500.0  "
      ]
     },
     "execution_count": 44,
     "metadata": {},
     "output_type": "execute_result"
    }
   ],
   "source": [
    "output.head()"
   ]
  },
  {
   "cell_type": "code",
   "execution_count": 45,
   "id": "47c797e3-7ca0-4a1a-a3f5-907452b89dbe",
   "metadata": {},
   "outputs": [
    {
     "name": "stdout",
     "output_type": "stream",
     "text": [
      "--------------------------------------------------------------------------------------------------------------------------------------------------------------------------------------------------------------------------------------------------------------------------\n",
      "|\"SUBURB\"        |\"ROOMS\"  |\"TYPE\"  |\"METHOD\"  |\"SELLERG\"      |\"REGIONNAME\"                |\"PROPERTYCOUNT\"  |\"DISTANCE\"  |\"COUNCILAREA\"               |\"BEDROOM2\"  |\"BATHROOM\"  |\"CAR\"  |\"LANDSIZE\"         |\"BUILDINGAREA\"      |\"PREDICTED_PRICE\"   |\"ACTUAL_PRICE\"  |\n",
      "--------------------------------------------------------------------------------------------------------------------------------------------------------------------------------------------------------------------------------------------------------------------------\n",
      "|Moorabbin       |3        |h       |S         |Buxton         |Southern Metropolitan       |2555.0           |14.6        |Kingston City Council       |3.0         |1.0         |3.0    |771.0              |158.00110757388654  |940103.6122362961   |1020000.0       |\n",
      "|Armadale        |2        |u       |S         |Jellis         |Southern Metropolitan       |4836.0           |6.3         |Stonnington City Council    |2.0         |1.0         |1.0    |0.0                |76.0                |702111.2265377933   |599000.0        |\n",
      "|Williamstown    |4        |h       |S         |hockingstuart  |Western Metropolitan        |6380.0           |8.0         |Hobsons Bay City Council    |3.0         |2.0         |1.0    |452.0              |158.00110757388654  |1588411.5928098517  |1325000.0       |\n",
      "|Oakleigh South  |2        |h       |S         |Buxton         |South-Eastern Metropolitan  |3692.0           |14.7        |Kingston City Council       |0.0         |0.0         |0.0    |584.0222631736228  |158.00110757388654  |686318.2780277679   |1242000.0       |\n",
      "|Northcote       |3        |h       |SA        |Nelson         |Northern Metropolitan       |11364.0          |5.5         |Darebin City Council        |3.0         |2.0         |2.0    |286.0              |188.0               |1445616.2790809968  |1382500.0       |\n",
      "|Niddrie         |3        |h       |SP        |Brad           |Western Metropolitan        |2291.0           |11.2        |Moonee Valley City Council  |0.0         |0.0         |0.0    |584.0222631736228  |158.00110757388654  |1090287.2313152307  |950000.0        |\n",
      "|Altona North    |3        |h       |S         |Jas            |Western Metropolitan        |5132.0           |11.1        |Hobsons Bay City Council    |3.0         |1.0         |2.0    |533.0              |117.0               |1215734.849022455   |781000.0        |\n",
      "|Hughesdale      |2        |h       |S         |Woodards       |Southern Metropolitan       |3145.0           |13.0        |Monash City Council         |2.0         |1.0         |1.0    |732.0              |97.0                |734952.3212193126   |1550000.0       |\n",
      "|Kensington      |3        |h       |S         |Rendina        |Northern Metropolitan       |5263.0           |4.2         |Melbourne City Council      |3.0         |1.0         |1.0    |188.0              |106.0               |1211112.4395182298  |1037000.0       |\n",
      "|Yarraville      |3        |h       |S         |Village        |Western Metropolitan        |6543.0           |7.0         |Maribyrnong City Council    |3.0         |1.0         |0.0    |191.0              |105.0               |1053682.9922295825  |1165000.0       |\n",
      "--------------------------------------------------------------------------------------------------------------------------------------------------------------------------------------------------------------------------------------------------------------------------\n",
      "\n"
     ]
    }
   ],
   "source": [
    "snowdf_details = session.createDataFrame(output)\n",
    "snowdf_details.show()\n",
    "snowdf_details.write.mode(\"overwrite\").saveAsTable(\"HOUSING.PUBLIC.FULL_HOUSINGPRICE_PREDICTED\") \n",
    "\n",
    "\n"
   ]
  },
  {
   "cell_type": "code",
   "execution_count": 46,
   "id": "13a5ea75-cd3b-49a2-a05d-5126e3ea05f3",
   "metadata": {},
   "outputs": [],
   "source": [
    "# Also get a local dataframe to review the results\n",
    "snowdf_details=snowdf_details.toPandas()"
   ]
  },
  {
   "cell_type": "code",
   "execution_count": 47,
   "id": "64074b53-e667-42a4-b533-0dd694ee51a6",
   "metadata": {},
   "outputs": [
    {
     "data": {
      "text/html": [
       "<div>\n",
       "<style scoped>\n",
       "    .dataframe tbody tr th:only-of-type {\n",
       "        vertical-align: middle;\n",
       "    }\n",
       "\n",
       "    .dataframe tbody tr th {\n",
       "        vertical-align: top;\n",
       "    }\n",
       "\n",
       "    .dataframe thead th {\n",
       "        text-align: right;\n",
       "    }\n",
       "</style>\n",
       "<table border=\"1\" class=\"dataframe\">\n",
       "  <thead>\n",
       "    <tr style=\"text-align: right;\">\n",
       "      <th></th>\n",
       "      <th>SUBURB</th>\n",
       "      <th>ROOMS</th>\n",
       "      <th>TYPE</th>\n",
       "      <th>METHOD</th>\n",
       "      <th>SELLERG</th>\n",
       "      <th>REGIONNAME</th>\n",
       "      <th>PROPERTYCOUNT</th>\n",
       "      <th>DISTANCE</th>\n",
       "      <th>COUNCILAREA</th>\n",
       "      <th>BEDROOM2</th>\n",
       "      <th>BATHROOM</th>\n",
       "      <th>CAR</th>\n",
       "      <th>LANDSIZE</th>\n",
       "      <th>BUILDINGAREA</th>\n",
       "      <th>PREDICTED_PRICE</th>\n",
       "      <th>ACTUAL_PRICE</th>\n",
       "    </tr>\n",
       "  </thead>\n",
       "  <tbody>\n",
       "    <tr>\n",
       "      <th>0</th>\n",
       "      <td>Moorabbin</td>\n",
       "      <td>3</td>\n",
       "      <td>h</td>\n",
       "      <td>S</td>\n",
       "      <td>Buxton</td>\n",
       "      <td>Southern Metropolitan</td>\n",
       "      <td>2555.0</td>\n",
       "      <td>14.6</td>\n",
       "      <td>Kingston City Council</td>\n",
       "      <td>3.0</td>\n",
       "      <td>1.0</td>\n",
       "      <td>3.0</td>\n",
       "      <td>771.000000</td>\n",
       "      <td>158.001108</td>\n",
       "      <td>9.401036e+05</td>\n",
       "      <td>1020000.0</td>\n",
       "    </tr>\n",
       "    <tr>\n",
       "      <th>1</th>\n",
       "      <td>Armadale</td>\n",
       "      <td>2</td>\n",
       "      <td>u</td>\n",
       "      <td>S</td>\n",
       "      <td>Jellis</td>\n",
       "      <td>Southern Metropolitan</td>\n",
       "      <td>4836.0</td>\n",
       "      <td>6.3</td>\n",
       "      <td>Stonnington City Council</td>\n",
       "      <td>2.0</td>\n",
       "      <td>1.0</td>\n",
       "      <td>1.0</td>\n",
       "      <td>0.000000</td>\n",
       "      <td>76.000000</td>\n",
       "      <td>7.021112e+05</td>\n",
       "      <td>599000.0</td>\n",
       "    </tr>\n",
       "    <tr>\n",
       "      <th>2</th>\n",
       "      <td>Williamstown</td>\n",
       "      <td>4</td>\n",
       "      <td>h</td>\n",
       "      <td>S</td>\n",
       "      <td>hockingstuart</td>\n",
       "      <td>Western Metropolitan</td>\n",
       "      <td>6380.0</td>\n",
       "      <td>8.0</td>\n",
       "      <td>Hobsons Bay City Council</td>\n",
       "      <td>3.0</td>\n",
       "      <td>2.0</td>\n",
       "      <td>1.0</td>\n",
       "      <td>452.000000</td>\n",
       "      <td>158.001108</td>\n",
       "      <td>1.588412e+06</td>\n",
       "      <td>1325000.0</td>\n",
       "    </tr>\n",
       "    <tr>\n",
       "      <th>3</th>\n",
       "      <td>Oakleigh South</td>\n",
       "      <td>2</td>\n",
       "      <td>h</td>\n",
       "      <td>S</td>\n",
       "      <td>Buxton</td>\n",
       "      <td>South-Eastern Metropolitan</td>\n",
       "      <td>3692.0</td>\n",
       "      <td>14.7</td>\n",
       "      <td>Kingston City Council</td>\n",
       "      <td>0.0</td>\n",
       "      <td>0.0</td>\n",
       "      <td>0.0</td>\n",
       "      <td>584.022263</td>\n",
       "      <td>158.001108</td>\n",
       "      <td>6.863183e+05</td>\n",
       "      <td>1242000.0</td>\n",
       "    </tr>\n",
       "    <tr>\n",
       "      <th>4</th>\n",
       "      <td>Northcote</td>\n",
       "      <td>3</td>\n",
       "      <td>h</td>\n",
       "      <td>SA</td>\n",
       "      <td>Nelson</td>\n",
       "      <td>Northern Metropolitan</td>\n",
       "      <td>11364.0</td>\n",
       "      <td>5.5</td>\n",
       "      <td>Darebin City Council</td>\n",
       "      <td>3.0</td>\n",
       "      <td>2.0</td>\n",
       "      <td>2.0</td>\n",
       "      <td>286.000000</td>\n",
       "      <td>188.000000</td>\n",
       "      <td>1.445616e+06</td>\n",
       "      <td>1382500.0</td>\n",
       "    </tr>\n",
       "    <tr>\n",
       "      <th>...</th>\n",
       "      <td>...</td>\n",
       "      <td>...</td>\n",
       "      <td>...</td>\n",
       "      <td>...</td>\n",
       "      <td>...</td>\n",
       "      <td>...</td>\n",
       "      <td>...</td>\n",
       "      <td>...</td>\n",
       "      <td>...</td>\n",
       "      <td>...</td>\n",
       "      <td>...</td>\n",
       "      <td>...</td>\n",
       "      <td>...</td>\n",
       "      <td>...</td>\n",
       "      <td>...</td>\n",
       "      <td>...</td>\n",
       "    </tr>\n",
       "    <tr>\n",
       "      <th>23566</th>\n",
       "      <td>Lower Plenty</td>\n",
       "      <td>2</td>\n",
       "      <td>u</td>\n",
       "      <td>VB</td>\n",
       "      <td>Fletchers</td>\n",
       "      <td>Eastern Metropolitan</td>\n",
       "      <td>1624.0</td>\n",
       "      <td>14.6</td>\n",
       "      <td>Banyule City Council</td>\n",
       "      <td>2.0</td>\n",
       "      <td>1.0</td>\n",
       "      <td>1.0</td>\n",
       "      <td>119.000000</td>\n",
       "      <td>158.001108</td>\n",
       "      <td>3.113103e+05</td>\n",
       "      <td>420000.0</td>\n",
       "    </tr>\n",
       "    <tr>\n",
       "      <th>23567</th>\n",
       "      <td>Keilor</td>\n",
       "      <td>3</td>\n",
       "      <td>u</td>\n",
       "      <td>SP</td>\n",
       "      <td>Brad</td>\n",
       "      <td>Western Metropolitan</td>\n",
       "      <td>2339.0</td>\n",
       "      <td>14.5</td>\n",
       "      <td>Brimbank City Council</td>\n",
       "      <td>0.0</td>\n",
       "      <td>0.0</td>\n",
       "      <td>0.0</td>\n",
       "      <td>584.022263</td>\n",
       "      <td>158.001108</td>\n",
       "      <td>7.211543e+05</td>\n",
       "      <td>650000.0</td>\n",
       "    </tr>\n",
       "    <tr>\n",
       "      <th>23568</th>\n",
       "      <td>Heathmont</td>\n",
       "      <td>3</td>\n",
       "      <td>h</td>\n",
       "      <td>S</td>\n",
       "      <td>Ray</td>\n",
       "      <td>Eastern Metropolitan</td>\n",
       "      <td>3794.0</td>\n",
       "      <td>21.3</td>\n",
       "      <td>Maroondah City Council</td>\n",
       "      <td>3.0</td>\n",
       "      <td>2.0</td>\n",
       "      <td>2.0</td>\n",
       "      <td>471.000000</td>\n",
       "      <td>144.000000</td>\n",
       "      <td>7.910787e+05</td>\n",
       "      <td>912000.0</td>\n",
       "    </tr>\n",
       "    <tr>\n",
       "      <th>23569</th>\n",
       "      <td>Heidelberg Heights</td>\n",
       "      <td>3</td>\n",
       "      <td>h</td>\n",
       "      <td>S</td>\n",
       "      <td>Ray</td>\n",
       "      <td>Eastern Metropolitan</td>\n",
       "      <td>2947.0</td>\n",
       "      <td>8.8</td>\n",
       "      <td>Banyule City Council</td>\n",
       "      <td>3.0</td>\n",
       "      <td>1.0</td>\n",
       "      <td>3.0</td>\n",
       "      <td>619.000000</td>\n",
       "      <td>158.001108</td>\n",
       "      <td>1.150500e+06</td>\n",
       "      <td>810000.0</td>\n",
       "    </tr>\n",
       "    <tr>\n",
       "      <th>23570</th>\n",
       "      <td>Hillside</td>\n",
       "      <td>4</td>\n",
       "      <td>h</td>\n",
       "      <td>SP</td>\n",
       "      <td>YPA</td>\n",
       "      <td>Western Metropolitan</td>\n",
       "      <td>5556.0</td>\n",
       "      <td>18.0</td>\n",
       "      <td>Brimbank City Council</td>\n",
       "      <td>4.0</td>\n",
       "      <td>2.0</td>\n",
       "      <td>2.0</td>\n",
       "      <td>600.000000</td>\n",
       "      <td>174.000000</td>\n",
       "      <td>1.253691e+06</td>\n",
       "      <td>580000.0</td>\n",
       "    </tr>\n",
       "  </tbody>\n",
       "</table>\n",
       "<p>23571 rows × 16 columns</p>\n",
       "</div>"
      ],
      "text/plain": [
       "                   SUBURB  ROOMS TYPE METHOD        SELLERG  \\\n",
       "0               Moorabbin      3    h      S         Buxton   \n",
       "1                Armadale      2    u      S         Jellis   \n",
       "2            Williamstown      4    h      S  hockingstuart   \n",
       "3          Oakleigh South      2    h      S         Buxton   \n",
       "4               Northcote      3    h     SA         Nelson   \n",
       "...                   ...    ...  ...    ...            ...   \n",
       "23566        Lower Plenty      2    u     VB      Fletchers   \n",
       "23567              Keilor      3    u     SP           Brad   \n",
       "23568           Heathmont      3    h      S            Ray   \n",
       "23569  Heidelberg Heights      3    h      S            Ray   \n",
       "23570            Hillside      4    h     SP            YPA   \n",
       "\n",
       "                       REGIONNAME  PROPERTYCOUNT  DISTANCE  \\\n",
       "0           Southern Metropolitan         2555.0      14.6   \n",
       "1           Southern Metropolitan         4836.0       6.3   \n",
       "2            Western Metropolitan         6380.0       8.0   \n",
       "3      South-Eastern Metropolitan         3692.0      14.7   \n",
       "4           Northern Metropolitan        11364.0       5.5   \n",
       "...                           ...            ...       ...   \n",
       "23566        Eastern Metropolitan         1624.0      14.6   \n",
       "23567        Western Metropolitan         2339.0      14.5   \n",
       "23568        Eastern Metropolitan         3794.0      21.3   \n",
       "23569        Eastern Metropolitan         2947.0       8.8   \n",
       "23570        Western Metropolitan         5556.0      18.0   \n",
       "\n",
       "                    COUNCILAREA  BEDROOM2  BATHROOM  CAR    LANDSIZE  \\\n",
       "0         Kingston City Council       3.0       1.0  3.0  771.000000   \n",
       "1      Stonnington City Council       2.0       1.0  1.0    0.000000   \n",
       "2      Hobsons Bay City Council       3.0       2.0  1.0  452.000000   \n",
       "3         Kingston City Council       0.0       0.0  0.0  584.022263   \n",
       "4          Darebin City Council       3.0       2.0  2.0  286.000000   \n",
       "...                         ...       ...       ...  ...         ...   \n",
       "23566      Banyule City Council       2.0       1.0  1.0  119.000000   \n",
       "23567     Brimbank City Council       0.0       0.0  0.0  584.022263   \n",
       "23568    Maroondah City Council       3.0       2.0  2.0  471.000000   \n",
       "23569      Banyule City Council       3.0       1.0  3.0  619.000000   \n",
       "23570     Brimbank City Council       4.0       2.0  2.0  600.000000   \n",
       "\n",
       "       BUILDINGAREA  PREDICTED_PRICE  ACTUAL_PRICE  \n",
       "0        158.001108     9.401036e+05     1020000.0  \n",
       "1         76.000000     7.021112e+05      599000.0  \n",
       "2        158.001108     1.588412e+06     1325000.0  \n",
       "3        158.001108     6.863183e+05     1242000.0  \n",
       "4        188.000000     1.445616e+06     1382500.0  \n",
       "...             ...              ...           ...  \n",
       "23566    158.001108     3.113103e+05      420000.0  \n",
       "23567    158.001108     7.211543e+05      650000.0  \n",
       "23568    144.000000     7.910787e+05      912000.0  \n",
       "23569    158.001108     1.150500e+06      810000.0  \n",
       "23570    174.000000     1.253691e+06      580000.0  \n",
       "\n",
       "[23571 rows x 16 columns]"
      ]
     },
     "execution_count": 47,
     "metadata": {},
     "output_type": "execute_result"
    }
   ],
   "source": [
    "snowdf_details"
   ]
  },
  {
   "cell_type": "code",
   "execution_count": 48,
   "id": "d6f9d50d-4e15-4479-83c1-c518df61ca2e",
   "metadata": {},
   "outputs": [
    {
     "name": "stdout",
     "output_type": "stream",
     "text": [
      "MAE: 332479.4735138926\n",
      "MSE: 245028578812.31766\n",
      "RMSE: 495003.6149487372\n"
     ]
    }
   ],
   "source": [
    "# Score It\n",
    "print('MAE:',metrics.mean_absolute_error(y_test,pred))\n",
    "print('MSE:',metrics.mean_squared_error(y_test,pred))\n",
    "print('RMSE:',np.sqrt(metrics.mean_squared_error(y_test,pred)))"
   ]
  },
  {
   "cell_type": "code",
   "execution_count": 49,
   "id": "81330351-891f-4b1a-b6d8-426475bf2653",
   "metadata": {},
   "outputs": [
    {
     "name": "stdout",
     "output_type": "stream",
     "text": [
      "R^2 = 0.4213412340993177\n"
     ]
    }
   ],
   "source": [
    "# Calculated R Squared\n",
    "print('R^2 =',metrics.explained_variance_score(y_test,pred))"
   ]
  },
  {
   "cell_type": "code",
   "execution_count": 51,
   "id": "7a0116a0-cfa8-438c-98a9-4ac298224fbd",
   "metadata": {},
   "outputs": [
    {
     "data": {
      "text/plain": [
       "0.4213374327840367"
      ]
     },
     "execution_count": 51,
     "metadata": {},
     "output_type": "execute_result"
    }
   ],
   "source": [
    "lr.fit(X_train,y_train).score(X_test, y_test)"
   ]
  },
  {
   "cell_type": "code",
   "execution_count": 81,
   "id": "c75da6b8-1d60-4e30-9b27-f6a3557129d9",
   "metadata": {},
   "outputs": [
    {
     "name": "stdout",
     "output_type": "stream",
     "text": [
      "64.73\n"
     ]
    }
   ],
   "source": [
    "errors = abs(pred - y_test)\n",
    "MSE=round(np.mean(errors),2)\n",
    "MAPE=100*(errors/y_test)\n",
    "accuracy=round (100 - np.mean(MAPE),2)\n",
    "print(accuracy)"
   ]
  },
  {
   "cell_type": "markdown",
   "id": "19920c66-89e0-4d3a-b58a-fbb815a4ce92",
   "metadata": {},
   "source": [
    "# Model 2 Random Forest"
   ]
  },
  {
   "cell_type": "code",
   "execution_count": 52,
   "id": "03f846b0-f542-401a-87e2-107e8708067d",
   "metadata": {},
   "outputs": [
    {
     "name": "stdout",
     "output_type": "stream",
     "text": [
      "<class 'pandas.core.frame.DataFrame'>\n",
      "Int64Index: 23571 entries, 0 to 30141\n",
      "Data columns (total 15 columns):\n",
      " #   Column         Non-Null Count  Dtype  \n",
      "---  ------         --------------  -----  \n",
      " 0   SUBURB         23571 non-null  int64  \n",
      " 1   ROOMS          23571 non-null  int8   \n",
      " 2   TYPE           23571 non-null  int64  \n",
      " 3   METHOD         23571 non-null  int64  \n",
      " 4   SELLERG        23571 non-null  int64  \n",
      " 5   REGIONNAME     23571 non-null  int64  \n",
      " 6   PROPERTYCOUNT  23571 non-null  float64\n",
      " 7   DISTANCE       23571 non-null  float64\n",
      " 8   COUNCILAREA    23571 non-null  int64  \n",
      " 9   BEDROOM2       23571 non-null  float64\n",
      " 10  BATHROOM       23571 non-null  float64\n",
      " 11  CAR            23571 non-null  float64\n",
      " 12  LANDSIZE       23571 non-null  float64\n",
      " 13  BUILDINGAREA   23571 non-null  float64\n",
      " 14  PRICE          23571 non-null  float64\n",
      "dtypes: float64(8), int64(6), int8(1)\n",
      "memory usage: 2.7 MB\n"
     ]
    }
   ],
   "source": [
    "housepricingdf.info()"
   ]
  },
  {
   "cell_type": "code",
   "execution_count": 53,
   "id": "359013f1-1480-44d1-a2d2-bafe5d720363",
   "metadata": {},
   "outputs": [],
   "source": [
    "from sklearn.ensemble import RandomForestRegressor\n",
    "rf_regressor = RandomForestRegressor(bootstrap=True, random_state=0, n_jobs=2) \n"
   ]
  },
  {
   "cell_type": "code",
   "execution_count": 61,
   "id": "405a8f67-876f-4bb4-bbaf-5ef358947612",
   "metadata": {},
   "outputs": [],
   "source": [
    "X2 = housepricingdf.drop(['PRICE'],axis=1)\n",
    "y2=housepricingdf.PRICE"
   ]
  },
  {
   "cell_type": "code",
   "execution_count": 62,
   "id": "554b2e4c-5f2b-4fc8-9dd3-0d9587f4a5e6",
   "metadata": {},
   "outputs": [],
   "source": [
    "X2_train, X2_test, y2_train, y2_test = train_test_split(X2,y2, test_size = .20, random_state= 0)"
   ]
  },
  {
   "cell_type": "code",
   "execution_count": 63,
   "id": "c95a1040-2b61-4b25-86ed-d23de2dda26a",
   "metadata": {},
   "outputs": [
    {
     "data": {
      "text/html": [
       "<style>#sk-container-id-3 {color: black;background-color: white;}#sk-container-id-3 pre{padding: 0;}#sk-container-id-3 div.sk-toggleable {background-color: white;}#sk-container-id-3 label.sk-toggleable__label {cursor: pointer;display: block;width: 100%;margin-bottom: 0;padding: 0.3em;box-sizing: border-box;text-align: center;}#sk-container-id-3 label.sk-toggleable__label-arrow:before {content: \"▸\";float: left;margin-right: 0.25em;color: #696969;}#sk-container-id-3 label.sk-toggleable__label-arrow:hover:before {color: black;}#sk-container-id-3 div.sk-estimator:hover label.sk-toggleable__label-arrow:before {color: black;}#sk-container-id-3 div.sk-toggleable__content {max-height: 0;max-width: 0;overflow: hidden;text-align: left;background-color: #f0f8ff;}#sk-container-id-3 div.sk-toggleable__content pre {margin: 0.2em;color: black;border-radius: 0.25em;background-color: #f0f8ff;}#sk-container-id-3 input.sk-toggleable__control:checked~div.sk-toggleable__content {max-height: 200px;max-width: 100%;overflow: auto;}#sk-container-id-3 input.sk-toggleable__control:checked~label.sk-toggleable__label-arrow:before {content: \"▾\";}#sk-container-id-3 div.sk-estimator input.sk-toggleable__control:checked~label.sk-toggleable__label {background-color: #d4ebff;}#sk-container-id-3 div.sk-label input.sk-toggleable__control:checked~label.sk-toggleable__label {background-color: #d4ebff;}#sk-container-id-3 input.sk-hidden--visually {border: 0;clip: rect(1px 1px 1px 1px);clip: rect(1px, 1px, 1px, 1px);height: 1px;margin: -1px;overflow: hidden;padding: 0;position: absolute;width: 1px;}#sk-container-id-3 div.sk-estimator {font-family: monospace;background-color: #f0f8ff;border: 1px dotted black;border-radius: 0.25em;box-sizing: border-box;margin-bottom: 0.5em;}#sk-container-id-3 div.sk-estimator:hover {background-color: #d4ebff;}#sk-container-id-3 div.sk-parallel-item::after {content: \"\";width: 100%;border-bottom: 1px solid gray;flex-grow: 1;}#sk-container-id-3 div.sk-label:hover label.sk-toggleable__label {background-color: #d4ebff;}#sk-container-id-3 div.sk-serial::before {content: \"\";position: absolute;border-left: 1px solid gray;box-sizing: border-box;top: 0;bottom: 0;left: 50%;z-index: 0;}#sk-container-id-3 div.sk-serial {display: flex;flex-direction: column;align-items: center;background-color: white;padding-right: 0.2em;padding-left: 0.2em;position: relative;}#sk-container-id-3 div.sk-item {position: relative;z-index: 1;}#sk-container-id-3 div.sk-parallel {display: flex;align-items: stretch;justify-content: center;background-color: white;position: relative;}#sk-container-id-3 div.sk-item::before, #sk-container-id-3 div.sk-parallel-item::before {content: \"\";position: absolute;border-left: 1px solid gray;box-sizing: border-box;top: 0;bottom: 0;left: 50%;z-index: -1;}#sk-container-id-3 div.sk-parallel-item {display: flex;flex-direction: column;z-index: 1;position: relative;background-color: white;}#sk-container-id-3 div.sk-parallel-item:first-child::after {align-self: flex-end;width: 50%;}#sk-container-id-3 div.sk-parallel-item:last-child::after {align-self: flex-start;width: 50%;}#sk-container-id-3 div.sk-parallel-item:only-child::after {width: 0;}#sk-container-id-3 div.sk-dashed-wrapped {border: 1px dashed gray;margin: 0 0.4em 0.5em 0.4em;box-sizing: border-box;padding-bottom: 0.4em;background-color: white;}#sk-container-id-3 div.sk-label label {font-family: monospace;font-weight: bold;display: inline-block;line-height: 1.2em;}#sk-container-id-3 div.sk-label-container {text-align: center;}#sk-container-id-3 div.sk-container {/* jupyter's `normalize.less` sets `[hidden] { display: none; }` but bootstrap.min.css set `[hidden] { display: none !important; }` so we also need the `!important` here to be able to override the default hidden behavior on the sphinx rendered scikit-learn.org. See: https://github.com/scikit-learn/scikit-learn/issues/21755 */display: inline-block !important;position: relative;}#sk-container-id-3 div.sk-text-repr-fallback {display: none;}</style><div id=\"sk-container-id-3\" class=\"sk-top-container\"><div class=\"sk-text-repr-fallback\"><pre>RandomForestRegressor(n_jobs=2, random_state=0)</pre><b>In a Jupyter environment, please rerun this cell to show the HTML representation or trust the notebook. <br />On GitHub, the HTML representation is unable to render, please try loading this page with nbviewer.org.</b></div><div class=\"sk-container\" hidden><div class=\"sk-item\"><div class=\"sk-estimator sk-toggleable\"><input class=\"sk-toggleable__control sk-hidden--visually\" id=\"sk-estimator-id-3\" type=\"checkbox\" checked><label for=\"sk-estimator-id-3\" class=\"sk-toggleable__label sk-toggleable__label-arrow\">RandomForestRegressor</label><div class=\"sk-toggleable__content\"><pre>RandomForestRegressor(n_jobs=2, random_state=0)</pre></div></div></div></div></div>"
      ],
      "text/plain": [
       "RandomForestRegressor(n_jobs=2, random_state=0)"
      ]
     },
     "execution_count": 63,
     "metadata": {},
     "output_type": "execute_result"
    }
   ],
   "source": [
    "# fit the regressor with x and y data \n",
    "rf_regressor.fit(X2_train,y2_train)"
   ]
  },
  {
   "cell_type": "code",
   "execution_count": 64,
   "id": "0a820271-d789-408a-96a2-f5945222b503",
   "metadata": {},
   "outputs": [
    {
     "data": {
      "text/plain": [
       "<Figure size 2500x2000 with 0 Axes>"
      ]
     },
     "metadata": {},
     "output_type": "display_data"
    },
    {
     "data": {
      "image/png": "[encoded data removed]",
      "text/plain": [
       "<Figure size 640x480 with 1 Axes>"
      ]
     },
     "metadata": {},
     "output_type": "display_data"
    }
   ],
   "source": [
    "#feature importance\n",
    "plt.figure(figsize=(25,20))\n",
    "importance = pd.DataFrame({'feature':X2_train.columns, 'importance': np.round(rf_regressor.feature_importances_,3)})\n",
    "importance = importance.sort_values('importance', ascending=False).set_index('feature')\n",
    "importance.plot(kind='bar', rot=90)\n",
    "plt.show()"
   ]
  },
  {
   "cell_type": "code",
   "execution_count": 65,
   "id": "38251691-fc06-48e1-a607-4a0274f6d318",
   "metadata": {},
   "outputs": [
    {
     "data": {
      "text/html": [
       "<style>#sk-container-id-4 {color: black;background-color: white;}#sk-container-id-4 pre{padding: 0;}#sk-container-id-4 div.sk-toggleable {background-color: white;}#sk-container-id-4 label.sk-toggleable__label {cursor: pointer;display: block;width: 100%;margin-bottom: 0;padding: 0.3em;box-sizing: border-box;text-align: center;}#sk-container-id-4 label.sk-toggleable__label-arrow:before {content: \"▸\";float: left;margin-right: 0.25em;color: #696969;}#sk-container-id-4 label.sk-toggleable__label-arrow:hover:before {color: black;}#sk-container-id-4 div.sk-estimator:hover label.sk-toggleable__label-arrow:before {color: black;}#sk-container-id-4 div.sk-toggleable__content {max-height: 0;max-width: 0;overflow: hidden;text-align: left;background-color: #f0f8ff;}#sk-container-id-4 div.sk-toggleable__content pre {margin: 0.2em;color: black;border-radius: 0.25em;background-color: #f0f8ff;}#sk-container-id-4 input.sk-toggleable__control:checked~div.sk-toggleable__content {max-height: 200px;max-width: 100%;overflow: auto;}#sk-container-id-4 input.sk-toggleable__control:checked~label.sk-toggleable__label-arrow:before {content: \"▾\";}#sk-container-id-4 div.sk-estimator input.sk-toggleable__control:checked~label.sk-toggleable__label {background-color: #d4ebff;}#sk-container-id-4 div.sk-label input.sk-toggleable__control:checked~label.sk-toggleable__label {background-color: #d4ebff;}#sk-container-id-4 input.sk-hidden--visually {border: 0;clip: rect(1px 1px 1px 1px);clip: rect(1px, 1px, 1px, 1px);height: 1px;margin: -1px;overflow: hidden;padding: 0;position: absolute;width: 1px;}#sk-container-id-4 div.sk-estimator {font-family: monospace;background-color: #f0f8ff;border: 1px dotted black;border-radius: 0.25em;box-sizing: border-box;margin-bottom: 0.5em;}#sk-container-id-4 div.sk-estimator:hover {background-color: #d4ebff;}#sk-container-id-4 div.sk-parallel-item::after {content: \"\";width: 100%;border-bottom: 1px solid gray;flex-grow: 1;}#sk-container-id-4 div.sk-label:hover label.sk-toggleable__label {background-color: #d4ebff;}#sk-container-id-4 div.sk-serial::before {content: \"\";position: absolute;border-left: 1px solid gray;box-sizing: border-box;top: 0;bottom: 0;left: 50%;z-index: 0;}#sk-container-id-4 div.sk-serial {display: flex;flex-direction: column;align-items: center;background-color: white;padding-right: 0.2em;padding-left: 0.2em;position: relative;}#sk-container-id-4 div.sk-item {position: relative;z-index: 1;}#sk-container-id-4 div.sk-parallel {display: flex;align-items: stretch;justify-content: center;background-color: white;position: relative;}#sk-container-id-4 div.sk-item::before, #sk-container-id-4 div.sk-parallel-item::before {content: \"\";position: absolute;border-left: 1px solid gray;box-sizing: border-box;top: 0;bottom: 0;left: 50%;z-index: -1;}#sk-container-id-4 div.sk-parallel-item {display: flex;flex-direction: column;z-index: 1;position: relative;background-color: white;}#sk-container-id-4 div.sk-parallel-item:first-child::after {align-self: flex-end;width: 50%;}#sk-container-id-4 div.sk-parallel-item:last-child::after {align-self: flex-start;width: 50%;}#sk-container-id-4 div.sk-parallel-item:only-child::after {width: 0;}#sk-container-id-4 div.sk-dashed-wrapped {border: 1px dashed gray;margin: 0 0.4em 0.5em 0.4em;box-sizing: border-box;padding-bottom: 0.4em;background-color: white;}#sk-container-id-4 div.sk-label label {font-family: monospace;font-weight: bold;display: inline-block;line-height: 1.2em;}#sk-container-id-4 div.sk-label-container {text-align: center;}#sk-container-id-4 div.sk-container {/* jupyter's `normalize.less` sets `[hidden] { display: none; }` but bootstrap.min.css set `[hidden] { display: none !important; }` so we also need the `!important` here to be able to override the default hidden behavior on the sphinx rendered scikit-learn.org. See: https://github.com/scikit-learn/scikit-learn/issues/21755 */display: inline-block !important;position: relative;}#sk-container-id-4 div.sk-text-repr-fallback {display: none;}</style><div id=\"sk-container-id-4\" class=\"sk-top-container\"><div class=\"sk-text-repr-fallback\"><pre>GridSearchCV(cv=10, estimator=RandomForestRegressor(n_jobs=2, random_state=0),\n",
       "             param_grid={&#x27;max_depth&#x27;: [5, 10, 20, 30],\n",
       "                         &#x27;min_samples_leaf&#x27;: [1, 2, 4],\n",
       "                         &#x27;n_estimators&#x27;: [10, 25, 50, 100]},\n",
       "             scoring=&#x27;neg_mean_squared_error&#x27;)</pre><b>In a Jupyter environment, please rerun this cell to show the HTML representation or trust the notebook. <br />On GitHub, the HTML representation is unable to render, please try loading this page with nbviewer.org.</b></div><div class=\"sk-container\" hidden><div class=\"sk-item sk-dashed-wrapped\"><div class=\"sk-label-container\"><div class=\"sk-label sk-toggleable\"><input class=\"sk-toggleable__control sk-hidden--visually\" id=\"sk-estimator-id-4\" type=\"checkbox\" ><label for=\"sk-estimator-id-4\" class=\"sk-toggleable__label sk-toggleable__label-arrow\">GridSearchCV</label><div class=\"sk-toggleable__content\"><pre>GridSearchCV(cv=10, estimator=RandomForestRegressor(n_jobs=2, random_state=0),\n",
       "             param_grid={&#x27;max_depth&#x27;: [5, 10, 20, 30],\n",
       "                         &#x27;min_samples_leaf&#x27;: [1, 2, 4],\n",
       "                         &#x27;n_estimators&#x27;: [10, 25, 50, 100]},\n",
       "             scoring=&#x27;neg_mean_squared_error&#x27;)</pre></div></div></div><div class=\"sk-parallel\"><div class=\"sk-parallel-item\"><div class=\"sk-item\"><div class=\"sk-label-container\"><div class=\"sk-label sk-toggleable\"><input class=\"sk-toggleable__control sk-hidden--visually\" id=\"sk-estimator-id-5\" type=\"checkbox\" ><label for=\"sk-estimator-id-5\" class=\"sk-toggleable__label sk-toggleable__label-arrow\">estimator: RandomForestRegressor</label><div class=\"sk-toggleable__content\"><pre>RandomForestRegressor(n_jobs=2, random_state=0)</pre></div></div></div><div class=\"sk-serial\"><div class=\"sk-item\"><div class=\"sk-estimator sk-toggleable\"><input class=\"sk-toggleable__control sk-hidden--visually\" id=\"sk-estimator-id-6\" type=\"checkbox\" ><label for=\"sk-estimator-id-6\" class=\"sk-toggleable__label sk-toggleable__label-arrow\">RandomForestRegressor</label><div class=\"sk-toggleable__content\"><pre>RandomForestRegressor(n_jobs=2, random_state=0)</pre></div></div></div></div></div></div></div></div></div></div>"
      ],
      "text/plain": [
       "GridSearchCV(cv=10, estimator=RandomForestRegressor(n_jobs=2, random_state=0),\n",
       "             param_grid={'max_depth': [5, 10, 20, 30],\n",
       "                         'min_samples_leaf': [1, 2, 4],\n",
       "                         'n_estimators': [10, 25, 50, 100]},\n",
       "             scoring='neg_mean_squared_error')"
      ]
     },
     "execution_count": 65,
     "metadata": {},
     "output_type": "execute_result"
    }
   ],
   "source": [
    "from sklearn.model_selection import GridSearchCV\n",
    "from sklearn.ensemble import RandomForestRegressor\n",
    "\n",
    "param_grid = dict(n_estimators=[10, 25, 50, 100],\n",
    "                  max_depth=[5, 10, 20, 30],\n",
    "                  min_samples_leaf=[1,2,4])\n",
    "\n",
    "grid = GridSearchCV(rf_regressor, param_grid, cv=10,\n",
    "                    scoring='neg_mean_squared_error')\n",
    "grid.fit(X2_train,y2_train)"
   ]
  },
  {
   "cell_type": "code",
   "execution_count": 67,
   "id": "d3ac1a48-b10e-427a-ad54-f658f38da64b",
   "metadata": {},
   "outputs": [],
   "source": [
    "#Set the model paramters after tunning.\n",
    "rf_regressor = RandomForestRegressor(bootstrap=True, ccp_alpha=0.0,\n",
    "                                             criterion='mse', max_depth=None,\n",
    "                                             max_features='auto',\n",
    "                                             max_leaf_nodes=None,\n",
    "                                             max_samples=None,\n",
    "                                             min_impurity_decrease=0.0,\n",
    "                                             min_samples_leaf=1,\n",
    "                                             min_samples_split=2,\n",
    "                                             min_weight_fraction_leaf=0.0,\n",
    "                                             n_estimators=100, n_jobs=2,\n",
    "                                             oob_score=False, random_state=0,\n",
    "                                             verbose=0, warm_start=False) \n"
   ]
  },
  {
   "cell_type": "code",
   "execution_count": 68,
   "id": "7f2285f3-9b36-4f54-9938-f9205c74ac06",
   "metadata": {},
   "outputs": [
    {
     "name": "stderr",
     "output_type": "stream",
     "text": [
      "/Users/adh.arash/Downloads/conda/envs/snowpark/lib/python3.8/site-packages/sklearn/ensemble/_forest.py:400: FutureWarning: Criterion 'mse' was deprecated in v1.0 and will be removed in version 1.2. Use `criterion='squared_error'` which is equivalent.\n",
      "  warn(\n",
      "/Users/adh.arash/Downloads/conda/envs/snowpark/lib/python3.8/site-packages/sklearn/ensemble/_forest.py:416: FutureWarning: `max_features='auto'` has been deprecated in 1.1 and will be removed in 1.3. To keep the past behaviour, explicitly set `max_features=1.0` or remove this parameter as it is also the default value for RandomForestRegressors and ExtraTreesRegressors.\n",
      "  warn(\n"
     ]
    },
    {
     "data": {
      "text/html": [
       "<style>#sk-container-id-5 {color: black;background-color: white;}#sk-container-id-5 pre{padding: 0;}#sk-container-id-5 div.sk-toggleable {background-color: white;}#sk-container-id-5 label.sk-toggleable__label {cursor: pointer;display: block;width: 100%;margin-bottom: 0;padding: 0.3em;box-sizing: border-box;text-align: center;}#sk-container-id-5 label.sk-toggleable__label-arrow:before {content: \"▸\";float: left;margin-right: 0.25em;color: #696969;}#sk-container-id-5 label.sk-toggleable__label-arrow:hover:before {color: black;}#sk-container-id-5 div.sk-estimator:hover label.sk-toggleable__label-arrow:before {color: black;}#sk-container-id-5 div.sk-toggleable__content {max-height: 0;max-width: 0;overflow: hidden;text-align: left;background-color: #f0f8ff;}#sk-container-id-5 div.sk-toggleable__content pre {margin: 0.2em;color: black;border-radius: 0.25em;background-color: #f0f8ff;}#sk-container-id-5 input.sk-toggleable__control:checked~div.sk-toggleable__content {max-height: 200px;max-width: 100%;overflow: auto;}#sk-container-id-5 input.sk-toggleable__control:checked~label.sk-toggleable__label-arrow:before {content: \"▾\";}#sk-container-id-5 div.sk-estimator input.sk-toggleable__control:checked~label.sk-toggleable__label {background-color: #d4ebff;}#sk-container-id-5 div.sk-label input.sk-toggleable__control:checked~label.sk-toggleable__label {background-color: #d4ebff;}#sk-container-id-5 input.sk-hidden--visually {border: 0;clip: rect(1px 1px 1px 1px);clip: rect(1px, 1px, 1px, 1px);height: 1px;margin: -1px;overflow: hidden;padding: 0;position: absolute;width: 1px;}#sk-container-id-5 div.sk-estimator {font-family: monospace;background-color: #f0f8ff;border: 1px dotted black;border-radius: 0.25em;box-sizing: border-box;margin-bottom: 0.5em;}#sk-container-id-5 div.sk-estimator:hover {background-color: #d4ebff;}#sk-container-id-5 div.sk-parallel-item::after {content: \"\";width: 100%;border-bottom: 1px solid gray;flex-grow: 1;}#sk-container-id-5 div.sk-label:hover label.sk-toggleable__label {background-color: #d4ebff;}#sk-container-id-5 div.sk-serial::before {content: \"\";position: absolute;border-left: 1px solid gray;box-sizing: border-box;top: 0;bottom: 0;left: 50%;z-index: 0;}#sk-container-id-5 div.sk-serial {display: flex;flex-direction: column;align-items: center;background-color: white;padding-right: 0.2em;padding-left: 0.2em;position: relative;}#sk-container-id-5 div.sk-item {position: relative;z-index: 1;}#sk-container-id-5 div.sk-parallel {display: flex;align-items: stretch;justify-content: center;background-color: white;position: relative;}#sk-container-id-5 div.sk-item::before, #sk-container-id-5 div.sk-parallel-item::before {content: \"\";position: absolute;border-left: 1px solid gray;box-sizing: border-box;top: 0;bottom: 0;left: 50%;z-index: -1;}#sk-container-id-5 div.sk-parallel-item {display: flex;flex-direction: column;z-index: 1;position: relative;background-color: white;}#sk-container-id-5 div.sk-parallel-item:first-child::after {align-self: flex-end;width: 50%;}#sk-container-id-5 div.sk-parallel-item:last-child::after {align-self: flex-start;width: 50%;}#sk-container-id-5 div.sk-parallel-item:only-child::after {width: 0;}#sk-container-id-5 div.sk-dashed-wrapped {border: 1px dashed gray;margin: 0 0.4em 0.5em 0.4em;box-sizing: border-box;padding-bottom: 0.4em;background-color: white;}#sk-container-id-5 div.sk-label label {font-family: monospace;font-weight: bold;display: inline-block;line-height: 1.2em;}#sk-container-id-5 div.sk-label-container {text-align: center;}#sk-container-id-5 div.sk-container {/* jupyter's `normalize.less` sets `[hidden] { display: none; }` but bootstrap.min.css set `[hidden] { display: none !important; }` so we also need the `!important` here to be able to override the default hidden behavior on the sphinx rendered scikit-learn.org. See: https://github.com/scikit-learn/scikit-learn/issues/21755 */display: inline-block !important;position: relative;}#sk-container-id-5 div.sk-text-repr-fallback {display: none;}</style><div id=\"sk-container-id-5\" class=\"sk-top-container\"><div class=\"sk-text-repr-fallback\"><pre>RandomForestRegressor(criterion=&#x27;mse&#x27;, max_features=&#x27;auto&#x27;, n_jobs=2,\n",
       "                      random_state=0)</pre><b>In a Jupyter environment, please rerun this cell to show the HTML representation or trust the notebook. <br />On GitHub, the HTML representation is unable to render, please try loading this page with nbviewer.org.</b></div><div class=\"sk-container\" hidden><div class=\"sk-item\"><div class=\"sk-estimator sk-toggleable\"><input class=\"sk-toggleable__control sk-hidden--visually\" id=\"sk-estimator-id-7\" type=\"checkbox\" checked><label for=\"sk-estimator-id-7\" class=\"sk-toggleable__label sk-toggleable__label-arrow\">RandomForestRegressor</label><div class=\"sk-toggleable__content\"><pre>RandomForestRegressor(criterion=&#x27;mse&#x27;, max_features=&#x27;auto&#x27;, n_jobs=2,\n",
       "                      random_state=0)</pre></div></div></div></div></div>"
      ],
      "text/plain": [
       "RandomForestRegressor(criterion='mse', max_features='auto', n_jobs=2,\n",
       "                      random_state=0)"
      ]
     },
     "execution_count": 68,
     "metadata": {},
     "output_type": "execute_result"
    }
   ],
   "source": [
    "# fit the regressor with x and y data \n",
    "rf_regressor.fit(X2_train,y2_train)"
   ]
  },
  {
   "cell_type": "code",
   "execution_count": 69,
   "id": "65302933-8400-47b5-9b25-0d79c740509c",
   "metadata": {},
   "outputs": [],
   "source": [
    "y2_pred = rf_regressor.predict(X2_test)  # test the output by changing values "
   ]
  },
  {
   "cell_type": "code",
   "execution_count": 70,
   "id": "f86b6bc6-2b85-4670-8e2a-8b75c4ffded4",
   "metadata": {
    "tags": []
   },
   "outputs": [
    {
     "name": "stdout",
     "output_type": "stream",
     "text": [
      "Mean Absolute Error: 176884.42440152582\n",
      "Mean Squared Error: 85656902397.0197\n",
      "Root Mean Squared Error: 292672.0048057547\n"
     ]
    }
   ],
   "source": [
    "from sklearn import metrics\n",
    "\n",
    "print('Mean Absolute Error:', metrics.mean_absolute_error(y2_test, y2_pred))\n",
    "print('Mean Squared Error:', metrics.mean_squared_error(y2_test, y2_pred))\n",
    "print('Root Mean Squared Error:', np.sqrt(metrics.mean_squared_error(y2_test, y2_pred)))"
   ]
  },
  {
   "cell_type": "code",
   "execution_count": 71,
   "id": "abcdd9c6-545f-431d-905e-f36b047b1488",
   "metadata": {},
   "outputs": [
    {
     "name": "stdout",
     "output_type": "stream",
     "text": [
      "R^2 = 0.7846942951694195\n"
     ]
    }
   ],
   "source": [
    "# Calculated R Squared\n",
    "print('R^2 =',metrics.explained_variance_score(y2_test,y2_pred))"
   ]
  },
  {
   "cell_type": "code",
   "execution_count": 79,
   "id": "34ad607a-d44f-4e53-b900-571d352335f1",
   "metadata": {},
   "outputs": [
    {
     "data": {
      "text/plain": [
       "0.7840667058494774"
      ]
     },
     "execution_count": 79,
     "metadata": {},
     "output_type": "execute_result"
    }
   ],
   "source": [
    "rf_regressor.score(X2_test, y2_test)"
   ]
  },
  {
   "cell_type": "code",
   "execution_count": 80,
   "id": "3e8698a2-2d2e-47f3-9c62-cebf5490b6d6",
   "metadata": {},
   "outputs": [
    {
     "name": "stdout",
     "output_type": "stream",
     "text": [
      "83.3\n"
     ]
    }
   ],
   "source": [
    "errors = abs(y2_pred - y2_test)\n",
    "MSE=round(np.mean(errors),2)\n",
    "MAPE=100*(errors/y2_test)\n",
    "accuracy=round (100 - np.mean(MAPE),2)\n",
    "print(accuracy)"
   ]
  },
  {
   "cell_type": "code",
   "execution_count": 105,
   "id": "d593f0a2-a5a6-4e1d-b483-a0fcd2a4d0ca",
   "metadata": {},
   "outputs": [
    {
     "data": {
      "text/html": [
       "<div>\n",
       "<style scoped>\n",
       "    .dataframe tbody tr th:only-of-type {\n",
       "        vertical-align: middle;\n",
       "    }\n",
       "\n",
       "    .dataframe tbody tr th {\n",
       "        vertical-align: top;\n",
       "    }\n",
       "\n",
       "    .dataframe thead th {\n",
       "        text-align: right;\n",
       "    }\n",
       "</style>\n",
       "<table border=\"1\" class=\"dataframe\">\n",
       "  <thead>\n",
       "    <tr style=\"text-align: right;\">\n",
       "      <th></th>\n",
       "      <th>Actual_Price</th>\n",
       "      <th>Predicted_Price</th>\n",
       "      <th>difference</th>\n",
       "    </tr>\n",
       "  </thead>\n",
       "  <tbody>\n",
       "    <tr>\n",
       "      <th>13805</th>\n",
       "      <td>1800000.0</td>\n",
       "      <td>1510434.0</td>\n",
       "      <td>-289566.0</td>\n",
       "    </tr>\n",
       "    <tr>\n",
       "      <th>6821</th>\n",
       "      <td>1335000.0</td>\n",
       "      <td>1273470.0</td>\n",
       "      <td>-61530.0</td>\n",
       "    </tr>\n",
       "    <tr>\n",
       "      <th>6590</th>\n",
       "      <td>662000.0</td>\n",
       "      <td>559987.0</td>\n",
       "      <td>-102013.0</td>\n",
       "    </tr>\n",
       "    <tr>\n",
       "      <th>24336</th>\n",
       "      <td>769000.0</td>\n",
       "      <td>704359.0</td>\n",
       "      <td>-64641.0</td>\n",
       "    </tr>\n",
       "    <tr>\n",
       "      <th>22019</th>\n",
       "      <td>720000.0</td>\n",
       "      <td>770161.0</td>\n",
       "      <td>50161.0</td>\n",
       "    </tr>\n",
       "    <tr>\n",
       "      <th>20671</th>\n",
       "      <td>2536000.0</td>\n",
       "      <td>2371678.0</td>\n",
       "      <td>-164322.0</td>\n",
       "    </tr>\n",
       "    <tr>\n",
       "      <th>14715</th>\n",
       "      <td>910000.0</td>\n",
       "      <td>813050.0</td>\n",
       "      <td>-96950.0</td>\n",
       "    </tr>\n",
       "    <tr>\n",
       "      <th>17980</th>\n",
       "      <td>945000.0</td>\n",
       "      <td>848077.0</td>\n",
       "      <td>-96923.0</td>\n",
       "    </tr>\n",
       "    <tr>\n",
       "      <th>10676</th>\n",
       "      <td>672000.0</td>\n",
       "      <td>692330.0</td>\n",
       "      <td>20330.0</td>\n",
       "    </tr>\n",
       "    <tr>\n",
       "      <th>9673</th>\n",
       "      <td>360000.0</td>\n",
       "      <td>437982.0</td>\n",
       "      <td>77982.0</td>\n",
       "    </tr>\n",
       "  </tbody>\n",
       "</table>\n",
       "</div>"
      ],
      "text/plain": [
       "       Actual_Price  Predicted_Price  difference\n",
       "13805     1800000.0        1510434.0   -289566.0\n",
       "6821      1335000.0        1273470.0    -61530.0\n",
       "6590       662000.0         559987.0   -102013.0\n",
       "24336      769000.0         704359.0    -64641.0\n",
       "22019      720000.0         770161.0     50161.0\n",
       "20671     2536000.0        2371678.0   -164322.0\n",
       "14715      910000.0         813050.0    -96950.0\n",
       "17980      945000.0         848077.0    -96923.0\n",
       "10676      672000.0         692330.0     20330.0\n",
       "9673       360000.0         437982.0     77982.0"
      ]
     },
     "execution_count": 105,
     "metadata": {},
     "output_type": "execute_result"
    }
   ],
   "source": [
    "df2= pd.DataFrame({'Actual_Price': np.round(y2_test), \n",
    "                   'Predicted_Price': np.round(y2_pred),\n",
    "                 })\n",
    "df2['difference']=df2.apply(lambda x: x.Predicted_Price-x.Actual_Price,axis=1)\n",
    "df2.head(10)"
   ]
  },
  {
   "cell_type": "code",
   "execution_count": 103,
   "id": "ccb9985b-fc0a-4dab-b564-fa79becbb678",
   "metadata": {},
   "outputs": [
    {
     "name": "stdout",
     "output_type": "stream",
     "text": [
      "284953.23260746605\n",
      "164000.0\n",
      "0.45211628312124974\n",
      "332479.4735138926\n",
      "244402.73994906957\n",
      "0.4213374327840367\n",
      "243753.68535539214\n",
      "135000.0\n",
      "0.563092715710257\n",
      "201361.20805303013\n",
      "129721.05309200153\n",
      "0.7273901958574609\n"
     ]
    }
   ],
   "source": [
    "\n",
    "from sklearn.neighbors import KNeighborsRegressor\n",
    "from sklearn.linear_model import LinearRegression\n",
    "from sklearn.tree import DecisionTreeRegressor\n",
    "from sklearn.ensemble import GradientBoostingRegressor\n",
    "from xgboost import XGBRegressor\n",
    "from sklearn.metrics import mean_absolute_error, median_absolute_error, roc_auc_score, r2_score, explained_variance_score\n",
    "modelnames = [ \n",
    " 'KNeighborsRegressor()',\n",
    " 'LinearRegression()', \n",
    " 'DecisionTreeRegressor()', \n",
    " 'GradientBoostingRegressor()',\n",
    "]\n",
    "metricnames = [\n",
    " 'mean_absolute_error', \n",
    " 'median_absolute_error',\n",
    " 'r2_score',\n",
    "]\n",
    "metrics = pd.DataFrame(index = modelnames, columns = metricnames)\n",
    "for modelname in modelnames:\n",
    "    model = eval(modelname)\n",
    "    pred_test = model.fit(X_train, y_train).predict(X_test)\n",
    "    for metricname in metricnames:\n",
    "        metrics.loc[modelname, metricname] = print(eval(f'{metricname}(y_test, pred_test)'))\n",
    "        metrics.loc[modelname, metricname] "
   ]
  },
  {
   "cell_type": "code",
   "execution_count": null,
   "id": "b09dbdea-9dd7-4151-ab9d-a814ed67d626",
   "metadata": {},
   "outputs": [],
   "source": [
    "knn=KNeighborsRegressor()\n",
    "\n",
    "knn.fit(X2_train, y2_train)"
   ]
  },
  {
   "cell_type": "code",
   "execution_count": 134,
   "id": "779cc459-0ba8-4597-8a15-4b87912ba251",
   "metadata": {
    "collapsed": true,
    "jupyter": {
     "outputs_hidden": true
    },
    "tags": []
   },
   "outputs": [
    {
     "name": "stdout",
     "output_type": "stream",
     "text": [
      "Fitting 5 folds for each of 42 candidates, totalling 210 fits\n",
      "[CV] END algorithm=ball_tree, n_neighbors=3, weights=uniform; total time=   0.1s\n",
      "[CV] END algorithm=ball_tree, n_neighbors=3, weights=uniform; total time=   0.1s\n",
      "[CV] END algorithm=ball_tree, n_neighbors=3, weights=uniform; total time=   0.1s\n",
      "[CV] END algorithm=ball_tree, n_neighbors=3, weights=uniform; total time=   0.1s\n",
      "[CV] END algorithm=ball_tree, n_neighbors=3, weights=uniform; total time=   0.1s\n",
      "[CV] END algorithm=ball_tree, n_neighbors=3, weights=distance; total time=   0.1s\n",
      "[CV] END algorithm=ball_tree, n_neighbors=3, weights=distance; total time=   0.1s\n",
      "[CV] END algorithm=ball_tree, n_neighbors=3, weights=distance; total time=   0.1s\n",
      "[CV] END algorithm=ball_tree, n_neighbors=3, weights=distance; total time=   0.1s\n",
      "[CV] END algorithm=ball_tree, n_neighbors=3, weights=distance; total time=   0.1s\n",
      "[CV] END algorithm=ball_tree, n_neighbors=4, weights=uniform; total time=   0.1s\n",
      "[CV] END algorithm=ball_tree, n_neighbors=4, weights=uniform; total time=   0.1s\n",
      "[CV] END algorithm=ball_tree, n_neighbors=4, weights=uniform; total time=   0.1s\n",
      "[CV] END algorithm=ball_tree, n_neighbors=4, weights=uniform; total time=   0.1s\n",
      "[CV] END algorithm=ball_tree, n_neighbors=4, weights=uniform; total time=   0.1s\n",
      "[CV] END algorithm=ball_tree, n_neighbors=4, weights=distance; total time=   0.1s\n",
      "[CV] END algorithm=ball_tree, n_neighbors=4, weights=distance; total time=   0.1s\n",
      "[CV] END algorithm=ball_tree, n_neighbors=4, weights=distance; total time=   0.1s\n",
      "[CV] END algorithm=ball_tree, n_neighbors=4, weights=distance; total time=   0.1s\n",
      "[CV] END algorithm=ball_tree, n_neighbors=4, weights=distance; total time=   0.1s\n",
      "[CV] END algorithm=ball_tree, n_neighbors=5, weights=uniform; total time=   0.1s\n",
      "[CV] END algorithm=ball_tree, n_neighbors=5, weights=uniform; total time=   0.1s\n",
      "[CV] END algorithm=ball_tree, n_neighbors=5, weights=uniform; total time=   0.1s\n",
      "[CV] END algorithm=ball_tree, n_neighbors=5, weights=uniform; total time=   0.1s\n",
      "[CV] END algorithm=ball_tree, n_neighbors=5, weights=uniform; total time=   0.1s\n",
      "[CV] END algorithm=ball_tree, n_neighbors=5, weights=distance; total time=   0.1s\n",
      "[CV] END algorithm=ball_tree, n_neighbors=5, weights=distance; total time=   0.1s\n",
      "[CV] END algorithm=ball_tree, n_neighbors=5, weights=distance; total time=   0.1s\n",
      "[CV] END algorithm=ball_tree, n_neighbors=5, weights=distance; total time=   0.1s\n",
      "[CV] END algorithm=ball_tree, n_neighbors=5, weights=distance; total time=   0.1s\n",
      "[CV] END algorithm=ball_tree, n_neighbors=6, weights=uniform; total time=   0.1s\n",
      "[CV] END algorithm=ball_tree, n_neighbors=6, weights=uniform; total time=   0.1s\n",
      "[CV] END algorithm=ball_tree, n_neighbors=6, weights=uniform; total time=   0.1s\n",
      "[CV] END algorithm=ball_tree, n_neighbors=6, weights=uniform; total time=   0.1s\n",
      "[CV] END algorithm=ball_tree, n_neighbors=6, weights=uniform; total time=   0.1s\n",
      "[CV] END algorithm=ball_tree, n_neighbors=6, weights=distance; total time=   0.1s\n",
      "[CV] END algorithm=ball_tree, n_neighbors=6, weights=distance; total time=   0.1s\n",
      "[CV] END algorithm=ball_tree, n_neighbors=6, weights=distance; total time=   0.1s\n",
      "[CV] END algorithm=ball_tree, n_neighbors=6, weights=distance; total time=   0.1s\n",
      "[CV] END algorithm=ball_tree, n_neighbors=6, weights=distance; total time=   0.1s\n",
      "[CV] END algorithm=ball_tree, n_neighbors=7, weights=uniform; total time=   0.1s\n",
      "[CV] END algorithm=ball_tree, n_neighbors=7, weights=uniform; total time=   0.1s\n",
      "[CV] END algorithm=ball_tree, n_neighbors=7, weights=uniform; total time=   0.1s\n",
      "[CV] END algorithm=ball_tree, n_neighbors=7, weights=uniform; total time=   0.1s\n",
      "[CV] END algorithm=ball_tree, n_neighbors=7, weights=uniform; total time=   0.1s\n",
      "[CV] END algorithm=ball_tree, n_neighbors=7, weights=distance; total time=   0.1s\n",
      "[CV] END algorithm=ball_tree, n_neighbors=7, weights=distance; total time=   0.1s\n",
      "[CV] END algorithm=ball_tree, n_neighbors=7, weights=distance; total time=   0.1s\n",
      "[CV] END algorithm=ball_tree, n_neighbors=7, weights=distance; total time=   0.1s\n",
      "[CV] END algorithm=ball_tree, n_neighbors=7, weights=distance; total time=   0.1s\n",
      "[CV] END algorithm=ball_tree, n_neighbors=10, weights=uniform; total time=   0.1s\n",
      "[CV] END algorithm=ball_tree, n_neighbors=10, weights=uniform; total time=   0.1s\n",
      "[CV] END algorithm=ball_tree, n_neighbors=10, weights=uniform; total time=   0.1s\n",
      "[CV] END algorithm=ball_tree, n_neighbors=10, weights=uniform; total time=   0.1s\n",
      "[CV] END algorithm=ball_tree, n_neighbors=10, weights=uniform; total time=   0.1s\n",
      "[CV] END algorithm=ball_tree, n_neighbors=10, weights=distance; total time=   0.1s\n",
      "[CV] END algorithm=ball_tree, n_neighbors=10, weights=distance; total time=   0.1s\n",
      "[CV] END algorithm=ball_tree, n_neighbors=10, weights=distance; total time=   0.1s\n",
      "[CV] END algorithm=ball_tree, n_neighbors=10, weights=distance; total time=   0.1s\n",
      "[CV] END algorithm=ball_tree, n_neighbors=10, weights=distance; total time=   0.1s\n",
      "[CV] END algorithm=ball_tree, n_neighbors=15, weights=uniform; total time=   0.1s\n",
      "[CV] END algorithm=ball_tree, n_neighbors=15, weights=uniform; total time=   0.1s\n",
      "[CV] END algorithm=ball_tree, n_neighbors=15, weights=uniform; total time=   0.1s\n",
      "[CV] END algorithm=ball_tree, n_neighbors=15, weights=uniform; total time=   0.1s\n",
      "[CV] END algorithm=ball_tree, n_neighbors=15, weights=uniform; total time=   0.1s\n",
      "[CV] END algorithm=ball_tree, n_neighbors=15, weights=distance; total time=   0.1s\n",
      "[CV] END algorithm=ball_tree, n_neighbors=15, weights=distance; total time=   0.1s\n",
      "[CV] END algorithm=ball_tree, n_neighbors=15, weights=distance; total time=   0.1s\n",
      "[CV] END algorithm=ball_tree, n_neighbors=15, weights=distance; total time=   0.1s\n",
      "[CV] END algorithm=ball_tree, n_neighbors=15, weights=distance; total time=   0.1s\n",
      "[CV] END ..algorithm=kd_tree, n_neighbors=3, weights=uniform; total time=   0.1s\n",
      "[CV] END ..algorithm=kd_tree, n_neighbors=3, weights=uniform; total time=   0.1s\n",
      "[CV] END ..algorithm=kd_tree, n_neighbors=3, weights=uniform; total time=   0.1s\n",
      "[CV] END ..algorithm=kd_tree, n_neighbors=3, weights=uniform; total time=   1.0s\n",
      "[CV] END ..algorithm=kd_tree, n_neighbors=3, weights=uniform; total time=   0.1s\n",
      "[CV] END .algorithm=kd_tree, n_neighbors=3, weights=distance; total time=   0.1s\n",
      "[CV] END .algorithm=kd_tree, n_neighbors=3, weights=distance; total time=   0.1s\n",
      "[CV] END .algorithm=kd_tree, n_neighbors=3, weights=distance; total time=   0.1s\n",
      "[CV] END .algorithm=kd_tree, n_neighbors=3, weights=distance; total time=   0.1s\n",
      "[CV] END .algorithm=kd_tree, n_neighbors=3, weights=distance; total time=   0.1s\n",
      "[CV] END ..algorithm=kd_tree, n_neighbors=4, weights=uniform; total time=   0.1s\n",
      "[CV] END ..algorithm=kd_tree, n_neighbors=4, weights=uniform; total time=   0.1s\n",
      "[CV] END ..algorithm=kd_tree, n_neighbors=4, weights=uniform; total time=   0.1s\n",
      "[CV] END ..algorithm=kd_tree, n_neighbors=4, weights=uniform; total time=   0.1s\n",
      "[CV] END ..algorithm=kd_tree, n_neighbors=4, weights=uniform; total time=   0.1s\n",
      "[CV] END .algorithm=kd_tree, n_neighbors=4, weights=distance; total time=   0.1s\n",
      "[CV] END .algorithm=kd_tree, n_neighbors=4, weights=distance; total time=   0.1s\n",
      "[CV] END .algorithm=kd_tree, n_neighbors=4, weights=distance; total time=   0.1s\n",
      "[CV] END .algorithm=kd_tree, n_neighbors=4, weights=distance; total time=   0.1s\n",
      "[CV] END .algorithm=kd_tree, n_neighbors=4, weights=distance; total time=   0.1s\n",
      "[CV] END ..algorithm=kd_tree, n_neighbors=5, weights=uniform; total time=   0.1s\n",
      "[CV] END ..algorithm=kd_tree, n_neighbors=5, weights=uniform; total time=   0.1s\n",
      "[CV] END ..algorithm=kd_tree, n_neighbors=5, weights=uniform; total time=   0.1s\n",
      "[CV] END ..algorithm=kd_tree, n_neighbors=5, weights=uniform; total time=   0.1s\n",
      "[CV] END ..algorithm=kd_tree, n_neighbors=5, weights=uniform; total time=   0.1s\n",
      "[CV] END .algorithm=kd_tree, n_neighbors=5, weights=distance; total time=   0.1s\n",
      "[CV] END .algorithm=kd_tree, n_neighbors=5, weights=distance; total time=   0.1s\n",
      "[CV] END .algorithm=kd_tree, n_neighbors=5, weights=distance; total time=   0.1s\n",
      "[CV] END .algorithm=kd_tree, n_neighbors=5, weights=distance; total time=   0.1s\n",
      "[CV] END .algorithm=kd_tree, n_neighbors=5, weights=distance; total time=   0.1s\n",
      "[CV] END ..algorithm=kd_tree, n_neighbors=6, weights=uniform; total time=   0.1s\n",
      "[CV] END ..algorithm=kd_tree, n_neighbors=6, weights=uniform; total time=   0.1s\n",
      "[CV] END ..algorithm=kd_tree, n_neighbors=6, weights=uniform; total time=   0.1s\n",
      "[CV] END ..algorithm=kd_tree, n_neighbors=6, weights=uniform; total time=   0.1s\n",
      "[CV] END ..algorithm=kd_tree, n_neighbors=6, weights=uniform; total time=   0.1s\n",
      "[CV] END .algorithm=kd_tree, n_neighbors=6, weights=distance; total time=   0.1s\n",
      "[CV] END .algorithm=kd_tree, n_neighbors=6, weights=distance; total time=   0.1s\n",
      "[CV] END .algorithm=kd_tree, n_neighbors=6, weights=distance; total time=   0.1s\n",
      "[CV] END .algorithm=kd_tree, n_neighbors=6, weights=distance; total time=   0.1s\n",
      "[CV] END .algorithm=kd_tree, n_neighbors=6, weights=distance; total time=   0.1s\n",
      "[CV] END ..algorithm=kd_tree, n_neighbors=7, weights=uniform; total time=   0.1s\n",
      "[CV] END ..algorithm=kd_tree, n_neighbors=7, weights=uniform; total time=   0.1s\n",
      "[CV] END ..algorithm=kd_tree, n_neighbors=7, weights=uniform; total time=   0.1s\n",
      "[CV] END ..algorithm=kd_tree, n_neighbors=7, weights=uniform; total time=   0.1s\n",
      "[CV] END ..algorithm=kd_tree, n_neighbors=7, weights=uniform; total time=   0.1s\n",
      "[CV] END .algorithm=kd_tree, n_neighbors=7, weights=distance; total time=   0.1s\n",
      "[CV] END .algorithm=kd_tree, n_neighbors=7, weights=distance; total time=   0.1s\n",
      "[CV] END .algorithm=kd_tree, n_neighbors=7, weights=distance; total time=   0.1s\n",
      "[CV] END .algorithm=kd_tree, n_neighbors=7, weights=distance; total time=   0.1s\n",
      "[CV] END .algorithm=kd_tree, n_neighbors=7, weights=distance; total time=   0.1s\n",
      "[CV] END .algorithm=kd_tree, n_neighbors=10, weights=uniform; total time=   0.1s\n",
      "[CV] END .algorithm=kd_tree, n_neighbors=10, weights=uniform; total time=   0.1s\n",
      "[CV] END .algorithm=kd_tree, n_neighbors=10, weights=uniform; total time=   0.1s\n",
      "[CV] END .algorithm=kd_tree, n_neighbors=10, weights=uniform; total time=   0.1s\n",
      "[CV] END .algorithm=kd_tree, n_neighbors=10, weights=uniform; total time=   0.1s\n",
      "[CV] END algorithm=kd_tree, n_neighbors=10, weights=distance; total time=   0.1s\n",
      "[CV] END algorithm=kd_tree, n_neighbors=10, weights=distance; total time=   0.1s\n",
      "[CV] END algorithm=kd_tree, n_neighbors=10, weights=distance; total time=   0.1s\n",
      "[CV] END algorithm=kd_tree, n_neighbors=10, weights=distance; total time=   0.1s\n",
      "[CV] END algorithm=kd_tree, n_neighbors=10, weights=distance; total time=   0.1s\n",
      "[CV] END .algorithm=kd_tree, n_neighbors=15, weights=uniform; total time=   0.1s\n",
      "[CV] END .algorithm=kd_tree, n_neighbors=15, weights=uniform; total time=   0.1s\n",
      "[CV] END .algorithm=kd_tree, n_neighbors=15, weights=uniform; total time=   0.1s\n",
      "[CV] END .algorithm=kd_tree, n_neighbors=15, weights=uniform; total time=   0.1s\n",
      "[CV] END .algorithm=kd_tree, n_neighbors=15, weights=uniform; total time=   0.1s\n",
      "[CV] END algorithm=kd_tree, n_neighbors=15, weights=distance; total time=   0.1s\n",
      "[CV] END algorithm=kd_tree, n_neighbors=15, weights=distance; total time=   0.1s\n",
      "[CV] END algorithm=kd_tree, n_neighbors=15, weights=distance; total time=   0.1s\n",
      "[CV] END algorithm=kd_tree, n_neighbors=15, weights=distance; total time=   0.1s\n",
      "[CV] END algorithm=kd_tree, n_neighbors=15, weights=distance; total time=   0.1s\n",
      "[CV] END ....algorithm=brute, n_neighbors=3, weights=uniform; total time=   0.1s\n",
      "[CV] END ....algorithm=brute, n_neighbors=3, weights=uniform; total time=   0.2s\n",
      "[CV] END ....algorithm=brute, n_neighbors=3, weights=uniform; total time=   0.2s\n",
      "[CV] END ....algorithm=brute, n_neighbors=3, weights=uniform; total time=   0.2s\n",
      "[CV] END ....algorithm=brute, n_neighbors=3, weights=uniform; total time=   0.2s\n",
      "[CV] END ...algorithm=brute, n_neighbors=3, weights=distance; total time=   0.2s\n",
      "[CV] END ...algorithm=brute, n_neighbors=3, weights=distance; total time=   0.2s\n",
      "[CV] END ...algorithm=brute, n_neighbors=3, weights=distance; total time=   0.2s\n",
      "[CV] END ...algorithm=brute, n_neighbors=3, weights=distance; total time=   0.2s\n",
      "[CV] END ...algorithm=brute, n_neighbors=3, weights=distance; total time=   0.2s\n",
      "[CV] END ....algorithm=brute, n_neighbors=4, weights=uniform; total time=   0.2s\n",
      "[CV] END ....algorithm=brute, n_neighbors=4, weights=uniform; total time=   0.2s\n",
      "[CV] END ....algorithm=brute, n_neighbors=4, weights=uniform; total time=   0.2s\n",
      "[CV] END ....algorithm=brute, n_neighbors=4, weights=uniform; total time=   0.2s\n",
      "[CV] END ....algorithm=brute, n_neighbors=4, weights=uniform; total time=   0.2s\n",
      "[CV] END ...algorithm=brute, n_neighbors=4, weights=distance; total time=   0.2s\n",
      "[CV] END ...algorithm=brute, n_neighbors=4, weights=distance; total time=   0.2s\n",
      "[CV] END ...algorithm=brute, n_neighbors=4, weights=distance; total time=   0.2s\n",
      "[CV] END ...algorithm=brute, n_neighbors=4, weights=distance; total time=   0.2s\n",
      "[CV] END ...algorithm=brute, n_neighbors=4, weights=distance; total time=   0.2s\n",
      "[CV] END ....algorithm=brute, n_neighbors=5, weights=uniform; total time=   0.2s\n",
      "[CV] END ....algorithm=brute, n_neighbors=5, weights=uniform; total time=   0.2s\n",
      "[CV] END ....algorithm=brute, n_neighbors=5, weights=uniform; total time=   0.2s\n",
      "[CV] END ....algorithm=brute, n_neighbors=5, weights=uniform; total time=   0.2s\n",
      "[CV] END ....algorithm=brute, n_neighbors=5, weights=uniform; total time=   0.2s\n",
      "[CV] END ...algorithm=brute, n_neighbors=5, weights=distance; total time=   0.2s\n",
      "[CV] END ...algorithm=brute, n_neighbors=5, weights=distance; total time=   0.2s\n",
      "[CV] END ...algorithm=brute, n_neighbors=5, weights=distance; total time=   0.2s\n",
      "[CV] END ...algorithm=brute, n_neighbors=5, weights=distance; total time=   0.2s\n",
      "[CV] END ...algorithm=brute, n_neighbors=5, weights=distance; total time=   0.2s\n",
      "[CV] END ....algorithm=brute, n_neighbors=6, weights=uniform; total time=   0.2s\n",
      "[CV] END ....algorithm=brute, n_neighbors=6, weights=uniform; total time=   0.2s\n",
      "[CV] END ....algorithm=brute, n_neighbors=6, weights=uniform; total time=   0.2s\n",
      "[CV] END ....algorithm=brute, n_neighbors=6, weights=uniform; total time=   0.2s\n",
      "[CV] END ....algorithm=brute, n_neighbors=6, weights=uniform; total time=   0.2s\n",
      "[CV] END ...algorithm=brute, n_neighbors=6, weights=distance; total time=   0.2s\n",
      "[CV] END ...algorithm=brute, n_neighbors=6, weights=distance; total time=   0.2s\n",
      "[CV] END ...algorithm=brute, n_neighbors=6, weights=distance; total time=   0.2s\n",
      "[CV] END ...algorithm=brute, n_neighbors=6, weights=distance; total time=   0.2s\n",
      "[CV] END ...algorithm=brute, n_neighbors=6, weights=distance; total time=   0.2s\n",
      "[CV] END ....algorithm=brute, n_neighbors=7, weights=uniform; total time=   0.2s\n",
      "[CV] END ....algorithm=brute, n_neighbors=7, weights=uniform; total time=   0.2s\n",
      "[CV] END ....algorithm=brute, n_neighbors=7, weights=uniform; total time=   0.2s\n",
      "[CV] END ....algorithm=brute, n_neighbors=7, weights=uniform; total time=   0.2s\n",
      "[CV] END ....algorithm=brute, n_neighbors=7, weights=uniform; total time=   0.2s\n",
      "[CV] END ...algorithm=brute, n_neighbors=7, weights=distance; total time=   0.2s\n",
      "[CV] END ...algorithm=brute, n_neighbors=7, weights=distance; total time=   0.2s\n",
      "[CV] END ...algorithm=brute, n_neighbors=7, weights=distance; total time=   0.2s\n",
      "[CV] END ...algorithm=brute, n_neighbors=7, weights=distance; total time=   0.2s\n",
      "[CV] END ...algorithm=brute, n_neighbors=7, weights=distance; total time=   0.2s\n",
      "[CV] END ...algorithm=brute, n_neighbors=10, weights=uniform; total time=   0.2s\n",
      "[CV] END ...algorithm=brute, n_neighbors=10, weights=uniform; total time=   0.2s\n",
      "[CV] END ...algorithm=brute, n_neighbors=10, weights=uniform; total time=   0.2s\n",
      "[CV] END ...algorithm=brute, n_neighbors=10, weights=uniform; total time=   0.2s\n",
      "[CV] END ...algorithm=brute, n_neighbors=10, weights=uniform; total time=   0.2s\n",
      "[CV] END ..algorithm=brute, n_neighbors=10, weights=distance; total time=   0.2s\n",
      "[CV] END ..algorithm=brute, n_neighbors=10, weights=distance; total time=   0.2s\n",
      "[CV] END ..algorithm=brute, n_neighbors=10, weights=distance; total time=   0.2s\n",
      "[CV] END ..algorithm=brute, n_neighbors=10, weights=distance; total time=   0.2s\n",
      "[CV] END ..algorithm=brute, n_neighbors=10, weights=distance; total time=   0.2s\n",
      "[CV] END ...algorithm=brute, n_neighbors=15, weights=uniform; total time=   0.2s\n",
      "[CV] END ...algorithm=brute, n_neighbors=15, weights=uniform; total time=   0.2s\n",
      "[CV] END ...algorithm=brute, n_neighbors=15, weights=uniform; total time=   0.2s\n",
      "[CV] END ...algorithm=brute, n_neighbors=15, weights=uniform; total time=   0.2s\n",
      "[CV] END ...algorithm=brute, n_neighbors=15, weights=uniform; total time=   0.2s\n",
      "[CV] END ..algorithm=brute, n_neighbors=15, weights=distance; total time=   0.2s\n",
      "[CV] END ..algorithm=brute, n_neighbors=15, weights=distance; total time=   0.2s\n",
      "[CV] END ..algorithm=brute, n_neighbors=15, weights=distance; total time=   0.2s\n",
      "[CV] END ..algorithm=brute, n_neighbors=15, weights=distance; total time=   0.2s\n",
      "[CV] END ..algorithm=brute, n_neighbors=15, weights=distance; total time=   0.2s\n",
      "467768.71557013434\n",
      "{'algorithm': 'kd_tree', 'n_neighbors': 6, 'weights': 'distance'}\n",
      "KNeighborsRegressor(algorithm='kd_tree', n_neighbors=6, weights='distance')\n"
     ]
    }
   ],
   "source": [
    "from sklearn.neighbors import KNeighborsRegressor\n",
    "\n",
    "grid_knn = GridSearchCV(KNeighborsRegressor(), param_grid, cv=5, refit=True, verbose=2, scoring = 'neg_mean_squared_error')\n",
    "\n",
    "grid_knn.fit(X2_train, y2_train)\n"
   ]
  },
  {
   "cell_type": "code",
   "execution_count": 135,
   "id": "57253a42-6a78-4837-b09c-483f46e86136",
   "metadata": {},
   "outputs": [
    {
     "name": "stdout",
     "output_type": "stream",
     "text": [
      "467768.71557013434\n",
      "{'algorithm': 'kd_tree', 'n_neighbors': 6, 'weights': 'distance'}\n",
      "KNeighborsRegressor(algorithm='kd_tree', n_neighbors=6, weights='distance')\n"
     ]
    }
   ],
   "source": [
    "best_score = np.sqrt(-grid_knn.best_score_)\n",
    "print(best_score)    \n",
    "print(grid_knn.best_params_)\n",
    "print(grid_knn.best_estimator_)"
   ]
  },
  {
   "cell_type": "code",
   "execution_count": 132,
   "id": "9ec1a5d9-7eeb-415f-a650-98fa227bcdb6",
   "metadata": {},
   "outputs": [],
   "source": [
    "pred_knn = grid_knn.predict(X2_test)\n"
   ]
  },
  {
   "cell_type": "code",
   "execution_count": 133,
   "id": "0f0cb16d-56ff-4f12-b9e9-f4b95f7118d6",
   "metadata": {},
   "outputs": [
    {
     "name": "stdout",
     "output_type": "stream",
     "text": [
      "R^2 = 0.5060860846423179\n"
     ]
    }
   ],
   "source": [
    "from sklearn import metrics\n",
    "# Calculated R Squared\n",
    "print('R^2 =',metrics.explained_variance_score(y2_test,pred_knn))"
   ]
  },
  {
   "cell_type": "code",
   "execution_count": 136,
   "id": "c32ea045-44ba-451c-a164-2fc2c05fee24",
   "metadata": {},
   "outputs": [
    {
     "name": "stdout",
     "output_type": "stream",
     "text": [
      "Mean Absolute Error: 265341.62506506103\n",
      "Mean Squared Error: 195933975574.8889\n",
      "Root Mean Squared Error: 442644.29915552837\n"
     ]
    }
   ],
   "source": [
    "from sklearn import metrics\n",
    "\n",
    "print('Mean Absolute Error:', metrics.mean_absolute_error(y2_test, pred_knn))\n",
    "print('Mean Squared Error:', metrics.mean_squared_error(y2_test, pred_knn))\n",
    "print('Root Mean Squared Error:', np.sqrt(metrics.mean_squared_error(y2_test, pred_knn)))"
   ]
  },
  {
   "cell_type": "code",
   "execution_count": 137,
   "id": "e8624ce3-1852-47e2-bf66-84ad11e31ba9",
   "metadata": {},
   "outputs": [
    {
     "name": "stdout",
     "output_type": "stream",
     "text": [
      "71.98\n"
     ]
    }
   ],
   "source": [
    "errors = abs(pred_knn - y2_test)\n",
    "MSE=round(np.mean(errors),2)\n",
    "MAPE=100*(errors/y2_test)\n",
    "accuracy=round (100 - np.mean(MAPE),2)\n",
    "print(accuracy)"
   ]
  },
  {
   "cell_type": "code",
   "execution_count": 158,
   "id": "1321cc0b-82af-44aa-af51-2c029dd76451",
   "metadata": {},
   "outputs": [
    {
     "name": "stderr",
     "output_type": "stream",
     "text": [
      "/Users/adh.arash/Downloads/conda/envs/snowpark/lib/python3.8/site-packages/xgboost/data.py:250: FutureWarning: pandas.Int64Index is deprecated and will be removed from pandas in a future version. Use pandas.Index with the appropriate dtype instead.\n",
      "  elif isinstance(data.columns, (pd.Int64Index, pd.RangeIndex)):\n"
     ]
    }
   ],
   "source": [
    "xgb = XGBRegressor()\n",
    "xgb.fit(X2_train,y2_train)\n",
    "pred_xgb=xgb.predict(X2_test)"
   ]
  },
  {
   "cell_type": "code",
   "execution_count": 159,
   "id": "794ccc85-ccba-46f1-8b3e-1944558eb12f",
   "metadata": {},
   "outputs": [
    {
     "name": "stdout",
     "output_type": "stream",
     "text": [
      "R^2 = 0.7997427606518817\n"
     ]
    }
   ],
   "source": [
    "from sklearn import metrics\n",
    "# Calculated R Squared\n",
    "print('R^2 =',metrics.explained_variance_score(y2_test,pred_xgb))"
   ]
  },
  {
   "cell_type": "code",
   "execution_count": 160,
   "id": "4984b33c-a495-42a2-a03a-2c680c0ff8bd",
   "metadata": {},
   "outputs": [
    {
     "name": "stdout",
     "output_type": "stream",
     "text": [
      "Mean Absolute Error: 175130.13917351537\n",
      "Mean Squared Error: 79463067551.61269\n",
      "Root Mean Squared Error: 281891.94304132333\n"
     ]
    }
   ],
   "source": [
    "from sklearn import metrics\n",
    "\n",
    "print('Mean Absolute Error:', metrics.mean_absolute_error(y2_test, pred_xgb))\n",
    "print('Mean Squared Error:', metrics.mean_squared_error(y2_test, pred_xgb))\n",
    "print('Root Mean Squared Error:', np.sqrt(metrics.mean_squared_error(y2_test, pred_xgb)))"
   ]
  },
  {
   "cell_type": "code",
   "execution_count": 161,
   "id": "911f2a3f-1289-43d0-9883-cade04868422",
   "metadata": {},
   "outputs": [
    {
     "name": "stdout",
     "output_type": "stream",
     "text": [
      "83.33\n"
     ]
    }
   ],
   "source": [
    "errors = abs(pred_xgb - y2_test)\n",
    "MSE=round(np.mean(errors),2)\n",
    "MAPE=100*(errors/y2_test)\n",
    "accuracy=round (100 - np.mean(MAPE),2)\n",
    "print(accuracy)"
   ]
  },
  {
   "cell_type": "code",
   "execution_count": 167,
   "id": "55da3527-037e-485c-acba-7ee2d85f33fd",
   "metadata": {},
   "outputs": [
    {
     "name": "stderr",
     "output_type": "stream",
     "text": [
      "/Users/adh.arash/Downloads/conda/envs/snowpark/lib/python3.8/site-packages/xgboost/data.py:250: FutureWarning: pandas.Int64Index is deprecated and will be removed from pandas in a future version. Use pandas.Index with the appropriate dtype instead.\n",
      "  elif isinstance(data.columns, (pd.Int64Index, pd.RangeIndex)):\n"
     ]
    }
   ],
   "source": [
    "import xgboost as xgb\n",
    "\n",
    "xgb_params = {\n",
    "    'eta': 0.05,\n",
    "    'max_depth': 5,\n",
    "    'subsample': 0.7,\n",
    "    'colsample_bytree': 0.7,\n",
    "    'objective': 'reg:linear',\n",
    "    'eval_metric': 'rmse',\n",
    "    'silent': 1\n",
    "}\n",
    "\n",
    "dtrain = xgb.DMatrix(X2_train, y2_train)"
   ]
  },
  {
   "cell_type": "code",
   "execution_count": 170,
   "id": "808d5f1b-442e-4082-940d-7cc8560973e5",
   "metadata": {},
   "outputs": [
    {
     "name": "stdout",
     "output_type": "stream",
     "text": [
      "[21:26:10] WARNING: ../src/objective/regression_obj.cu:188: reg:linear is now deprecated in favor of reg:squarederror.\n",
      "[21:26:10] WARNING: ../src/learner.cc:576: \n",
      "Parameters: { \"silent\" } might not be used.\n",
      "\n",
      "  This could be a false alarm, with some parameters getting used by language bindings but\n",
      "  then being mistakenly passed down to XGBoost core, or some parameter actually being used\n",
      "  but getting flagged wrongly here. Please open an issue if you find any such cases.\n",
      "\n",
      "\n",
      "[21:26:10] WARNING: ../src/objective/regression_obj.cu:188: reg:linear is now deprecated in favor of reg:squarederror.\n",
      "[21:26:10] WARNING: ../src/learner.cc:576: \n",
      "Parameters: { \"silent\" } might not be used.\n",
      "\n",
      "  This could be a false alarm, with some parameters getting used by language bindings but\n",
      "  then being mistakenly passed down to XGBoost core, or some parameter actually being used\n",
      "  but getting flagged wrongly here. Please open an issue if you find any such cases.\n",
      "\n",
      "\n",
      "[21:26:10] WARNING: ../src/objective/regression_obj.cu:188: reg:linear is now deprecated in favor of reg:squarederror.\n",
      "[21:26:10] WARNING: ../src/learner.cc:576: \n",
      "Parameters: { \"silent\" } might not be used.\n",
      "\n",
      "  This could be a false alarm, with some parameters getting used by language bindings but\n",
      "  then being mistakenly passed down to XGBoost core, or some parameter actually being used\n",
      "  but getting flagged wrongly here. Please open an issue if you find any such cases.\n",
      "\n",
      "\n",
      "[0]\ttrain-rmse:1187926.50000\ttest-rmse:1188010.00000\n",
      "[50]\ttrain-rmse:353314.00000\ttest-rmse:371989.71875\n",
      "[100]\ttrain-rmse:300405.86458\ttest-rmse:333558.44792\n",
      "[150]\ttrain-rmse:280558.27083\ttest-rmse:324499.80208\n",
      "[200]\ttrain-rmse:267835.26042\ttest-rmse:320823.02083\n",
      "[250]\ttrain-rmse:258296.48958\ttest-rmse:318450.33333\n",
      "[300]\ttrain-rmse:249835.87500\ttest-rmse:316824.12500\n",
      "[350]\ttrain-rmse:242804.18750\ttest-rmse:316276.87500\n",
      "[400]\ttrain-rmse:236135.15625\ttest-rmse:315545.20833\n",
      "[450]\ttrain-rmse:229929.42708\ttest-rmse:315216.55208\n",
      "[500]\ttrain-rmse:224656.31771\ttest-rmse:314818.79167\n",
      "[537]\ttrain-rmse:221468.41667\ttest-rmse:314600.82292\n"
     ]
    }
   ],
   "source": [
    "cv_output = xgb.cv(xgb_params, dtrain, num_boost_round=1000, early_stopping_rounds=20,\n",
    "    verbose_eval=50, show_stdv=False)"
   ]
  },
  {
   "cell_type": "code",
   "execution_count": 171,
   "id": "e215bf81-388f-4d1f-9aa5-dbf6f0bd4441",
   "metadata": {},
   "outputs": [
    {
     "name": "stdout",
     "output_type": "stream",
     "text": [
      "[21:27:17] WARNING: ../src/objective/regression_obj.cu:188: reg:linear is now deprecated in favor of reg:squarederror.\n",
      "[21:27:17] WARNING: ../src/learner.cc:576: \n",
      "Parameters: { \"silent\" } might not be used.\n",
      "\n",
      "  This could be a false alarm, with some parameters getting used by language bindings but\n",
      "  then being mistakenly passed down to XGBoost core, or some parameter actually being used\n",
      "  but getting flagged wrongly here. Please open an issue if you find any such cases.\n",
      "\n",
      "\n"
     ]
    }
   ],
   "source": [
    "num_boost_rounds = len(cv_output)\n",
    "model = xgb.train(dict(xgb_params, silent=0), dtrain, num_boost_round= num_boost_rounds)"
   ]
  },
  {
   "cell_type": "code",
   "execution_count": 173,
   "id": "12105c8f-6467-4349-a75b-9ee341a3a852",
   "metadata": {},
   "outputs": [
    {
     "data": {
      "text/plain": [
       "<AxesSubplot: title={'center': 'Feature importance'}, xlabel='F score', ylabel='Features'>"
      ]
     },
     "execution_count": 173,
     "metadata": {},
     "output_type": "execute_result"
    },
    {
     "data": {
      "image/png": "[encoded data removed]",
      "text/plain": [
       "<Figure size 800x1000 with 1 Axes>"
      ]
     },
     "metadata": {},
     "output_type": "display_data"
    }
   ],
   "source": [
    "fig, ax = plt.subplots(1, 1, figsize=(8, 10))\n",
    "xgb.plot_importance(model, max_num_features=50, height=0.5, ax=ax)"
   ]
  },
  {
   "cell_type": "code",
   "execution_count": 175,
   "id": "8f417d2b-2802-4402-af6c-27c8c8df9bd0",
   "metadata": {},
   "outputs": [],
   "source": [
    "dtest=xgb.DMatrix(X2_test)"
   ]
  },
  {
   "cell_type": "code",
   "execution_count": 176,
   "id": "391ae991-1d6a-456c-a2c5-16cfc1e6e8d0",
   "metadata": {},
   "outputs": [
    {
     "name": "stderr",
     "output_type": "stream",
     "text": [
      "/var/folders/t3/g34fqy5x7g93yy85dp44j8700000gn/T/ipykernel_46599/3384565814.py:1: RuntimeWarning: overflow encountered in exp2\n",
      "  y_predict = np.exp2(model.predict(dtest))\n"
     ]
    }
   ],
   "source": [
    "y_predict = np.exp2(model.predict(dtest))"
   ]
  },
  {
   "cell_type": "code",
   "execution_count": 181,
   "id": "80a2691a-9efa-48af-9d0d-75d89d6d36cb",
   "metadata": {},
   "outputs": [],
   "source": [
    "regressor=xgb.XGBRegressor(eval_metric='rmsle')"
   ]
  },
  {
   "cell_type": "code",
   "execution_count": 185,
   "id": "f5b46e56-2f48-4205-a05f-f6d2c631ba59",
   "metadata": {
    "collapsed": true,
    "jupyter": {
     "outputs_hidden": true
    },
    "tags": []
   },
   "outputs": [
    {
     "name": "stdout",
     "output_type": "stream",
     "text": [
      "Fitting 5 folds for each of 12 candidates, totalling 60 fits\n",
      "[CV 1/5; 1/12] START learning_rate=0.01, max_depth=4, n_estimators=500..........\n",
      "[CV 1/5; 1/12] END learning_rate=0.01, max_depth=4, n_estimators=500;, score=0.707 total time=   3.0s\n",
      "[CV 2/5; 1/12] START learning_rate=0.01, max_depth=4, n_estimators=500..........\n"
     ]
    },
    {
     "name": "stderr",
     "output_type": "stream",
     "text": [
      "/Users/adh.arash/Downloads/conda/envs/snowpark/lib/python3.8/site-packages/xgboost/data.py:250: FutureWarning: pandas.Int64Index is deprecated and will be removed from pandas in a future version. Use pandas.Index with the appropriate dtype instead.\n",
      "  elif isinstance(data.columns, (pd.Int64Index, pd.RangeIndex)):\n"
     ]
    },
    {
     "name": "stdout",
     "output_type": "stream",
     "text": [
      "[CV 2/5; 1/12] END learning_rate=0.01, max_depth=4, n_estimators=500;, score=0.718 total time=   2.5s\n",
      "[CV 3/5; 1/12] START learning_rate=0.01, max_depth=4, n_estimators=500..........\n"
     ]
    },
    {
     "name": "stderr",
     "output_type": "stream",
     "text": [
      "/Users/adh.arash/Downloads/conda/envs/snowpark/lib/python3.8/site-packages/xgboost/data.py:250: FutureWarning: pandas.Int64Index is deprecated and will be removed from pandas in a future version. Use pandas.Index with the appropriate dtype instead.\n",
      "  elif isinstance(data.columns, (pd.Int64Index, pd.RangeIndex)):\n"
     ]
    },
    {
     "name": "stdout",
     "output_type": "stream",
     "text": [
      "[CV 3/5; 1/12] END learning_rate=0.01, max_depth=4, n_estimators=500;, score=0.716 total time=   2.5s\n",
      "[CV 4/5; 1/12] START learning_rate=0.01, max_depth=4, n_estimators=500..........\n"
     ]
    },
    {
     "name": "stderr",
     "output_type": "stream",
     "text": [
      "/Users/adh.arash/Downloads/conda/envs/snowpark/lib/python3.8/site-packages/xgboost/data.py:250: FutureWarning: pandas.Int64Index is deprecated and will be removed from pandas in a future version. Use pandas.Index with the appropriate dtype instead.\n",
      "  elif isinstance(data.columns, (pd.Int64Index, pd.RangeIndex)):\n"
     ]
    },
    {
     "name": "stdout",
     "output_type": "stream",
     "text": [
      "[CV 4/5; 1/12] END learning_rate=0.01, max_depth=4, n_estimators=500;, score=0.714 total time=   2.4s\n",
      "[CV 5/5; 1/12] START learning_rate=0.01, max_depth=4, n_estimators=500..........\n"
     ]
    },
    {
     "name": "stderr",
     "output_type": "stream",
     "text": [
      "/Users/adh.arash/Downloads/conda/envs/snowpark/lib/python3.8/site-packages/xgboost/data.py:250: FutureWarning: pandas.Int64Index is deprecated and will be removed from pandas in a future version. Use pandas.Index with the appropriate dtype instead.\n",
      "  elif isinstance(data.columns, (pd.Int64Index, pd.RangeIndex)):\n"
     ]
    },
    {
     "name": "stdout",
     "output_type": "stream",
     "text": [
      "[CV 5/5; 1/12] END learning_rate=0.01, max_depth=4, n_estimators=500;, score=0.716 total time=   2.5s\n",
      "[CV 1/5; 2/12] START learning_rate=0.01, max_depth=4, n_estimators=600..........\n"
     ]
    },
    {
     "name": "stderr",
     "output_type": "stream",
     "text": [
      "/Users/adh.arash/Downloads/conda/envs/snowpark/lib/python3.8/site-packages/xgboost/data.py:250: FutureWarning: pandas.Int64Index is deprecated and will be removed from pandas in a future version. Use pandas.Index with the appropriate dtype instead.\n",
      "  elif isinstance(data.columns, (pd.Int64Index, pd.RangeIndex)):\n"
     ]
    },
    {
     "name": "stdout",
     "output_type": "stream",
     "text": [
      "[CV 1/5; 2/12] END learning_rate=0.01, max_depth=4, n_estimators=600;, score=0.716 total time=   2.9s\n",
      "[CV 2/5; 2/12] START learning_rate=0.01, max_depth=4, n_estimators=600..........\n"
     ]
    },
    {
     "name": "stderr",
     "output_type": "stream",
     "text": [
      "/Users/adh.arash/Downloads/conda/envs/snowpark/lib/python3.8/site-packages/xgboost/data.py:250: FutureWarning: pandas.Int64Index is deprecated and will be removed from pandas in a future version. Use pandas.Index with the appropriate dtype instead.\n",
      "  elif isinstance(data.columns, (pd.Int64Index, pd.RangeIndex)):\n"
     ]
    },
    {
     "name": "stdout",
     "output_type": "stream",
     "text": [
      "[CV 2/5; 2/12] END learning_rate=0.01, max_depth=4, n_estimators=600;, score=0.728 total time=   2.8s\n",
      "[CV 3/5; 2/12] START learning_rate=0.01, max_depth=4, n_estimators=600..........\n"
     ]
    },
    {
     "name": "stderr",
     "output_type": "stream",
     "text": [
      "/Users/adh.arash/Downloads/conda/envs/snowpark/lib/python3.8/site-packages/xgboost/data.py:250: FutureWarning: pandas.Int64Index is deprecated and will be removed from pandas in a future version. Use pandas.Index with the appropriate dtype instead.\n",
      "  elif isinstance(data.columns, (pd.Int64Index, pd.RangeIndex)):\n"
     ]
    },
    {
     "name": "stdout",
     "output_type": "stream",
     "text": [
      "[CV 3/5; 2/12] END learning_rate=0.01, max_depth=4, n_estimators=600;, score=0.720 total time=   2.9s\n",
      "[CV 4/5; 2/12] START learning_rate=0.01, max_depth=4, n_estimators=600..........\n"
     ]
    },
    {
     "name": "stderr",
     "output_type": "stream",
     "text": [
      "/Users/adh.arash/Downloads/conda/envs/snowpark/lib/python3.8/site-packages/xgboost/data.py:250: FutureWarning: pandas.Int64Index is deprecated and will be removed from pandas in a future version. Use pandas.Index with the appropriate dtype instead.\n",
      "  elif isinstance(data.columns, (pd.Int64Index, pd.RangeIndex)):\n"
     ]
    },
    {
     "name": "stdout",
     "output_type": "stream",
     "text": [
      "[CV 4/5; 2/12] END learning_rate=0.01, max_depth=4, n_estimators=600;, score=0.724 total time=   2.9s\n",
      "[CV 5/5; 2/12] START learning_rate=0.01, max_depth=4, n_estimators=600..........\n"
     ]
    },
    {
     "name": "stderr",
     "output_type": "stream",
     "text": [
      "/Users/adh.arash/Downloads/conda/envs/snowpark/lib/python3.8/site-packages/xgboost/data.py:250: FutureWarning: pandas.Int64Index is deprecated and will be removed from pandas in a future version. Use pandas.Index with the appropriate dtype instead.\n",
      "  elif isinstance(data.columns, (pd.Int64Index, pd.RangeIndex)):\n"
     ]
    },
    {
     "name": "stdout",
     "output_type": "stream",
     "text": [
      "[CV 5/5; 2/12] END learning_rate=0.01, max_depth=4, n_estimators=600;, score=0.726 total time=   2.8s\n",
      "[CV 1/5; 3/12] START learning_rate=0.01, max_depth=4, n_estimators=700..........\n"
     ]
    },
    {
     "name": "stderr",
     "output_type": "stream",
     "text": [
      "/Users/adh.arash/Downloads/conda/envs/snowpark/lib/python3.8/site-packages/xgboost/data.py:250: FutureWarning: pandas.Int64Index is deprecated and will be removed from pandas in a future version. Use pandas.Index with the appropriate dtype instead.\n",
      "  elif isinstance(data.columns, (pd.Int64Index, pd.RangeIndex)):\n"
     ]
    },
    {
     "name": "stdout",
     "output_type": "stream",
     "text": [
      "[CV 1/5; 3/12] END learning_rate=0.01, max_depth=4, n_estimators=700;, score=0.723 total time=   3.5s\n",
      "[CV 2/5; 3/12] START learning_rate=0.01, max_depth=4, n_estimators=700..........\n"
     ]
    },
    {
     "name": "stderr",
     "output_type": "stream",
     "text": [
      "/Users/adh.arash/Downloads/conda/envs/snowpark/lib/python3.8/site-packages/xgboost/data.py:250: FutureWarning: pandas.Int64Index is deprecated and will be removed from pandas in a future version. Use pandas.Index with the appropriate dtype instead.\n",
      "  elif isinstance(data.columns, (pd.Int64Index, pd.RangeIndex)):\n"
     ]
    },
    {
     "name": "stdout",
     "output_type": "stream",
     "text": [
      "[CV 2/5; 3/12] END learning_rate=0.01, max_depth=4, n_estimators=700;, score=0.736 total time=   3.4s\n",
      "[CV 3/5; 3/12] START learning_rate=0.01, max_depth=4, n_estimators=700..........\n"
     ]
    },
    {
     "name": "stderr",
     "output_type": "stream",
     "text": [
      "/Users/adh.arash/Downloads/conda/envs/snowpark/lib/python3.8/site-packages/xgboost/data.py:250: FutureWarning: pandas.Int64Index is deprecated and will be removed from pandas in a future version. Use pandas.Index with the appropriate dtype instead.\n",
      "  elif isinstance(data.columns, (pd.Int64Index, pd.RangeIndex)):\n"
     ]
    },
    {
     "name": "stdout",
     "output_type": "stream",
     "text": [
      "[CV 3/5; 3/12] END learning_rate=0.01, max_depth=4, n_estimators=700;, score=0.725 total time=   3.6s\n",
      "[CV 4/5; 3/12] START learning_rate=0.01, max_depth=4, n_estimators=700..........\n"
     ]
    },
    {
     "name": "stderr",
     "output_type": "stream",
     "text": [
      "/Users/adh.arash/Downloads/conda/envs/snowpark/lib/python3.8/site-packages/xgboost/data.py:250: FutureWarning: pandas.Int64Index is deprecated and will be removed from pandas in a future version. Use pandas.Index with the appropriate dtype instead.\n",
      "  elif isinstance(data.columns, (pd.Int64Index, pd.RangeIndex)):\n"
     ]
    },
    {
     "name": "stdout",
     "output_type": "stream",
     "text": [
      "[CV 4/5; 3/12] END learning_rate=0.01, max_depth=4, n_estimators=700;, score=0.732 total time=   3.6s\n",
      "[CV 5/5; 3/12] START learning_rate=0.01, max_depth=4, n_estimators=700..........\n"
     ]
    },
    {
     "name": "stderr",
     "output_type": "stream",
     "text": [
      "/Users/adh.arash/Downloads/conda/envs/snowpark/lib/python3.8/site-packages/xgboost/data.py:250: FutureWarning: pandas.Int64Index is deprecated and will be removed from pandas in a future version. Use pandas.Index with the appropriate dtype instead.\n",
      "  elif isinstance(data.columns, (pd.Int64Index, pd.RangeIndex)):\n"
     ]
    },
    {
     "name": "stdout",
     "output_type": "stream",
     "text": [
      "[CV 5/5; 3/12] END learning_rate=0.01, max_depth=4, n_estimators=700;, score=0.732 total time=   3.8s\n",
      "[CV 1/5; 4/12] START learning_rate=0.01, max_depth=5, n_estimators=500..........\n"
     ]
    },
    {
     "name": "stderr",
     "output_type": "stream",
     "text": [
      "/Users/adh.arash/Downloads/conda/envs/snowpark/lib/python3.8/site-packages/xgboost/data.py:250: FutureWarning: pandas.Int64Index is deprecated and will be removed from pandas in a future version. Use pandas.Index with the appropriate dtype instead.\n",
      "  elif isinstance(data.columns, (pd.Int64Index, pd.RangeIndex)):\n"
     ]
    },
    {
     "name": "stdout",
     "output_type": "stream",
     "text": [
      "[CV 1/5; 4/12] END learning_rate=0.01, max_depth=5, n_estimators=500;, score=0.726 total time=   3.4s\n",
      "[CV 2/5; 4/12] START learning_rate=0.01, max_depth=5, n_estimators=500..........\n"
     ]
    },
    {
     "name": "stderr",
     "output_type": "stream",
     "text": [
      "/Users/adh.arash/Downloads/conda/envs/snowpark/lib/python3.8/site-packages/xgboost/data.py:250: FutureWarning: pandas.Int64Index is deprecated and will be removed from pandas in a future version. Use pandas.Index with the appropriate dtype instead.\n",
      "  elif isinstance(data.columns, (pd.Int64Index, pd.RangeIndex)):\n"
     ]
    },
    {
     "name": "stdout",
     "output_type": "stream",
     "text": [
      "[CV 2/5; 4/12] END learning_rate=0.01, max_depth=5, n_estimators=500;, score=0.747 total time=   4.7s\n",
      "[CV 3/5; 4/12] START learning_rate=0.01, max_depth=5, n_estimators=500..........\n"
     ]
    },
    {
     "name": "stderr",
     "output_type": "stream",
     "text": [
      "/Users/adh.arash/Downloads/conda/envs/snowpark/lib/python3.8/site-packages/xgboost/data.py:250: FutureWarning: pandas.Int64Index is deprecated and will be removed from pandas in a future version. Use pandas.Index with the appropriate dtype instead.\n",
      "  elif isinstance(data.columns, (pd.Int64Index, pd.RangeIndex)):\n"
     ]
    },
    {
     "name": "stdout",
     "output_type": "stream",
     "text": [
      "[CV 3/5; 4/12] END learning_rate=0.01, max_depth=5, n_estimators=500;, score=0.737 total time=   3.8s\n",
      "[CV 4/5; 4/12] START learning_rate=0.01, max_depth=5, n_estimators=500..........\n"
     ]
    },
    {
     "name": "stderr",
     "output_type": "stream",
     "text": [
      "/Users/adh.arash/Downloads/conda/envs/snowpark/lib/python3.8/site-packages/xgboost/data.py:250: FutureWarning: pandas.Int64Index is deprecated and will be removed from pandas in a future version. Use pandas.Index with the appropriate dtype instead.\n",
      "  elif isinstance(data.columns, (pd.Int64Index, pd.RangeIndex)):\n"
     ]
    },
    {
     "name": "stdout",
     "output_type": "stream",
     "text": [
      "[CV 4/5; 4/12] END learning_rate=0.01, max_depth=5, n_estimators=500;, score=0.738 total time=   3.7s\n",
      "[CV 5/5; 4/12] START learning_rate=0.01, max_depth=5, n_estimators=500..........\n"
     ]
    },
    {
     "name": "stderr",
     "output_type": "stream",
     "text": [
      "/Users/adh.arash/Downloads/conda/envs/snowpark/lib/python3.8/site-packages/xgboost/data.py:250: FutureWarning: pandas.Int64Index is deprecated and will be removed from pandas in a future version. Use pandas.Index with the appropriate dtype instead.\n",
      "  elif isinstance(data.columns, (pd.Int64Index, pd.RangeIndex)):\n"
     ]
    },
    {
     "name": "stdout",
     "output_type": "stream",
     "text": [
      "[CV 5/5; 4/12] END learning_rate=0.01, max_depth=5, n_estimators=500;, score=0.736 total time=   3.4s\n",
      "[CV 1/5; 5/12] START learning_rate=0.01, max_depth=5, n_estimators=600..........\n"
     ]
    },
    {
     "name": "stderr",
     "output_type": "stream",
     "text": [
      "/Users/adh.arash/Downloads/conda/envs/snowpark/lib/python3.8/site-packages/xgboost/data.py:250: FutureWarning: pandas.Int64Index is deprecated and will be removed from pandas in a future version. Use pandas.Index with the appropriate dtype instead.\n",
      "  elif isinstance(data.columns, (pd.Int64Index, pd.RangeIndex)):\n"
     ]
    },
    {
     "name": "stdout",
     "output_type": "stream",
     "text": [
      "[CV 1/5; 5/12] END learning_rate=0.01, max_depth=5, n_estimators=600;, score=0.732 total time=   3.8s\n",
      "[CV 2/5; 5/12] START learning_rate=0.01, max_depth=5, n_estimators=600..........\n"
     ]
    },
    {
     "name": "stderr",
     "output_type": "stream",
     "text": [
      "/Users/adh.arash/Downloads/conda/envs/snowpark/lib/python3.8/site-packages/xgboost/data.py:250: FutureWarning: pandas.Int64Index is deprecated and will be removed from pandas in a future version. Use pandas.Index with the appropriate dtype instead.\n",
      "  elif isinstance(data.columns, (pd.Int64Index, pd.RangeIndex)):\n"
     ]
    },
    {
     "name": "stdout",
     "output_type": "stream",
     "text": [
      "[CV 2/5; 5/12] END learning_rate=0.01, max_depth=5, n_estimators=600;, score=0.753 total time=   3.8s\n",
      "[CV 3/5; 5/12] START learning_rate=0.01, max_depth=5, n_estimators=600..........\n"
     ]
    },
    {
     "name": "stderr",
     "output_type": "stream",
     "text": [
      "/Users/adh.arash/Downloads/conda/envs/snowpark/lib/python3.8/site-packages/xgboost/data.py:250: FutureWarning: pandas.Int64Index is deprecated and will be removed from pandas in a future version. Use pandas.Index with the appropriate dtype instead.\n",
      "  elif isinstance(data.columns, (pd.Int64Index, pd.RangeIndex)):\n"
     ]
    },
    {
     "name": "stdout",
     "output_type": "stream",
     "text": [
      "[CV 3/5; 5/12] END learning_rate=0.01, max_depth=5, n_estimators=600;, score=0.741 total time=   3.7s\n",
      "[CV 4/5; 5/12] START learning_rate=0.01, max_depth=5, n_estimators=600..........\n"
     ]
    },
    {
     "name": "stderr",
     "output_type": "stream",
     "text": [
      "/Users/adh.arash/Downloads/conda/envs/snowpark/lib/python3.8/site-packages/xgboost/data.py:250: FutureWarning: pandas.Int64Index is deprecated and will be removed from pandas in a future version. Use pandas.Index with the appropriate dtype instead.\n",
      "  elif isinstance(data.columns, (pd.Int64Index, pd.RangeIndex)):\n"
     ]
    },
    {
     "name": "stdout",
     "output_type": "stream",
     "text": [
      "[CV 4/5; 5/12] END learning_rate=0.01, max_depth=5, n_estimators=600;, score=0.747 total time=   3.7s\n",
      "[CV 5/5; 5/12] START learning_rate=0.01, max_depth=5, n_estimators=600..........\n"
     ]
    },
    {
     "name": "stderr",
     "output_type": "stream",
     "text": [
      "/Users/adh.arash/Downloads/conda/envs/snowpark/lib/python3.8/site-packages/xgboost/data.py:250: FutureWarning: pandas.Int64Index is deprecated and will be removed from pandas in a future version. Use pandas.Index with the appropriate dtype instead.\n",
      "  elif isinstance(data.columns, (pd.Int64Index, pd.RangeIndex)):\n"
     ]
    },
    {
     "name": "stdout",
     "output_type": "stream",
     "text": [
      "[CV 5/5; 5/12] END learning_rate=0.01, max_depth=5, n_estimators=600;, score=0.741 total time=   3.7s\n",
      "[CV 1/5; 6/12] START learning_rate=0.01, max_depth=5, n_estimators=700..........\n"
     ]
    },
    {
     "name": "stderr",
     "output_type": "stream",
     "text": [
      "/Users/adh.arash/Downloads/conda/envs/snowpark/lib/python3.8/site-packages/xgboost/data.py:250: FutureWarning: pandas.Int64Index is deprecated and will be removed from pandas in a future version. Use pandas.Index with the appropriate dtype instead.\n",
      "  elif isinstance(data.columns, (pd.Int64Index, pd.RangeIndex)):\n"
     ]
    },
    {
     "name": "stdout",
     "output_type": "stream",
     "text": [
      "[CV 1/5; 6/12] END learning_rate=0.01, max_depth=5, n_estimators=700;, score=0.737 total time=   4.5s\n",
      "[CV 2/5; 6/12] START learning_rate=0.01, max_depth=5, n_estimators=700..........\n"
     ]
    },
    {
     "name": "stderr",
     "output_type": "stream",
     "text": [
      "/Users/adh.arash/Downloads/conda/envs/snowpark/lib/python3.8/site-packages/xgboost/data.py:250: FutureWarning: pandas.Int64Index is deprecated and will be removed from pandas in a future version. Use pandas.Index with the appropriate dtype instead.\n",
      "  elif isinstance(data.columns, (pd.Int64Index, pd.RangeIndex)):\n"
     ]
    },
    {
     "name": "stdout",
     "output_type": "stream",
     "text": [
      "[CV 2/5; 6/12] END learning_rate=0.01, max_depth=5, n_estimators=700;, score=0.759 total time=   5.0s\n",
      "[CV 3/5; 6/12] START learning_rate=0.01, max_depth=5, n_estimators=700..........\n"
     ]
    },
    {
     "name": "stderr",
     "output_type": "stream",
     "text": [
      "/Users/adh.arash/Downloads/conda/envs/snowpark/lib/python3.8/site-packages/xgboost/data.py:250: FutureWarning: pandas.Int64Index is deprecated and will be removed from pandas in a future version. Use pandas.Index with the appropriate dtype instead.\n",
      "  elif isinstance(data.columns, (pd.Int64Index, pd.RangeIndex)):\n"
     ]
    },
    {
     "name": "stdout",
     "output_type": "stream",
     "text": [
      "[CV 3/5; 6/12] END learning_rate=0.01, max_depth=5, n_estimators=700;, score=0.746 total time=   4.7s\n",
      "[CV 4/5; 6/12] START learning_rate=0.01, max_depth=5, n_estimators=700..........\n"
     ]
    },
    {
     "name": "stderr",
     "output_type": "stream",
     "text": [
      "/Users/adh.arash/Downloads/conda/envs/snowpark/lib/python3.8/site-packages/xgboost/data.py:250: FutureWarning: pandas.Int64Index is deprecated and will be removed from pandas in a future version. Use pandas.Index with the appropriate dtype instead.\n",
      "  elif isinstance(data.columns, (pd.Int64Index, pd.RangeIndex)):\n"
     ]
    },
    {
     "name": "stdout",
     "output_type": "stream",
     "text": [
      "[CV 4/5; 6/12] END learning_rate=0.01, max_depth=5, n_estimators=700;, score=0.753 total time=   4.4s\n",
      "[CV 5/5; 6/12] START learning_rate=0.01, max_depth=5, n_estimators=700..........\n"
     ]
    },
    {
     "name": "stderr",
     "output_type": "stream",
     "text": [
      "/Users/adh.arash/Downloads/conda/envs/snowpark/lib/python3.8/site-packages/xgboost/data.py:250: FutureWarning: pandas.Int64Index is deprecated and will be removed from pandas in a future version. Use pandas.Index with the appropriate dtype instead.\n",
      "  elif isinstance(data.columns, (pd.Int64Index, pd.RangeIndex)):\n"
     ]
    },
    {
     "name": "stdout",
     "output_type": "stream",
     "text": [
      "[CV 5/5; 6/12] END learning_rate=0.01, max_depth=5, n_estimators=700;, score=0.744 total time=   4.3s\n",
      "[CV 1/5; 7/12] START learning_rate=0.015, max_depth=4, n_estimators=500.........\n"
     ]
    },
    {
     "name": "stderr",
     "output_type": "stream",
     "text": [
      "/Users/adh.arash/Downloads/conda/envs/snowpark/lib/python3.8/site-packages/xgboost/data.py:250: FutureWarning: pandas.Int64Index is deprecated and will be removed from pandas in a future version. Use pandas.Index with the appropriate dtype instead.\n",
      "  elif isinstance(data.columns, (pd.Int64Index, pd.RangeIndex)):\n"
     ]
    },
    {
     "name": "stdout",
     "output_type": "stream",
     "text": [
      "[CV 1/5; 7/12] END learning_rate=0.015, max_depth=4, n_estimators=500;, score=0.725 total time=   2.4s\n",
      "[CV 2/5; 7/12] START learning_rate=0.015, max_depth=4, n_estimators=500.........\n"
     ]
    },
    {
     "name": "stderr",
     "output_type": "stream",
     "text": [
      "/Users/adh.arash/Downloads/conda/envs/snowpark/lib/python3.8/site-packages/xgboost/data.py:250: FutureWarning: pandas.Int64Index is deprecated and will be removed from pandas in a future version. Use pandas.Index with the appropriate dtype instead.\n",
      "  elif isinstance(data.columns, (pd.Int64Index, pd.RangeIndex)):\n"
     ]
    },
    {
     "name": "stdout",
     "output_type": "stream",
     "text": [
      "[CV 2/5; 7/12] END learning_rate=0.015, max_depth=4, n_estimators=500;, score=0.737 total time=   2.6s\n",
      "[CV 3/5; 7/12] START learning_rate=0.015, max_depth=4, n_estimators=500.........\n"
     ]
    },
    {
     "name": "stderr",
     "output_type": "stream",
     "text": [
      "/Users/adh.arash/Downloads/conda/envs/snowpark/lib/python3.8/site-packages/xgboost/data.py:250: FutureWarning: pandas.Int64Index is deprecated and will be removed from pandas in a future version. Use pandas.Index with the appropriate dtype instead.\n",
      "  elif isinstance(data.columns, (pd.Int64Index, pd.RangeIndex)):\n"
     ]
    },
    {
     "name": "stdout",
     "output_type": "stream",
     "text": [
      "[CV 3/5; 7/12] END learning_rate=0.015, max_depth=4, n_estimators=500;, score=0.728 total time=   2.6s\n",
      "[CV 4/5; 7/12] START learning_rate=0.015, max_depth=4, n_estimators=500.........\n"
     ]
    },
    {
     "name": "stderr",
     "output_type": "stream",
     "text": [
      "/Users/adh.arash/Downloads/conda/envs/snowpark/lib/python3.8/site-packages/xgboost/data.py:250: FutureWarning: pandas.Int64Index is deprecated and will be removed from pandas in a future version. Use pandas.Index with the appropriate dtype instead.\n",
      "  elif isinstance(data.columns, (pd.Int64Index, pd.RangeIndex)):\n"
     ]
    },
    {
     "name": "stdout",
     "output_type": "stream",
     "text": [
      "[CV 4/5; 7/12] END learning_rate=0.015, max_depth=4, n_estimators=500;, score=0.734 total time=   2.6s\n",
      "[CV 5/5; 7/12] START learning_rate=0.015, max_depth=4, n_estimators=500.........\n"
     ]
    },
    {
     "name": "stderr",
     "output_type": "stream",
     "text": [
      "/Users/adh.arash/Downloads/conda/envs/snowpark/lib/python3.8/site-packages/xgboost/data.py:250: FutureWarning: pandas.Int64Index is deprecated and will be removed from pandas in a future version. Use pandas.Index with the appropriate dtype instead.\n",
      "  elif isinstance(data.columns, (pd.Int64Index, pd.RangeIndex)):\n"
     ]
    },
    {
     "name": "stdout",
     "output_type": "stream",
     "text": [
      "[CV 5/5; 7/12] END learning_rate=0.015, max_depth=4, n_estimators=500;, score=0.735 total time=   2.5s\n",
      "[CV 1/5; 8/12] START learning_rate=0.015, max_depth=4, n_estimators=600.........\n"
     ]
    },
    {
     "name": "stderr",
     "output_type": "stream",
     "text": [
      "/Users/adh.arash/Downloads/conda/envs/snowpark/lib/python3.8/site-packages/xgboost/data.py:250: FutureWarning: pandas.Int64Index is deprecated and will be removed from pandas in a future version. Use pandas.Index with the appropriate dtype instead.\n",
      "  elif isinstance(data.columns, (pd.Int64Index, pd.RangeIndex)):\n"
     ]
    },
    {
     "name": "stdout",
     "output_type": "stream",
     "text": [
      "[CV 1/5; 8/12] END learning_rate=0.015, max_depth=4, n_estimators=600;, score=0.732 total time=   3.2s\n",
      "[CV 2/5; 8/12] START learning_rate=0.015, max_depth=4, n_estimators=600.........\n"
     ]
    },
    {
     "name": "stderr",
     "output_type": "stream",
     "text": [
      "/Users/adh.arash/Downloads/conda/envs/snowpark/lib/python3.8/site-packages/xgboost/data.py:250: FutureWarning: pandas.Int64Index is deprecated and will be removed from pandas in a future version. Use pandas.Index with the appropriate dtype instead.\n",
      "  elif isinstance(data.columns, (pd.Int64Index, pd.RangeIndex)):\n"
     ]
    },
    {
     "name": "stdout",
     "output_type": "stream",
     "text": [
      "[CV 2/5; 8/12] END learning_rate=0.015, max_depth=4, n_estimators=600;, score=0.743 total time=   3.1s\n",
      "[CV 3/5; 8/12] START learning_rate=0.015, max_depth=4, n_estimators=600.........\n"
     ]
    },
    {
     "name": "stderr",
     "output_type": "stream",
     "text": [
      "/Users/adh.arash/Downloads/conda/envs/snowpark/lib/python3.8/site-packages/xgboost/data.py:250: FutureWarning: pandas.Int64Index is deprecated and will be removed from pandas in a future version. Use pandas.Index with the appropriate dtype instead.\n",
      "  elif isinstance(data.columns, (pd.Int64Index, pd.RangeIndex)):\n"
     ]
    },
    {
     "name": "stdout",
     "output_type": "stream",
     "text": [
      "[CV 3/5; 8/12] END learning_rate=0.015, max_depth=4, n_estimators=600;, score=0.733 total time=   3.0s\n",
      "[CV 4/5; 8/12] START learning_rate=0.015, max_depth=4, n_estimators=600.........\n"
     ]
    },
    {
     "name": "stderr",
     "output_type": "stream",
     "text": [
      "/Users/adh.arash/Downloads/conda/envs/snowpark/lib/python3.8/site-packages/xgboost/data.py:250: FutureWarning: pandas.Int64Index is deprecated and will be removed from pandas in a future version. Use pandas.Index with the appropriate dtype instead.\n",
      "  elif isinstance(data.columns, (pd.Int64Index, pd.RangeIndex)):\n"
     ]
    },
    {
     "name": "stdout",
     "output_type": "stream",
     "text": [
      "[CV 4/5; 8/12] END learning_rate=0.015, max_depth=4, n_estimators=600;, score=0.740 total time=   2.9s\n",
      "[CV 5/5; 8/12] START learning_rate=0.015, max_depth=4, n_estimators=600.........\n"
     ]
    },
    {
     "name": "stderr",
     "output_type": "stream",
     "text": [
      "/Users/adh.arash/Downloads/conda/envs/snowpark/lib/python3.8/site-packages/xgboost/data.py:250: FutureWarning: pandas.Int64Index is deprecated and will be removed from pandas in a future version. Use pandas.Index with the appropriate dtype instead.\n",
      "  elif isinstance(data.columns, (pd.Int64Index, pd.RangeIndex)):\n"
     ]
    },
    {
     "name": "stdout",
     "output_type": "stream",
     "text": [
      "[CV 5/5; 8/12] END learning_rate=0.015, max_depth=4, n_estimators=600;, score=0.741 total time=   3.5s\n",
      "[CV 1/5; 9/12] START learning_rate=0.015, max_depth=4, n_estimators=700.........\n"
     ]
    },
    {
     "name": "stderr",
     "output_type": "stream",
     "text": [
      "/Users/adh.arash/Downloads/conda/envs/snowpark/lib/python3.8/site-packages/xgboost/data.py:250: FutureWarning: pandas.Int64Index is deprecated and will be removed from pandas in a future version. Use pandas.Index with the appropriate dtype instead.\n",
      "  elif isinstance(data.columns, (pd.Int64Index, pd.RangeIndex)):\n"
     ]
    },
    {
     "name": "stdout",
     "output_type": "stream",
     "text": [
      "[CV 1/5; 9/12] END learning_rate=0.015, max_depth=4, n_estimators=700;, score=0.735 total time=   3.5s\n",
      "[CV 2/5; 9/12] START learning_rate=0.015, max_depth=4, n_estimators=700.........\n"
     ]
    },
    {
     "name": "stderr",
     "output_type": "stream",
     "text": [
      "/Users/adh.arash/Downloads/conda/envs/snowpark/lib/python3.8/site-packages/xgboost/data.py:250: FutureWarning: pandas.Int64Index is deprecated and will be removed from pandas in a future version. Use pandas.Index with the appropriate dtype instead.\n",
      "  elif isinstance(data.columns, (pd.Int64Index, pd.RangeIndex)):\n"
     ]
    },
    {
     "name": "stdout",
     "output_type": "stream",
     "text": [
      "[CV 2/5; 9/12] END learning_rate=0.015, max_depth=4, n_estimators=700;, score=0.749 total time=   3.5s\n",
      "[CV 3/5; 9/12] START learning_rate=0.015, max_depth=4, n_estimators=700.........\n"
     ]
    },
    {
     "name": "stderr",
     "output_type": "stream",
     "text": [
      "/Users/adh.arash/Downloads/conda/envs/snowpark/lib/python3.8/site-packages/xgboost/data.py:250: FutureWarning: pandas.Int64Index is deprecated and will be removed from pandas in a future version. Use pandas.Index with the appropriate dtype instead.\n",
      "  elif isinstance(data.columns, (pd.Int64Index, pd.RangeIndex)):\n"
     ]
    },
    {
     "name": "stdout",
     "output_type": "stream",
     "text": [
      "[CV 3/5; 9/12] END learning_rate=0.015, max_depth=4, n_estimators=700;, score=0.735 total time=   3.8s\n",
      "[CV 4/5; 9/12] START learning_rate=0.015, max_depth=4, n_estimators=700.........\n"
     ]
    },
    {
     "name": "stderr",
     "output_type": "stream",
     "text": [
      "/Users/adh.arash/Downloads/conda/envs/snowpark/lib/python3.8/site-packages/xgboost/data.py:250: FutureWarning: pandas.Int64Index is deprecated and will be removed from pandas in a future version. Use pandas.Index with the appropriate dtype instead.\n",
      "  elif isinstance(data.columns, (pd.Int64Index, pd.RangeIndex)):\n"
     ]
    },
    {
     "name": "stdout",
     "output_type": "stream",
     "text": [
      "[CV 4/5; 9/12] END learning_rate=0.015, max_depth=4, n_estimators=700;, score=0.743 total time=   3.6s\n",
      "[CV 5/5; 9/12] START learning_rate=0.015, max_depth=4, n_estimators=700.........\n"
     ]
    },
    {
     "name": "stderr",
     "output_type": "stream",
     "text": [
      "/Users/adh.arash/Downloads/conda/envs/snowpark/lib/python3.8/site-packages/xgboost/data.py:250: FutureWarning: pandas.Int64Index is deprecated and will be removed from pandas in a future version. Use pandas.Index with the appropriate dtype instead.\n",
      "  elif isinstance(data.columns, (pd.Int64Index, pd.RangeIndex)):\n"
     ]
    },
    {
     "name": "stdout",
     "output_type": "stream",
     "text": [
      "[CV 5/5; 9/12] END learning_rate=0.015, max_depth=4, n_estimators=700;, score=0.745 total time=   3.3s\n",
      "[CV 1/5; 10/12] START learning_rate=0.015, max_depth=5, n_estimators=500........\n"
     ]
    },
    {
     "name": "stderr",
     "output_type": "stream",
     "text": [
      "/Users/adh.arash/Downloads/conda/envs/snowpark/lib/python3.8/site-packages/xgboost/data.py:250: FutureWarning: pandas.Int64Index is deprecated and will be removed from pandas in a future version. Use pandas.Index with the appropriate dtype instead.\n",
      "  elif isinstance(data.columns, (pd.Int64Index, pd.RangeIndex)):\n"
     ]
    },
    {
     "name": "stdout",
     "output_type": "stream",
     "text": [
      "[CV 1/5; 10/12] END learning_rate=0.015, max_depth=5, n_estimators=500;, score=0.738 total time=   3.2s\n",
      "[CV 2/5; 10/12] START learning_rate=0.015, max_depth=5, n_estimators=500........\n"
     ]
    },
    {
     "name": "stderr",
     "output_type": "stream",
     "text": [
      "/Users/adh.arash/Downloads/conda/envs/snowpark/lib/python3.8/site-packages/xgboost/data.py:250: FutureWarning: pandas.Int64Index is deprecated and will be removed from pandas in a future version. Use pandas.Index with the appropriate dtype instead.\n",
      "  elif isinstance(data.columns, (pd.Int64Index, pd.RangeIndex)):\n"
     ]
    },
    {
     "name": "stdout",
     "output_type": "stream",
     "text": [
      "[CV 2/5; 10/12] END learning_rate=0.015, max_depth=5, n_estimators=500;, score=0.759 total time=   3.1s\n",
      "[CV 3/5; 10/12] START learning_rate=0.015, max_depth=5, n_estimators=500........\n"
     ]
    },
    {
     "name": "stderr",
     "output_type": "stream",
     "text": [
      "/Users/adh.arash/Downloads/conda/envs/snowpark/lib/python3.8/site-packages/xgboost/data.py:250: FutureWarning: pandas.Int64Index is deprecated and will be removed from pandas in a future version. Use pandas.Index with the appropriate dtype instead.\n",
      "  elif isinstance(data.columns, (pd.Int64Index, pd.RangeIndex)):\n"
     ]
    },
    {
     "name": "stdout",
     "output_type": "stream",
     "text": [
      "[CV 3/5; 10/12] END learning_rate=0.015, max_depth=5, n_estimators=500;, score=0.747 total time=   3.1s\n",
      "[CV 4/5; 10/12] START learning_rate=0.015, max_depth=5, n_estimators=500........\n"
     ]
    },
    {
     "name": "stderr",
     "output_type": "stream",
     "text": [
      "/Users/adh.arash/Downloads/conda/envs/snowpark/lib/python3.8/site-packages/xgboost/data.py:250: FutureWarning: pandas.Int64Index is deprecated and will be removed from pandas in a future version. Use pandas.Index with the appropriate dtype instead.\n",
      "  elif isinstance(data.columns, (pd.Int64Index, pd.RangeIndex)):\n"
     ]
    },
    {
     "name": "stdout",
     "output_type": "stream",
     "text": [
      "[CV 4/5; 10/12] END learning_rate=0.015, max_depth=5, n_estimators=500;, score=0.755 total time=   3.1s\n",
      "[CV 5/5; 10/12] START learning_rate=0.015, max_depth=5, n_estimators=500........\n"
     ]
    },
    {
     "name": "stderr",
     "output_type": "stream",
     "text": [
      "/Users/adh.arash/Downloads/conda/envs/snowpark/lib/python3.8/site-packages/xgboost/data.py:250: FutureWarning: pandas.Int64Index is deprecated and will be removed from pandas in a future version. Use pandas.Index with the appropriate dtype instead.\n",
      "  elif isinstance(data.columns, (pd.Int64Index, pd.RangeIndex)):\n"
     ]
    },
    {
     "name": "stdout",
     "output_type": "stream",
     "text": [
      "[CV 5/5; 10/12] END learning_rate=0.015, max_depth=5, n_estimators=500;, score=0.744 total time=   3.1s\n",
      "[CV 1/5; 11/12] START learning_rate=0.015, max_depth=5, n_estimators=600........\n"
     ]
    },
    {
     "name": "stderr",
     "output_type": "stream",
     "text": [
      "/Users/adh.arash/Downloads/conda/envs/snowpark/lib/python3.8/site-packages/xgboost/data.py:250: FutureWarning: pandas.Int64Index is deprecated and will be removed from pandas in a future version. Use pandas.Index with the appropriate dtype instead.\n",
      "  elif isinstance(data.columns, (pd.Int64Index, pd.RangeIndex)):\n"
     ]
    },
    {
     "name": "stdout",
     "output_type": "stream",
     "text": [
      "[CV 1/5; 11/12] END learning_rate=0.015, max_depth=5, n_estimators=600;, score=0.742 total time=   3.7s\n",
      "[CV 2/5; 11/12] START learning_rate=0.015, max_depth=5, n_estimators=600........\n"
     ]
    },
    {
     "name": "stderr",
     "output_type": "stream",
     "text": [
      "/Users/adh.arash/Downloads/conda/envs/snowpark/lib/python3.8/site-packages/xgboost/data.py:250: FutureWarning: pandas.Int64Index is deprecated and will be removed from pandas in a future version. Use pandas.Index with the appropriate dtype instead.\n",
      "  elif isinstance(data.columns, (pd.Int64Index, pd.RangeIndex)):\n"
     ]
    },
    {
     "name": "stdout",
     "output_type": "stream",
     "text": [
      "[CV 2/5; 11/12] END learning_rate=0.015, max_depth=5, n_estimators=600;, score=0.763 total time=   3.8s\n",
      "[CV 3/5; 11/12] START learning_rate=0.015, max_depth=5, n_estimators=600........\n"
     ]
    },
    {
     "name": "stderr",
     "output_type": "stream",
     "text": [
      "/Users/adh.arash/Downloads/conda/envs/snowpark/lib/python3.8/site-packages/xgboost/data.py:250: FutureWarning: pandas.Int64Index is deprecated and will be removed from pandas in a future version. Use pandas.Index with the appropriate dtype instead.\n",
      "  elif isinstance(data.columns, (pd.Int64Index, pd.RangeIndex)):\n"
     ]
    },
    {
     "name": "stdout",
     "output_type": "stream",
     "text": [
      "[CV 3/5; 11/12] END learning_rate=0.015, max_depth=5, n_estimators=600;, score=0.749 total time=   3.7s\n",
      "[CV 4/5; 11/12] START learning_rate=0.015, max_depth=5, n_estimators=600........\n"
     ]
    },
    {
     "name": "stderr",
     "output_type": "stream",
     "text": [
      "/Users/adh.arash/Downloads/conda/envs/snowpark/lib/python3.8/site-packages/xgboost/data.py:250: FutureWarning: pandas.Int64Index is deprecated and will be removed from pandas in a future version. Use pandas.Index with the appropriate dtype instead.\n",
      "  elif isinstance(data.columns, (pd.Int64Index, pd.RangeIndex)):\n"
     ]
    },
    {
     "name": "stdout",
     "output_type": "stream",
     "text": [
      "[CV 4/5; 11/12] END learning_rate=0.015, max_depth=5, n_estimators=600;, score=0.759 total time=   3.7s\n",
      "[CV 5/5; 11/12] START learning_rate=0.015, max_depth=5, n_estimators=600........\n"
     ]
    },
    {
     "name": "stderr",
     "output_type": "stream",
     "text": [
      "/Users/adh.arash/Downloads/conda/envs/snowpark/lib/python3.8/site-packages/xgboost/data.py:250: FutureWarning: pandas.Int64Index is deprecated and will be removed from pandas in a future version. Use pandas.Index with the appropriate dtype instead.\n",
      "  elif isinstance(data.columns, (pd.Int64Index, pd.RangeIndex)):\n"
     ]
    },
    {
     "name": "stdout",
     "output_type": "stream",
     "text": [
      "[CV 5/5; 11/12] END learning_rate=0.015, max_depth=5, n_estimators=600;, score=0.747 total time=   3.7s\n",
      "[CV 1/5; 12/12] START learning_rate=0.015, max_depth=5, n_estimators=700........\n"
     ]
    },
    {
     "name": "stderr",
     "output_type": "stream",
     "text": [
      "/Users/adh.arash/Downloads/conda/envs/snowpark/lib/python3.8/site-packages/xgboost/data.py:250: FutureWarning: pandas.Int64Index is deprecated and will be removed from pandas in a future version. Use pandas.Index with the appropriate dtype instead.\n",
      "  elif isinstance(data.columns, (pd.Int64Index, pd.RangeIndex)):\n"
     ]
    },
    {
     "name": "stdout",
     "output_type": "stream",
     "text": [
      "[CV 1/5; 12/12] END learning_rate=0.015, max_depth=5, n_estimators=700;, score=0.744 total time=   4.5s\n",
      "[CV 2/5; 12/12] START learning_rate=0.015, max_depth=5, n_estimators=700........\n"
     ]
    },
    {
     "name": "stderr",
     "output_type": "stream",
     "text": [
      "/Users/adh.arash/Downloads/conda/envs/snowpark/lib/python3.8/site-packages/xgboost/data.py:250: FutureWarning: pandas.Int64Index is deprecated and will be removed from pandas in a future version. Use pandas.Index with the appropriate dtype instead.\n",
      "  elif isinstance(data.columns, (pd.Int64Index, pd.RangeIndex)):\n"
     ]
    },
    {
     "name": "stdout",
     "output_type": "stream",
     "text": [
      "[CV 2/5; 12/12] END learning_rate=0.015, max_depth=5, n_estimators=700;, score=0.766 total time=   4.3s\n",
      "[CV 3/5; 12/12] START learning_rate=0.015, max_depth=5, n_estimators=700........\n"
     ]
    },
    {
     "name": "stderr",
     "output_type": "stream",
     "text": [
      "/Users/adh.arash/Downloads/conda/envs/snowpark/lib/python3.8/site-packages/xgboost/data.py:250: FutureWarning: pandas.Int64Index is deprecated and will be removed from pandas in a future version. Use pandas.Index with the appropriate dtype instead.\n",
      "  elif isinstance(data.columns, (pd.Int64Index, pd.RangeIndex)):\n"
     ]
    },
    {
     "name": "stdout",
     "output_type": "stream",
     "text": [
      "[CV 3/5; 12/12] END learning_rate=0.015, max_depth=5, n_estimators=700;, score=0.752 total time=   4.5s\n",
      "[CV 4/5; 12/12] START learning_rate=0.015, max_depth=5, n_estimators=700........\n"
     ]
    },
    {
     "name": "stderr",
     "output_type": "stream",
     "text": [
      "/Users/adh.arash/Downloads/conda/envs/snowpark/lib/python3.8/site-packages/xgboost/data.py:250: FutureWarning: pandas.Int64Index is deprecated and will be removed from pandas in a future version. Use pandas.Index with the appropriate dtype instead.\n",
      "  elif isinstance(data.columns, (pd.Int64Index, pd.RangeIndex)):\n"
     ]
    },
    {
     "name": "stdout",
     "output_type": "stream",
     "text": [
      "[CV 4/5; 12/12] END learning_rate=0.015, max_depth=5, n_estimators=700;, score=0.761 total time=   4.4s\n",
      "[CV 5/5; 12/12] START learning_rate=0.015, max_depth=5, n_estimators=700........\n"
     ]
    },
    {
     "name": "stderr",
     "output_type": "stream",
     "text": [
      "/Users/adh.arash/Downloads/conda/envs/snowpark/lib/python3.8/site-packages/xgboost/data.py:250: FutureWarning: pandas.Int64Index is deprecated and will be removed from pandas in a future version. Use pandas.Index with the appropriate dtype instead.\n",
      "  elif isinstance(data.columns, (pd.Int64Index, pd.RangeIndex)):\n"
     ]
    },
    {
     "name": "stdout",
     "output_type": "stream",
     "text": [
      "[CV 5/5; 12/12] END learning_rate=0.015, max_depth=5, n_estimators=700;, score=0.748 total time=   4.4s\n"
     ]
    },
    {
     "name": "stderr",
     "output_type": "stream",
     "text": [
      "/Users/adh.arash/Downloads/conda/envs/snowpark/lib/python3.8/site-packages/xgboost/data.py:250: FutureWarning: pandas.Int64Index is deprecated and will be removed from pandas in a future version. Use pandas.Index with the appropriate dtype instead.\n",
      "  elif isinstance(data.columns, (pd.Int64Index, pd.RangeIndex)):\n"
     ]
    },
    {
     "name": "stdout",
     "output_type": "stream",
     "text": [
      "The best hyperparameters are  {'learning_rate': 0.015, 'max_depth': 5, 'n_estimators': 700}\n"
     ]
    }
   ],
   "source": [
    "from sklearn.model_selection import GridSearchCV\n",
    "# set up our search grid\n",
    "param_grid = {\"max_depth\":    [4, 5],\n",
    "              \"n_estimators\": [500, 600, 700],\n",
    "              \"learning_rate\": [0.01, 0.015]}\n",
    "\n",
    "# try out every combination of the above values\n",
    "search = GridSearchCV(regressor, param_grid, cv=5,verbose=50).fit(X2_train, y2_train)\n",
    "print(\"The best hyperparameters are \",search.best_params_)"
   ]
  },
  {
   "cell_type": "code",
   "execution_count": 186,
   "id": "298792fc-3b27-4a4f-b4b0-269b358a4b57",
   "metadata": {},
   "outputs": [
    {
     "data": {
      "text/html": [
       "<style>#sk-container-id-9 {color: black;background-color: white;}#sk-container-id-9 pre{padding: 0;}#sk-container-id-9 div.sk-toggleable {background-color: white;}#sk-container-id-9 label.sk-toggleable__label {cursor: pointer;display: block;width: 100%;margin-bottom: 0;padding: 0.3em;box-sizing: border-box;text-align: center;}#sk-container-id-9 label.sk-toggleable__label-arrow:before {content: \"▸\";float: left;margin-right: 0.25em;color: #696969;}#sk-container-id-9 label.sk-toggleable__label-arrow:hover:before {color: black;}#sk-container-id-9 div.sk-estimator:hover label.sk-toggleable__label-arrow:before {color: black;}#sk-container-id-9 div.sk-toggleable__content {max-height: 0;max-width: 0;overflow: hidden;text-align: left;background-color: #f0f8ff;}#sk-container-id-9 div.sk-toggleable__content pre {margin: 0.2em;color: black;border-radius: 0.25em;background-color: #f0f8ff;}#sk-container-id-9 input.sk-toggleable__control:checked~div.sk-toggleable__content {max-height: 200px;max-width: 100%;overflow: auto;}#sk-container-id-9 input.sk-toggleable__control:checked~label.sk-toggleable__label-arrow:before {content: \"▾\";}#sk-container-id-9 div.sk-estimator input.sk-toggleable__control:checked~label.sk-toggleable__label {background-color: #d4ebff;}#sk-container-id-9 div.sk-label input.sk-toggleable__control:checked~label.sk-toggleable__label {background-color: #d4ebff;}#sk-container-id-9 input.sk-hidden--visually {border: 0;clip: rect(1px 1px 1px 1px);clip: rect(1px, 1px, 1px, 1px);height: 1px;margin: -1px;overflow: hidden;padding: 0;position: absolute;width: 1px;}#sk-container-id-9 div.sk-estimator {font-family: monospace;background-color: #f0f8ff;border: 1px dotted black;border-radius: 0.25em;box-sizing: border-box;margin-bottom: 0.5em;}#sk-container-id-9 div.sk-estimator:hover {background-color: #d4ebff;}#sk-container-id-9 div.sk-parallel-item::after {content: \"\";width: 100%;border-bottom: 1px solid gray;flex-grow: 1;}#sk-container-id-9 div.sk-label:hover label.sk-toggleable__label {background-color: #d4ebff;}#sk-container-id-9 div.sk-serial::before {content: \"\";position: absolute;border-left: 1px solid gray;box-sizing: border-box;top: 0;bottom: 0;left: 50%;z-index: 0;}#sk-container-id-9 div.sk-serial {display: flex;flex-direction: column;align-items: center;background-color: white;padding-right: 0.2em;padding-left: 0.2em;position: relative;}#sk-container-id-9 div.sk-item {position: relative;z-index: 1;}#sk-container-id-9 div.sk-parallel {display: flex;align-items: stretch;justify-content: center;background-color: white;position: relative;}#sk-container-id-9 div.sk-item::before, #sk-container-id-9 div.sk-parallel-item::before {content: \"\";position: absolute;border-left: 1px solid gray;box-sizing: border-box;top: 0;bottom: 0;left: 50%;z-index: -1;}#sk-container-id-9 div.sk-parallel-item {display: flex;flex-direction: column;z-index: 1;position: relative;background-color: white;}#sk-container-id-9 div.sk-parallel-item:first-child::after {align-self: flex-end;width: 50%;}#sk-container-id-9 div.sk-parallel-item:last-child::after {align-self: flex-start;width: 50%;}#sk-container-id-9 div.sk-parallel-item:only-child::after {width: 0;}#sk-container-id-9 div.sk-dashed-wrapped {border: 1px dashed gray;margin: 0 0.4em 0.5em 0.4em;box-sizing: border-box;padding-bottom: 0.4em;background-color: white;}#sk-container-id-9 div.sk-label label {font-family: monospace;font-weight: bold;display: inline-block;line-height: 1.2em;}#sk-container-id-9 div.sk-label-container {text-align: center;}#sk-container-id-9 div.sk-container {/* jupyter's `normalize.less` sets `[hidden] { display: none; }` but bootstrap.min.css set `[hidden] { display: none !important; }` so we also need the `!important` here to be able to override the default hidden behavior on the sphinx rendered scikit-learn.org. See: https://github.com/scikit-learn/scikit-learn/issues/21755 */display: inline-block !important;position: relative;}#sk-container-id-9 div.sk-text-repr-fallback {display: none;}</style><div id=\"sk-container-id-9\" class=\"sk-top-container\"><div class=\"sk-text-repr-fallback\"><pre>XGBRegressor(base_score=0.5, booster=&#x27;gbtree&#x27;, colsample_bylevel=1,\n",
       "             colsample_bynode=1, colsample_bytree=1, enable_categorical=False,\n",
       "             gamma=0, gpu_id=-1, importance_type=None,\n",
       "             interaction_constraints=&#x27;&#x27;, learning_rate=0.015, max_delta_step=0,\n",
       "             max_depth=5, min_child_weight=1, missing=nan,\n",
       "             monotone_constraints=&#x27;()&#x27;, n_estimators=700, n_jobs=8,\n",
       "             num_parallel_tree=1, predictor=&#x27;auto&#x27;, random_state=0, reg_alpha=0,\n",
       "             reg_lambda=1, scale_pos_weight=1, subsample=1, tree_method=&#x27;exact&#x27;,\n",
       "             validate_parameters=1, verbosity=None)</pre><b>In a Jupyter environment, please rerun this cell to show the HTML representation or trust the notebook. <br />On GitHub, the HTML representation is unable to render, please try loading this page with nbviewer.org.</b></div><div class=\"sk-container\" hidden><div class=\"sk-item\"><div class=\"sk-estimator sk-toggleable\"><input class=\"sk-toggleable__control sk-hidden--visually\" id=\"sk-estimator-id-13\" type=\"checkbox\" checked><label for=\"sk-estimator-id-13\" class=\"sk-toggleable__label sk-toggleable__label-arrow\">XGBRegressor</label><div class=\"sk-toggleable__content\"><pre>XGBRegressor(base_score=0.5, booster=&#x27;gbtree&#x27;, colsample_bylevel=1,\n",
       "             colsample_bynode=1, colsample_bytree=1, enable_categorical=False,\n",
       "             gamma=0, gpu_id=-1, importance_type=None,\n",
       "             interaction_constraints=&#x27;&#x27;, learning_rate=0.015, max_delta_step=0,\n",
       "             max_depth=5, min_child_weight=1, missing=nan,\n",
       "             monotone_constraints=&#x27;()&#x27;, n_estimators=700, n_jobs=8,\n",
       "             num_parallel_tree=1, predictor=&#x27;auto&#x27;, random_state=0, reg_alpha=0,\n",
       "             reg_lambda=1, scale_pos_weight=1, subsample=1, tree_method=&#x27;exact&#x27;,\n",
       "             validate_parameters=1, verbosity=None)</pre></div></div></div></div></div>"
      ],
      "text/plain": [
       "XGBRegressor(base_score=0.5, booster='gbtree', colsample_bylevel=1,\n",
       "             colsample_bynode=1, colsample_bytree=1, enable_categorical=False,\n",
       "             gamma=0, gpu_id=-1, importance_type=None,\n",
       "             interaction_constraints='', learning_rate=0.015, max_delta_step=0,\n",
       "             max_depth=5, min_child_weight=1, missing=nan,\n",
       "             monotone_constraints='()', n_estimators=700, n_jobs=8,\n",
       "             num_parallel_tree=1, predictor='auto', random_state=0, reg_alpha=0,\n",
       "             reg_lambda=1, scale_pos_weight=1, subsample=1, tree_method='exact',\n",
       "             validate_parameters=1, verbosity=None)"
      ]
     },
     "execution_count": 186,
     "metadata": {},
     "output_type": "execute_result"
    }
   ],
   "source": [
    "regressor=xgb.XGBRegressor(learning_rate = search.best_params_[\"learning_rate\"],\n",
    "                           n_estimators  = search.best_params_[\"n_estimators\"],\n",
    "                           max_depth     = search.best_params_[\"max_depth\"],)\n",
    "\n",
    "regressor.fit(X2_train, y2_train)"
   ]
  },
  {
   "cell_type": "code",
   "execution_count": 187,
   "id": "8131195d-5d80-42ae-a36a-923ace3d8d3d",
   "metadata": {},
   "outputs": [],
   "source": [
    "predictions = regressor.predict(X2_test)"
   ]
  },
  {
   "cell_type": "code",
   "execution_count": 189,
   "id": "91e3a68c-295e-4fb7-98c5-08d5adf764b3",
   "metadata": {},
   "outputs": [
    {
     "name": "stdout",
     "output_type": "stream",
     "text": [
      "R^2 = 0.798923944952734\n"
     ]
    }
   ],
   "source": [
    "from sklearn import metrics\n",
    "# Calculated R Squared\n",
    "print('R^2 =',metrics.explained_variance_score(y2_test,predictions))"
   ]
  },
  {
   "cell_type": "code",
   "execution_count": 190,
   "id": "1de167af-b5cf-4031-8eac-34050039ae2d",
   "metadata": {},
   "outputs": [
    {
     "name": "stdout",
     "output_type": "stream",
     "text": [
      "Mean Absolute Error: 175747.35149456523\n",
      "Mean Squared Error: 79776312381.72511\n",
      "Root Mean Squared Error: 282447.00809483737\n"
     ]
    }
   ],
   "source": [
    "\n",
    "print('Mean Absolute Error:', metrics.mean_absolute_error(y2_test, predictions))\n",
    "print('Mean Squared Error:', metrics.mean_squared_error(y2_test, predictions))\n",
    "print('Root Mean Squared Error:', np.sqrt(metrics.mean_squared_error(y2_test, predictions)))"
   ]
  },
  {
   "cell_type": "code",
   "execution_count": 191,
   "id": "780538f4-2c9c-4c09-bcb8-6bee85d02c37",
   "metadata": {},
   "outputs": [
    {
     "name": "stdout",
     "output_type": "stream",
     "text": [
      "83.16\n"
     ]
    }
   ],
   "source": [
    "errors = abs(predictions - y2_test)\n",
    "MSE=round(np.mean(errors),2)\n",
    "MAPE=100*(errors/y2_test)\n",
    "accuracy=round (100 - np.mean(MAPE),2)\n",
    "print(accuracy)"
   ]
  },
  {
   "cell_type": "code",
   "execution_count": 192,
   "id": "ea2bc0aa-8a49-44dc-aa81-f433203f7e88",
   "metadata": {},
   "outputs": [
    {
     "ename": "ProgrammingError",
     "evalue": "390114 (08001): Authentication token has expired.  The user must authenticate again.",
     "output_type": "error",
     "traceback": [
      "\u001b[0;31m---------------------------------------------------------------------------\u001b[0m",
      "\u001b[0;31mReauthenticationRequest\u001b[0m                   Traceback (most recent call last)",
      "File \u001b[0;32m~/Downloads/conda/envs/snowpark/lib/python3.8/site-packages/snowflake/connector/network.py:723\u001b[0m, in \u001b[0;36mSnowflakeRestful._post_request\u001b[0;34m(self, url, headers, body, token, timeout, _no_results, no_retry, socket_timeout, _include_retry_params)\u001b[0m\n\u001b[1;32m    722\u001b[0m \u001b[38;5;28;01mtry\u001b[39;00m:\n\u001b[0;32m--> 723\u001b[0m     ret \u001b[38;5;241m=\u001b[39m \u001b[38;5;28;43mself\u001b[39;49m\u001b[38;5;241;43m.\u001b[39;49m\u001b[43m_renew_session\u001b[49m\u001b[43m(\u001b[49m\u001b[43m)\u001b[49m\n\u001b[1;32m    724\u001b[0m \u001b[38;5;28;01mexcept\u001b[39;00m ReauthenticationRequest \u001b[38;5;28;01mas\u001b[39;00m ex:\n",
      "File \u001b[0;32m~/Downloads/conda/envs/snowpark/lib/python3.8/site-packages/snowflake/connector/network.py:496\u001b[0m, in \u001b[0;36mSnowflakeRestful._renew_session\u001b[0;34m(self)\u001b[0m\n\u001b[1;32m    495\u001b[0m \u001b[38;5;124;03m\"\"\"Renew a session and master token.\"\"\"\u001b[39;00m\n\u001b[0;32m--> 496\u001b[0m \u001b[38;5;28;01mreturn\u001b[39;00m \u001b[38;5;28;43mself\u001b[39;49m\u001b[38;5;241;43m.\u001b[39;49m\u001b[43m_token_request\u001b[49m\u001b[43m(\u001b[49m\u001b[43mREQUEST_TYPE_RENEW\u001b[49m\u001b[43m)\u001b[49m\n",
      "File \u001b[0;32m~/Downloads/conda/envs/snowpark/lib/python3.8/site-packages/snowflake/connector/network.py:552\u001b[0m, in \u001b[0;36mSnowflakeRestful._token_request\u001b[0;34m(self, request_type)\u001b[0m\n\u001b[1;32m    544\u001b[0m \u001b[38;5;28;01mif\u001b[39;00m errno \u001b[38;5;129;01min\u001b[39;00m (\n\u001b[1;32m    545\u001b[0m     ID_TOKEN_EXPIRED_GS_CODE,\n\u001b[1;32m    546\u001b[0m     SESSION_EXPIRED_GS_CODE,\n\u001b[0;32m   (...)\u001b[0m\n\u001b[1;32m    550\u001b[0m     BAD_REQUEST_GS_CODE,\n\u001b[1;32m    551\u001b[0m ):\n\u001b[0;32m--> 552\u001b[0m     \u001b[38;5;28;01mraise\u001b[39;00m ReauthenticationRequest(\n\u001b[1;32m    553\u001b[0m         ProgrammingError(\n\u001b[1;32m    554\u001b[0m             msg\u001b[38;5;241m=\u001b[39merr,\n\u001b[1;32m    555\u001b[0m             errno\u001b[38;5;241m=\u001b[39m\u001b[38;5;28mint\u001b[39m(errno),\n\u001b[1;32m    556\u001b[0m             sqlstate\u001b[38;5;241m=\u001b[39mSQLSTATE_CONNECTION_WAS_NOT_ESTABLISHED,\n\u001b[1;32m    557\u001b[0m         )\n\u001b[1;32m    558\u001b[0m     )\n\u001b[1;32m    559\u001b[0m Error\u001b[38;5;241m.\u001b[39merrorhandler_wrapper(\n\u001b[1;32m    560\u001b[0m     \u001b[38;5;28mself\u001b[39m\u001b[38;5;241m.\u001b[39m_connection,\n\u001b[1;32m    561\u001b[0m     \u001b[38;5;28;01mNone\u001b[39;00m,\n\u001b[0;32m   (...)\u001b[0m\n\u001b[1;32m    567\u001b[0m     },\n\u001b[1;32m    568\u001b[0m )\n",
      "\u001b[0;31mReauthenticationRequest\u001b[0m: 390114 (08001): Authentication token has expired.  The user must authenticate again.",
      "\nDuring handling of the above exception, another exception occurred:\n",
      "\u001b[0;31mProgrammingError\u001b[0m                          Traceback (most recent call last)",
      "Cell \u001b[0;32mIn [192], line 2\u001b[0m\n\u001b[1;32m      1\u001b[0m housepricingdf\u001b[38;5;241m.\u001b[39mcolumns \u001b[38;5;241m=\u001b[39m \u001b[38;5;28mmap\u001b[39m(\u001b[38;5;28;01mlambda\u001b[39;00m x: \u001b[38;5;28mstr\u001b[39m(x)\u001b[38;5;241m.\u001b[39mupper(), housepricingdf\u001b[38;5;241m.\u001b[39mcolumns)\n\u001b[0;32m----> 2\u001b[0m snowdf_details \u001b[38;5;241m=\u001b[39m \u001b[43msession\u001b[49m\u001b[38;5;241;43m.\u001b[39;49m\u001b[43mcreateDataFrame\u001b[49m\u001b[43m(\u001b[49m\u001b[43mhousepricingdf\u001b[49m\u001b[43m)\u001b[49m\n\u001b[1;32m      3\u001b[0m snowdf_details\u001b[38;5;241m.\u001b[39mshow()\n\u001b[1;32m      4\u001b[0m snowdf_details\u001b[38;5;241m.\u001b[39mwrite\u001b[38;5;241m.\u001b[39mmode(\u001b[38;5;124m\"\u001b[39m\u001b[38;5;124moverwrite\u001b[39m\u001b[38;5;124m\"\u001b[39m)\u001b[38;5;241m.\u001b[39msaveAsTable(\u001b[38;5;124m\"\u001b[39m\u001b[38;5;124mHOUSING.PUBLIC.FULL_HOUSINGPRICE_encoded_XGB\u001b[39m\u001b[38;5;124m\"\u001b[39m) \n",
      "File \u001b[0;32m~/Downloads/conda/envs/snowpark/lib/python3.8/site-packages/snowflake/snowpark/session.py:1382\u001b[0m, in \u001b[0;36mSession.create_dataframe\u001b[0;34m(self, data, schema)\u001b[0m\n\u001b[1;32m   1379\u001b[0m sf_database \u001b[38;5;241m=\u001b[39m \u001b[38;5;28mself\u001b[39m\u001b[38;5;241m.\u001b[39m_conn\u001b[38;5;241m.\u001b[39m_get_current_parameter(\u001b[38;5;124m\"\u001b[39m\u001b[38;5;124mdatabase\u001b[39m\u001b[38;5;124m\"\u001b[39m, quoted\u001b[38;5;241m=\u001b[39m\u001b[38;5;28;01mFalse\u001b[39;00m)\n\u001b[1;32m   1380\u001b[0m sf_schema \u001b[38;5;241m=\u001b[39m \u001b[38;5;28mself\u001b[39m\u001b[38;5;241m.\u001b[39m_conn\u001b[38;5;241m.\u001b[39m_get_current_parameter(\u001b[38;5;124m\"\u001b[39m\u001b[38;5;124mschema\u001b[39m\u001b[38;5;124m\"\u001b[39m, quoted\u001b[38;5;241m=\u001b[39m\u001b[38;5;28;01mFalse\u001b[39;00m)\n\u001b[0;32m-> 1382\u001b[0m t \u001b[38;5;241m=\u001b[39m \u001b[38;5;28;43mself\u001b[39;49m\u001b[38;5;241;43m.\u001b[39;49m\u001b[43mwrite_pandas\u001b[49m\u001b[43m(\u001b[49m\n\u001b[1;32m   1383\u001b[0m \u001b[43m    \u001b[49m\u001b[43mdata\u001b[49m\u001b[43m,\u001b[49m\n\u001b[1;32m   1384\u001b[0m \u001b[43m    \u001b[49m\u001b[43mtable_name\u001b[49m\u001b[43m,\u001b[49m\n\u001b[1;32m   1385\u001b[0m \u001b[43m    \u001b[49m\u001b[43mdatabase\u001b[49m\u001b[38;5;241;43m=\u001b[39;49m\u001b[43msf_database\u001b[49m\u001b[43m,\u001b[49m\n\u001b[1;32m   1386\u001b[0m \u001b[43m    \u001b[49m\u001b[43mschema\u001b[49m\u001b[38;5;241;43m=\u001b[39;49m\u001b[43msf_schema\u001b[49m\u001b[43m,\u001b[49m\n\u001b[1;32m   1387\u001b[0m \u001b[43m    \u001b[49m\u001b[43mquote_identifiers\u001b[49m\u001b[38;5;241;43m=\u001b[39;49m\u001b[38;5;28;43;01mTrue\u001b[39;49;00m\u001b[43m,\u001b[49m\n\u001b[1;32m   1388\u001b[0m \u001b[43m    \u001b[49m\u001b[43mauto_create_table\u001b[49m\u001b[38;5;241;43m=\u001b[39;49m\u001b[38;5;28;43;01mTrue\u001b[39;49;00m\u001b[43m,\u001b[49m\n\u001b[1;32m   1389\u001b[0m \u001b[43m    \u001b[49m\u001b[43mcreate_temp_table\u001b[49m\u001b[38;5;241;43m=\u001b[39;49m\u001b[38;5;28;43;01mTrue\u001b[39;49;00m\u001b[43m,\u001b[49m\n\u001b[1;32m   1390\u001b[0m \u001b[43m\u001b[49m\u001b[43m)\u001b[49m\n\u001b[1;32m   1391\u001b[0m set_api_call_source(t, \u001b[38;5;124m\"\u001b[39m\u001b[38;5;124mSession.create_dataframe[pandas]\u001b[39m\u001b[38;5;124m\"\u001b[39m)\n\u001b[1;32m   1392\u001b[0m \u001b[38;5;28;01mreturn\u001b[39;00m t\n",
      "File \u001b[0;32m~/Downloads/conda/envs/snowpark/lib/python3.8/site-packages/snowflake/snowpark/session.py:1296\u001b[0m, in \u001b[0;36mSession.write_pandas\u001b[0;34m(self, df, table_name, database, schema, chunk_size, compression, on_error, parallel, quote_identifiers, auto_create_table, create_temp_table, overwrite, table_type)\u001b[0m\n\u001b[1;32m   1292\u001b[0m         \u001b[38;5;28;01mraise\u001b[39;00m SnowparkClientExceptionMessages\u001b[38;5;241m.\u001b[39mDF_PANDAS_TABLE_DOES_NOT_EXIST_EXCEPTION(\n\u001b[1;32m   1293\u001b[0m             location\n\u001b[1;32m   1294\u001b[0m         ) \u001b[38;5;28;01mfrom\u001b[39;00m \u001b[38;5;21;01mpe\u001b[39;00m\n\u001b[1;32m   1295\u001b[0m     \u001b[38;5;28;01melse\u001b[39;00m:\n\u001b[0;32m-> 1296\u001b[0m         \u001b[38;5;28;01mraise\u001b[39;00m pe\n\u001b[1;32m   1298\u001b[0m \u001b[38;5;28;01mif\u001b[39;00m success:\n\u001b[1;32m   1299\u001b[0m     t \u001b[38;5;241m=\u001b[39m \u001b[38;5;28mself\u001b[39m\u001b[38;5;241m.\u001b[39mtable(location)\n",
      "File \u001b[0;32m~/Downloads/conda/envs/snowpark/lib/python3.8/site-packages/snowflake/snowpark/session.py:1275\u001b[0m, in \u001b[0;36mSession.write_pandas\u001b[0;34m(self, df, table_name, database, schema, chunk_size, compression, on_error, parallel, quote_identifiers, auto_create_table, create_temp_table, overwrite, table_type)\u001b[0m\n\u001b[1;32m   1269\u001b[0m     \u001b[38;5;28;01melse\u001b[39;00m:\n\u001b[1;32m   1270\u001b[0m         location \u001b[38;5;241m=\u001b[39m (\n\u001b[1;32m   1271\u001b[0m             (database \u001b[38;5;241m+\u001b[39m \u001b[38;5;124m\"\u001b[39m\u001b[38;5;124m.\u001b[39m\u001b[38;5;124m\"\u001b[39m \u001b[38;5;28;01mif\u001b[39;00m database \u001b[38;5;28;01melse\u001b[39;00m \u001b[38;5;124m\"\u001b[39m\u001b[38;5;124m\"\u001b[39m)\n\u001b[1;32m   1272\u001b[0m             \u001b[38;5;241m+\u001b[39m (schema \u001b[38;5;241m+\u001b[39m \u001b[38;5;124m\"\u001b[39m\u001b[38;5;124m.\u001b[39m\u001b[38;5;124m\"\u001b[39m \u001b[38;5;28;01mif\u001b[39;00m schema \u001b[38;5;28;01melse\u001b[39;00m \u001b[38;5;124m\"\u001b[39m\u001b[38;5;124m\"\u001b[39m)\n\u001b[1;32m   1273\u001b[0m             \u001b[38;5;241m+\u001b[39m (table_name)\n\u001b[1;32m   1274\u001b[0m         )\n\u001b[0;32m-> 1275\u001b[0m     success, nchunks, nrows, ci_output \u001b[38;5;241m=\u001b[39m \u001b[43mwrite_pandas\u001b[49m\u001b[43m(\u001b[49m\n\u001b[1;32m   1276\u001b[0m \u001b[43m        \u001b[49m\u001b[38;5;28;43mself\u001b[39;49m\u001b[38;5;241;43m.\u001b[39;49m\u001b[43m_conn\u001b[49m\u001b[38;5;241;43m.\u001b[39;49m\u001b[43m_conn\u001b[49m\u001b[43m,\u001b[49m\n\u001b[1;32m   1277\u001b[0m \u001b[43m        \u001b[49m\u001b[43mdf\u001b[49m\u001b[43m,\u001b[49m\n\u001b[1;32m   1278\u001b[0m \u001b[43m        \u001b[49m\u001b[43mtable_name\u001b[49m\u001b[43m,\u001b[49m\n\u001b[1;32m   1279\u001b[0m \u001b[43m        \u001b[49m\u001b[43mdatabase\u001b[49m\u001b[38;5;241;43m=\u001b[39;49m\u001b[43mdatabase\u001b[49m\u001b[43m,\u001b[49m\n\u001b[1;32m   1280\u001b[0m \u001b[43m        \u001b[49m\u001b[43mschema\u001b[49m\u001b[38;5;241;43m=\u001b[39;49m\u001b[43mschema\u001b[49m\u001b[43m,\u001b[49m\n\u001b[1;32m   1281\u001b[0m \u001b[43m        \u001b[49m\u001b[43mchunk_size\u001b[49m\u001b[38;5;241;43m=\u001b[39;49m\u001b[43mchunk_size\u001b[49m\u001b[43m,\u001b[49m\n\u001b[1;32m   1282\u001b[0m \u001b[43m        \u001b[49m\u001b[43mcompression\u001b[49m\u001b[38;5;241;43m=\u001b[39;49m\u001b[43mcompression\u001b[49m\u001b[43m,\u001b[49m\n\u001b[1;32m   1283\u001b[0m \u001b[43m        \u001b[49m\u001b[43mon_error\u001b[49m\u001b[38;5;241;43m=\u001b[39;49m\u001b[43mon_error\u001b[49m\u001b[43m,\u001b[49m\n\u001b[1;32m   1284\u001b[0m \u001b[43m        \u001b[49m\u001b[43mparallel\u001b[49m\u001b[38;5;241;43m=\u001b[39;49m\u001b[43mparallel\u001b[49m\u001b[43m,\u001b[49m\n\u001b[1;32m   1285\u001b[0m \u001b[43m        \u001b[49m\u001b[43mquote_identifiers\u001b[49m\u001b[38;5;241;43m=\u001b[39;49m\u001b[43mquote_identifiers\u001b[49m\u001b[43m,\u001b[49m\n\u001b[1;32m   1286\u001b[0m \u001b[43m        \u001b[49m\u001b[43mauto_create_table\u001b[49m\u001b[38;5;241;43m=\u001b[39;49m\u001b[43mauto_create_table\u001b[49m\u001b[43m,\u001b[49m\n\u001b[1;32m   1287\u001b[0m \u001b[43m        \u001b[49m\u001b[43moverwrite\u001b[49m\u001b[38;5;241;43m=\u001b[39;49m\u001b[43moverwrite\u001b[49m\u001b[43m,\u001b[49m\n\u001b[1;32m   1288\u001b[0m \u001b[43m        \u001b[49m\u001b[43mtable_type\u001b[49m\u001b[38;5;241;43m=\u001b[39;49m\u001b[43mtable_type\u001b[49m\u001b[43m,\u001b[49m\n\u001b[1;32m   1289\u001b[0m \u001b[43m    \u001b[49m\u001b[43m)\u001b[49m\n\u001b[1;32m   1290\u001b[0m \u001b[38;5;28;01mexcept\u001b[39;00m ProgrammingError \u001b[38;5;28;01mas\u001b[39;00m pe:\n\u001b[1;32m   1291\u001b[0m     \u001b[38;5;28;01mif\u001b[39;00m pe\u001b[38;5;241m.\u001b[39mmsg\u001b[38;5;241m.\u001b[39mendswith(\u001b[38;5;124m\"\u001b[39m\u001b[38;5;124mdoes not exist\u001b[39m\u001b[38;5;124m\"\u001b[39m):\n",
      "File \u001b[0;32m~/Downloads/conda/envs/snowpark/lib/python3.8/site-packages/snowflake/connector/pandas_tools.py:175\u001b[0m, in \u001b[0;36mwrite_pandas\u001b[0;34m(conn, df, table_name, database, schema, chunk_size, compression, on_error, parallel, quote_identifiers, auto_create_table, create_temp_table, overwrite, table_type)\u001b[0m\n\u001b[1;32m    170\u001b[0m     create_stage_sql \u001b[38;5;241m=\u001b[39m (\n\u001b[1;32m    171\u001b[0m         \u001b[38;5;124m\"\u001b[39m\u001b[38;5;124mcreate temporary stage /* Python:snowflake.connector.pandas_tools.write_pandas() */ \u001b[39m\u001b[38;5;124m\"\u001b[39m\n\u001b[1;32m    172\u001b[0m         \u001b[38;5;124m'\u001b[39m\u001b[38;5;124m\"\u001b[39m\u001b[38;5;132;01m{stage_name}\u001b[39;00m\u001b[38;5;124m\"\u001b[39m\u001b[38;5;124m'\u001b[39m\n\u001b[1;32m    173\u001b[0m     )\u001b[38;5;241m.\u001b[39mformat(stage_name\u001b[38;5;241m=\u001b[39mstage_name)\n\u001b[1;32m    174\u001b[0m     logger\u001b[38;5;241m.\u001b[39mdebug(\u001b[38;5;124mf\u001b[39m\u001b[38;5;124m\"\u001b[39m\u001b[38;5;124mcreating stage with \u001b[39m\u001b[38;5;124m'\u001b[39m\u001b[38;5;132;01m{\u001b[39;00mcreate_stage_sql\u001b[38;5;132;01m}\u001b[39;00m\u001b[38;5;124m'\u001b[39m\u001b[38;5;124m\"\u001b[39m)\n\u001b[0;32m--> 175\u001b[0m     \u001b[43mcursor\u001b[49m\u001b[38;5;241;43m.\u001b[39;49m\u001b[43mexecute\u001b[49m\u001b[43m(\u001b[49m\u001b[43mcreate_stage_sql\u001b[49m\u001b[43m,\u001b[49m\u001b[43m \u001b[49m\u001b[43m_is_internal\u001b[49m\u001b[38;5;241;43m=\u001b[39;49m\u001b[38;5;28;43;01mTrue\u001b[39;49;00m\u001b[43m)\u001b[49m\u001b[38;5;241m.\u001b[39mfetchall()\n\u001b[1;32m    176\u001b[0m     \u001b[38;5;28;01mbreak\u001b[39;00m\n\u001b[1;32m    177\u001b[0m \u001b[38;5;28;01mexcept\u001b[39;00m ProgrammingError \u001b[38;5;28;01mas\u001b[39;00m pe:\n",
      "File \u001b[0;32m~/Downloads/conda/envs/snowpark/lib/python3.8/site-packages/snowflake/connector/cursor.py:716\u001b[0m, in \u001b[0;36mSnowflakeCursor.execute\u001b[0;34m(self, command, params, _bind_stage, timeout, _exec_async, _no_retry, _do_reset, _put_callback, _put_azure_callback, _put_callback_output_stream, _get_callback, _get_azure_callback, _get_callback_output_stream, _show_progress_bar, _statement_params, _is_internal, _describe_only, _no_results, _is_put_get, _raise_put_get_error, _force_put_overwrite, file_stream)\u001b[0m\n\u001b[1;32m    714\u001b[0m \u001b[38;5;28;01mif\u001b[39;00m logger\u001b[38;5;241m.\u001b[39mgetEffectiveLevel() \u001b[38;5;241m<\u001b[39m\u001b[38;5;241m=\u001b[39m logging\u001b[38;5;241m.\u001b[39mINFO:\n\u001b[1;32m    715\u001b[0m     logger\u001b[38;5;241m.\u001b[39minfo(\u001b[38;5;124m\"\u001b[39m\u001b[38;5;124mquery: [\u001b[39m\u001b[38;5;132;01m%s\u001b[39;00m\u001b[38;5;124m]\u001b[39m\u001b[38;5;124m\"\u001b[39m, \u001b[38;5;28mself\u001b[39m\u001b[38;5;241m.\u001b[39m_format_query_for_log(query))\n\u001b[0;32m--> 716\u001b[0m ret \u001b[38;5;241m=\u001b[39m \u001b[38;5;28;43mself\u001b[39;49m\u001b[38;5;241;43m.\u001b[39;49m\u001b[43m_execute_helper\u001b[49m\u001b[43m(\u001b[49m\u001b[43mquery\u001b[49m\u001b[43m,\u001b[49m\u001b[43m \u001b[49m\u001b[38;5;241;43m*\u001b[39;49m\u001b[38;5;241;43m*\u001b[39;49m\u001b[43mkwargs\u001b[49m\u001b[43m)\u001b[49m\n\u001b[1;32m    717\u001b[0m \u001b[38;5;28mself\u001b[39m\u001b[38;5;241m.\u001b[39m_sfqid \u001b[38;5;241m=\u001b[39m (\n\u001b[1;32m    718\u001b[0m     ret[\u001b[38;5;124m\"\u001b[39m\u001b[38;5;124mdata\u001b[39m\u001b[38;5;124m\"\u001b[39m][\u001b[38;5;124m\"\u001b[39m\u001b[38;5;124mqueryId\u001b[39m\u001b[38;5;124m\"\u001b[39m]\n\u001b[1;32m    719\u001b[0m     \u001b[38;5;28;01mif\u001b[39;00m \u001b[38;5;124m\"\u001b[39m\u001b[38;5;124mdata\u001b[39m\u001b[38;5;124m\"\u001b[39m \u001b[38;5;129;01min\u001b[39;00m ret \u001b[38;5;129;01mand\u001b[39;00m \u001b[38;5;124m\"\u001b[39m\u001b[38;5;124mqueryId\u001b[39m\u001b[38;5;124m\"\u001b[39m \u001b[38;5;129;01min\u001b[39;00m ret[\u001b[38;5;124m\"\u001b[39m\u001b[38;5;124mdata\u001b[39m\u001b[38;5;124m\"\u001b[39m]\n\u001b[1;32m    720\u001b[0m     \u001b[38;5;28;01melse\u001b[39;00m \u001b[38;5;28;01mNone\u001b[39;00m\n\u001b[1;32m    721\u001b[0m )\n\u001b[1;32m    722\u001b[0m \u001b[38;5;28mself\u001b[39m\u001b[38;5;241m.\u001b[39m_sqlstate \u001b[38;5;241m=\u001b[39m (\n\u001b[1;32m    723\u001b[0m     ret[\u001b[38;5;124m\"\u001b[39m\u001b[38;5;124mdata\u001b[39m\u001b[38;5;124m\"\u001b[39m][\u001b[38;5;124m\"\u001b[39m\u001b[38;5;124msqlState\u001b[39m\u001b[38;5;124m\"\u001b[39m]\n\u001b[1;32m    724\u001b[0m     \u001b[38;5;28;01mif\u001b[39;00m \u001b[38;5;124m\"\u001b[39m\u001b[38;5;124mdata\u001b[39m\u001b[38;5;124m\"\u001b[39m \u001b[38;5;129;01min\u001b[39;00m ret \u001b[38;5;129;01mand\u001b[39;00m \u001b[38;5;124m\"\u001b[39m\u001b[38;5;124msqlState\u001b[39m\u001b[38;5;124m\"\u001b[39m \u001b[38;5;129;01min\u001b[39;00m ret[\u001b[38;5;124m\"\u001b[39m\u001b[38;5;124mdata\u001b[39m\u001b[38;5;124m\"\u001b[39m]\n\u001b[1;32m    725\u001b[0m     \u001b[38;5;28;01melse\u001b[39;00m \u001b[38;5;28;01mNone\u001b[39;00m\n\u001b[1;32m    726\u001b[0m )\n",
      "File \u001b[0;32m~/Downloads/conda/envs/snowpark/lib/python3.8/site-packages/snowflake/connector/cursor.py:516\u001b[0m, in \u001b[0;36mSnowflakeCursor._execute_helper\u001b[0;34m(self, query, timeout, statement_params, binding_params, binding_stage, is_internal, describe_only, _no_results, _is_put_get, _no_retry)\u001b[0m\n\u001b[1;32m    514\u001b[0m ret \u001b[38;5;241m=\u001b[39m {\u001b[38;5;124m\"\u001b[39m\u001b[38;5;124mdata\u001b[39m\u001b[38;5;124m\"\u001b[39m: {}}\n\u001b[1;32m    515\u001b[0m \u001b[38;5;28;01mtry\u001b[39;00m:\n\u001b[0;32m--> 516\u001b[0m     ret \u001b[38;5;241m=\u001b[39m \u001b[38;5;28;43mself\u001b[39;49m\u001b[38;5;241;43m.\u001b[39;49m\u001b[43m_connection\u001b[49m\u001b[38;5;241;43m.\u001b[39;49m\u001b[43mcmd_query\u001b[49m\u001b[43m(\u001b[49m\n\u001b[1;32m    517\u001b[0m \u001b[43m        \u001b[49m\u001b[43mquery\u001b[49m\u001b[43m,\u001b[49m\n\u001b[1;32m    518\u001b[0m \u001b[43m        \u001b[49m\u001b[38;5;28;43mself\u001b[39;49m\u001b[38;5;241;43m.\u001b[39;49m\u001b[43m_sequence_counter\u001b[49m\u001b[43m,\u001b[49m\n\u001b[1;32m    519\u001b[0m \u001b[43m        \u001b[49m\u001b[38;5;28;43mself\u001b[39;49m\u001b[38;5;241;43m.\u001b[39;49m\u001b[43m_request_id\u001b[49m\u001b[43m,\u001b[49m\n\u001b[1;32m    520\u001b[0m \u001b[43m        \u001b[49m\u001b[43mbinding_params\u001b[49m\u001b[38;5;241;43m=\u001b[39;49m\u001b[43mbinding_params\u001b[49m\u001b[43m,\u001b[49m\n\u001b[1;32m    521\u001b[0m \u001b[43m        \u001b[49m\u001b[43mbinding_stage\u001b[49m\u001b[38;5;241;43m=\u001b[39;49m\u001b[43mbinding_stage\u001b[49m\u001b[43m,\u001b[49m\n\u001b[1;32m    522\u001b[0m \u001b[43m        \u001b[49m\u001b[43mis_file_transfer\u001b[49m\u001b[38;5;241;43m=\u001b[39;49m\u001b[38;5;28;43mbool\u001b[39;49m\u001b[43m(\u001b[49m\u001b[38;5;28;43mself\u001b[39;49m\u001b[38;5;241;43m.\u001b[39;49m\u001b[43m_is_file_transfer\u001b[49m\u001b[43m)\u001b[49m\u001b[43m,\u001b[49m\n\u001b[1;32m    523\u001b[0m \u001b[43m        \u001b[49m\u001b[43mstatement_params\u001b[49m\u001b[38;5;241;43m=\u001b[39;49m\u001b[43mstatement_params\u001b[49m\u001b[43m,\u001b[49m\n\u001b[1;32m    524\u001b[0m \u001b[43m        \u001b[49m\u001b[43mis_internal\u001b[49m\u001b[38;5;241;43m=\u001b[39;49m\u001b[43mis_internal\u001b[49m\u001b[43m,\u001b[49m\n\u001b[1;32m    525\u001b[0m \u001b[43m        \u001b[49m\u001b[43mdescribe_only\u001b[49m\u001b[38;5;241;43m=\u001b[39;49m\u001b[43mdescribe_only\u001b[49m\u001b[43m,\u001b[49m\n\u001b[1;32m    526\u001b[0m \u001b[43m        \u001b[49m\u001b[43m_no_results\u001b[49m\u001b[38;5;241;43m=\u001b[39;49m\u001b[43m_no_results\u001b[49m\u001b[43m,\u001b[49m\n\u001b[1;32m    527\u001b[0m \u001b[43m        \u001b[49m\u001b[43m_no_retry\u001b[49m\u001b[38;5;241;43m=\u001b[39;49m\u001b[43m_no_retry\u001b[49m\u001b[43m,\u001b[49m\n\u001b[1;32m    528\u001b[0m \u001b[43m    \u001b[49m\u001b[43m)\u001b[49m\n\u001b[1;32m    529\u001b[0m \u001b[38;5;28;01mfinally\u001b[39;00m:\n\u001b[1;32m    530\u001b[0m     \u001b[38;5;28;01mtry\u001b[39;00m:\n",
      "File \u001b[0;32m~/Downloads/conda/envs/snowpark/lib/python3.8/site-packages/snowflake/connector/connection.py:1004\u001b[0m, in \u001b[0;36mSnowflakeConnection.cmd_query\u001b[0;34m(self, sql, sequence_counter, request_id, binding_params, binding_stage, is_file_transfer, statement_params, is_internal, describe_only, _no_results, _update_current_object, _no_retry)\u001b[0m\n\u001b[1;32m    995\u001b[0m     logger\u001b[38;5;241m.\u001b[39mdebug(\n\u001b[1;32m    996\u001b[0m         \u001b[38;5;124m\"\u001b[39m\u001b[38;5;124msql=[\u001b[39m\u001b[38;5;132;01m%s\u001b[39;00m\u001b[38;5;124m], sequence_id=[\u001b[39m\u001b[38;5;132;01m%s\u001b[39;00m\u001b[38;5;124m], is_file_transfer=[\u001b[39m\u001b[38;5;132;01m%s\u001b[39;00m\u001b[38;5;124m]\u001b[39m\u001b[38;5;124m\"\u001b[39m,\n\u001b[1;32m    997\u001b[0m         \u001b[38;5;28mself\u001b[39m\u001b[38;5;241m.\u001b[39m_format_query_for_log(data[\u001b[38;5;124m\"\u001b[39m\u001b[38;5;124msqlText\u001b[39m\u001b[38;5;124m\"\u001b[39m]),\n\u001b[1;32m    998\u001b[0m         data[\u001b[38;5;124m\"\u001b[39m\u001b[38;5;124msequenceId\u001b[39m\u001b[38;5;124m\"\u001b[39m],\n\u001b[1;32m    999\u001b[0m         is_file_transfer,\n\u001b[1;32m   1000\u001b[0m     )\n\u001b[1;32m   1002\u001b[0m url_parameters \u001b[38;5;241m=\u001b[39m {REQUEST_ID: request_id}\n\u001b[0;32m-> 1004\u001b[0m ret \u001b[38;5;241m=\u001b[39m \u001b[38;5;28;43mself\u001b[39;49m\u001b[38;5;241;43m.\u001b[39;49m\u001b[43mrest\u001b[49m\u001b[38;5;241;43m.\u001b[39;49m\u001b[43mrequest\u001b[49m\u001b[43m(\u001b[49m\n\u001b[1;32m   1005\u001b[0m \u001b[43m    \u001b[49m\u001b[38;5;124;43m\"\u001b[39;49m\u001b[38;5;124;43m/queries/v1/query-request?\u001b[39;49m\u001b[38;5;124;43m\"\u001b[39;49m\u001b[43m \u001b[49m\u001b[38;5;241;43m+\u001b[39;49m\u001b[43m \u001b[49m\u001b[43murlencode\u001b[49m\u001b[43m(\u001b[49m\u001b[43murl_parameters\u001b[49m\u001b[43m)\u001b[49m\u001b[43m,\u001b[49m\n\u001b[1;32m   1006\u001b[0m \u001b[43m    \u001b[49m\u001b[43mdata\u001b[49m\u001b[43m,\u001b[49m\n\u001b[1;32m   1007\u001b[0m \u001b[43m    \u001b[49m\u001b[43mclient\u001b[49m\u001b[38;5;241;43m=\u001b[39;49m\u001b[43mclient\u001b[49m\u001b[43m,\u001b[49m\n\u001b[1;32m   1008\u001b[0m \u001b[43m    \u001b[49m\u001b[43m_no_results\u001b[49m\u001b[38;5;241;43m=\u001b[39;49m\u001b[43m_no_results\u001b[49m\u001b[43m,\u001b[49m\n\u001b[1;32m   1009\u001b[0m \u001b[43m    \u001b[49m\u001b[43m_include_retry_params\u001b[49m\u001b[38;5;241;43m=\u001b[39;49m\u001b[38;5;28;43;01mTrue\u001b[39;49;00m\u001b[43m,\u001b[49m\n\u001b[1;32m   1010\u001b[0m \u001b[43m    \u001b[49m\u001b[43m_no_retry\u001b[49m\u001b[38;5;241;43m=\u001b[39;49m\u001b[43m_no_retry\u001b[49m\u001b[43m,\u001b[49m\n\u001b[1;32m   1011\u001b[0m \u001b[43m\u001b[49m\u001b[43m)\u001b[49m\n\u001b[1;32m   1013\u001b[0m \u001b[38;5;28;01mif\u001b[39;00m ret \u001b[38;5;129;01mis\u001b[39;00m \u001b[38;5;28;01mNone\u001b[39;00m:\n\u001b[1;32m   1014\u001b[0m     ret \u001b[38;5;241m=\u001b[39m {\u001b[38;5;124m\"\u001b[39m\u001b[38;5;124mdata\u001b[39m\u001b[38;5;124m\"\u001b[39m: {}}\n",
      "File \u001b[0;32m~/Downloads/conda/envs/snowpark/lib/python3.8/site-packages/snowflake/connector/network.py:465\u001b[0m, in \u001b[0;36mSnowflakeRestful.request\u001b[0;34m(self, url, body, method, client, _no_results, timeout, _include_retry_params, _no_retry)\u001b[0m\n\u001b[1;32m    463\u001b[0m     headers[HTTP_HEADER_SERVICE_NAME] \u001b[38;5;241m=\u001b[39m \u001b[38;5;28mself\u001b[39m\u001b[38;5;241m.\u001b[39m_connection\u001b[38;5;241m.\u001b[39mservice_name\n\u001b[1;32m    464\u001b[0m \u001b[38;5;28;01mif\u001b[39;00m method \u001b[38;5;241m==\u001b[39m \u001b[38;5;124m\"\u001b[39m\u001b[38;5;124mpost\u001b[39m\u001b[38;5;124m\"\u001b[39m:\n\u001b[0;32m--> 465\u001b[0m     \u001b[38;5;28;01mreturn\u001b[39;00m \u001b[38;5;28;43mself\u001b[39;49m\u001b[38;5;241;43m.\u001b[39;49m\u001b[43m_post_request\u001b[49m\u001b[43m(\u001b[49m\n\u001b[1;32m    466\u001b[0m \u001b[43m        \u001b[49m\u001b[43murl\u001b[49m\u001b[43m,\u001b[49m\n\u001b[1;32m    467\u001b[0m \u001b[43m        \u001b[49m\u001b[43mheaders\u001b[49m\u001b[43m,\u001b[49m\n\u001b[1;32m    468\u001b[0m \u001b[43m        \u001b[49m\u001b[43mjson\u001b[49m\u001b[38;5;241;43m.\u001b[39;49m\u001b[43mdumps\u001b[49m\u001b[43m(\u001b[49m\u001b[43mbody\u001b[49m\u001b[43m)\u001b[49m\u001b[43m,\u001b[49m\n\u001b[1;32m    469\u001b[0m \u001b[43m        \u001b[49m\u001b[43mtoken\u001b[49m\u001b[38;5;241;43m=\u001b[39;49m\u001b[38;5;28;43mself\u001b[39;49m\u001b[38;5;241;43m.\u001b[39;49m\u001b[43mtoken\u001b[49m\u001b[43m,\u001b[49m\n\u001b[1;32m    470\u001b[0m \u001b[43m        \u001b[49m\u001b[43m_no_results\u001b[49m\u001b[38;5;241;43m=\u001b[39;49m\u001b[43m_no_results\u001b[49m\u001b[43m,\u001b[49m\n\u001b[1;32m    471\u001b[0m \u001b[43m        \u001b[49m\u001b[43mtimeout\u001b[49m\u001b[38;5;241;43m=\u001b[39;49m\u001b[43mtimeout\u001b[49m\u001b[43m,\u001b[49m\n\u001b[1;32m    472\u001b[0m \u001b[43m        \u001b[49m\u001b[43m_include_retry_params\u001b[49m\u001b[38;5;241;43m=\u001b[39;49m\u001b[43m_include_retry_params\u001b[49m\u001b[43m,\u001b[49m\n\u001b[1;32m    473\u001b[0m \u001b[43m        \u001b[49m\u001b[43mno_retry\u001b[49m\u001b[38;5;241;43m=\u001b[39;49m\u001b[43m_no_retry\u001b[49m\u001b[43m,\u001b[49m\n\u001b[1;32m    474\u001b[0m \u001b[43m    \u001b[49m\u001b[43m)\u001b[49m\n\u001b[1;32m    475\u001b[0m \u001b[38;5;28;01melse\u001b[39;00m:\n\u001b[1;32m    476\u001b[0m     \u001b[38;5;28;01mreturn\u001b[39;00m \u001b[38;5;28mself\u001b[39m\u001b[38;5;241m.\u001b[39m_get_request(url, headers, token\u001b[38;5;241m=\u001b[39m\u001b[38;5;28mself\u001b[39m\u001b[38;5;241m.\u001b[39mtoken, timeout\u001b[38;5;241m=\u001b[39mtimeout)\n",
      "File \u001b[0;32m~/Downloads/conda/envs/snowpark/lib/python3.8/site-packages/snowflake/connector/network.py:726\u001b[0m, in \u001b[0;36mSnowflakeRestful._post_request\u001b[0;34m(self, url, headers, body, token, timeout, _no_results, no_retry, socket_timeout, _include_retry_params)\u001b[0m\n\u001b[1;32m    724\u001b[0m \u001b[38;5;28;01mexcept\u001b[39;00m ReauthenticationRequest \u001b[38;5;28;01mas\u001b[39;00m ex:\n\u001b[1;32m    725\u001b[0m     \u001b[38;5;28;01mif\u001b[39;00m \u001b[38;5;28mself\u001b[39m\u001b[38;5;241m.\u001b[39m_connection\u001b[38;5;241m.\u001b[39m_authenticator \u001b[38;5;241m!=\u001b[39m EXTERNAL_BROWSER_AUTHENTICATOR:\n\u001b[0;32m--> 726\u001b[0m         \u001b[38;5;28;01mraise\u001b[39;00m ex\u001b[38;5;241m.\u001b[39mcause\n\u001b[1;32m    727\u001b[0m     ret \u001b[38;5;241m=\u001b[39m \u001b[38;5;28mself\u001b[39m\u001b[38;5;241m.\u001b[39m_connection\u001b[38;5;241m.\u001b[39m_reauthenticate_by_webbrowser()\n\u001b[1;32m    728\u001b[0m logger\u001b[38;5;241m.\u001b[39mdebug(\n\u001b[1;32m    729\u001b[0m     \u001b[38;5;124m\"\u001b[39m\u001b[38;5;124mret[code] = \u001b[39m\u001b[38;5;132;01m{code}\u001b[39;00m\u001b[38;5;124m after renew_session\u001b[39m\u001b[38;5;124m\"\u001b[39m\u001b[38;5;241m.\u001b[39mformat(\n\u001b[1;32m    730\u001b[0m         code\u001b[38;5;241m=\u001b[39m(ret\u001b[38;5;241m.\u001b[39mget(\u001b[38;5;124m\"\u001b[39m\u001b[38;5;124mcode\u001b[39m\u001b[38;5;124m\"\u001b[39m, \u001b[38;5;124m\"\u001b[39m\u001b[38;5;124mN/A\u001b[39m\u001b[38;5;124m\"\u001b[39m))\n\u001b[1;32m    731\u001b[0m     )\n\u001b[1;32m    732\u001b[0m )\n",
      "\u001b[0;31mProgrammingError\u001b[0m: 390114 (08001): Authentication token has expired.  The user must authenticate again."
     ]
    }
   ],
   "source": [
    "housepricingdf.columns = map(lambda x: str(x).upper(), housepricingdf.columns)\n",
    "snowdf_details = session.createDataFrame(housepricingdf)\n",
    "snowdf_details.show()\n",
    "snowdf_details.write.mode(\"overwrite\").saveAsTable(\"HOUSING.PUBLIC.FULL_HOUSINGPRICE_encoded_XGB\") \n",
    "\n",
    "session.table(\"HOUSING.PUBLIC.FULL_HOUSINGPRICE_encoded_XGB\").show(5)"
   ]
  },
  {
   "cell_type": "code",
   "execution_count": null,
   "id": "4887fbab-40fa-4d8f-80a0-5ecdce039da3",
   "metadata": {},
   "outputs": [],
   "source": []
  }
 ],
 "metadata": {
  "kernelspec": {
   "display_name": "snowpark",
   "language": "python",
   "name": "snowpark"
  },
  "language_info": {
   "codemirror_mode": {
    "name": "ipython",
    "version": 3
   },
   "file_extension": ".py",
   "mimetype": "text/x-python",
   "name": "python",
   "nbconvert_exporter": "python",
   "pygments_lexer": "ipython3",
   "version": "3.8.13"
  }
 },
 "nbformat": 4,
 "nbformat_minor": 5
}
